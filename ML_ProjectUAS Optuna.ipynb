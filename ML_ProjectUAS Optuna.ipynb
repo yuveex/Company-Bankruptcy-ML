{
 "cells": [
  {
   "cell_type": "markdown",
   "metadata": {},
   "source": [
    "# Company Bankruptcy Detection"
   ]
  },
  {
   "cell_type": "markdown",
   "metadata": {},
   "source": [
    "## Imports"
   ]
  },
  {
   "cell_type": "code",
   "execution_count": 1,
   "metadata": {},
   "outputs": [],
   "source": [
    "import pandas as pd\n",
    "import numpy as np\n",
    "\n",
    "from sklearn.model_selection import train_test_split\n",
    "from sklearn.preprocessing import StandardScaler\n",
    "from sklearn.decomposition import PCA\n",
    "from sklearn.neural_network import MLPClassifier\n",
    "from sklearn.metrics import ConfusionMatrixDisplay, classification_report, accuracy_score, f1_score\n",
    "from sklearn.linear_model import LogisticRegression\n",
    "from sklearn.naive_bayes import GaussianNB\n",
    "from sklearn.neighbors import KNeighborsClassifier\n",
    "\n",
    "from imblearn.over_sampling import RandomOverSampler, SMOTE\n",
    "from lightgbm import LGBMClassifier\n",
    "from xgboost import XGBClassifier\n",
    "from catboost import CatBoostClassifier\n",
    "from sklearn.linear_model import LogisticRegression"
   ]
  },
  {
   "cell_type": "markdown",
   "metadata": {},
   "source": [
    "## 1. Data Load and Analysis"
   ]
  },
  {
   "cell_type": "code",
   "execution_count": 2,
   "metadata": {},
   "outputs": [
    {
     "data": {
      "text/html": [
       "<div>\n",
       "<style scoped>\n",
       "    .dataframe tbody tr th:only-of-type {\n",
       "        vertical-align: middle;\n",
       "    }\n",
       "\n",
       "    .dataframe tbody tr th {\n",
       "        vertical-align: top;\n",
       "    }\n",
       "\n",
       "    .dataframe thead th {\n",
       "        text-align: right;\n",
       "    }\n",
       "</style>\n",
       "<table border=\"1\" class=\"dataframe\">\n",
       "  <thead>\n",
       "    <tr style=\"text-align: right;\">\n",
       "      <th></th>\n",
       "      <th>Bankrupt?</th>\n",
       "      <th>ROA(C) before interest and depreciation before interest</th>\n",
       "      <th>ROA(A) before interest and % after tax</th>\n",
       "      <th>ROA(B) before interest and depreciation after tax</th>\n",
       "      <th>Operating Gross Margin</th>\n",
       "      <th>Realized Sales Gross Margin</th>\n",
       "      <th>Operating Profit Rate</th>\n",
       "      <th>Pre-tax net Interest Rate</th>\n",
       "      <th>After-tax net Interest Rate</th>\n",
       "      <th>Non-industry income and expenditure/revenue</th>\n",
       "      <th>...</th>\n",
       "      <th>Net Income to Total Assets</th>\n",
       "      <th>Total assets to GNP price</th>\n",
       "      <th>No-credit Interval</th>\n",
       "      <th>Gross Profit to Sales</th>\n",
       "      <th>Net Income to Stockholder's Equity</th>\n",
       "      <th>Liability to Equity</th>\n",
       "      <th>Degree of Financial Leverage (DFL)</th>\n",
       "      <th>Interest Coverage Ratio (Interest expense to EBIT)</th>\n",
       "      <th>Net Income Flag</th>\n",
       "      <th>Equity to Liability</th>\n",
       "    </tr>\n",
       "  </thead>\n",
       "  <tbody>\n",
       "    <tr>\n",
       "      <th>0</th>\n",
       "      <td>1</td>\n",
       "      <td>0.370594</td>\n",
       "      <td>0.424389</td>\n",
       "      <td>0.405750</td>\n",
       "      <td>0.601457</td>\n",
       "      <td>0.601457</td>\n",
       "      <td>0.998969</td>\n",
       "      <td>0.796887</td>\n",
       "      <td>0.808809</td>\n",
       "      <td>0.302646</td>\n",
       "      <td>...</td>\n",
       "      <td>0.716845</td>\n",
       "      <td>0.009219</td>\n",
       "      <td>0.622879</td>\n",
       "      <td>0.601453</td>\n",
       "      <td>0.827890</td>\n",
       "      <td>0.290202</td>\n",
       "      <td>0.026601</td>\n",
       "      <td>0.564050</td>\n",
       "      <td>1</td>\n",
       "      <td>0.016469</td>\n",
       "    </tr>\n",
       "    <tr>\n",
       "      <th>1</th>\n",
       "      <td>1</td>\n",
       "      <td>0.464291</td>\n",
       "      <td>0.538214</td>\n",
       "      <td>0.516730</td>\n",
       "      <td>0.610235</td>\n",
       "      <td>0.610235</td>\n",
       "      <td>0.998946</td>\n",
       "      <td>0.797380</td>\n",
       "      <td>0.809301</td>\n",
       "      <td>0.303556</td>\n",
       "      <td>...</td>\n",
       "      <td>0.795297</td>\n",
       "      <td>0.008323</td>\n",
       "      <td>0.623652</td>\n",
       "      <td>0.610237</td>\n",
       "      <td>0.839969</td>\n",
       "      <td>0.283846</td>\n",
       "      <td>0.264577</td>\n",
       "      <td>0.570175</td>\n",
       "      <td>1</td>\n",
       "      <td>0.020794</td>\n",
       "    </tr>\n",
       "    <tr>\n",
       "      <th>2</th>\n",
       "      <td>1</td>\n",
       "      <td>0.426071</td>\n",
       "      <td>0.499019</td>\n",
       "      <td>0.472295</td>\n",
       "      <td>0.601450</td>\n",
       "      <td>0.601364</td>\n",
       "      <td>0.998857</td>\n",
       "      <td>0.796403</td>\n",
       "      <td>0.808388</td>\n",
       "      <td>0.302035</td>\n",
       "      <td>...</td>\n",
       "      <td>0.774670</td>\n",
       "      <td>0.040003</td>\n",
       "      <td>0.623841</td>\n",
       "      <td>0.601449</td>\n",
       "      <td>0.836774</td>\n",
       "      <td>0.290189</td>\n",
       "      <td>0.026555</td>\n",
       "      <td>0.563706</td>\n",
       "      <td>1</td>\n",
       "      <td>0.016474</td>\n",
       "    </tr>\n",
       "    <tr>\n",
       "      <th>3</th>\n",
       "      <td>1</td>\n",
       "      <td>0.399844</td>\n",
       "      <td>0.451265</td>\n",
       "      <td>0.457733</td>\n",
       "      <td>0.583541</td>\n",
       "      <td>0.583541</td>\n",
       "      <td>0.998700</td>\n",
       "      <td>0.796967</td>\n",
       "      <td>0.808966</td>\n",
       "      <td>0.303350</td>\n",
       "      <td>...</td>\n",
       "      <td>0.739555</td>\n",
       "      <td>0.003252</td>\n",
       "      <td>0.622929</td>\n",
       "      <td>0.583538</td>\n",
       "      <td>0.834697</td>\n",
       "      <td>0.281721</td>\n",
       "      <td>0.026697</td>\n",
       "      <td>0.564663</td>\n",
       "      <td>1</td>\n",
       "      <td>0.023982</td>\n",
       "    </tr>\n",
       "    <tr>\n",
       "      <th>4</th>\n",
       "      <td>1</td>\n",
       "      <td>0.465022</td>\n",
       "      <td>0.538432</td>\n",
       "      <td>0.522298</td>\n",
       "      <td>0.598783</td>\n",
       "      <td>0.598783</td>\n",
       "      <td>0.998973</td>\n",
       "      <td>0.797366</td>\n",
       "      <td>0.809304</td>\n",
       "      <td>0.303475</td>\n",
       "      <td>...</td>\n",
       "      <td>0.795016</td>\n",
       "      <td>0.003878</td>\n",
       "      <td>0.623521</td>\n",
       "      <td>0.598782</td>\n",
       "      <td>0.839973</td>\n",
       "      <td>0.278514</td>\n",
       "      <td>0.024752</td>\n",
       "      <td>0.575617</td>\n",
       "      <td>1</td>\n",
       "      <td>0.035490</td>\n",
       "    </tr>\n",
       "    <tr>\n",
       "      <th>...</th>\n",
       "      <td>...</td>\n",
       "      <td>...</td>\n",
       "      <td>...</td>\n",
       "      <td>...</td>\n",
       "      <td>...</td>\n",
       "      <td>...</td>\n",
       "      <td>...</td>\n",
       "      <td>...</td>\n",
       "      <td>...</td>\n",
       "      <td>...</td>\n",
       "      <td>...</td>\n",
       "      <td>...</td>\n",
       "      <td>...</td>\n",
       "      <td>...</td>\n",
       "      <td>...</td>\n",
       "      <td>...</td>\n",
       "      <td>...</td>\n",
       "      <td>...</td>\n",
       "      <td>...</td>\n",
       "      <td>...</td>\n",
       "      <td>...</td>\n",
       "    </tr>\n",
       "    <tr>\n",
       "      <th>6814</th>\n",
       "      <td>0</td>\n",
       "      <td>0.493687</td>\n",
       "      <td>0.539468</td>\n",
       "      <td>0.543230</td>\n",
       "      <td>0.604455</td>\n",
       "      <td>0.604462</td>\n",
       "      <td>0.998992</td>\n",
       "      <td>0.797409</td>\n",
       "      <td>0.809331</td>\n",
       "      <td>0.303510</td>\n",
       "      <td>...</td>\n",
       "      <td>0.799927</td>\n",
       "      <td>0.000466</td>\n",
       "      <td>0.623620</td>\n",
       "      <td>0.604455</td>\n",
       "      <td>0.840359</td>\n",
       "      <td>0.279606</td>\n",
       "      <td>0.027064</td>\n",
       "      <td>0.566193</td>\n",
       "      <td>1</td>\n",
       "      <td>0.029890</td>\n",
       "    </tr>\n",
       "    <tr>\n",
       "      <th>6815</th>\n",
       "      <td>0</td>\n",
       "      <td>0.475162</td>\n",
       "      <td>0.538269</td>\n",
       "      <td>0.524172</td>\n",
       "      <td>0.598308</td>\n",
       "      <td>0.598308</td>\n",
       "      <td>0.998992</td>\n",
       "      <td>0.797414</td>\n",
       "      <td>0.809327</td>\n",
       "      <td>0.303520</td>\n",
       "      <td>...</td>\n",
       "      <td>0.799748</td>\n",
       "      <td>0.001959</td>\n",
       "      <td>0.623931</td>\n",
       "      <td>0.598306</td>\n",
       "      <td>0.840306</td>\n",
       "      <td>0.278132</td>\n",
       "      <td>0.027009</td>\n",
       "      <td>0.566018</td>\n",
       "      <td>1</td>\n",
       "      <td>0.038284</td>\n",
       "    </tr>\n",
       "    <tr>\n",
       "      <th>6816</th>\n",
       "      <td>0</td>\n",
       "      <td>0.472725</td>\n",
       "      <td>0.533744</td>\n",
       "      <td>0.520638</td>\n",
       "      <td>0.610444</td>\n",
       "      <td>0.610213</td>\n",
       "      <td>0.998984</td>\n",
       "      <td>0.797401</td>\n",
       "      <td>0.809317</td>\n",
       "      <td>0.303512</td>\n",
       "      <td>...</td>\n",
       "      <td>0.797778</td>\n",
       "      <td>0.002840</td>\n",
       "      <td>0.624156</td>\n",
       "      <td>0.610441</td>\n",
       "      <td>0.840138</td>\n",
       "      <td>0.275789</td>\n",
       "      <td>0.026791</td>\n",
       "      <td>0.565158</td>\n",
       "      <td>1</td>\n",
       "      <td>0.097649</td>\n",
       "    </tr>\n",
       "    <tr>\n",
       "      <th>6817</th>\n",
       "      <td>0</td>\n",
       "      <td>0.506264</td>\n",
       "      <td>0.559911</td>\n",
       "      <td>0.554045</td>\n",
       "      <td>0.607850</td>\n",
       "      <td>0.607850</td>\n",
       "      <td>0.999074</td>\n",
       "      <td>0.797500</td>\n",
       "      <td>0.809399</td>\n",
       "      <td>0.303498</td>\n",
       "      <td>...</td>\n",
       "      <td>0.811808</td>\n",
       "      <td>0.002837</td>\n",
       "      <td>0.623957</td>\n",
       "      <td>0.607846</td>\n",
       "      <td>0.841084</td>\n",
       "      <td>0.277547</td>\n",
       "      <td>0.026822</td>\n",
       "      <td>0.565302</td>\n",
       "      <td>1</td>\n",
       "      <td>0.044009</td>\n",
       "    </tr>\n",
       "    <tr>\n",
       "      <th>6818</th>\n",
       "      <td>0</td>\n",
       "      <td>0.493053</td>\n",
       "      <td>0.570105</td>\n",
       "      <td>0.549548</td>\n",
       "      <td>0.627409</td>\n",
       "      <td>0.627409</td>\n",
       "      <td>0.998080</td>\n",
       "      <td>0.801987</td>\n",
       "      <td>0.813800</td>\n",
       "      <td>0.313415</td>\n",
       "      <td>...</td>\n",
       "      <td>0.815956</td>\n",
       "      <td>0.000707</td>\n",
       "      <td>0.626680</td>\n",
       "      <td>0.627408</td>\n",
       "      <td>0.841019</td>\n",
       "      <td>0.275114</td>\n",
       "      <td>0.026793</td>\n",
       "      <td>0.565167</td>\n",
       "      <td>1</td>\n",
       "      <td>0.233902</td>\n",
       "    </tr>\n",
       "  </tbody>\n",
       "</table>\n",
       "<p>6819 rows × 96 columns</p>\n",
       "</div>"
      ],
      "text/plain": [
       "      Bankrupt?   ROA(C) before interest and depreciation before interest  \\\n",
       "0             1                                           0.370594          \n",
       "1             1                                           0.464291          \n",
       "2             1                                           0.426071          \n",
       "3             1                                           0.399844          \n",
       "4             1                                           0.465022          \n",
       "...         ...                                                ...          \n",
       "6814          0                                           0.493687          \n",
       "6815          0                                           0.475162          \n",
       "6816          0                                           0.472725          \n",
       "6817          0                                           0.506264          \n",
       "6818          0                                           0.493053          \n",
       "\n",
       "       ROA(A) before interest and % after tax  \\\n",
       "0                                    0.424389   \n",
       "1                                    0.538214   \n",
       "2                                    0.499019   \n",
       "3                                    0.451265   \n",
       "4                                    0.538432   \n",
       "...                                       ...   \n",
       "6814                                 0.539468   \n",
       "6815                                 0.538269   \n",
       "6816                                 0.533744   \n",
       "6817                                 0.559911   \n",
       "6818                                 0.570105   \n",
       "\n",
       "       ROA(B) before interest and depreciation after tax  \\\n",
       "0                                              0.405750    \n",
       "1                                              0.516730    \n",
       "2                                              0.472295    \n",
       "3                                              0.457733    \n",
       "4                                              0.522298    \n",
       "...                                                 ...    \n",
       "6814                                           0.543230    \n",
       "6815                                           0.524172    \n",
       "6816                                           0.520638    \n",
       "6817                                           0.554045    \n",
       "6818                                           0.549548    \n",
       "\n",
       "       Operating Gross Margin   Realized Sales Gross Margin  \\\n",
       "0                    0.601457                      0.601457   \n",
       "1                    0.610235                      0.610235   \n",
       "2                    0.601450                      0.601364   \n",
       "3                    0.583541                      0.583541   \n",
       "4                    0.598783                      0.598783   \n",
       "...                       ...                           ...   \n",
       "6814                 0.604455                      0.604462   \n",
       "6815                 0.598308                      0.598308   \n",
       "6816                 0.610444                      0.610213   \n",
       "6817                 0.607850                      0.607850   \n",
       "6818                 0.627409                      0.627409   \n",
       "\n",
       "       Operating Profit Rate   Pre-tax net Interest Rate  \\\n",
       "0                   0.998969                    0.796887   \n",
       "1                   0.998946                    0.797380   \n",
       "2                   0.998857                    0.796403   \n",
       "3                   0.998700                    0.796967   \n",
       "4                   0.998973                    0.797366   \n",
       "...                      ...                         ...   \n",
       "6814                0.998992                    0.797409   \n",
       "6815                0.998992                    0.797414   \n",
       "6816                0.998984                    0.797401   \n",
       "6817                0.999074                    0.797500   \n",
       "6818                0.998080                    0.801987   \n",
       "\n",
       "       After-tax net Interest Rate  \\\n",
       "0                         0.808809   \n",
       "1                         0.809301   \n",
       "2                         0.808388   \n",
       "3                         0.808966   \n",
       "4                         0.809304   \n",
       "...                            ...   \n",
       "6814                      0.809331   \n",
       "6815                      0.809327   \n",
       "6816                      0.809317   \n",
       "6817                      0.809399   \n",
       "6818                      0.813800   \n",
       "\n",
       "       Non-industry income and expenditure/revenue  ...  \\\n",
       "0                                         0.302646  ...   \n",
       "1                                         0.303556  ...   \n",
       "2                                         0.302035  ...   \n",
       "3                                         0.303350  ...   \n",
       "4                                         0.303475  ...   \n",
       "...                                            ...  ...   \n",
       "6814                                      0.303510  ...   \n",
       "6815                                      0.303520  ...   \n",
       "6816                                      0.303512  ...   \n",
       "6817                                      0.303498  ...   \n",
       "6818                                      0.313415  ...   \n",
       "\n",
       "       Net Income to Total Assets   Total assets to GNP price  \\\n",
       "0                        0.716845                    0.009219   \n",
       "1                        0.795297                    0.008323   \n",
       "2                        0.774670                    0.040003   \n",
       "3                        0.739555                    0.003252   \n",
       "4                        0.795016                    0.003878   \n",
       "...                           ...                         ...   \n",
       "6814                     0.799927                    0.000466   \n",
       "6815                     0.799748                    0.001959   \n",
       "6816                     0.797778                    0.002840   \n",
       "6817                     0.811808                    0.002837   \n",
       "6818                     0.815956                    0.000707   \n",
       "\n",
       "       No-credit Interval   Gross Profit to Sales  \\\n",
       "0                0.622879                0.601453   \n",
       "1                0.623652                0.610237   \n",
       "2                0.623841                0.601449   \n",
       "3                0.622929                0.583538   \n",
       "4                0.623521                0.598782   \n",
       "...                   ...                     ...   \n",
       "6814             0.623620                0.604455   \n",
       "6815             0.623931                0.598306   \n",
       "6816             0.624156                0.610441   \n",
       "6817             0.623957                0.607846   \n",
       "6818             0.626680                0.627408   \n",
       "\n",
       "       Net Income to Stockholder's Equity   Liability to Equity  \\\n",
       "0                                0.827890              0.290202   \n",
       "1                                0.839969              0.283846   \n",
       "2                                0.836774              0.290189   \n",
       "3                                0.834697              0.281721   \n",
       "4                                0.839973              0.278514   \n",
       "...                                   ...                   ...   \n",
       "6814                             0.840359              0.279606   \n",
       "6815                             0.840306              0.278132   \n",
       "6816                             0.840138              0.275789   \n",
       "6817                             0.841084              0.277547   \n",
       "6818                             0.841019              0.275114   \n",
       "\n",
       "       Degree of Financial Leverage (DFL)  \\\n",
       "0                                0.026601   \n",
       "1                                0.264577   \n",
       "2                                0.026555   \n",
       "3                                0.026697   \n",
       "4                                0.024752   \n",
       "...                                   ...   \n",
       "6814                             0.027064   \n",
       "6815                             0.027009   \n",
       "6816                             0.026791   \n",
       "6817                             0.026822   \n",
       "6818                             0.026793   \n",
       "\n",
       "       Interest Coverage Ratio (Interest expense to EBIT)   Net Income Flag  \\\n",
       "0                                              0.564050                   1   \n",
       "1                                              0.570175                   1   \n",
       "2                                              0.563706                   1   \n",
       "3                                              0.564663                   1   \n",
       "4                                              0.575617                   1   \n",
       "...                                                 ...                 ...   \n",
       "6814                                           0.566193                   1   \n",
       "6815                                           0.566018                   1   \n",
       "6816                                           0.565158                   1   \n",
       "6817                                           0.565302                   1   \n",
       "6818                                           0.565167                   1   \n",
       "\n",
       "       Equity to Liability  \n",
       "0                 0.016469  \n",
       "1                 0.020794  \n",
       "2                 0.016474  \n",
       "3                 0.023982  \n",
       "4                 0.035490  \n",
       "...                    ...  \n",
       "6814              0.029890  \n",
       "6815              0.038284  \n",
       "6816              0.097649  \n",
       "6817              0.044009  \n",
       "6818              0.233902  \n",
       "\n",
       "[6819 rows x 96 columns]"
      ]
     },
     "execution_count": 2,
     "metadata": {},
     "output_type": "execute_result"
    }
   ],
   "source": [
    "path = r'C:\\MLDatasets\\bankruptcy.csv' #Adjust to your own dataset path.\n",
    "dataBankruptcy = pd.read_csv(path)\n",
    "dataBankruptcy"
   ]
  },
  {
   "cell_type": "code",
   "execution_count": 3,
   "metadata": {},
   "outputs": [
    {
     "name": "stdout",
     "output_type": "stream",
     "text": [
      "<class 'pandas.core.frame.DataFrame'>\n",
      "RangeIndex: 6819 entries, 0 to 6818\n",
      "Data columns (total 96 columns):\n",
      " #   Column                                                    Non-Null Count  Dtype  \n",
      "---  ------                                                    --------------  -----  \n",
      " 0   Bankrupt?                                                 6819 non-null   int64  \n",
      " 1    ROA(C) before interest and depreciation before interest  6819 non-null   float64\n",
      " 2    ROA(A) before interest and % after tax                   6819 non-null   float64\n",
      " 3    ROA(B) before interest and depreciation after tax        6819 non-null   float64\n",
      " 4    Operating Gross Margin                                   6819 non-null   float64\n",
      " 5    Realized Sales Gross Margin                              6819 non-null   float64\n",
      " 6    Operating Profit Rate                                    6819 non-null   float64\n",
      " 7    Pre-tax net Interest Rate                                6819 non-null   float64\n",
      " 8    After-tax net Interest Rate                              6819 non-null   float64\n",
      " 9    Non-industry income and expenditure/revenue              6819 non-null   float64\n",
      " 10   Continuous interest rate (after tax)                     6819 non-null   float64\n",
      " 11   Operating Expense Rate                                   6819 non-null   float64\n",
      " 12   Research and development expense rate                    6819 non-null   float64\n",
      " 13   Cash flow rate                                           6819 non-null   float64\n",
      " 14   Interest-bearing debt interest rate                      6819 non-null   float64\n",
      " 15   Tax rate (A)                                             6819 non-null   float64\n",
      " 16   Net Value Per Share (B)                                  6819 non-null   float64\n",
      " 17   Net Value Per Share (A)                                  6819 non-null   float64\n",
      " 18   Net Value Per Share (C)                                  6819 non-null   float64\n",
      " 19   Persistent EPS in the Last Four Seasons                  6819 non-null   float64\n",
      " 20   Cash Flow Per Share                                      6819 non-null   float64\n",
      " 21   Revenue Per Share (Yuan ¥)                               6819 non-null   float64\n",
      " 22   Operating Profit Per Share (Yuan ¥)                      6819 non-null   float64\n",
      " 23   Per Share Net profit before tax (Yuan ¥)                 6819 non-null   float64\n",
      " 24   Realized Sales Gross Profit Growth Rate                  6819 non-null   float64\n",
      " 25   Operating Profit Growth Rate                             6819 non-null   float64\n",
      " 26   After-tax Net Profit Growth Rate                         6819 non-null   float64\n",
      " 27   Regular Net Profit Growth Rate                           6819 non-null   float64\n",
      " 28   Continuous Net Profit Growth Rate                        6819 non-null   float64\n",
      " 29   Total Asset Growth Rate                                  6819 non-null   float64\n",
      " 30   Net Value Growth Rate                                    6819 non-null   float64\n",
      " 31   Total Asset Return Growth Rate Ratio                     6819 non-null   float64\n",
      " 32   Cash Reinvestment %                                      6819 non-null   float64\n",
      " 33   Current Ratio                                            6819 non-null   float64\n",
      " 34   Quick Ratio                                              6819 non-null   float64\n",
      " 35   Interest Expense Ratio                                   6819 non-null   float64\n",
      " 36   Total debt/Total net worth                               6819 non-null   float64\n",
      " 37   Debt ratio %                                             6819 non-null   float64\n",
      " 38   Net worth/Assets                                         6819 non-null   float64\n",
      " 39   Long-term fund suitability ratio (A)                     6819 non-null   float64\n",
      " 40   Borrowing dependency                                     6819 non-null   float64\n",
      " 41   Contingent liabilities/Net worth                         6819 non-null   float64\n",
      " 42   Operating profit/Paid-in capital                         6819 non-null   float64\n",
      " 43   Net profit before tax/Paid-in capital                    6819 non-null   float64\n",
      " 44   Inventory and accounts receivable/Net value              6819 non-null   float64\n",
      " 45   Total Asset Turnover                                     6819 non-null   float64\n",
      " 46   Accounts Receivable Turnover                             6819 non-null   float64\n",
      " 47   Average Collection Days                                  6819 non-null   float64\n",
      " 48   Inventory Turnover Rate (times)                          6819 non-null   float64\n",
      " 49   Fixed Assets Turnover Frequency                          6819 non-null   float64\n",
      " 50   Net Worth Turnover Rate (times)                          6819 non-null   float64\n",
      " 51   Revenue per person                                       6819 non-null   float64\n",
      " 52   Operating profit per person                              6819 non-null   float64\n",
      " 53   Allocation rate per person                               6819 non-null   float64\n",
      " 54   Working Capital to Total Assets                          6819 non-null   float64\n",
      " 55   Quick Assets/Total Assets                                6819 non-null   float64\n",
      " 56   Current Assets/Total Assets                              6819 non-null   float64\n",
      " 57   Cash/Total Assets                                        6819 non-null   float64\n",
      " 58   Quick Assets/Current Liability                           6819 non-null   float64\n",
      " 59   Cash/Current Liability                                   6819 non-null   float64\n",
      " 60   Current Liability to Assets                              6819 non-null   float64\n",
      " 61   Operating Funds to Liability                             6819 non-null   float64\n",
      " 62   Inventory/Working Capital                                6819 non-null   float64\n",
      " 63   Inventory/Current Liability                              6819 non-null   float64\n",
      " 64   Current Liabilities/Liability                            6819 non-null   float64\n",
      " 65   Working Capital/Equity                                   6819 non-null   float64\n",
      " 66   Current Liabilities/Equity                               6819 non-null   float64\n",
      " 67   Long-term Liability to Current Assets                    6819 non-null   float64\n",
      " 68   Retained Earnings to Total Assets                        6819 non-null   float64\n",
      " 69   Total income/Total expense                               6819 non-null   float64\n",
      " 70   Total expense/Assets                                     6819 non-null   float64\n",
      " 71   Current Asset Turnover Rate                              6819 non-null   float64\n",
      " 72   Quick Asset Turnover Rate                                6819 non-null   float64\n",
      " 73   Working capitcal Turnover Rate                           6819 non-null   float64\n",
      " 74   Cash Turnover Rate                                       6819 non-null   float64\n",
      " 75   Cash Flow to Sales                                       6819 non-null   float64\n",
      " 76   Fixed Assets to Assets                                   6819 non-null   float64\n",
      " 77   Current Liability to Liability                           6819 non-null   float64\n",
      " 78   Current Liability to Equity                              6819 non-null   float64\n",
      " 79   Equity to Long-term Liability                            6819 non-null   float64\n",
      " 80   Cash Flow to Total Assets                                6819 non-null   float64\n",
      " 81   Cash Flow to Liability                                   6819 non-null   float64\n",
      " 82   CFO to Assets                                            6819 non-null   float64\n",
      " 83   Cash Flow to Equity                                      6819 non-null   float64\n",
      " 84   Current Liability to Current Assets                      6819 non-null   float64\n",
      " 85   Liability-Assets Flag                                    6819 non-null   int64  \n",
      " 86   Net Income to Total Assets                               6819 non-null   float64\n",
      " 87   Total assets to GNP price                                6819 non-null   float64\n",
      " 88   No-credit Interval                                       6819 non-null   float64\n",
      " 89   Gross Profit to Sales                                    6819 non-null   float64\n",
      " 90   Net Income to Stockholder's Equity                       6819 non-null   float64\n",
      " 91   Liability to Equity                                      6819 non-null   float64\n",
      " 92   Degree of Financial Leverage (DFL)                       6819 non-null   float64\n",
      " 93   Interest Coverage Ratio (Interest expense to EBIT)       6819 non-null   float64\n",
      " 94   Net Income Flag                                          6819 non-null   int64  \n",
      " 95   Equity to Liability                                      6819 non-null   float64\n",
      "dtypes: float64(93), int64(3)\n",
      "memory usage: 5.0 MB\n"
     ]
    }
   ],
   "source": [
    "dataBankruptcy.info()"
   ]
  },
  {
   "cell_type": "code",
   "execution_count": 4,
   "metadata": {},
   "outputs": [
    {
     "data": {
      "text/html": [
       "<div>\n",
       "<style scoped>\n",
       "    .dataframe tbody tr th:only-of-type {\n",
       "        vertical-align: middle;\n",
       "    }\n",
       "\n",
       "    .dataframe tbody tr th {\n",
       "        vertical-align: top;\n",
       "    }\n",
       "\n",
       "    .dataframe thead th {\n",
       "        text-align: right;\n",
       "    }\n",
       "</style>\n",
       "<table border=\"1\" class=\"dataframe\">\n",
       "  <thead>\n",
       "    <tr style=\"text-align: right;\">\n",
       "      <th></th>\n",
       "      <th>Bankrupt?</th>\n",
       "      <th>ROA(C) before interest and depreciation before interest</th>\n",
       "      <th>ROA(A) before interest and % after tax</th>\n",
       "      <th>ROA(B) before interest and depreciation after tax</th>\n",
       "      <th>Operating Gross Margin</th>\n",
       "      <th>Realized Sales Gross Margin</th>\n",
       "      <th>Operating Profit Rate</th>\n",
       "      <th>Pre-tax net Interest Rate</th>\n",
       "      <th>After-tax net Interest Rate</th>\n",
       "      <th>Non-industry income and expenditure/revenue</th>\n",
       "      <th>...</th>\n",
       "      <th>Net Income to Total Assets</th>\n",
       "      <th>Total assets to GNP price</th>\n",
       "      <th>No-credit Interval</th>\n",
       "      <th>Gross Profit to Sales</th>\n",
       "      <th>Net Income to Stockholder's Equity</th>\n",
       "      <th>Liability to Equity</th>\n",
       "      <th>Degree of Financial Leverage (DFL)</th>\n",
       "      <th>Interest Coverage Ratio (Interest expense to EBIT)</th>\n",
       "      <th>Net Income Flag</th>\n",
       "      <th>Equity to Liability</th>\n",
       "    </tr>\n",
       "  </thead>\n",
       "  <tbody>\n",
       "    <tr>\n",
       "      <th>count</th>\n",
       "      <td>6819.000000</td>\n",
       "      <td>6819.000000</td>\n",
       "      <td>6819.000000</td>\n",
       "      <td>6819.000000</td>\n",
       "      <td>6819.000000</td>\n",
       "      <td>6819.000000</td>\n",
       "      <td>6819.000000</td>\n",
       "      <td>6819.000000</td>\n",
       "      <td>6819.000000</td>\n",
       "      <td>6819.000000</td>\n",
       "      <td>...</td>\n",
       "      <td>6819.000000</td>\n",
       "      <td>6.819000e+03</td>\n",
       "      <td>6819.000000</td>\n",
       "      <td>6819.000000</td>\n",
       "      <td>6819.000000</td>\n",
       "      <td>6819.000000</td>\n",
       "      <td>6819.000000</td>\n",
       "      <td>6819.000000</td>\n",
       "      <td>6819.0</td>\n",
       "      <td>6819.000000</td>\n",
       "    </tr>\n",
       "    <tr>\n",
       "      <th>mean</th>\n",
       "      <td>0.032263</td>\n",
       "      <td>0.505180</td>\n",
       "      <td>0.558625</td>\n",
       "      <td>0.553589</td>\n",
       "      <td>0.607948</td>\n",
       "      <td>0.607929</td>\n",
       "      <td>0.998755</td>\n",
       "      <td>0.797190</td>\n",
       "      <td>0.809084</td>\n",
       "      <td>0.303623</td>\n",
       "      <td>...</td>\n",
       "      <td>0.807760</td>\n",
       "      <td>1.862942e+07</td>\n",
       "      <td>0.623915</td>\n",
       "      <td>0.607946</td>\n",
       "      <td>0.840402</td>\n",
       "      <td>0.280365</td>\n",
       "      <td>0.027541</td>\n",
       "      <td>0.565358</td>\n",
       "      <td>1.0</td>\n",
       "      <td>0.047578</td>\n",
       "    </tr>\n",
       "    <tr>\n",
       "      <th>std</th>\n",
       "      <td>0.176710</td>\n",
       "      <td>0.060686</td>\n",
       "      <td>0.065620</td>\n",
       "      <td>0.061595</td>\n",
       "      <td>0.016934</td>\n",
       "      <td>0.016916</td>\n",
       "      <td>0.013010</td>\n",
       "      <td>0.012869</td>\n",
       "      <td>0.013601</td>\n",
       "      <td>0.011163</td>\n",
       "      <td>...</td>\n",
       "      <td>0.040332</td>\n",
       "      <td>3.764501e+08</td>\n",
       "      <td>0.012290</td>\n",
       "      <td>0.016934</td>\n",
       "      <td>0.014523</td>\n",
       "      <td>0.014463</td>\n",
       "      <td>0.015668</td>\n",
       "      <td>0.013214</td>\n",
       "      <td>0.0</td>\n",
       "      <td>0.050014</td>\n",
       "    </tr>\n",
       "    <tr>\n",
       "      <th>min</th>\n",
       "      <td>0.000000</td>\n",
       "      <td>0.000000</td>\n",
       "      <td>0.000000</td>\n",
       "      <td>0.000000</td>\n",
       "      <td>0.000000</td>\n",
       "      <td>0.000000</td>\n",
       "      <td>0.000000</td>\n",
       "      <td>0.000000</td>\n",
       "      <td>0.000000</td>\n",
       "      <td>0.000000</td>\n",
       "      <td>...</td>\n",
       "      <td>0.000000</td>\n",
       "      <td>0.000000e+00</td>\n",
       "      <td>0.000000</td>\n",
       "      <td>0.000000</td>\n",
       "      <td>0.000000</td>\n",
       "      <td>0.000000</td>\n",
       "      <td>0.000000</td>\n",
       "      <td>0.000000</td>\n",
       "      <td>1.0</td>\n",
       "      <td>0.000000</td>\n",
       "    </tr>\n",
       "    <tr>\n",
       "      <th>25%</th>\n",
       "      <td>0.000000</td>\n",
       "      <td>0.476527</td>\n",
       "      <td>0.535543</td>\n",
       "      <td>0.527277</td>\n",
       "      <td>0.600445</td>\n",
       "      <td>0.600434</td>\n",
       "      <td>0.998969</td>\n",
       "      <td>0.797386</td>\n",
       "      <td>0.809312</td>\n",
       "      <td>0.303466</td>\n",
       "      <td>...</td>\n",
       "      <td>0.796750</td>\n",
       "      <td>9.036205e-04</td>\n",
       "      <td>0.623636</td>\n",
       "      <td>0.600443</td>\n",
       "      <td>0.840115</td>\n",
       "      <td>0.276944</td>\n",
       "      <td>0.026791</td>\n",
       "      <td>0.565158</td>\n",
       "      <td>1.0</td>\n",
       "      <td>0.024477</td>\n",
       "    </tr>\n",
       "    <tr>\n",
       "      <th>50%</th>\n",
       "      <td>0.000000</td>\n",
       "      <td>0.502706</td>\n",
       "      <td>0.559802</td>\n",
       "      <td>0.552278</td>\n",
       "      <td>0.605997</td>\n",
       "      <td>0.605976</td>\n",
       "      <td>0.999022</td>\n",
       "      <td>0.797464</td>\n",
       "      <td>0.809375</td>\n",
       "      <td>0.303525</td>\n",
       "      <td>...</td>\n",
       "      <td>0.810619</td>\n",
       "      <td>2.085213e-03</td>\n",
       "      <td>0.623879</td>\n",
       "      <td>0.605998</td>\n",
       "      <td>0.841179</td>\n",
       "      <td>0.278778</td>\n",
       "      <td>0.026808</td>\n",
       "      <td>0.565252</td>\n",
       "      <td>1.0</td>\n",
       "      <td>0.033798</td>\n",
       "    </tr>\n",
       "    <tr>\n",
       "      <th>75%</th>\n",
       "      <td>0.000000</td>\n",
       "      <td>0.535563</td>\n",
       "      <td>0.589157</td>\n",
       "      <td>0.584105</td>\n",
       "      <td>0.613914</td>\n",
       "      <td>0.613842</td>\n",
       "      <td>0.999095</td>\n",
       "      <td>0.797579</td>\n",
       "      <td>0.809469</td>\n",
       "      <td>0.303585</td>\n",
       "      <td>...</td>\n",
       "      <td>0.826455</td>\n",
       "      <td>5.269777e-03</td>\n",
       "      <td>0.624168</td>\n",
       "      <td>0.613913</td>\n",
       "      <td>0.842357</td>\n",
       "      <td>0.281449</td>\n",
       "      <td>0.026913</td>\n",
       "      <td>0.565725</td>\n",
       "      <td>1.0</td>\n",
       "      <td>0.052838</td>\n",
       "    </tr>\n",
       "    <tr>\n",
       "      <th>max</th>\n",
       "      <td>1.000000</td>\n",
       "      <td>1.000000</td>\n",
       "      <td>1.000000</td>\n",
       "      <td>1.000000</td>\n",
       "      <td>1.000000</td>\n",
       "      <td>1.000000</td>\n",
       "      <td>1.000000</td>\n",
       "      <td>1.000000</td>\n",
       "      <td>1.000000</td>\n",
       "      <td>1.000000</td>\n",
       "      <td>...</td>\n",
       "      <td>1.000000</td>\n",
       "      <td>9.820000e+09</td>\n",
       "      <td>1.000000</td>\n",
       "      <td>1.000000</td>\n",
       "      <td>1.000000</td>\n",
       "      <td>1.000000</td>\n",
       "      <td>1.000000</td>\n",
       "      <td>1.000000</td>\n",
       "      <td>1.0</td>\n",
       "      <td>1.000000</td>\n",
       "    </tr>\n",
       "  </tbody>\n",
       "</table>\n",
       "<p>8 rows × 96 columns</p>\n",
       "</div>"
      ],
      "text/plain": [
       "         Bankrupt?   ROA(C) before interest and depreciation before interest  \\\n",
       "count  6819.000000                                        6819.000000          \n",
       "mean      0.032263                                           0.505180          \n",
       "std       0.176710                                           0.060686          \n",
       "min       0.000000                                           0.000000          \n",
       "25%       0.000000                                           0.476527          \n",
       "50%       0.000000                                           0.502706          \n",
       "75%       0.000000                                           0.535563          \n",
       "max       1.000000                                           1.000000          \n",
       "\n",
       "        ROA(A) before interest and % after tax  \\\n",
       "count                              6819.000000   \n",
       "mean                                  0.558625   \n",
       "std                                   0.065620   \n",
       "min                                   0.000000   \n",
       "25%                                   0.535543   \n",
       "50%                                   0.559802   \n",
       "75%                                   0.589157   \n",
       "max                                   1.000000   \n",
       "\n",
       "        ROA(B) before interest and depreciation after tax  \\\n",
       "count                                        6819.000000    \n",
       "mean                                            0.553589    \n",
       "std                                             0.061595    \n",
       "min                                             0.000000    \n",
       "25%                                             0.527277    \n",
       "50%                                             0.552278    \n",
       "75%                                             0.584105    \n",
       "max                                             1.000000    \n",
       "\n",
       "        Operating Gross Margin   Realized Sales Gross Margin  \\\n",
       "count              6819.000000                   6819.000000   \n",
       "mean                  0.607948                      0.607929   \n",
       "std                   0.016934                      0.016916   \n",
       "min                   0.000000                      0.000000   \n",
       "25%                   0.600445                      0.600434   \n",
       "50%                   0.605997                      0.605976   \n",
       "75%                   0.613914                      0.613842   \n",
       "max                   1.000000                      1.000000   \n",
       "\n",
       "        Operating Profit Rate   Pre-tax net Interest Rate  \\\n",
       "count             6819.000000                 6819.000000   \n",
       "mean                 0.998755                    0.797190   \n",
       "std                  0.013010                    0.012869   \n",
       "min                  0.000000                    0.000000   \n",
       "25%                  0.998969                    0.797386   \n",
       "50%                  0.999022                    0.797464   \n",
       "75%                  0.999095                    0.797579   \n",
       "max                  1.000000                    1.000000   \n",
       "\n",
       "        After-tax net Interest Rate  \\\n",
       "count                   6819.000000   \n",
       "mean                       0.809084   \n",
       "std                        0.013601   \n",
       "min                        0.000000   \n",
       "25%                        0.809312   \n",
       "50%                        0.809375   \n",
       "75%                        0.809469   \n",
       "max                        1.000000   \n",
       "\n",
       "        Non-industry income and expenditure/revenue  ...  \\\n",
       "count                                   6819.000000  ...   \n",
       "mean                                       0.303623  ...   \n",
       "std                                        0.011163  ...   \n",
       "min                                        0.000000  ...   \n",
       "25%                                        0.303466  ...   \n",
       "50%                                        0.303525  ...   \n",
       "75%                                        0.303585  ...   \n",
       "max                                        1.000000  ...   \n",
       "\n",
       "        Net Income to Total Assets   Total assets to GNP price  \\\n",
       "count                  6819.000000                6.819000e+03   \n",
       "mean                      0.807760                1.862942e+07   \n",
       "std                       0.040332                3.764501e+08   \n",
       "min                       0.000000                0.000000e+00   \n",
       "25%                       0.796750                9.036205e-04   \n",
       "50%                       0.810619                2.085213e-03   \n",
       "75%                       0.826455                5.269777e-03   \n",
       "max                       1.000000                9.820000e+09   \n",
       "\n",
       "        No-credit Interval   Gross Profit to Sales  \\\n",
       "count          6819.000000             6819.000000   \n",
       "mean              0.623915                0.607946   \n",
       "std               0.012290                0.016934   \n",
       "min               0.000000                0.000000   \n",
       "25%               0.623636                0.600443   \n",
       "50%               0.623879                0.605998   \n",
       "75%               0.624168                0.613913   \n",
       "max               1.000000                1.000000   \n",
       "\n",
       "        Net Income to Stockholder's Equity   Liability to Equity  \\\n",
       "count                          6819.000000           6819.000000   \n",
       "mean                              0.840402              0.280365   \n",
       "std                               0.014523              0.014463   \n",
       "min                               0.000000              0.000000   \n",
       "25%                               0.840115              0.276944   \n",
       "50%                               0.841179              0.278778   \n",
       "75%                               0.842357              0.281449   \n",
       "max                               1.000000              1.000000   \n",
       "\n",
       "        Degree of Financial Leverage (DFL)  \\\n",
       "count                          6819.000000   \n",
       "mean                              0.027541   \n",
       "std                               0.015668   \n",
       "min                               0.000000   \n",
       "25%                               0.026791   \n",
       "50%                               0.026808   \n",
       "75%                               0.026913   \n",
       "max                               1.000000   \n",
       "\n",
       "        Interest Coverage Ratio (Interest expense to EBIT)   Net Income Flag  \\\n",
       "count                                        6819.000000              6819.0   \n",
       "mean                                            0.565358                 1.0   \n",
       "std                                             0.013214                 0.0   \n",
       "min                                             0.000000                 1.0   \n",
       "25%                                             0.565158                 1.0   \n",
       "50%                                             0.565252                 1.0   \n",
       "75%                                             0.565725                 1.0   \n",
       "max                                             1.000000                 1.0   \n",
       "\n",
       "        Equity to Liability  \n",
       "count           6819.000000  \n",
       "mean               0.047578  \n",
       "std                0.050014  \n",
       "min                0.000000  \n",
       "25%                0.024477  \n",
       "50%                0.033798  \n",
       "75%                0.052838  \n",
       "max                1.000000  \n",
       "\n",
       "[8 rows x 96 columns]"
      ]
     },
     "execution_count": 4,
     "metadata": {},
     "output_type": "execute_result"
    }
   ],
   "source": [
    "dataBankruptcy.describe()"
   ]
  },
  {
   "cell_type": "code",
   "execution_count": 5,
   "metadata": {},
   "outputs": [
    {
     "data": {
      "text/plain": [
       "(6819, 96)"
      ]
     },
     "execution_count": 5,
     "metadata": {},
     "output_type": "execute_result"
    }
   ],
   "source": [
    "dataBankruptcy.shape"
   ]
  },
  {
   "cell_type": "code",
   "execution_count": 6,
   "metadata": {},
   "outputs": [
    {
     "data": {
      "text/plain": [
       "Bankrupt?                                                   0\n",
       " ROA(C) before interest and depreciation before interest    0\n",
       " Total expense/Assets                                       0\n",
       " Total income/Total expense                                 0\n",
       " Retained Earnings to Total Assets                          0\n",
       "                                                           ..\n",
       " Total Asset Growth Rate                                    0\n",
       " Continuous Net Profit Growth Rate                          0\n",
       " Regular Net Profit Growth Rate                             0\n",
       " After-tax Net Profit Growth Rate                           0\n",
       " Equity to Liability                                        0\n",
       "Length: 96, dtype: int64"
      ]
     },
     "execution_count": 6,
     "metadata": {},
     "output_type": "execute_result"
    }
   ],
   "source": [
    "dataBankruptcy.isnull().sum().sort_values(ascending=False)"
   ]
  },
  {
   "cell_type": "code",
   "execution_count": 7,
   "metadata": {},
   "outputs": [
    {
     "name": "stdout",
     "output_type": "stream",
     "text": [
      "Any column with null values? False\n"
     ]
    }
   ],
   "source": [
    "print(\"Any column with null values?\", dataBankruptcy.isnull().any().any())"
   ]
  },
  {
   "cell_type": "markdown",
   "metadata": {},
   "source": [
    "## 2. Preprocessing"
   ]
  },
  {
   "cell_type": "markdown",
   "metadata": {},
   "source": [
    "### 2.1 Oversampling"
   ]
  },
  {
   "cell_type": "markdown",
   "metadata": {},
   "source": [
    "Oversampling is a process of selecting samples that duplicates the samples of the minority classes. This practice is sometimes used in unbalanced datasets in which one class has significantly more sample and the other classes only has little amounts of samples."
   ]
  },
  {
   "cell_type": "code",
   "execution_count": 8,
   "metadata": {},
   "outputs": [
    {
     "data": {
      "text/plain": [
       "0    6599\n",
       "1     220\n",
       "Name: Bankrupt?, dtype: int64"
      ]
     },
     "execution_count": 8,
     "metadata": {},
     "output_type": "execute_result"
    }
   ],
   "source": [
    "classValCounts = dataBankruptcy['Bankrupt?'].value_counts()\n",
    "classValCounts"
   ]
  },
  {
   "cell_type": "code",
   "execution_count": 9,
   "metadata": {},
   "outputs": [],
   "source": [
    "dataCount = classValCounts.sum()"
   ]
  },
  {
   "cell_type": "code",
   "execution_count": 10,
   "metadata": {},
   "outputs": [
    {
     "name": "stdout",
     "output_type": "stream",
     "text": [
      "Proportions of dataset classes:\n",
      "Class 0: 0.967737204868749\n",
      "Class 1: 0.03226279513125092\n"
     ]
    }
   ],
   "source": [
    "print(\"Proportions of dataset classes:\")\n",
    "print(\"Class 0:\", classValCounts[0]/dataCount)\n",
    "print(\"Class 1:\", classValCounts[1]/dataCount)"
   ]
  },
  {
   "cell_type": "markdown",
   "metadata": {},
   "source": [
    "In this case. We can clearly see that the dataset is massively unbalanced with 96.8% of the dataset belonging to class 0 and only 3.2% of the dataset belongs to class 1\n",
    "\n",
    "Therefore we need to oversample the data to have enough data for the model to have a higher f-1 score and is able to properly classify class 1 inputs"
   ]
  },
  {
   "cell_type": "code",
   "execution_count": 11,
   "metadata": {},
   "outputs": [
    {
     "name": "stdout",
     "output_type": "stream",
     "text": [
      "(6819, 95)\n",
      "(6819,)\n"
     ]
    }
   ],
   "source": [
    "data = dataBankruptcy.drop(['Bankrupt?'], axis=1)\n",
    "target = dataBankruptcy['Bankrupt?']\n",
    "\n",
    "print(data.shape)\n",
    "print(target.shape)"
   ]
  },
  {
   "cell_type": "code",
   "execution_count": 12,
   "metadata": {},
   "outputs": [],
   "source": [
    "train_data_u, test_data_u, train_target_u, test_target_u = train_test_split(data, target, test_size=0.4, random_state=1)\n",
    "\n",
    "# Random OverSampler Data.\n",
    "train_data_u_ros, test_data_u_ros, train_target_u_ros, test_target_u_ros = train_data_u, test_data_u, train_target_u, test_target_u"
   ]
  },
  {
   "cell_type": "markdown",
   "metadata": {},
   "source": [
    "Two oversampling methods would be used in this project, which are `SMOTE` and `RandomOverSampler`\n",
    "\n",
    "The model would be fitted and evaluated separately for each sample groups"
   ]
  },
  {
   "cell_type": "code",
   "execution_count": 13,
   "metadata": {},
   "outputs": [
    {
     "name": "stdout",
     "output_type": "stream",
     "text": [
      "(13198, 95)\n",
      "(13198,)\n"
     ]
    }
   ],
   "source": [
    "smote = SMOTE(sampling_strategy='minority', random_state=1)\n",
    "data_smote, target_smote = smote.fit_resample(data, target)\n",
    "\n",
    "print(data_smote.shape)\n",
    "print(target_smote.shape)"
   ]
  },
  {
   "cell_type": "code",
   "execution_count": 14,
   "metadata": {},
   "outputs": [
    {
     "name": "stdout",
     "output_type": "stream",
     "text": [
      "(13198, 95)\n",
      "(13198,)\n"
     ]
    }
   ],
   "source": [
    "randomOverSampler = RandomOverSampler(random_state=1)\n",
    "data_ros, target_ros = randomOverSampler.fit_resample(data, target)\n",
    "\n",
    "print(data_ros.shape)\n",
    "print(target_ros.shape)"
   ]
  },
  {
   "cell_type": "code",
   "execution_count": 15,
   "metadata": {},
   "outputs": [
    {
     "data": {
      "text/plain": [
       "0    6599\n",
       "1    6599\n",
       "Name: Bankrupt?, dtype: int64"
      ]
     },
     "execution_count": 15,
     "metadata": {},
     "output_type": "execute_result"
    }
   ],
   "source": [
    "target_smote.value_counts()"
   ]
  },
  {
   "cell_type": "code",
   "execution_count": 16,
   "metadata": {},
   "outputs": [
    {
     "data": {
      "text/plain": [
       "0    6599\n",
       "1    6599\n",
       "Name: Bankrupt?, dtype: int64"
      ]
     },
     "execution_count": 16,
     "metadata": {},
     "output_type": "execute_result"
    }
   ],
   "source": [
    "target_ros.value_counts()"
   ]
  },
  {
   "cell_type": "markdown",
   "metadata": {},
   "source": [
    "### 2.2 Train Test Split"
   ]
  },
  {
   "cell_type": "markdown",
   "metadata": {},
   "source": [
    "#### 2.2.1 SMOTE Data"
   ]
  },
  {
   "cell_type": "code",
   "execution_count": 17,
   "metadata": {},
   "outputs": [],
   "source": [
    "train_data, test_data, train_target, test_target = train_test_split(\n",
    "    data_smote, target_smote, test_size=0.4, random_state=1\n",
    ")"
   ]
  },
  {
   "cell_type": "code",
   "execution_count": 18,
   "metadata": {},
   "outputs": [
    {
     "name": "stdout",
     "output_type": "stream",
     "text": [
      "SMOTE Data:\n",
      "Training Data Shape: (7918, 95)\n",
      "Test Data Shape: (5280, 95)\n",
      "Training Target Shape: (7918,)\n",
      "Test Target Shape: (5280,)\n"
     ]
    }
   ],
   "source": [
    "print(\"SMOTE Data:\")\n",
    "print(\"Training Data Shape:\", train_data.shape)\n",
    "print(\"Test Data Shape:\", test_data.shape)\n",
    "print(\"Training Target Shape:\", train_target.shape)\n",
    "print(\"Test Target Shape:\", test_target.shape)"
   ]
  },
  {
   "cell_type": "markdown",
   "metadata": {},
   "source": [
    "#### 2.2.2 Random OverSampler Data"
   ]
  },
  {
   "cell_type": "code",
   "execution_count": 19,
   "metadata": {},
   "outputs": [],
   "source": [
    "train_data_ros, test_data_ros, train_target_ros, test_target_ros = train_test_split(\n",
    "    data_ros, target_ros, test_size=0.4, random_state=1\n",
    ")"
   ]
  },
  {
   "cell_type": "code",
   "execution_count": 20,
   "metadata": {},
   "outputs": [
    {
     "name": "stdout",
     "output_type": "stream",
     "text": [
      "Random OverSampling Data:\n",
      "Training Data Shape: (7918, 95)\n",
      "Test Data Shape: (5280, 95)\n",
      "Training Target Shape: (7918,)\n",
      "Test Target Shape: (5280,)\n"
     ]
    }
   ],
   "source": [
    "print(\"Random OverSampling Data:\")\n",
    "print(\"Training Data Shape:\", train_data_ros.shape)\n",
    "print(\"Test Data Shape:\", test_data_ros.shape)\n",
    "print(\"Training Target Shape:\", train_target_ros.shape)\n",
    "print(\"Test Target Shape:\", test_target_ros.shape)"
   ]
  },
  {
   "cell_type": "markdown",
   "metadata": {},
   "source": [
    "### 2.3 Scaling: Standardization"
   ]
  },
  {
   "cell_type": "markdown",
   "metadata": {},
   "source": [
    "#### 2.3.1 SMOTE Data"
   ]
  },
  {
   "cell_type": "code",
   "execution_count": 21,
   "metadata": {},
   "outputs": [
    {
     "name": "stdout",
     "output_type": "stream",
     "text": [
      "[[ 4.21145400e-01  1.94031692e-01  3.94915875e-01 ... -3.68578900e+00\n",
      "   0.00000000e+00 -2.37977519e-01]\n",
      " [ 3.50572361e-01  5.23195643e-01  3.75059542e-01 ...  5.82726124e-02\n",
      "   0.00000000e+00  1.21795464e-01]\n",
      " [-5.23355389e-02  1.71122845e-01 -7.50581432e-03 ...  1.15473417e+01\n",
      "   0.00000000e+00  1.24361109e-01]\n",
      " ...\n",
      " [ 8.20203861e-01  8.48742409e-01  8.23812676e-01 ... -5.90673001e-03\n",
      "   0.00000000e+00 -2.84105031e-01]\n",
      " [-1.74217016e+00 -1.75805231e+00 -1.96848867e+00 ... -2.00413195e-02\n",
      "   0.00000000e+00  3.23682451e+00]\n",
      " [-1.22833901e+00 -1.25525428e+00 -1.30213875e+00 ... -6.51022539e-02\n",
      "   0.00000000e+00 -3.96429411e-01]]\n",
      "Mean xs =  -0.0\n",
      "Std dev xs =  1.0\n"
     ]
    }
   ],
   "source": [
    "scaler = StandardScaler()\n",
    "scaler.fit(train_data)\n",
    "train_data_scaled = scaler.transform(train_data)\n",
    "print(train_data_scaled)\n",
    "print(\"Mean xs = \", np.round(np.mean(train_data_scaled)))\n",
    "print(\"Std dev xs = \", np.round(np.std(train_data_scaled)))\n",
    "\n",
    "test_data_scaled = scaler.transform(test_data)\n",
    "\n",
    "test_data_u = scaler.transform(test_data_u)"
   ]
  },
  {
   "cell_type": "markdown",
   "metadata": {},
   "source": [
    "#### 2.3.2 Random OverSampler Data"
   ]
  },
  {
   "cell_type": "code",
   "execution_count": 22,
   "metadata": {},
   "outputs": [
    {
     "name": "stdout",
     "output_type": "stream",
     "text": [
      "[[ 4.21145400e-01  1.94031692e-01  3.94915875e-01 ... -3.68578900e+00\n",
      "   0.00000000e+00 -2.37977519e-01]\n",
      " [ 3.50572361e-01  5.23195643e-01  3.75059542e-01 ...  5.82726124e-02\n",
      "   0.00000000e+00  1.21795464e-01]\n",
      " [-5.23355389e-02  1.71122845e-01 -7.50581432e-03 ...  1.15473417e+01\n",
      "   0.00000000e+00  1.24361109e-01]\n",
      " ...\n",
      " [ 8.20203861e-01  8.48742409e-01  8.23812676e-01 ... -5.90673001e-03\n",
      "   0.00000000e+00 -2.84105031e-01]\n",
      " [-1.74217016e+00 -1.75805231e+00 -1.96848867e+00 ... -2.00413195e-02\n",
      "   0.00000000e+00  3.23682451e+00]\n",
      " [-1.22833901e+00 -1.25525428e+00 -1.30213875e+00 ... -6.51022539e-02\n",
      "   0.00000000e+00 -3.96429411e-01]]\n",
      "Mean xs =  -0.0\n",
      "Std dev xs =  1.0\n"
     ]
    }
   ],
   "source": [
    "scaler = StandardScaler()\n",
    "scaler.fit(train_data_ros)\n",
    "train_data_scaled_ros = scaler.transform(train_data_ros)\n",
    "print(train_data_scaled)\n",
    "print(\"Mean xs = \", np.round(np.mean(train_data_scaled_ros)))\n",
    "print(\"Std dev xs = \", np.round(np.std(train_data_scaled_ros)))\n",
    "\n",
    "test_data_scaled_ros = scaler.transform(test_data_ros)\n",
    "\n",
    "test_data_u_ros = scaler.transform(test_data_u_ros)"
   ]
  },
  {
   "cell_type": "markdown",
   "metadata": {},
   "source": [
    "### 2.4 Dimensionality Reduction: PCA"
   ]
  },
  {
   "cell_type": "markdown",
   "metadata": {},
   "source": [
    "#### 2.4.1 SMOTE Data"
   ]
  },
  {
   "cell_type": "code",
   "execution_count": 23,
   "metadata": {},
   "outputs": [
    {
     "name": "stdout",
     "output_type": "stream",
     "text": [
      "The number of selected PCs: 62\n"
     ]
    }
   ],
   "source": [
    "# Choose PCs such that retained total variance > 99%\n",
    "pca = PCA(n_components=0.99, random_state=1)\n",
    "pca.fit(train_data_scaled)\n",
    "r = pca.n_components_\n",
    "print('The number of selected PCs:', r)"
   ]
  },
  {
   "cell_type": "code",
   "execution_count": 24,
   "metadata": {},
   "outputs": [
    {
     "name": "stdout",
     "output_type": "stream",
     "text": [
      "(7918, 62)\n",
      "(5280, 62)\n"
     ]
    }
   ],
   "source": [
    "train_data_pca = pca.transform(train_data_scaled)\n",
    "test_data_pca = pca.transform(test_data_scaled)\n",
    "test_data_u = pca.transform(test_data_u)\n",
    "\n",
    "print(train_data_pca.shape)\n",
    "print(test_data_pca.shape)"
   ]
  },
  {
   "cell_type": "code",
   "execution_count": 25,
   "metadata": {},
   "outputs": [],
   "source": [
    "train_data_prep = train_data_pca\n",
    "test_data_prep = test_data_pca"
   ]
  },
  {
   "cell_type": "markdown",
   "metadata": {},
   "source": [
    "To avoid warnings of named columns"
   ]
  },
  {
   "cell_type": "code",
   "execution_count": 26,
   "metadata": {},
   "outputs": [],
   "source": [
    "train_target = train_target.to_numpy()\n",
    "test_target = test_target.to_numpy()"
   ]
  },
  {
   "cell_type": "markdown",
   "metadata": {},
   "source": [
    "#### 2.4.2 Random OverSampler Data"
   ]
  },
  {
   "cell_type": "code",
   "execution_count": 27,
   "metadata": {},
   "outputs": [
    {
     "name": "stdout",
     "output_type": "stream",
     "text": [
      "The number of selected PCs: 62\n"
     ]
    }
   ],
   "source": [
    "# Choose PCs such that retained total variance > 99%\n",
    "pca = PCA(n_components=0.99, random_state=1)\n",
    "pca.fit(train_data_scaled_ros)\n",
    "r = pca.n_components_\n",
    "print('The number of selected PCs:', r)"
   ]
  },
  {
   "cell_type": "code",
   "execution_count": 28,
   "metadata": {},
   "outputs": [
    {
     "name": "stdout",
     "output_type": "stream",
     "text": [
      "(7918, 62)\n",
      "(5280, 62)\n"
     ]
    }
   ],
   "source": [
    "train_data_pca_ros = pca.transform(train_data_scaled_ros)\n",
    "test_data_pca_ros = pca.transform(test_data_scaled_ros)\n",
    "test_data_u_ros = pca.transform(test_data_u_ros)\n",
    "\n",
    "print(train_data_pca_ros.shape)\n",
    "print(test_data_pca_ros.shape)"
   ]
  },
  {
   "cell_type": "code",
   "execution_count": 29,
   "metadata": {},
   "outputs": [],
   "source": [
    "train_data_prep_ros = train_data_pca_ros\n",
    "test_data_prep_ros = test_data_pca_ros"
   ]
  },
  {
   "cell_type": "markdown",
   "metadata": {},
   "source": [
    "To avoid warnings of named columns"
   ]
  },
  {
   "cell_type": "code",
   "execution_count": 30,
   "metadata": {},
   "outputs": [],
   "source": [
    "train_target_ros = train_target_ros.to_numpy()\n",
    "test_target_ros = test_target_ros.to_numpy()"
   ]
  },
  {
   "cell_type": "markdown",
   "metadata": {},
   "source": [
    "### Final Data Check"
   ]
  },
  {
   "cell_type": "code",
   "execution_count": 31,
   "metadata": {},
   "outputs": [
    {
     "name": "stdout",
     "output_type": "stream",
     "text": [
      "(7918, 62)\n",
      "(5280, 62)\n",
      "(7918,)\n",
      "(5280,)\n"
     ]
    }
   ],
   "source": [
    "print(train_data_prep.shape)\n",
    "print(test_data_prep.shape)\n",
    "print(train_target.shape)\n",
    "print(test_target.shape)"
   ]
  },
  {
   "cell_type": "code",
   "execution_count": 32,
   "metadata": {},
   "outputs": [
    {
     "name": "stdout",
     "output_type": "stream",
     "text": [
      "(7918, 62)\n",
      "(5280, 62)\n",
      "(7918,)\n",
      "(5280,)\n"
     ]
    }
   ],
   "source": [
    "print(train_data_prep_ros.shape)\n",
    "print(test_data_prep_ros.shape)\n",
    "print(train_target_ros.shape)\n",
    "print(test_target_ros.shape)"
   ]
  },
  {
   "cell_type": "markdown",
   "metadata": {},
   "source": [
    "## 4. Model Creation"
   ]
  },
  {
   "cell_type": "markdown",
   "metadata": {},
   "source": [
    "### 4.1 SMOTE Data"
   ]
  },
  {
   "cell_type": "markdown",
   "metadata": {},
   "source": [
    "#### 4.1.1 ANN"
   ]
  },
  {
   "cell_type": "code",
   "execution_count": 33,
   "id": "79876629",
   "metadata": {},
   "outputs": [
    {
     "name": "stderr",
     "output_type": "stream",
     "text": [
      "[I 2023-12-11 14:22:53,764] A new study created in memory with name: no-name-2c5eed7e-092a-41fc-9ede-b654f45eff54\n",
      "[I 2023-12-11 14:22:58,919] Trial 0 finished with value: 0.8235294117647058 and parameters: {'n_layers': 2, 'n_units_0': 90, 'n_units_1': 25}. Best is trial 0 with value: 0.8235294117647058.\n",
      "[I 2023-12-11 14:23:07,738] Trial 1 finished with value: 0.7368421052631579 and parameters: {'n_layers': 4, 'n_units_0': 15, 'n_units_1': 55, 'n_units_2': 60, 'n_units_3': 58}. Best is trial 0 with value: 0.8235294117647058.\n",
      "[I 2023-12-11 14:23:16,227] Trial 2 finished with value: 0.771186440677966 and parameters: {'n_layers': 2, 'n_units_0': 25, 'n_units_1': 81}. Best is trial 0 with value: 0.8235294117647058.\n",
      "[I 2023-12-11 14:23:25,412] Trial 3 finished with value: 0.8088888888888888 and parameters: {'n_layers': 1, 'n_units_0': 94}. Best is trial 0 with value: 0.8235294117647058.\n",
      "[I 2023-12-11 14:23:30,725] Trial 4 finished with value: 0.8198198198198199 and parameters: {'n_layers': 4, 'n_units_0': 82, 'n_units_1': 51, 'n_units_2': 35, 'n_units_3': 50}. Best is trial 0 with value: 0.8235294117647058.\n",
      "[I 2023-12-11 14:23:35,539] Trial 5 finished with value: 0.8161434977578476 and parameters: {'n_layers': 4, 'n_units_0': 68, 'n_units_1': 41, 'n_units_2': 26, 'n_units_3': 96}. Best is trial 0 with value: 0.8235294117647058.\n",
      "[I 2023-12-11 14:23:39,598] Trial 6 finished with value: 0.8198198198198199 and parameters: {'n_layers': 3, 'n_units_0': 70, 'n_units_1': 56, 'n_units_2': 34}. Best is trial 0 with value: 0.8235294117647058.\n",
      "[I 2023-12-11 14:23:42,991] Trial 7 finished with value: 0.30399999999999994 and parameters: {'n_layers': 2, 'n_units_0': 1, 'n_units_1': 21}. Best is trial 0 with value: 0.8235294117647058.\n",
      "[I 2023-12-11 14:23:47,735] Trial 8 finished with value: 0.8088888888888888 and parameters: {'n_layers': 4, 'n_units_0': 48, 'n_units_1': 99, 'n_units_2': 88, 'n_units_3': 48}. Best is trial 0 with value: 0.8235294117647058.\n",
      "[I 2023-12-11 14:23:51,956] Trial 9 finished with value: 0.8125000000000001 and parameters: {'n_layers': 3, 'n_units_0': 67, 'n_units_1': 35, 'n_units_2': 67}. Best is trial 0 with value: 0.8235294117647058.\n",
      "[I 2023-12-11 14:23:59,270] Trial 10 finished with value: 0.8053097345132744 and parameters: {'n_layers': 1, 'n_units_0': 99}. Best is trial 0 with value: 0.8235294117647058.\n",
      "[I 2023-12-11 14:24:05,080] Trial 11 finished with value: 0.7894736842105264 and parameters: {'n_layers': 2, 'n_units_0': 89, 'n_units_1': 2}. Best is trial 0 with value: 0.8235294117647058.\n",
      "[I 2023-12-11 14:24:12,167] Trial 12 finished with value: 0.8161434977578476 and parameters: {'n_layers': 3, 'n_units_0': 80, 'n_units_1': 18, 'n_units_2': 3}. Best is trial 0 with value: 0.8235294117647058.\n",
      "[I 2023-12-11 14:24:17,507] Trial 13 finished with value: 0.7982456140350876 and parameters: {'n_layers': 2, 'n_units_0': 51, 'n_units_1': 69}. Best is trial 0 with value: 0.8235294117647058.\n",
      "[I 2023-12-11 14:24:20,931] Trial 14 finished with value: 0.801762114537445 and parameters: {'n_layers': 3, 'n_units_0': 82, 'n_units_1': 30, 'n_units_2': 34}. Best is trial 0 with value: 0.8235294117647058.\n",
      "[I 2023-12-11 14:24:29,386] Trial 15 finished with value: 0.794759825327511 and parameters: {'n_layers': 1, 'n_units_0': 50}. Best is trial 0 with value: 0.8235294117647058.\n",
      "[I 2023-12-11 14:24:32,989] Trial 16 finished with value: 0.771186440677966 and parameters: {'n_layers': 4, 'n_units_0': 80, 'n_units_1': 13, 'n_units_2': 3, 'n_units_3': 11}. Best is trial 0 with value: 0.8235294117647058.\n",
      "[I 2023-12-11 14:24:37,820] Trial 17 finished with value: 0.794759825327511 and parameters: {'n_layers': 3, 'n_units_0': 61, 'n_units_1': 49, 'n_units_2': 99}. Best is trial 0 with value: 0.8235294117647058.\n",
      "[I 2023-12-11 14:24:42,918] Trial 18 finished with value: 0.774468085106383 and parameters: {'n_layers': 2, 'n_units_0': 39, 'n_units_1': 70}. Best is trial 0 with value: 0.8235294117647058.\n",
      "[I 2023-12-11 14:24:49,935] Trial 19 finished with value: 0.8125000000000001 and parameters: {'n_layers': 1, 'n_units_0': 100}. Best is trial 0 with value: 0.8235294117647058.\n",
      "[I 2023-12-11 14:24:54,397] Trial 20 finished with value: 0.8053097345132744 and parameters: {'n_layers': 4, 'n_units_0': 87, 'n_units_1': 30, 'n_units_2': 47, 'n_units_3': 44}. Best is trial 0 with value: 0.8235294117647058.\n",
      "[I 2023-12-11 14:24:58,616] Trial 21 finished with value: 0.8125000000000001 and parameters: {'n_layers': 3, 'n_units_0': 72, 'n_units_1': 59, 'n_units_2': 26}. Best is trial 0 with value: 0.8235294117647058.\n",
      "[I 2023-12-11 14:25:02,768] Trial 22 finished with value: 0.8198198198198199 and parameters: {'n_layers': 3, 'n_units_0': 76, 'n_units_1': 50, 'n_units_2': 41}. Best is trial 0 with value: 0.8235294117647058.\n",
      "[I 2023-12-11 14:25:08,139] Trial 23 finished with value: 0.801762114537445 and parameters: {'n_layers': 2, 'n_units_0': 61, 'n_units_1': 67}. Best is trial 0 with value: 0.8235294117647058.\n",
      "[I 2023-12-11 14:25:12,603] Trial 24 finished with value: 0.8125000000000001 and parameters: {'n_layers': 4, 'n_units_0': 90, 'n_units_1': 40, 'n_units_2': 20, 'n_units_3': 80}. Best is trial 0 with value: 0.8235294117647058.\n",
      "[I 2023-12-11 14:25:17,212] Trial 25 finished with value: 0.8161434977578476 and parameters: {'n_layers': 3, 'n_units_0': 61, 'n_units_1': 88, 'n_units_2': 59}. Best is trial 0 with value: 0.8235294117647058.\n",
      "[I 2023-12-11 14:25:22,017] Trial 26 finished with value: 0.8198198198198199 and parameters: {'n_layers': 2, 'n_units_0': 84, 'n_units_1': 60}. Best is trial 0 with value: 0.8235294117647058.\n",
      "[I 2023-12-11 14:25:25,702] Trial 27 finished with value: 0.8125000000000001 and parameters: {'n_layers': 3, 'n_units_0': 73, 'n_units_1': 47, 'n_units_2': 17}. Best is trial 0 with value: 0.8235294117647058.\n",
      "[I 2023-12-11 14:25:29,986] Trial 28 finished with value: 0.8088888888888888 and parameters: {'n_layers': 4, 'n_units_0': 92, 'n_units_1': 75, 'n_units_2': 37, 'n_units_3': 15}. Best is trial 0 with value: 0.8235294117647058.\n",
      "[I 2023-12-11 14:25:35,682] Trial 29 finished with value: 0.6844106463878328 and parameters: {'n_layers': 4, 'n_units_0': 34, 'n_units_1': 2, 'n_units_2': 74, 'n_units_3': 30}. Best is trial 0 with value: 0.8235294117647058.\n",
      "[I 2023-12-11 14:25:40,350] Trial 30 finished with value: 0.794759825327511 and parameters: {'n_layers': 3, 'n_units_0': 57, 'n_units_1': 27, 'n_units_2': 51}. Best is trial 0 with value: 0.8235294117647058.\n",
      "[I 2023-12-11 14:25:44,444] Trial 31 finished with value: 0.801762114537445 and parameters: {'n_layers': 3, 'n_units_0': 75, 'n_units_1': 45, 'n_units_2': 41}. Best is trial 0 with value: 0.8235294117647058.\n",
      "[I 2023-12-11 14:25:49,268] Trial 32 finished with value: 0.794759825327511 and parameters: {'n_layers': 3, 'n_units_0': 76, 'n_units_1': 55, 'n_units_2': 47}. Best is trial 0 with value: 0.8235294117647058.\n",
      "[I 2023-12-11 14:25:53,967] Trial 33 finished with value: 0.8161434977578476 and parameters: {'n_layers': 2, 'n_units_0': 67, 'n_units_1': 62}. Best is trial 0 with value: 0.8235294117647058.\n",
      "[I 2023-12-11 14:25:59,333] Trial 34 finished with value: 0.801762114537445 and parameters: {'n_layers': 2, 'n_units_0': 83, 'n_units_1': 55}. Best is trial 0 with value: 0.8235294117647058.\n",
      "[I 2023-12-11 14:26:04,089] Trial 35 finished with value: 0.8088888888888888 and parameters: {'n_layers': 4, 'n_units_0': 96, 'n_units_1': 37, 'n_units_2': 30, 'n_units_3': 77}. Best is trial 0 with value: 0.8235294117647058.\n",
      "[I 2023-12-11 14:26:09,640] Trial 36 finished with value: 0.7844827586206896 and parameters: {'n_layers': 3, 'n_units_0': 14, 'n_units_1': 52, 'n_units_2': 14}. Best is trial 0 with value: 0.8235294117647058.\n",
      "[I 2023-12-11 14:26:14,581] Trial 37 finished with value: 0.8161434977578476 and parameters: {'n_layers': 4, 'n_units_0': 69, 'n_units_1': 79, 'n_units_2': 41, 'n_units_3': 65}. Best is trial 0 with value: 0.8235294117647058.\n",
      "[I 2023-12-11 14:26:22,540] Trial 38 finished with value: 0.8088888888888888 and parameters: {'n_layers': 1, 'n_units_0': 94}. Best is trial 0 with value: 0.8235294117647058.\n",
      "[I 2023-12-11 14:26:27,238] Trial 39 finished with value: 0.8125000000000001 and parameters: {'n_layers': 2, 'n_units_0': 76, 'n_units_1': 43}. Best is trial 0 with value: 0.8235294117647058.\n",
      "[I 2023-12-11 14:26:30,654] Trial 40 finished with value: 0.8053097345132744 and parameters: {'n_layers': 3, 'n_units_0': 87, 'n_units_1': 9, 'n_units_2': 54}. Best is trial 0 with value: 0.8235294117647058.\n",
      "[I 2023-12-11 14:26:35,370] Trial 41 finished with value: 0.801762114537445 and parameters: {'n_layers': 2, 'n_units_0': 84, 'n_units_1': 61}. Best is trial 0 with value: 0.8235294117647058.\n",
      "[I 2023-12-11 14:26:40,049] Trial 42 finished with value: 0.801762114537445 and parameters: {'n_layers': 2, 'n_units_0': 79, 'n_units_1': 63}. Best is trial 0 with value: 0.8235294117647058.\n",
      "[I 2023-12-11 14:26:44,450] Trial 43 finished with value: 0.801762114537445 and parameters: {'n_layers': 2, 'n_units_0': 85, 'n_units_1': 50}. Best is trial 0 with value: 0.8235294117647058.\n",
      "[I 2023-12-11 14:26:49,920] Trial 44 finished with value: 0.801762114537445 and parameters: {'n_layers': 2, 'n_units_0': 67, 'n_units_1': 91}. Best is trial 0 with value: 0.8235294117647058.\n",
      "[I 2023-12-11 14:26:54,385] Trial 45 finished with value: 0.8310502283105022 and parameters: {'n_layers': 2, 'n_units_0': 95, 'n_units_1': 58}. Best is trial 45 with value: 0.8310502283105022.\n",
      "[I 2023-12-11 14:27:01,644] Trial 46 finished with value: 0.791304347826087 and parameters: {'n_layers': 1, 'n_units_0': 96}. Best is trial 45 with value: 0.8310502283105022.\n",
      "[I 2023-12-11 14:27:05,726] Trial 47 finished with value: 0.7679324894514769 and parameters: {'n_layers': 3, 'n_units_0': 91, 'n_units_1': 34, 'n_units_2': 40}. Best is trial 45 with value: 0.8310502283105022.\n",
      "[I 2023-12-11 14:27:10,124] Trial 48 finished with value: 0.8235294117647058 and parameters: {'n_layers': 2, 'n_units_0': 100, 'n_units_1': 74}. Best is trial 45 with value: 0.8310502283105022.\n",
      "[I 2023-12-11 14:27:14,855] Trial 49 finished with value: 0.8088888888888888 and parameters: {'n_layers': 2, 'n_units_0': 98, 'n_units_1': 71}. Best is trial 45 with value: 0.8310502283105022.\n",
      "[I 2023-12-11 14:27:19,323] Trial 50 finished with value: 0.8235294117647058 and parameters: {'n_layers': 2, 'n_units_0': 99, 'n_units_1': 85}. Best is trial 45 with value: 0.8310502283105022.\n",
      "[I 2023-12-11 14:27:23,839] Trial 51 finished with value: 0.8198198198198199 and parameters: {'n_layers': 2, 'n_units_0': 100, 'n_units_1': 98}. Best is trial 45 with value: 0.8310502283105022.\n",
      "[I 2023-12-11 14:27:28,581] Trial 52 finished with value: 0.7982456140350876 and parameters: {'n_layers': 2, 'n_units_0': 94, 'n_units_1': 84}. Best is trial 45 with value: 0.8310502283105022.\n",
      "[I 2023-12-11 14:27:33,701] Trial 53 finished with value: 0.8161434977578476 and parameters: {'n_layers': 2, 'n_units_0': 89, 'n_units_1': 76}. Best is trial 45 with value: 0.8310502283105022.\n",
      "[I 2023-12-11 14:27:38,077] Trial 54 finished with value: 0.8088888888888888 and parameters: {'n_layers': 2, 'n_units_0': 100, 'n_units_1': 66}. Best is trial 45 with value: 0.8310502283105022.\n",
      "[I 2023-12-11 14:27:45,848] Trial 55 finished with value: 0.8125000000000001 and parameters: {'n_layers': 1, 'n_units_0': 92}. Best is trial 45 with value: 0.8310502283105022.\n",
      "[I 2023-12-11 14:27:50,689] Trial 56 finished with value: 0.8088888888888888 and parameters: {'n_layers': 2, 'n_units_0': 88, 'n_units_1': 82}. Best is trial 45 with value: 0.8310502283105022.\n",
      "[I 2023-12-11 14:27:55,334] Trial 57 finished with value: 0.8161434977578476 and parameters: {'n_layers': 2, 'n_units_0': 96, 'n_units_1': 92}. Best is trial 45 with value: 0.8310502283105022.\n",
      "[I 2023-12-11 14:28:02,490] Trial 58 finished with value: 0.8198198198198199 and parameters: {'n_layers': 1, 'n_units_0': 43}. Best is trial 45 with value: 0.8310502283105022.\n",
      "[I 2023-12-11 14:28:07,170] Trial 59 finished with value: 0.8310502283105022 and parameters: {'n_layers': 2, 'n_units_0': 79, 'n_units_1': 23}. Best is trial 45 with value: 0.8310502283105022.\n",
      "[I 2023-12-11 14:28:11,746] Trial 60 finished with value: 0.8235294117647058 and parameters: {'n_layers': 2, 'n_units_0': 80, 'n_units_1': 26}. Best is trial 45 with value: 0.8310502283105022.\n",
      "[I 2023-12-11 14:28:15,874] Trial 61 finished with value: 0.8272727272727274 and parameters: {'n_layers': 2, 'n_units_0': 80, 'n_units_1': 23}. Best is trial 45 with value: 0.8310502283105022.\n",
      "[I 2023-12-11 14:28:20,337] Trial 62 finished with value: 0.8272727272727274 and parameters: {'n_layers': 2, 'n_units_0': 94, 'n_units_1': 19}. Best is trial 45 with value: 0.8310502283105022.\n",
      "[I 2023-12-11 14:28:24,475] Trial 63 finished with value: 0.794759825327511 and parameters: {'n_layers': 2, 'n_units_0': 93, 'n_units_1': 21}. Best is trial 45 with value: 0.8310502283105022.\n",
      "[I 2023-12-11 14:28:29,083] Trial 64 finished with value: 0.8125000000000001 and parameters: {'n_layers': 2, 'n_units_0': 97, 'n_units_1': 16}. Best is trial 45 with value: 0.8310502283105022.\n",
      "[I 2023-12-11 14:28:33,010] Trial 65 finished with value: 0.801762114537445 and parameters: {'n_layers': 2, 'n_units_0': 86, 'n_units_1': 7}. Best is trial 45 with value: 0.8310502283105022.\n",
      "[I 2023-12-11 14:28:37,335] Trial 66 finished with value: 0.8053097345132744 and parameters: {'n_layers': 2, 'n_units_0': 89, 'n_units_1': 24}. Best is trial 45 with value: 0.8310502283105022.\n",
      "[I 2023-12-11 14:28:41,787] Trial 67 finished with value: 0.7982456140350876 and parameters: {'n_layers': 2, 'n_units_0': 81, 'n_units_1': 18}. Best is trial 45 with value: 0.8310502283105022.\n",
      "[I 2023-12-11 14:28:45,562] Trial 68 finished with value: 0.8310502283105022 and parameters: {'n_layers': 2, 'n_units_0': 91, 'n_units_1': 13}. Best is trial 45 with value: 0.8310502283105022.\n",
      "[I 2023-12-11 14:28:49,339] Trial 69 finished with value: 0.8125000000000001 and parameters: {'n_layers': 2, 'n_units_0': 90, 'n_units_1': 13}. Best is trial 45 with value: 0.8310502283105022.\n",
      "[I 2023-12-11 14:28:53,439] Trial 70 finished with value: 0.801762114537445 and parameters: {'n_layers': 2, 'n_units_0': 95, 'n_units_1': 31}. Best is trial 45 with value: 0.8310502283105022.\n",
      "[I 2023-12-11 14:28:58,001] Trial 71 finished with value: 0.8235294117647058 and parameters: {'n_layers': 2, 'n_units_0': 100, 'n_units_1': 22}. Best is trial 45 with value: 0.8310502283105022.\n",
      "[I 2023-12-11 14:29:01,750] Trial 72 finished with value: 0.8272727272727274 and parameters: {'n_layers': 2, 'n_units_0': 93, 'n_units_1': 13}. Best is trial 45 with value: 0.8310502283105022.\n",
      "[I 2023-12-11 14:29:05,854] Trial 73 finished with value: 0.794759825327511 and parameters: {'n_layers': 2, 'n_units_0': 92, 'n_units_1': 7}. Best is trial 45 with value: 0.8310502283105022.\n",
      "[I 2023-12-11 14:29:09,681] Trial 74 finished with value: 0.801762114537445 and parameters: {'n_layers': 2, 'n_units_0': 86, 'n_units_1': 12}. Best is trial 45 with value: 0.8310502283105022.\n",
      "[I 2023-12-11 14:29:15,098] Trial 75 finished with value: 0.8235294117647058 and parameters: {'n_layers': 2, 'n_units_0': 72, 'n_units_1': 19}. Best is trial 45 with value: 0.8310502283105022.\n",
      "[I 2023-12-11 14:29:20,003] Trial 76 finished with value: 0.794759825327511 and parameters: {'n_layers': 2, 'n_units_0': 28, 'n_units_1': 15}. Best is trial 45 with value: 0.8310502283105022.\n",
      "[I 2023-12-11 14:29:24,556] Trial 77 finished with value: 0.801762114537445 and parameters: {'n_layers': 2, 'n_units_0': 84, 'n_units_1': 27}. Best is trial 45 with value: 0.8310502283105022.\n",
      "[I 2023-12-11 14:29:28,493] Trial 78 finished with value: 0.791304347826087 and parameters: {'n_layers': 2, 'n_units_0': 78, 'n_units_1': 11}. Best is trial 45 with value: 0.8310502283105022.\n",
      "[I 2023-12-11 14:29:32,547] Trial 79 finished with value: 0.2851919561243144 and parameters: {'n_layers': 2, 'n_units_0': 2, 'n_units_1': 4}. Best is trial 45 with value: 0.8310502283105022.\n",
      "[I 2023-12-11 14:29:39,795] Trial 80 finished with value: 0.8088888888888888 and parameters: {'n_layers': 1, 'n_units_0': 93}. Best is trial 45 with value: 0.8310502283105022.\n",
      "[I 2023-12-11 14:29:44,407] Trial 81 finished with value: 0.8125000000000001 and parameters: {'n_layers': 2, 'n_units_0': 97, 'n_units_1': 16}. Best is trial 45 with value: 0.8310502283105022.\n",
      "[I 2023-12-11 14:29:48,899] Trial 82 finished with value: 0.8198198198198199 and parameters: {'n_layers': 2, 'n_units_0': 97, 'n_units_1': 23}. Best is trial 45 with value: 0.8310502283105022.\n",
      "[I 2023-12-11 14:29:53,341] Trial 83 finished with value: 0.8053097345132744 and parameters: {'n_layers': 2, 'n_units_0': 90, 'n_units_1': 19}. Best is trial 45 with value: 0.8310502283105022.\n",
      "[I 2023-12-11 14:29:57,688] Trial 84 finished with value: 0.8125000000000001 and parameters: {'n_layers': 2, 'n_units_0': 64, 'n_units_1': 32}. Best is trial 45 with value: 0.8310502283105022.\n",
      "[I 2023-12-11 14:30:02,166] Trial 85 finished with value: 0.794759825327511 and parameters: {'n_layers': 2, 'n_units_0': 94, 'n_units_1': 74}. Best is trial 45 with value: 0.8310502283105022.\n",
      "[I 2023-12-11 14:30:06,455] Trial 86 finished with value: 0.801762114537445 and parameters: {'n_layers': 2, 'n_units_0': 88, 'n_units_1': 38}. Best is trial 45 with value: 0.8310502283105022.\n",
      "[I 2023-12-11 14:30:10,891] Trial 87 finished with value: 0.8198198198198199 and parameters: {'n_layers': 2, 'n_units_0': 82, 'n_units_1': 28}. Best is trial 45 with value: 0.8310502283105022.\n",
      "[I 2023-12-11 14:30:15,870] Trial 88 finished with value: 0.801762114537445 and parameters: {'n_layers': 2, 'n_units_0': 98, 'n_units_1': 86}. Best is trial 45 with value: 0.8310502283105022.\n",
      "[I 2023-12-11 14:30:20,176] Trial 89 finished with value: 0.8088888888888888 and parameters: {'n_layers': 2, 'n_units_0': 100, 'n_units_1': 24}. Best is trial 45 with value: 0.8310502283105022.\n",
      "[I 2023-12-11 14:30:24,625] Trial 90 finished with value: 0.8198198198198199 and parameters: {'n_layers': 2, 'n_units_0': 95, 'n_units_1': 79}. Best is trial 45 with value: 0.8310502283105022.\n",
      "[I 2023-12-11 14:30:28,938] Trial 91 finished with value: 0.7844827586206896 and parameters: {'n_layers': 2, 'n_units_0': 78, 'n_units_1': 25}. Best is trial 45 with value: 0.8310502283105022.\n",
      "[I 2023-12-11 14:30:33,492] Trial 92 finished with value: 0.787878787878788 and parameters: {'n_layers': 2, 'n_units_0': 91, 'n_units_1': 28}. Best is trial 45 with value: 0.8310502283105022.\n",
      "[I 2023-12-11 14:30:37,228] Trial 93 finished with value: 0.8053097345132744 and parameters: {'n_layers': 2, 'n_units_0': 81, 'n_units_1': 10}. Best is trial 45 with value: 0.8310502283105022.\n",
      "[I 2023-12-11 14:30:40,934] Trial 94 finished with value: 0.8235294117647058 and parameters: {'n_layers': 2, 'n_units_0': 74, 'n_units_1': 14}. Best is trial 45 with value: 0.8310502283105022.\n",
      "[I 2023-12-11 14:30:45,605] Trial 95 finished with value: 0.801762114537445 and parameters: {'n_layers': 2, 'n_units_0': 86, 'n_units_1': 58}. Best is trial 45 with value: 0.8310502283105022.\n",
      "[I 2023-12-11 14:30:49,976] Trial 96 finished with value: 0.794759825327511 and parameters: {'n_layers': 2, 'n_units_0': 98, 'n_units_1': 20}. Best is trial 45 with value: 0.8310502283105022.\n",
      "[I 2023-12-11 14:30:54,183] Trial 97 finished with value: 0.8125000000000001 and parameters: {'n_layers': 2, 'n_units_0': 83, 'n_units_1': 5}. Best is trial 45 with value: 0.8310502283105022.\n",
      "[I 2023-12-11 14:30:59,182] Trial 98 finished with value: 0.801762114537445 and parameters: {'n_layers': 2, 'n_units_0': 70, 'n_units_1': 96}. Best is trial 45 with value: 0.8310502283105022.\n",
      "[I 2023-12-11 14:31:03,737] Trial 99 finished with value: 0.7982456140350876 and parameters: {'n_layers': 2, 'n_units_0': 91, 'n_units_1': 33}. Best is trial 45 with value: 0.8310502283105022.\n"
     ]
    }
   ],
   "source": [
    "import optuna\n",
    "\n",
    "def objective(trial):\n",
    "\n",
    "    # Params\n",
    "    n_layers = trial.suggest_int('n_layers', 1, 4)\n",
    "    layers = []\n",
    "    for i in range(n_layers):\n",
    "        layers.append(trial.suggest_int(f'n_units_{i}', 1, 100))\n",
    "        \n",
    "    # Create Trial Model\n",
    "    mlpc_trial = MLPClassifier(hidden_layer_sizes=tuple(layers), max_iter=1000, random_state=1)\n",
    "    mlpc_trial.fit(train_data_prep, train_target)\n",
    "\n",
    "    # Predict by un-oversampled test data\n",
    "    prediction = mlpc_trial.predict(test_data_u)\n",
    "    return f1_score(test_target_u, prediction)\n",
    "\n",
    "study = optuna.create_study(direction='maximize')\n",
    "study.optimize(objective, n_trials=100)"
   ]
  },
  {
   "cell_type": "code",
   "execution_count": 34,
   "id": "22346e3a",
   "metadata": {},
   "outputs": [
    {
     "name": "stdout",
     "output_type": "stream",
     "text": [
      "Best trial:\n",
      "  Value: 0.8310502283105022\n",
      "  Params: \n",
      "    n_layers: 2\n",
      "    n_units_0: 95\n",
      "    n_units_1: 58\n"
     ]
    }
   ],
   "source": [
    "print(\"Best trial:\")\n",
    "trial = study.best_trial\n",
    "\n",
    "print(\"  Value: {}\".format(trial.value))\n",
    "\n",
    "print(\"  Params: \")\n",
    "for key, value in trial.params.items():\n",
    "    print(\"    {}: {}\".format(key, value))"
   ]
  },
  {
   "cell_type": "code",
   "execution_count": 38,
   "metadata": {},
   "outputs": [
    {
     "name": "stdout",
     "output_type": "stream",
     "text": [
      "Model Performance: f1 = 0.98, accuracy 98.35 %\n"
     ]
    }
   ],
   "source": [
    "ann = MLPClassifier(hidden_layer_sizes=(95, 58), max_iter=10000, random_state=1)\n",
    "ann.fit(train_data_prep, train_target)\n",
    "prediction = ann.predict(test_data_prep)\n",
    "acc = 100 * accuracy_score(test_target, prediction)\n",
    "f1 = f1_score(test_target, prediction)\n",
    "print(\"Model Performance: f1 = %.2f, accuracy %.2f %%\" % (f1, acc))"
   ]
  },
  {
   "cell_type": "code",
   "execution_count": 39,
   "id": "d377b19d",
   "metadata": {},
   "outputs": [
    {
     "name": "stdout",
     "output_type": "stream",
     "text": [
      "Accuracy of the Model: 98.6437 %\n",
      "F1 Score of the Model: 0.8310502283105022\n",
      "              precision    recall  f1-score   support\n",
      "\n",
      "           0       1.00      0.99      0.99      2637\n",
      "           1       0.71      1.00      0.83        91\n",
      "\n",
      "    accuracy                           0.99      2728\n",
      "   macro avg       0.86      0.99      0.91      2728\n",
      "weighted avg       0.99      0.99      0.99      2728\n",
      "\n"
     ]
    },
    {
     "data": {
      "text/plain": [
       "<sklearn.metrics._plot.confusion_matrix.ConfusionMatrixDisplay at 0x249d160dcd0>"
      ]
     },
     "execution_count": 39,
     "metadata": {},
     "output_type": "execute_result"
    },
    {
     "data": {
      "image/png": "[encoded data removed]",
      "text/plain": [
       "<Figure size 432x288 with 2 Axes>"
      ]
     },
     "metadata": {
      "needs_background": "light"
     },
     "output_type": "display_data"
    }
   ],
   "source": [
    "prediction = ann.predict(test_data_u)\n",
    "acc = 100 * accuracy_score(test_target_u, prediction)\n",
    "\n",
    "print(\"Accuracy of the Model: %g %%\" %acc)\n",
    "f1 = f1_score(test_target_u, prediction)\n",
    "print(\"F1 Score of the Model:\", f1)\n",
    "print(classification_report(test_target_u, prediction))\n",
    "ConfusionMatrixDisplay.from_predictions(test_target_u, prediction)"
   ]
  },
  {
   "cell_type": "markdown",
   "metadata": {},
   "source": [
    "#### 4.1.2 Logistic Regression"
   ]
  },
  {
   "cell_type": "code",
   "execution_count": 42,
   "id": "6f7e9267",
   "metadata": {},
   "outputs": [
    {
     "name": "stderr",
     "output_type": "stream",
     "text": [
      "[I 2023-12-11 14:43:45,838] A new study created in memory with name: no-name-9abaa516-2f2f-4a25-8182-9dac0956c4d0\n",
      "[I 2023-12-11 14:43:46,127] Trial 0 finished with value: 0.32083333333333336 and parameters: {'penalty': 'l2', 'logistic-regularization': 0.38541047181464066}. Best is trial 0 with value: 0.32083333333333336.\n",
      "[I 2023-12-11 14:43:46,476] Trial 1 finished with value: 0.3283582089552239 and parameters: {'penalty': 'l2', 'logistic-regularization': 1.8800287943327096}. Best is trial 1 with value: 0.3283582089552239.\n",
      "[I 2023-12-11 14:44:10,415] Trial 2 finished with value: 0.31712473572938693 and parameters: {'penalty': 'l1', 'logistic-regularization': 3.077837299516144}. Best is trial 1 with value: 0.3283582089552239.\n",
      "[I 2023-12-11 14:44:10,768] Trial 3 finished with value: 0.32905982905982906 and parameters: {'penalty': 'l2', 'logistic-regularization': 4.755237189714238}. Best is trial 3 with value: 0.32905982905982906.\n",
      "[I 2023-12-11 14:44:35,151] Trial 4 finished with value: 0.31712473572938693 and parameters: {'penalty': 'l1', 'logistic-regularization': 8.37348062049218}. Best is trial 3 with value: 0.32905982905982906.\n",
      "[I 2023-12-11 14:44:59,448] Trial 5 finished with value: 0.31712473572938693 and parameters: {'penalty': 'l1', 'logistic-regularization': 7.113730378241826}. Best is trial 3 with value: 0.32905982905982906.\n",
      "[I 2023-12-11 14:45:23,031] Trial 6 finished with value: 0.31712473572938693 and parameters: {'penalty': 'l1', 'logistic-regularization': 2.6228783622229592}. Best is trial 3 with value: 0.32905982905982906.\n",
      "[I 2023-12-11 14:45:23,348] Trial 7 finished with value: 0.32905982905982906 and parameters: {'penalty': 'l2', 'logistic-regularization': 2.804725003343371}. Best is trial 3 with value: 0.32905982905982906.\n",
      "[I 2023-12-11 14:45:47,454] Trial 8 finished with value: 0.31712473572938693 and parameters: {'penalty': 'l1', 'logistic-regularization': 5.081225502211467}. Best is trial 3 with value: 0.32905982905982906.\n",
      "[I 2023-12-11 14:45:47,840] Trial 9 finished with value: 0.32905982905982906 and parameters: {'penalty': 'l2', 'logistic-regularization': 6.747574044335718}. Best is trial 3 with value: 0.32905982905982906.\n",
      "[I 2023-12-11 14:45:48,268] Trial 10 finished with value: 0.33047210300429186 and parameters: {'penalty': 'l2', 'logistic-regularization': 9.218409771074192}. Best is trial 10 with value: 0.33047210300429186.\n",
      "[I 2023-12-11 14:45:48,735] Trial 11 finished with value: 0.33047210300429186 and parameters: {'penalty': 'l2', 'logistic-regularization': 9.26526440117377}. Best is trial 10 with value: 0.33047210300429186.\n",
      "[I 2023-12-11 14:45:49,204] Trial 12 finished with value: 0.3297644539614561 and parameters: {'penalty': 'l2', 'logistic-regularization': 9.846306217846323}. Best is trial 10 with value: 0.33047210300429186.\n",
      "[I 2023-12-11 14:45:49,628] Trial 13 finished with value: 0.33047210300429186 and parameters: {'penalty': 'l2', 'logistic-regularization': 9.624598183349383}. Best is trial 10 with value: 0.33047210300429186.\n",
      "[I 2023-12-11 14:45:50,073] Trial 14 finished with value: 0.3297644539614561 and parameters: {'penalty': 'l2', 'logistic-regularization': 8.667518438885729}. Best is trial 10 with value: 0.33047210300429186.\n",
      "[I 2023-12-11 14:45:50,485] Trial 15 finished with value: 0.3297644539614561 and parameters: {'penalty': 'l2', 'logistic-regularization': 8.001597411342118}. Best is trial 10 with value: 0.33047210300429186.\n",
      "[I 2023-12-11 14:45:50,941] Trial 16 finished with value: 0.3297644539614561 and parameters: {'penalty': 'l2', 'logistic-regularization': 9.989901280910978}. Best is trial 10 with value: 0.33047210300429186.\n",
      "[I 2023-12-11 14:45:51,337] Trial 17 finished with value: 0.32905982905982906 and parameters: {'penalty': 'l2', 'logistic-regularization': 7.06637261420324}. Best is trial 10 with value: 0.33047210300429186.\n",
      "[I 2023-12-11 14:45:51,792] Trial 18 finished with value: 0.33047210300429186 and parameters: {'penalty': 'l2', 'logistic-regularization': 9.006905831765248}. Best is trial 10 with value: 0.33047210300429186.\n",
      "[I 2023-12-11 14:45:52,219] Trial 19 finished with value: 0.3297644539614561 and parameters: {'penalty': 'l2', 'logistic-regularization': 7.954881791173175}. Best is trial 10 with value: 0.33047210300429186.\n",
      "[I 2023-12-11 14:45:52,637] Trial 20 finished with value: 0.33047210300429186 and parameters: {'penalty': 'l2', 'logistic-regularization': 9.126138330531852}. Best is trial 10 with value: 0.33047210300429186.\n",
      "[I 2023-12-11 14:45:53,077] Trial 21 finished with value: 0.3297644539614561 and parameters: {'penalty': 'l2', 'logistic-regularization': 9.992241714570687}. Best is trial 10 with value: 0.33047210300429186.\n",
      "[I 2023-12-11 14:45:53,535] Trial 22 finished with value: 0.33047210300429186 and parameters: {'penalty': 'l2', 'logistic-regularization': 9.313549450786903}. Best is trial 10 with value: 0.33047210300429186.\n",
      "[I 2023-12-11 14:45:53,943] Trial 23 finished with value: 0.3297644539614561 and parameters: {'penalty': 'l2', 'logistic-regularization': 8.233115663603796}. Best is trial 10 with value: 0.33047210300429186.\n",
      "[I 2023-12-11 14:45:54,354] Trial 24 finished with value: 0.33047210300429186 and parameters: {'penalty': 'l2', 'logistic-regularization': 9.191907875909566}. Best is trial 10 with value: 0.33047210300429186.\n",
      "[I 2023-12-11 14:45:54,791] Trial 25 finished with value: 0.3297644539614561 and parameters: {'penalty': 'l2', 'logistic-regularization': 7.552270512633261}. Best is trial 10 with value: 0.33047210300429186.\n",
      "[I 2023-12-11 14:46:19,198] Trial 26 finished with value: 0.31712473572938693 and parameters: {'penalty': 'l1', 'logistic-regularization': 8.709914202695883}. Best is trial 10 with value: 0.33047210300429186.\n",
      "[I 2023-12-11 14:46:19,612] Trial 27 finished with value: 0.32905982905982906 and parameters: {'penalty': 'l2', 'logistic-regularization': 6.343594172938451}. Best is trial 10 with value: 0.33047210300429186.\n",
      "[I 2023-12-11 14:46:20,039] Trial 28 finished with value: 0.33047210300429186 and parameters: {'penalty': 'l2', 'logistic-regularization': 9.45938030553668}. Best is trial 10 with value: 0.33047210300429186.\n",
      "[I 2023-12-11 14:46:20,459] Trial 29 finished with value: 0.3297644539614561 and parameters: {'penalty': 'l2', 'logistic-regularization': 7.764741671805197}. Best is trial 10 with value: 0.33047210300429186.\n",
      "[I 2023-12-11 14:46:20,841] Trial 30 finished with value: 0.33047210300429186 and parameters: {'penalty': 'l2', 'logistic-regularization': 8.792111740462502}. Best is trial 10 with value: 0.33047210300429186.\n",
      "[I 2023-12-11 14:46:21,251] Trial 31 finished with value: 0.33047210300429186 and parameters: {'penalty': 'l2', 'logistic-regularization': 9.236372178991136}. Best is trial 10 with value: 0.33047210300429186.\n",
      "[I 2023-12-11 14:46:21,691] Trial 32 finished with value: 0.3297644539614561 and parameters: {'penalty': 'l2', 'logistic-regularization': 8.610505824297023}. Best is trial 10 with value: 0.33047210300429186.\n",
      "[I 2023-12-11 14:46:22,132] Trial 33 finished with value: 0.33047210300429186 and parameters: {'penalty': 'l2', 'logistic-regularization': 9.55540393196458}. Best is trial 10 with value: 0.33047210300429186.\n",
      "[I 2023-12-11 14:46:22,540] Trial 34 finished with value: 0.33047210300429186 and parameters: {'penalty': 'l2', 'logistic-regularization': 8.955125779112672}. Best is trial 10 with value: 0.33047210300429186.\n",
      "[I 2023-12-11 14:46:22,958] Trial 35 finished with value: 0.32905982905982906 and parameters: {'penalty': 'l2', 'logistic-regularization': 9.991797735612924}. Best is trial 10 with value: 0.33047210300429186.\n",
      "[I 2023-12-11 14:46:47,266] Trial 36 finished with value: 0.31712473572938693 and parameters: {'penalty': 'l1', 'logistic-regularization': 8.360773802729758}. Best is trial 10 with value: 0.33047210300429186.\n",
      "[I 2023-12-11 14:46:47,655] Trial 37 finished with value: 0.3297644539614561 and parameters: {'penalty': 'l2', 'logistic-regularization': 7.50291939433583}. Best is trial 10 with value: 0.33047210300429186.\n",
      "[I 2023-12-11 14:47:12,065] Trial 38 finished with value: 0.31712473572938693 and parameters: {'penalty': 'l1', 'logistic-regularization': 9.431577148363775}. Best is trial 10 with value: 0.33047210300429186.\n",
      "[I 2023-12-11 14:47:12,507] Trial 39 finished with value: 0.3297644539614561 and parameters: {'penalty': 'l2', 'logistic-regularization': 8.607697228132762}. Best is trial 10 with value: 0.33047210300429186.\n",
      "[I 2023-12-11 14:47:36,853] Trial 40 finished with value: 0.31712473572938693 and parameters: {'penalty': 'l1', 'logistic-regularization': 5.9782270898676995}. Best is trial 10 with value: 0.33047210300429186.\n",
      "[I 2023-12-11 14:47:37,384] Trial 41 finished with value: 0.33047210300429186 and parameters: {'penalty': 'l2', 'logistic-regularization': 9.165188765527716}. Best is trial 10 with value: 0.33047210300429186.\n",
      "[I 2023-12-11 14:47:37,793] Trial 42 finished with value: 0.3297644539614561 and parameters: {'penalty': 'l2', 'logistic-regularization': 8.28544877633688}. Best is trial 10 with value: 0.33047210300429186.\n",
      "[I 2023-12-11 14:47:38,231] Trial 43 finished with value: 0.3297644539614561 and parameters: {'penalty': 'l2', 'logistic-regularization': 8.91058959172449}. Best is trial 10 with value: 0.33047210300429186.\n",
      "[I 2023-12-11 14:47:38,652] Trial 44 finished with value: 0.33047210300429186 and parameters: {'penalty': 'l2', 'logistic-regularization': 9.596974424456084}. Best is trial 10 with value: 0.33047210300429186.\n",
      "[I 2023-12-11 14:47:39,047] Trial 45 finished with value: 0.3297644539614561 and parameters: {'penalty': 'l2', 'logistic-regularization': 8.03296566629281}. Best is trial 10 with value: 0.33047210300429186.\n",
      "[I 2023-12-11 14:47:39,504] Trial 46 finished with value: 0.33047210300429186 and parameters: {'penalty': 'l2', 'logistic-regularization': 9.645749418811928}. Best is trial 10 with value: 0.33047210300429186.\n",
      "[I 2023-12-11 14:47:39,931] Trial 47 finished with value: 0.33047210300429186 and parameters: {'penalty': 'l2', 'logistic-regularization': 9.025082526204983}. Best is trial 10 with value: 0.33047210300429186.\n",
      "[I 2023-12-11 14:48:04,468] Trial 48 finished with value: 0.31712473572938693 and parameters: {'penalty': 'l1', 'logistic-regularization': 7.465960857884713}. Best is trial 10 with value: 0.33047210300429186.\n",
      "[I 2023-12-11 14:48:04,906] Trial 49 finished with value: 0.3297644539614561 and parameters: {'penalty': 'l2', 'logistic-regularization': 8.28552731577882}. Best is trial 10 with value: 0.33047210300429186.\n",
      "[I 2023-12-11 14:48:05,332] Trial 50 finished with value: 0.3297644539614561 and parameters: {'penalty': 'l2', 'logistic-regularization': 9.703943836930367}. Best is trial 10 with value: 0.33047210300429186.\n",
      "[I 2023-12-11 14:48:05,775] Trial 51 finished with value: 0.33047210300429186 and parameters: {'penalty': 'l2', 'logistic-regularization': 9.373961990812653}. Best is trial 10 with value: 0.33047210300429186.\n",
      "[I 2023-12-11 14:48:06,197] Trial 52 finished with value: 0.33047210300429186 and parameters: {'penalty': 'l2', 'logistic-regularization': 8.967179699536693}. Best is trial 10 with value: 0.33047210300429186.\n",
      "[I 2023-12-11 14:48:06,629] Trial 53 finished with value: 0.3297644539614561 and parameters: {'penalty': 'l2', 'logistic-regularization': 8.548851955945425}. Best is trial 10 with value: 0.33047210300429186.\n",
      "[I 2023-12-11 14:48:07,066] Trial 54 finished with value: 0.32905982905982906 and parameters: {'penalty': 'l2', 'logistic-regularization': 9.976065655787187}. Best is trial 10 with value: 0.33047210300429186.\n",
      "[I 2023-12-11 14:48:07,506] Trial 55 finished with value: 0.33047210300429186 and parameters: {'penalty': 'l2', 'logistic-regularization': 9.32573527581044}. Best is trial 10 with value: 0.33047210300429186.\n",
      "[I 2023-12-11 14:48:07,927] Trial 56 finished with value: 0.3297644539614561 and parameters: {'penalty': 'l2', 'logistic-regularization': 8.07135715288566}. Best is trial 10 with value: 0.33047210300429186.\n",
      "[I 2023-12-11 14:48:08,364] Trial 57 finished with value: 0.33047210300429186 and parameters: {'penalty': 'l2', 'logistic-regularization': 9.03815322598526}. Best is trial 10 with value: 0.33047210300429186.\n",
      "[I 2023-12-11 14:48:08,786] Trial 58 finished with value: 0.3297644539614561 and parameters: {'penalty': 'l2', 'logistic-regularization': 7.7816444788312955}. Best is trial 10 with value: 0.33047210300429186.\n",
      "[I 2023-12-11 14:48:09,234] Trial 59 finished with value: 0.33047210300429186 and parameters: {'penalty': 'l2', 'logistic-regularization': 9.718566446207847}. Best is trial 10 with value: 0.33047210300429186.\n",
      "[I 2023-12-11 14:48:33,647] Trial 60 finished with value: 0.31712473572938693 and parameters: {'penalty': 'l1', 'logistic-regularization': 8.552791588528997}. Best is trial 10 with value: 0.33047210300429186.\n",
      "[I 2023-12-11 14:48:34,107] Trial 61 finished with value: 0.33047210300429186 and parameters: {'penalty': 'l2', 'logistic-regularization': 9.364364408197128}. Best is trial 10 with value: 0.33047210300429186.\n",
      "[I 2023-12-11 14:48:34,568] Trial 62 finished with value: 0.33047210300429186 and parameters: {'penalty': 'l2', 'logistic-regularization': 9.168314054382408}. Best is trial 10 with value: 0.33047210300429186.\n",
      "[I 2023-12-11 14:48:34,986] Trial 63 finished with value: 0.3297644539614561 and parameters: {'penalty': 'l2', 'logistic-regularization': 8.6810669242751}. Best is trial 10 with value: 0.33047210300429186.\n",
      "[I 2023-12-11 14:48:35,428] Trial 64 finished with value: 0.33047210300429186 and parameters: {'penalty': 'l2', 'logistic-regularization': 9.62949199838178}. Best is trial 10 with value: 0.33047210300429186.\n",
      "[I 2023-12-11 14:48:35,867] Trial 65 finished with value: 0.33047210300429186 and parameters: {'penalty': 'l2', 'logistic-regularization': 9.180548096245573}. Best is trial 10 with value: 0.33047210300429186.\n",
      "[I 2023-12-11 14:48:36,247] Trial 66 finished with value: 0.33047210300429186 and parameters: {'penalty': 'l2', 'logistic-regularization': 8.827843879569913}. Best is trial 10 with value: 0.33047210300429186.\n",
      "[I 2023-12-11 14:48:36,723] Trial 67 finished with value: 0.32905982905982906 and parameters: {'penalty': 'l2', 'logistic-regularization': 9.96732708934333}. Best is trial 10 with value: 0.33047210300429186.\n",
      "[I 2023-12-11 14:48:37,144] Trial 68 finished with value: 0.3297644539614561 and parameters: {'penalty': 'l2', 'logistic-regularization': 8.328053527024316}. Best is trial 10 with value: 0.33047210300429186.\n",
      "[I 2023-12-11 14:48:37,592] Trial 69 finished with value: 0.33047210300429186 and parameters: {'penalty': 'l2', 'logistic-regularization': 9.354975234747915}. Best is trial 10 with value: 0.33047210300429186.\n",
      "[I 2023-12-11 14:49:02,076] Trial 70 finished with value: 0.31712473572938693 and parameters: {'penalty': 'l1', 'logistic-regularization': 8.807138128909276}. Best is trial 10 with value: 0.33047210300429186.\n",
      "[I 2023-12-11 14:49:02,519] Trial 71 finished with value: 0.33047210300429186 and parameters: {'penalty': 'l2', 'logistic-regularization': 9.548673526770441}. Best is trial 10 with value: 0.33047210300429186.\n",
      "[I 2023-12-11 14:49:02,974] Trial 72 finished with value: 0.33047210300429186 and parameters: {'penalty': 'l2', 'logistic-regularization': 9.161659629482756}. Best is trial 10 with value: 0.33047210300429186.\n",
      "[I 2023-12-11 14:49:03,402] Trial 73 finished with value: 0.3297644539614561 and parameters: {'penalty': 'l2', 'logistic-regularization': 9.809380562119419}. Best is trial 10 with value: 0.33047210300429186.\n",
      "[I 2023-12-11 14:49:03,811] Trial 74 finished with value: 0.3297644539614561 and parameters: {'penalty': 'l2', 'logistic-regularization': 8.431704945237383}. Best is trial 10 with value: 0.33047210300429186.\n",
      "[I 2023-12-11 14:49:04,239] Trial 75 finished with value: 0.33047210300429186 and parameters: {'penalty': 'l2', 'logistic-regularization': 9.491603022631743}. Best is trial 10 with value: 0.33047210300429186.\n",
      "[I 2023-12-11 14:49:04,664] Trial 76 finished with value: 0.33047210300429186 and parameters: {'penalty': 'l2', 'logistic-regularization': 8.950463566540899}. Best is trial 10 with value: 0.33047210300429186.\n",
      "[I 2023-12-11 14:49:05,102] Trial 77 finished with value: 0.3297644539614561 and parameters: {'penalty': 'l2', 'logistic-regularization': 9.766539232212953}. Best is trial 10 with value: 0.33047210300429186.\n",
      "[I 2023-12-11 14:49:05,506] Trial 78 finished with value: 0.3297644539614561 and parameters: {'penalty': 'l2', 'logistic-regularization': 8.690448641757182}. Best is trial 10 with value: 0.33047210300429186.\n",
      "[I 2023-12-11 14:49:05,931] Trial 79 finished with value: 0.3297644539614561 and parameters: {'penalty': 'l2', 'logistic-regularization': 8.153322611198531}. Best is trial 10 with value: 0.33047210300429186.\n",
      "[I 2023-12-11 14:49:06,377] Trial 80 finished with value: 0.33047210300429186 and parameters: {'penalty': 'l2', 'logistic-regularization': 9.266764294600687}. Best is trial 10 with value: 0.33047210300429186.\n",
      "[I 2023-12-11 14:49:06,775] Trial 81 finished with value: 0.33047210300429186 and parameters: {'penalty': 'l2', 'logistic-regularization': 8.834599868619884}. Best is trial 10 with value: 0.33047210300429186.\n",
      "[I 2023-12-11 14:49:07,204] Trial 82 finished with value: 0.33047210300429186 and parameters: {'penalty': 'l2', 'logistic-regularization': 9.49054238701585}. Best is trial 10 with value: 0.33047210300429186.\n",
      "[I 2023-12-11 14:49:07,610] Trial 83 finished with value: 0.3297644539614561 and parameters: {'penalty': 'l2', 'logistic-regularization': 8.50293035418497}. Best is trial 10 with value: 0.33047210300429186.\n",
      "[I 2023-12-11 14:49:08,075] Trial 84 finished with value: 0.33047210300429186 and parameters: {'penalty': 'l2', 'logistic-regularization': 9.0672996402451}. Best is trial 10 with value: 0.33047210300429186.\n",
      "[I 2023-12-11 14:49:08,499] Trial 85 finished with value: 0.3297644539614561 and parameters: {'penalty': 'l2', 'logistic-regularization': 9.78593011143524}. Best is trial 10 with value: 0.33047210300429186.\n",
      "[I 2023-12-11 14:49:32,874] Trial 86 finished with value: 0.31712473572938693 and parameters: {'penalty': 'l1', 'logistic-regularization': 8.760166871068597}. Best is trial 10 with value: 0.33047210300429186.\n",
      "[I 2023-12-11 14:49:33,281] Trial 87 finished with value: 0.3297644539614561 and parameters: {'penalty': 'l2', 'logistic-regularization': 7.818266468796612}. Best is trial 10 with value: 0.33047210300429186.\n",
      "[I 2023-12-11 14:49:33,710] Trial 88 finished with value: 0.3297644539614561 and parameters: {'penalty': 'l2', 'logistic-regularization': 9.470027748143536}. Best is trial 10 with value: 0.33047210300429186.\n",
      "[I 2023-12-11 14:49:34,142] Trial 89 finished with value: 0.33047210300429186 and parameters: {'penalty': 'l2', 'logistic-regularization': 9.061733619886564}. Best is trial 10 with value: 0.33047210300429186.\n",
      "[I 2023-12-11 14:49:34,550] Trial 90 finished with value: 0.3297644539614561 and parameters: {'penalty': 'l2', 'logistic-regularization': 8.264329540443985}. Best is trial 10 with value: 0.33047210300429186.\n",
      "[I 2023-12-11 14:49:34,964] Trial 91 finished with value: 0.33047210300429186 and parameters: {'penalty': 'l2', 'logistic-regularization': 9.319225963401063}. Best is trial 10 with value: 0.33047210300429186.\n",
      "[I 2023-12-11 14:49:35,383] Trial 92 finished with value: 0.3297644539614561 and parameters: {'penalty': 'l2', 'logistic-regularization': 9.66312366035839}. Best is trial 10 with value: 0.33047210300429186.\n",
      "[I 2023-12-11 14:49:35,797] Trial 93 finished with value: 0.33047210300429186 and parameters: {'penalty': 'l2', 'logistic-regularization': 9.186036197181814}. Best is trial 10 with value: 0.33047210300429186.\n",
      "[I 2023-12-11 14:49:36,288] Trial 94 finished with value: 0.32905982905982906 and parameters: {'penalty': 'l2', 'logistic-regularization': 9.955356307323317}. Best is trial 10 with value: 0.33047210300429186.\n",
      "[I 2023-12-11 14:49:36,783] Trial 95 finished with value: 0.3297644539614561 and parameters: {'penalty': 'l2', 'logistic-regularization': 8.879881791158603}. Best is trial 10 with value: 0.33047210300429186.\n",
      "[I 2023-12-11 14:49:37,224] Trial 96 finished with value: 0.3297644539614561 and parameters: {'penalty': 'l2', 'logistic-regularization': 8.479731214578626}. Best is trial 10 with value: 0.33047210300429186.\n",
      "[I 2023-12-11 14:50:01,770] Trial 97 finished with value: 0.31712473572938693 and parameters: {'penalty': 'l1', 'logistic-regularization': 9.39380674739758}. Best is trial 10 with value: 0.33047210300429186.\n",
      "[I 2023-12-11 14:50:02,242] Trial 98 finished with value: 0.3297644539614561 and parameters: {'penalty': 'l2', 'logistic-regularization': 8.683459117696179}. Best is trial 10 with value: 0.33047210300429186.\n",
      "[I 2023-12-11 14:50:02,680] Trial 99 finished with value: 0.33047210300429186 and parameters: {'penalty': 'l2', 'logistic-regularization': 9.66222724256981}. Best is trial 10 with value: 0.33047210300429186.\n"
     ]
    }
   ],
   "source": [
    "def objective(trial):\n",
    "\n",
    "    # Params\n",
    "    penalty = trial.suggest_categorical('penalty', ['l2', 'l1'])\n",
    "    if penalty == 'l1':\n",
    "        solver = 'saga'\n",
    "    else:\n",
    "        solver = 'lbfgs'\n",
    "    regularization = trial.suggest_float('logistic-regularization', 0.01, 10)\n",
    "        \n",
    "    # Create Trial Model\n",
    "    logreg_trial = LogisticRegression(penalty=penalty, C=regularization, solver=solver, random_state=1, max_iter=5000)\n",
    "    logreg_trial.fit(train_data_prep, train_target)\n",
    "\n",
    "    # Predict by un-oversampled test data\n",
    "    prediction = logreg_trial.predict(test_data_u)\n",
    "    return f1_score(test_target_u, prediction)\n",
    "\n",
    "study = optuna.create_study(direction='maximize')\n",
    "study.optimize(objective, n_trials=100)"
   ]
  },
  {
   "cell_type": "code",
   "execution_count": 35,
   "metadata": {},
   "outputs": [
    {
     "name": "stdout",
     "output_type": "stream",
     "text": [
      "Model Stats: f1 = 0.90, accuracy 89.89 %\n"
     ]
    }
   ],
   "source": [
    "logreg = LogisticRegression(random_state=1, max_iter=10000)\n",
    "logreg.fit(train_data_prep, train_target)\n",
    "prediction = logreg.predict(test_data_prep)\n",
    "acc = 100 * accuracy_score(test_target, prediction)\n",
    "f1 = f1_score(test_target, prediction)\n",
    "print(\"Model Stats: f1 = %.2f, accuracy %.2f %%\" % (f1, acc))"
   ]
  },
  {
   "cell_type": "markdown",
   "metadata": {},
   "source": [
    "#### 4.1.3 Gaussian Naive Bayes"
   ]
  },
  {
   "cell_type": "code",
   "execution_count": 36,
   "metadata": {},
   "outputs": [
    {
     "name": "stdout",
     "output_type": "stream",
     "text": [
      "Model Stats: f1 = 0.65, accuracy 52.94 %\n"
     ]
    }
   ],
   "source": [
    "gnb = GaussianNB()\n",
    "gnb.fit(train_data_prep, train_target)\n",
    "prediction = gnb.predict(test_data_prep)\n",
    "acc = 100 * accuracy_score(test_target, prediction)\n",
    "f1 = f1_score(test_target, prediction)\n",
    "print(\"Model Stats: f1 = %.2f, accuracy %.2f %%\" % (f1, acc))"
   ]
  },
  {
   "cell_type": "markdown",
   "metadata": {},
   "source": [
    "#### 4.1.4 KNN"
   ]
  },
  {
   "cell_type": "code",
   "execution_count": 37,
   "metadata": {},
   "outputs": [
    {
     "name": "stdout",
     "output_type": "stream",
     "text": [
      "Model Stats for k = 1: f1 = 0.96, accuracy 95.98 %\n",
      "Model Stats for k = 2: f1 = 0.96, accuracy 96.34 %\n"
     ]
    },
    {
     "name": "stdout",
     "output_type": "stream",
     "text": [
      "Model Stats for k = 3: f1 = 0.94, accuracy 94.19 %\n",
      "Model Stats for k = 4: f1 = 0.95, accuracy 94.89 %\n",
      "Model Stats for k = 5: f1 = 0.94, accuracy 93.16 %\n",
      "Model Stats for k = 6: f1 = 0.94, accuracy 93.73 %\n",
      "Model Stats for k = 7: f1 = 0.93, accuracy 92.58 %\n",
      "Model Stats for k = 8: f1 = 0.93, accuracy 92.90 %\n",
      "Model Stats for k = 9: f1 = 0.92, accuracy 91.53 %\n",
      "Model Stats for k = 10: f1 = 0.93, accuracy 91.99 %\n",
      "Model Stats for k = 11: f1 = 0.92, accuracy 90.95 %\n",
      "Model Stats for k = 12: f1 = 0.92, accuracy 91.38 %\n",
      "Model Stats for k = 13: f1 = 0.91, accuracy 90.64 %\n",
      "Model Stats for k = 14: f1 = 0.92, accuracy 91.16 %\n",
      "Model Stats for k = 15: f1 = 0.91, accuracy 90.45 %\n",
      "Model Stats for k = 16: f1 = 0.92, accuracy 90.91 %\n",
      "Model Stats for k = 17: f1 = 0.91, accuracy 90.25 %\n",
      "Model Stats for k = 18: f1 = 0.91, accuracy 90.68 %\n",
      "Model Stats for k = 19: f1 = 0.91, accuracy 90.25 %\n",
      "Model Stats for k = 20: f1 = 0.91, accuracy 90.62 %\n",
      "Model Stats for k = 21: f1 = 0.91, accuracy 90.23 %\n",
      "Model Stats for k = 22: f1 = 0.91, accuracy 90.51 %\n",
      "Model Stats for k = 23: f1 = 0.91, accuracy 90.08 %\n",
      "Model Stats for k = 24: f1 = 0.91, accuracy 90.36 %\n",
      "Model Stats for k = 25: f1 = 0.91, accuracy 89.91 %\n",
      "Model Stats for k = 26: f1 = 0.91, accuracy 90.32 %\n",
      "Model Stats for k = 27: f1 = 0.91, accuracy 89.98 %\n",
      "Model Stats for k = 28: f1 = 0.91, accuracy 90.25 %\n",
      "Model Stats for k = 29: f1 = 0.91, accuracy 89.85 %\n",
      "Model Stats for k = 30: f1 = 0.91, accuracy 90.11 %\n"
     ]
    }
   ],
   "source": [
    "for k in range(1, 31):\n",
    "    knn = KNeighborsClassifier(n_neighbors=k)\n",
    "    knn.fit(train_data_prep, train_target)\n",
    "    prediction = knn.predict(test_data_prep)\n",
    "    acc = 100 * accuracy_score(test_target, prediction)\n",
    "    f1 = f1_score(test_target, prediction)\n",
    "    print(\"Model Stats for k = %g: f1 = %.2f, accuracy %.2f %%\" % (k, f1, acc))"
   ]
  },
  {
   "cell_type": "code",
   "execution_count": 38,
   "metadata": {},
   "outputs": [
    {
     "name": "stdout",
     "output_type": "stream",
     "text": [
      "Model Stats for k = 2: f1 = 0.96, accuracy 96.34 %\n"
     ]
    }
   ],
   "source": [
    "k = 2\n",
    "\n",
    "knn = KNeighborsClassifier(n_neighbors=k)\n",
    "knn.fit(train_data_prep, train_target)\n",
    "prediction = knn.predict(test_data_prep)\n",
    "acc = 100 * accuracy_score(test_target, prediction)\n",
    "f1 = f1_score(test_target, prediction)\n",
    "print(\"Model Stats for k = %g: f1 = %.2f, accuracy %.2f %%\" % (k, f1, acc))"
   ]
  },
  {
   "cell_type": "markdown",
   "metadata": {},
   "source": [
    "#### 4.1.5 Light GBM (LGBM)"
   ]
  },
  {
   "cell_type": "code",
   "execution_count": 39,
   "metadata": {},
   "outputs": [
    {
     "name": "stdout",
     "output_type": "stream",
     "text": [
      "[LightGBM] [Info] Number of positive: 3980, number of negative: 3938\n",
      "[LightGBM] [Info] Auto-choosing col-wise multi-threading, the overhead of testing was 0.002689 seconds.\n",
      "You can set `force_col_wise=true` to remove the overhead.\n",
      "[LightGBM] [Info] Total Bins 15810\n",
      "[LightGBM] [Info] Number of data points in the train set: 7918, number of used features: 62\n",
      "[LightGBM] [Info] [binary:BoostFromScore]: pavg=0.502652 -> initscore=0.010609\n",
      "[LightGBM] [Info] Start training from score 0.010609\n"
     ]
    },
    {
     "name": "stdout",
     "output_type": "stream",
     "text": [
      "Model Stats: f1 = 0.98, accuracy 97.65 %\n"
     ]
    }
   ],
   "source": [
    "lgbm = LGBMClassifier()\n",
    "lgbm.fit(train_data_prep, train_target)\n",
    "prediction = lgbm.predict(test_data_prep)\n",
    "acc = 100 * accuracy_score(test_target, prediction)\n",
    "f1 = f1_score(test_target, prediction)\n",
    "print(\"Model Stats: f1 = %.2f, accuracy %.2f %%\" % (f1, acc))"
   ]
  },
  {
   "cell_type": "markdown",
   "metadata": {},
   "source": [
    "#### 4.1.6 XGB"
   ]
  },
  {
   "cell_type": "code",
   "execution_count": 40,
   "metadata": {},
   "outputs": [
    {
     "name": "stdout",
     "output_type": "stream",
     "text": [
      "Model Stats: f1 = 0.98, accuracy 97.84 %\n"
     ]
    }
   ],
   "source": [
    "xgb = XGBClassifier()\n",
    "xgb.fit(train_data_prep, train_target)\n",
    "prediction = xgb.predict(test_data_prep)\n",
    "acc = 100 * accuracy_score(test_target, prediction)\n",
    "f1 = f1_score(test_target, prediction)\n",
    "print(\"Model Stats: f1 = %.2f, accuracy %.2f %%\" % (f1, acc))"
   ]
  },
  {
   "cell_type": "markdown",
   "metadata": {},
   "source": [
    "#### 4.1.7 CatBoost"
   ]
  },
  {
   "cell_type": "code",
   "execution_count": 41,
   "metadata": {},
   "outputs": [
    {
     "name": "stdout",
     "output_type": "stream",
     "text": [
      "Model Stats: f1 = 0.98, accuracy 97.61 %\n"
     ]
    }
   ],
   "source": [
    "catboost = CatBoostClassifier(silent=True)\n",
    "catboost.fit(train_data_prep, train_target)\n",
    "prediction = catboost.predict(test_data_prep)\n",
    "acc = 100 * accuracy_score(test_target, prediction)\n",
    "f1 = f1_score(test_target, prediction)\n",
    "print(\"Model Stats: f1 = %.2f, accuracy %.2f %%\" % (f1, acc))"
   ]
  },
  {
   "cell_type": "markdown",
   "metadata": {},
   "source": [
    "### 4.2 Random OverSampling Data"
   ]
  },
  {
   "cell_type": "markdown",
   "metadata": {},
   "source": [
    "#### 4.2.1 ANN"
   ]
  },
  {
   "cell_type": "code",
   "execution_count": null,
   "id": "770b1e97",
   "metadata": {},
   "outputs": [
    {
     "name": "stderr",
     "output_type": "stream",
     "text": [
      "[I 2023-12-08 10:54:26,159] A new study created in memory with name: no-name-8bd05ffc-1250-4430-99d1-8433bc5bf794\n",
      "[I 2023-12-08 10:54:30,719] Trial 0 finished with value: 0.8125000000000001 and parameters: {'n_layers': 3, 'n_units_0': 94, 'n_units_1': 62, 'n_units_2': 48}. Best is trial 0 with value: 0.8125000000000001.\n",
      "[I 2023-12-08 10:54:33,401] Trial 1 finished with value: 0.7982456140350876 and parameters: {'n_layers': 3, 'n_units_0': 21, 'n_units_1': 13, 'n_units_2': 43}. Best is trial 0 with value: 0.8125000000000001.\n",
      "[I 2023-12-08 10:54:41,567] Trial 2 finished with value: 0.794759825327511 and parameters: {'n_layers': 1, 'n_units_0': 55}. Best is trial 0 with value: 0.8125000000000001.\n",
      "[I 2023-12-08 10:54:51,270] Trial 3 finished with value: 0.7520661157024793 and parameters: {'n_layers': 1, 'n_units_0': 11}. Best is trial 0 with value: 0.8125000000000001.\n",
      "[I 2023-12-08 10:54:58,912] Trial 4 finished with value: 0.8198198198198199 and parameters: {'n_layers': 1, 'n_units_0': 35}. Best is trial 4 with value: 0.8198198198198199.\n",
      "[I 2023-12-08 10:55:03,209] Trial 5 finished with value: 0.8310502283105022 and parameters: {'n_layers': 2, 'n_units_0': 72, 'n_units_1': 60}. Best is trial 5 with value: 0.8310502283105022.\n",
      "[I 2023-12-08 10:55:11,178] Trial 6 finished with value: 0.8053097345132744 and parameters: {'n_layers': 1, 'n_units_0': 81}. Best is trial 5 with value: 0.8310502283105022.\n",
      "[I 2023-12-08 10:55:15,360] Trial 7 finished with value: 0.8425925925925926 and parameters: {'n_layers': 4, 'n_units_0': 64, 'n_units_1': 73, 'n_units_2': 62, 'n_units_3': 97}. Best is trial 7 with value: 0.8425925925925926.\n",
      "[I 2023-12-08 10:55:33,902] Trial 8 finished with value: 0.6148409893992932 and parameters: {'n_layers': 4, 'n_units_0': 4, 'n_units_1': 66, 'n_units_2': 53, 'n_units_3': 46}. Best is trial 7 with value: 0.8425925925925926.\n",
      "[I 2023-12-08 10:55:38,052] Trial 9 finished with value: 0.8504672897196263 and parameters: {'n_layers': 4, 'n_units_0': 72, 'n_units_1': 68, 'n_units_2': 30, 'n_units_3': 89}. Best is trial 9 with value: 0.8504672897196263.\n",
      "[I 2023-12-08 10:55:43,042] Trial 10 finished with value: 0.7665198237885461 and parameters: {'n_layers': 4, 'n_units_0': 42, 'n_units_1': 96, 'n_units_2': 1, 'n_units_3': 99}. Best is trial 9 with value: 0.8504672897196263.\n",
      "[I 2023-12-08 10:55:47,754] Trial 11 finished with value: 0.8310502283105022 and parameters: {'n_layers': 4, 'n_units_0': 65, 'n_units_1': 89, 'n_units_2': 94, 'n_units_3': 98}. Best is trial 9 with value: 0.8504672897196263.\n",
      "[I 2023-12-08 10:55:51,121] Trial 12 finished with value: 0.8161434977578476 and parameters: {'n_layers': 3, 'n_units_0': 99, 'n_units_1': 43, 'n_units_2': 22}. Best is trial 9 with value: 0.8504672897196263.\n",
      "[I 2023-12-08 10:55:55,375] Trial 13 finished with value: 0.8161434977578476 and parameters: {'n_layers': 4, 'n_units_0': 57, 'n_units_1': 76, 'n_units_2': 76, 'n_units_3': 77}. Best is trial 9 with value: 0.8504672897196263.\n",
      "[I 2023-12-08 10:56:00,268] Trial 14 finished with value: 0.8310502283105022 and parameters: {'n_layers': 2, 'n_units_0': 80, 'n_units_1': 38}. Best is trial 9 with value: 0.8504672897196263.\n",
      "[I 2023-12-08 10:56:05,021] Trial 15 finished with value: 0.8544600938967136 and parameters: {'n_layers': 3, 'n_units_0': 41, 'n_units_1': 79, 'n_units_2': 68}. Best is trial 15 with value: 0.8544600938967136.\n",
      "[I 2023-12-08 10:56:10,392] Trial 16 finished with value: 0.8425925925925926 and parameters: {'n_layers': 3, 'n_units_0': 33, 'n_units_1': 86, 'n_units_2': 27}. Best is trial 15 with value: 0.8544600938967136.\n",
      "[I 2023-12-08 10:56:15,626] Trial 17 finished with value: 0.8161434977578476 and parameters: {'n_layers': 2, 'n_units_0': 48, 'n_units_1': 50}. Best is trial 15 with value: 0.8544600938967136.\n",
      "[I 2023-12-08 10:56:20,450] Trial 18 finished with value: 0.7844827586206896 and parameters: {'n_layers': 3, 'n_units_0': 23, 'n_units_1': 26, 'n_units_2': 87}. Best is trial 15 with value: 0.8544600938967136.\n",
      "[I 2023-12-08 10:56:34,680] Trial 19 finished with value: 0.7586206896551724 and parameters: {'n_layers': 4, 'n_units_0': 78, 'n_units_1': 80, 'n_units_2': 69, 'n_units_3': 1}. Best is trial 15 with value: 0.8544600938967136.\n",
      "[I 2023-12-08 10:56:39,618] Trial 20 finished with value: 0.791304347826087 and parameters: {'n_layers': 3, 'n_units_0': 44, 'n_units_1': 99, 'n_units_2': 18}. Best is trial 15 with value: 0.8544600938967136.\n",
      "[I 2023-12-08 10:56:43,804] Trial 21 finished with value: 0.8425925925925926 and parameters: {'n_layers': 4, 'n_units_0': 65, 'n_units_1': 70, 'n_units_2': 62, 'n_units_3': 66}. Best is trial 15 with value: 0.8544600938967136.\n",
      "[I 2023-12-08 10:56:48,389] Trial 22 finished with value: 0.8425925925925926 and parameters: {'n_layers': 4, 'n_units_0': 63, 'n_units_1': 75, 'n_units_2': 37, 'n_units_3': 77}. Best is trial 15 with value: 0.8544600938967136.\n",
      "[I 2023-12-08 10:56:52,405] Trial 23 finished with value: 0.8053097345132744 and parameters: {'n_layers': 4, 'n_units_0': 88, 'n_units_1': 59, 'n_units_2': 62, 'n_units_3': 40}. Best is trial 15 with value: 0.8544600938967136.\n",
      "[I 2023-12-08 10:56:56,509] Trial 24 finished with value: 0.8161434977578476 and parameters: {'n_layers': 3, 'n_units_0': 73, 'n_units_1': 85, 'n_units_2': 76}. Best is trial 15 with value: 0.8544600938967136.\n",
      "[I 2023-12-08 10:57:00,864] Trial 25 finished with value: 0.8310502283105022 and parameters: {'n_layers': 4, 'n_units_0': 55, 'n_units_1': 54, 'n_units_2': 34, 'n_units_3': 100}. Best is trial 15 with value: 0.8544600938967136.\n",
      "[I 2023-12-08 10:57:07,046] Trial 26 finished with value: 0.7811158798283262 and parameters: {'n_layers': 2, 'n_units_0': 33, 'n_units_1': 70}. Best is trial 15 with value: 0.8544600938967136.\n",
      "[I 2023-12-08 10:57:11,198] Trial 27 finished with value: 0.7137254901960784 and parameters: {'n_layers': 3, 'n_units_0': 62, 'n_units_1': 2, 'n_units_2': 58}. Best is trial 15 with value: 0.8544600938967136.\n",
      "[I 2023-12-08 10:57:14,711] Trial 28 finished with value: 0.8625592417061612 and parameters: {'n_layers': 4, 'n_units_0': 87, 'n_units_1': 92, 'n_units_2': 11, 'n_units_3': 76}. Best is trial 28 with value: 0.8625592417061612.\n",
      "[I 2023-12-08 10:57:18,892] Trial 29 finished with value: 0.8310502283105022 and parameters: {'n_layers': 3, 'n_units_0': 87, 'n_units_1': 93, 'n_units_2': 5}. Best is trial 28 with value: 0.8625592417061612.\n",
      "[I 2023-12-08 10:57:22,498] Trial 30 finished with value: 0.8465116279069768 and parameters: {'n_layers': 4, 'n_units_0': 91, 'n_units_1': 84, 'n_units_2': 14, 'n_units_3': 68}. Best is trial 28 with value: 0.8625592417061612.\n",
      "[I 2023-12-08 10:57:26,454] Trial 31 finished with value: 0.883495145631068 and parameters: {'n_layers': 4, 'n_units_0': 94, 'n_units_1': 83, 'n_units_2': 13, 'n_units_3': 65}. Best is trial 31 with value: 0.883495145631068.\n",
      "[I 2023-12-08 10:57:29,983] Trial 32 finished with value: 0.8750000000000001 and parameters: {'n_layers': 4, 'n_units_0': 96, 'n_units_1': 91, 'n_units_2': 9, 'n_units_3': 63}. Best is trial 31 with value: 0.883495145631068.\n",
      "[I 2023-12-08 10:57:33,735] Trial 33 finished with value: 0.8425925925925926 and parameters: {'n_layers': 3, 'n_units_0': 98, 'n_units_1': 92, 'n_units_2': 10}. Best is trial 31 with value: 0.883495145631068.\n",
      "[I 2023-12-08 10:57:37,284] Trial 34 finished with value: 0.8666666666666666 and parameters: {'n_layers': 4, 'n_units_0': 93, 'n_units_1': 99, 'n_units_2': 10, 'n_units_3': 56}. Best is trial 31 with value: 0.883495145631068.\n",
      "[I 2023-12-08 10:57:41,139] Trial 35 finished with value: 0.8235294117647058 and parameters: {'n_layers': 4, 'n_units_0': 94, 'n_units_1': 98, 'n_units_2': 9, 'n_units_3': 57}. Best is trial 31 with value: 0.883495145631068.\n",
      "[I 2023-12-08 10:57:45,046] Trial 36 finished with value: 0.8348623853211008 and parameters: {'n_layers': 4, 'n_units_0': 85, 'n_units_1': 100, 'n_units_2': 22, 'n_units_3': 57}. Best is trial 31 with value: 0.883495145631068.\n",
      "[I 2023-12-08 10:57:52,668] Trial 37 finished with value: 0.8125000000000001 and parameters: {'n_layers': 4, 'n_units_0': 100, 'n_units_1': 92, 'n_units_2': 1, 'n_units_3': 71}. Best is trial 31 with value: 0.883495145631068.\n",
      "[I 2023-12-08 10:57:56,143] Trial 38 finished with value: 0.8425925925925926 and parameters: {'n_layers': 4, 'n_units_0': 94, 'n_units_1': 83, 'n_units_2': 14, 'n_units_3': 33}. Best is trial 31 with value: 0.883495145631068.\n",
      "[I 2023-12-08 10:58:00,641] Trial 39 finished with value: 0.8272727272727274 and parameters: {'n_layers': 4, 'n_units_0': 82, 'n_units_1': 91, 'n_units_2': 22, 'n_units_3': 57}. Best is trial 31 with value: 0.883495145631068.\n",
      "[I 2023-12-08 10:58:05,531] Trial 40 finished with value: 0.8348623853211008 and parameters: {'n_layers': 4, 'n_units_0': 95, 'n_units_1': 88, 'n_units_2': 43, 'n_units_3': 84}. Best is trial 31 with value: 0.883495145631068.\n",
      "[I 2023-12-08 10:58:09,129] Trial 41 finished with value: 0.794759825327511 and parameters: {'n_layers': 3, 'n_units_0': 91, 'n_units_1': 79, 'n_units_2': 9}. Best is trial 31 with value: 0.883495145631068.\n",
      "[I 2023-12-08 10:58:12,329] Trial 42 finished with value: 0.8708133971291866 and parameters: {'n_layers': 4, 'n_units_0': 77, 'n_units_1': 81, 'n_units_2': 16, 'n_units_3': 27}. Best is trial 31 with value: 0.883495145631068.\n",
      "[I 2023-12-08 10:58:16,087] Trial 43 finished with value: 0.8425925925925926 and parameters: {'n_layers': 4, 'n_units_0': 75, 'n_units_1': 98, 'n_units_2': 15, 'n_units_3': 22}. Best is trial 31 with value: 0.883495145631068.\n",
      "[I 2023-12-08 10:58:19,769] Trial 44 finished with value: 0.8504672897196263 and parameters: {'n_layers': 4, 'n_units_0': 85, 'n_units_1': 94, 'n_units_2': 6, 'n_units_3': 62}. Best is trial 31 with value: 0.883495145631068.\n",
      "[I 2023-12-08 10:58:23,915] Trial 45 finished with value: 0.8161434977578476 and parameters: {'n_layers': 4, 'n_units_0': 90, 'n_units_1': 64, 'n_units_2': 27, 'n_units_3': 50}. Best is trial 31 with value: 0.883495145631068.\n",
      "[I 2023-12-08 10:58:31,987] Trial 46 finished with value: 0.8161434977578476 and parameters: {'n_layers': 1, 'n_units_0': 70}. Best is trial 31 with value: 0.883495145631068.\n",
      "[I 2023-12-08 10:58:35,767] Trial 47 finished with value: 0.8161434977578476 and parameters: {'n_layers': 4, 'n_units_0': 83, 'n_units_1': 88, 'n_units_2': 18, 'n_units_3': 14}. Best is trial 31 with value: 0.883495145631068.\n",
      "[I 2023-12-08 10:58:39,221] Trial 48 finished with value: 0.8310502283105022 and parameters: {'n_layers': 4, 'n_units_0': 77, 'n_units_1': 73, 'n_units_2': 6, 'n_units_3': 75}. Best is trial 31 with value: 0.883495145631068.\n",
      "[I 2023-12-08 10:58:42,526] Trial 49 finished with value: 0.8425925925925926 and parameters: {'n_layers': 4, 'n_units_0': 96, 'n_units_1': 80, 'n_units_2': 13, 'n_units_3': 38}. Best is trial 31 with value: 0.883495145631068.\n",
      "[I 2023-12-08 10:58:46,466] Trial 50 finished with value: 0.8708133971291866 and parameters: {'n_layers': 4, 'n_units_0': 92, 'n_units_1': 96, 'n_units_2': 20, 'n_units_3': 65}. Best is trial 31 with value: 0.883495145631068.\n",
      "[I 2023-12-08 10:58:50,353] Trial 51 finished with value: 0.8198198198198199 and parameters: {'n_layers': 4, 'n_units_0': 100, 'n_units_1': 96, 'n_units_2': 20, 'n_units_3': 62}. Best is trial 31 with value: 0.883495145631068.\n",
      "[I 2023-12-08 10:58:54,888] Trial 52 finished with value: 0.8544600938967136 and parameters: {'n_layers': 4, 'n_units_0': 92, 'n_units_1': 88, 'n_units_2': 2, 'n_units_3': 54}. Best is trial 31 with value: 0.883495145631068.\n",
      "[I 2023-12-08 10:58:58,268] Trial 53 finished with value: 0.8272727272727274 and parameters: {'n_layers': 4, 'n_units_0': 88, 'n_units_1': 100, 'n_units_2': 11, 'n_units_3': 85}. Best is trial 31 with value: 0.883495145631068.\n",
      "[I 2023-12-08 10:59:02,717] Trial 54 finished with value: 0.8348623853211008 and parameters: {'n_layers': 4, 'n_units_0': 80, 'n_units_1': 83, 'n_units_2': 29, 'n_units_3': 63}. Best is trial 31 with value: 0.883495145631068.\n",
      "[I 2023-12-08 10:59:06,578] Trial 55 finished with value: 0.8465116279069768 and parameters: {'n_layers': 4, 'n_units_0': 70, 'n_units_1': 95, 'n_units_2': 26, 'n_units_3': 46}. Best is trial 31 with value: 0.883495145631068.\n",
      "[I 2023-12-08 10:59:10,179] Trial 56 finished with value: 0.8544600938967136 and parameters: {'n_layers': 4, 'n_units_0': 96, 'n_units_1': 32, 'n_units_2': 17, 'n_units_3': 73}. Best is trial 31 with value: 0.883495145631068.\n",
      "[I 2023-12-08 10:59:14,230] Trial 57 finished with value: 0.8348623853211008 and parameters: {'n_layers': 4, 'n_units_0': 85, 'n_units_1': 77, 'n_units_2': 37, 'n_units_3': 51}. Best is trial 31 with value: 0.883495145631068.\n",
      "[I 2023-12-08 10:59:18,971] Trial 58 finished with value: 0.8310502283105022 and parameters: {'n_layers': 2, 'n_units_0': 89, 'n_units_1': 88}. Best is trial 31 with value: 0.883495145631068.\n",
      "[I 2023-12-08 10:59:24,273] Trial 59 finished with value: 0.7982456140350876 and parameters: {'n_layers': 4, 'n_units_0': 78, 'n_units_1': 95, 'n_units_2': 24, 'n_units_3': 83}. Best is trial 31 with value: 0.883495145631068.\n",
      "[I 2023-12-08 10:59:29,725] Trial 60 finished with value: 0.8161434977578476 and parameters: {'n_layers': 3, 'n_units_0': 97, 'n_units_1': 81, 'n_units_2': 33}. Best is trial 31 with value: 0.883495145631068.\n",
      "[I 2023-12-08 10:59:34,771] Trial 61 finished with value: 0.8504672897196263 and parameters: {'n_layers': 3, 'n_units_0': 41, 'n_units_1': 91, 'n_units_2': 71}. Best is trial 31 with value: 0.883495145631068.\n",
      "[I 2023-12-08 10:59:43,951] Trial 62 finished with value: 0.7844827586206896 and parameters: {'n_layers': 3, 'n_units_0': 8, 'n_units_1': 75, 'n_units_2': 6}. Best is trial 31 with value: 0.883495145631068.\n",
      "[I 2023-12-08 10:59:49,871] Trial 63 finished with value: 0.8198198198198199 and parameters: {'n_layers': 4, 'n_units_0': 22, 'n_units_1': 85, 'n_units_2': 100, 'n_units_3': 68}. Best is trial 31 with value: 0.883495145631068.\n",
      "[I 2023-12-08 10:59:54,637] Trial 64 finished with value: 0.8584905660377359 and parameters: {'n_layers': 2, 'n_units_0': 93, 'n_units_1': 16}. Best is trial 31 with value: 0.883495145631068.\n",
      "[I 2023-12-08 10:59:58,635] Trial 65 finished with value: 0.8465116279069768 and parameters: {'n_layers': 2, 'n_units_0': 92, 'n_units_1': 11}. Best is trial 31 with value: 0.883495145631068.\n",
      "[I 2023-12-08 11:00:02,787] Trial 66 finished with value: 0.8125000000000001 and parameters: {'n_layers': 2, 'n_units_0': 87, 'n_units_1': 43}. Best is trial 31 with value: 0.883495145631068.\n",
      "[I 2023-12-08 11:00:10,008] Trial 67 finished with value: 0.8053097345132744 and parameters: {'n_layers': 1, 'n_units_0': 100}. Best is trial 31 with value: 0.883495145631068.\n",
      "[I 2023-12-08 11:00:14,507] Trial 68 finished with value: 0.8310502283105022 and parameters: {'n_layers': 2, 'n_units_0': 82, 'n_units_1': 28}. Best is trial 31 with value: 0.883495145631068.\n",
      "[I 2023-12-08 11:00:18,992] Trial 69 finished with value: 0.8235294117647058 and parameters: {'n_layers': 2, 'n_units_0': 92, 'n_units_1': 59}. Best is trial 31 with value: 0.883495145631068.\n",
      "[I 2023-12-08 11:00:22,900] Trial 70 finished with value: 0.8584905660377359 and parameters: {'n_layers': 4, 'n_units_0': 85, 'n_units_1': 52, 'n_units_2': 18, 'n_units_3': 91}. Best is trial 31 with value: 0.883495145631068.\n",
      "[I 2023-12-08 11:00:26,560] Trial 71 finished with value: 0.8235294117647058 and parameters: {'n_layers': 4, 'n_units_0': 84, 'n_units_1': 19, 'n_units_2': 16, 'n_units_3': 92}. Best is trial 31 with value: 0.883495145631068.\n",
      "[I 2023-12-08 11:00:30,893] Trial 72 finished with value: 0.8625592417061612 and parameters: {'n_layers': 4, 'n_units_0': 94, 'n_units_1': 49, 'n_units_2': 10, 'n_units_3': 90}. Best is trial 31 with value: 0.883495145631068.\n",
      "[I 2023-12-08 11:00:34,751] Trial 73 finished with value: 0.8584905660377359 and parameters: {'n_layers': 4, 'n_units_0': 95, 'n_units_1': 43, 'n_units_2': 9, 'n_units_3': 80}. Best is trial 31 with value: 0.883495145631068.\n",
      "[I 2023-12-08 11:00:39,973] Trial 74 finished with value: 0.8387096774193548 and parameters: {'n_layers': 4, 'n_units_0': 97, 'n_units_1': 21, 'n_units_2': 3, 'n_units_3': 61}. Best is trial 31 with value: 0.883495145631068.\n",
      "[I 2023-12-08 11:00:43,648] Trial 75 finished with value: 0.8125000000000001 and parameters: {'n_layers': 4, 'n_units_0': 89, 'n_units_1': 7, 'n_units_2': 11, 'n_units_3': 70}. Best is trial 31 with value: 0.883495145631068.\n",
      "[I 2023-12-08 11:00:48,016] Trial 76 finished with value: 0.8792270531400966 and parameters: {'n_layers': 4, 'n_units_0': 93, 'n_units_1': 97, 'n_units_2': 47, 'n_units_3': 66}. Best is trial 31 with value: 0.883495145631068.\n",
      "[I 2023-12-08 11:00:52,592] Trial 77 finished with value: 0.8544600938967136 and parameters: {'n_layers': 4, 'n_units_0': 98, 'n_units_1': 98, 'n_units_2': 44, 'n_units_3': 65}. Best is trial 31 with value: 0.883495145631068.\n",
      "[I 2023-12-08 11:00:56,795] Trial 78 finished with value: 0.8625592417061612 and parameters: {'n_layers': 4, 'n_units_0': 80, 'n_units_1': 91, 'n_units_2': 53, 'n_units_3': 78}. Best is trial 31 with value: 0.883495145631068.\n",
      "[I 2023-12-08 11:01:01,230] Trial 79 finished with value: 0.8387096774193548 and parameters: {'n_layers': 4, 'n_units_0': 87, 'n_units_1': 94, 'n_units_2': 85, 'n_units_3': 59}. Best is trial 31 with value: 0.883495145631068.\n",
      "[I 2023-12-08 11:01:04,771] Trial 80 finished with value: 0.801762114537445 and parameters: {'n_layers': 4, 'n_units_0': 91, 'n_units_1': 86, 'n_units_2': 13, 'n_units_3': 67}. Best is trial 31 with value: 0.883495145631068.\n",
      "[I 2023-12-08 11:01:09,102] Trial 81 finished with value: 0.8584905660377359 and parameters: {'n_layers': 4, 'n_units_0': 80, 'n_units_1': 90, 'n_units_2': 53, 'n_units_3': 78}. Best is trial 31 with value: 0.883495145631068.\n",
      "[I 2023-12-08 11:01:13,869] Trial 82 finished with value: 0.8750000000000001 and parameters: {'n_layers': 4, 'n_units_0': 75, 'n_units_1': 97, 'n_units_2': 47, 'n_units_3': 73}. Best is trial 31 with value: 0.883495145631068.\n",
      "[I 2023-12-08 11:01:18,365] Trial 83 finished with value: 0.8125000000000001 and parameters: {'n_layers': 4, 'n_units_0': 73, 'n_units_1': 97, 'n_units_2': 48, 'n_units_3': 72}. Best is trial 31 with value: 0.883495145631068.\n",
      "[I 2023-12-08 11:01:21,971] Trial 84 finished with value: 0.8198198198198199 and parameters: {'n_layers': 4, 'n_units_0': 60, 'n_units_1': 100, 'n_units_2': 6, 'n_units_3': 53}. Best is trial 31 with value: 0.883495145631068.\n",
      "[I 2023-12-08 11:01:25,593] Trial 85 finished with value: 0.8348623853211008 and parameters: {'n_layers': 4, 'n_units_0': 94, 'n_units_1': 47, 'n_units_2': 20, 'n_units_3': 67}. Best is trial 31 with value: 0.883495145631068.\n",
      "[I 2023-12-08 11:01:29,939] Trial 86 finished with value: 0.8198198198198199 and parameters: {'n_layers': 4, 'n_units_0': 68, 'n_units_1': 94, 'n_units_2': 57, 'n_units_3': 94}. Best is trial 31 with value: 0.883495145631068.\n",
      "[I 2023-12-08 11:01:34,283] Trial 87 finished with value: 0.8348623853211008 and parameters: {'n_layers': 4, 'n_units_0': 89, 'n_units_1': 97, 'n_units_2': 46, 'n_units_3': 56}. Best is trial 31 with value: 0.883495145631068.\n",
      "[I 2023-12-08 11:01:38,308] Trial 88 finished with value: 0.8625592417061612 and parameters: {'n_layers': 4, 'n_units_0': 76, 'n_units_1': 55, 'n_units_2': 37, 'n_units_3': 46}. Best is trial 31 with value: 0.883495145631068.\n",
      "[I 2023-12-08 11:01:43,129] Trial 89 finished with value: 0.8348623853211008 and parameters: {'n_layers': 4, 'n_units_0': 94, 'n_units_1': 82, 'n_units_2': 8, 'n_units_3': 15}. Best is trial 31 with value: 0.883495145631068.\n",
      "[I 2023-12-08 11:01:46,675] Trial 90 finished with value: 0.8088888888888888 and parameters: {'n_layers': 4, 'n_units_0': 50, 'n_units_1': 86, 'n_units_2': 12, 'n_units_3': 74}. Best is trial 31 with value: 0.883495145631068.\n",
      "[I 2023-12-08 11:01:51,564] Trial 91 finished with value: 0.8348623853211008 and parameters: {'n_layers': 4, 'n_units_0': 81, 'n_units_1': 90, 'n_units_2': 50, 'n_units_3': 88}. Best is trial 31 with value: 0.883495145631068.\n",
      "[I 2023-12-08 11:01:55,596] Trial 92 finished with value: 0.8625592417061612 and parameters: {'n_layers': 4, 'n_units_0': 86, 'n_units_1': 92, 'n_units_2': 54, 'n_units_3': 80}. Best is trial 31 with value: 0.883495145631068.\n",
      "[I 2023-12-08 11:02:00,118] Trial 93 finished with value: 0.8310502283105022 and parameters: {'n_layers': 4, 'n_units_0': 79, 'n_units_1': 93, 'n_units_2': 40, 'n_units_3': 70}. Best is trial 31 with value: 0.883495145631068.\n",
      "[I 2023-12-08 11:02:04,322] Trial 94 finished with value: 0.8310502283105022 and parameters: {'n_layers': 4, 'n_units_0': 75, 'n_units_1': 96, 'n_units_2': 66, 'n_units_3': 64}. Best is trial 31 with value: 0.883495145631068.\n",
      "[I 2023-12-08 11:02:08,073] Trial 95 finished with value: 0.8053097345132744 and parameters: {'n_layers': 4, 'n_units_0': 83, 'n_units_1': 100, 'n_units_2': 4, 'n_units_3': 77}. Best is trial 31 with value: 0.883495145631068.\n",
      "[I 2023-12-08 11:02:12,052] Trial 96 finished with value: 0.8348623853211008 and parameters: {'n_layers': 4, 'n_units_0': 98, 'n_units_1': 89, 'n_units_2': 57, 'n_units_3': 61}. Best is trial 31 with value: 0.883495145631068.\n",
      "[I 2023-12-08 11:02:16,064] Trial 97 finished with value: 0.8584905660377359 and parameters: {'n_layers': 4, 'n_units_0': 90, 'n_units_1': 77, 'n_units_2': 14, 'n_units_3': 5}. Best is trial 31 with value: 0.883495145631068.\n",
      "[I 2023-12-08 11:02:21,462] Trial 98 finished with value: 0.794759825327511 and parameters: {'n_layers': 4, 'n_units_0': 27, 'n_units_1': 86, 'n_units_2': 20, 'n_units_3': 75}. Best is trial 31 with value: 0.883495145631068.\n",
      "[I 2023-12-08 11:02:25,514] Trial 99 finished with value: 0.8272727272727274 and parameters: {'n_layers': 4, 'n_units_0': 67, 'n_units_1': 67, 'n_units_2': 24, 'n_units_3': 58}. Best is trial 31 with value: 0.883495145631068.\n"
     ]
    }
   ],
   "source": [
    "import optuna\n",
    "import sklearn\n",
    "import sklearn.datasets\n",
    "import sklearn.neural_network\n",
    "\n",
    "def objective(trial):\n",
    "\n",
    "    # Params\n",
    "    n_layers = trial.suggest_int('n_layers', 1, 4)\n",
    "    layers = []\n",
    "    for i in range(n_layers):\n",
    "        layers.append(trial.suggest_int(f'n_units_{i}', 1, 100))\n",
    "        \n",
    "    # Create Trial Model\n",
    "    mlpc_trial = MLPClassifier(hidden_layer_sizes=tuple(layers), max_iter=1000, random_state=1)\n",
    "    mlpc_trial.fit(train_data_prep_ros, train_target_ros)\n",
    "\n",
    "    # Predict by un-oversampled test data\n",
    "    prediction = mlpc_trial.predict(test_data_u_ros)\n",
    "    return f1_score(test_target_u_ros, prediction)\n",
    "\n",
    "study = optuna.create_study(direction='maximize')\n",
    "study.optimize(objective, n_trials=100)"
   ]
  },
  {
   "cell_type": "code",
   "execution_count": null,
   "id": "18aae7af",
   "metadata": {},
   "outputs": [
    {
     "name": "stdout",
     "output_type": "stream",
     "text": [
      "Best trial:\n",
      "  Value: 0.883495145631068\n",
      "  Params: \n",
      "    n_layers: 4\n",
      "    n_units_0: 94\n",
      "    n_units_1: 83\n",
      "    n_units_2: 13\n",
      "    n_units_3: 65\n"
     ]
    }
   ],
   "source": [
    "print(\"Best trial:\")\n",
    "trial = study.best_trial\n",
    "\n",
    "print(\"  Value: {}\".format(trial.value))\n",
    "\n",
    "print(\"  Params: \")\n",
    "for key, value in trial.params.items():\n",
    "    print(\"    {}: {}\".format(key, value))"
   ]
  },
  {
   "cell_type": "code",
   "execution_count": 43,
   "metadata": {},
   "outputs": [
    {
     "name": "stdout",
     "output_type": "stream",
     "text": [
      "Model Performance: f1 = 0.99, accuracy 98.81 %\n",
      "0.9880681818181818\n",
      "0.9881154499151102\n"
     ]
    }
   ],
   "source": [
    "ann_ros = MLPClassifier(hidden_layer_sizes=(94, 83, 13, 65), max_iter=10000, random_state=1)\n",
    "ann_ros.fit(train_data_prep_ros, train_target_ros)\n",
    "prediction = ann_ros.predict(test_data_prep_ros)\n",
    "acc = 100 * accuracy_score(test_target_ros, prediction)\n",
    "f1 = f1_score(test_target_ros, prediction)\n",
    "print(\"Model Performance: f1 = %.2f, accuracy %.2f %%\" % (f1, acc))\n",
    "print(ann_ros.score(test_data_prep_ros, test_target_ros))\n",
    "print(f1)"
   ]
  },
  {
   "cell_type": "code",
   "execution_count": 39,
   "metadata": {},
   "outputs": [
    {
     "name": "stdout",
     "output_type": "stream",
     "text": [
      "Accuracy of the Model: 99.1202 %\n",
      "F1 Score of the Model: 0.883495145631068\n",
      "              precision    recall  f1-score   support\n",
      "\n",
      "           0       1.00      0.99      1.00      2637\n",
      "           1       0.79      1.00      0.88        91\n",
      "\n",
      "    accuracy                           0.99      2728\n",
      "   macro avg       0.90      1.00      0.94      2728\n",
      "weighted avg       0.99      0.99      0.99      2728\n",
      "\n"
     ]
    },
    {
     "data": {
      "text/plain": [
       "<sklearn.metrics._plot.confusion_matrix.ConfusionMatrixDisplay at 0x157334a56d0>"
      ]
     },
     "execution_count": 39,
     "metadata": {},
     "output_type": "execute_result"
    },
    {
     "data": {
      "image/png": "[encoded data removed]",
      "text/plain": [
       "<Figure size 432x288 with 2 Axes>"
      ]
     },
     "metadata": {
      "needs_background": "light"
     },
     "output_type": "display_data"
    }
   ],
   "source": [
    "prediction = ann_ros.predict(test_data_u_ros)\n",
    "acc = 100 * accuracy_score(test_target_u_ros, prediction)\n",
    "\n",
    "print(\"Accuracy of the Model: %g %%\" %acc)\n",
    "f1 = f1_score(test_target_u_ros, prediction)\n",
    "print(\"F1 Score of the Model:\", f1)\n",
    "print(classification_report(test_target_u_ros, prediction))\n",
    "ConfusionMatrixDisplay.from_predictions(test_target_u_ros, prediction)"
   ]
  },
  {
   "cell_type": "markdown",
   "metadata": {},
   "source": [
    "#### 4.2.2 Logistic Regression"
   ]
  },
  {
   "cell_type": "code",
   "execution_count": 44,
   "metadata": {},
   "outputs": [
    {
     "name": "stdout",
     "output_type": "stream",
     "text": [
      "Model Stats: f1 = 0.89, accuracy 88.86 %\n"
     ]
    }
   ],
   "source": [
    "logreg_ros = LogisticRegression(random_state=1, max_iter=10000)\n",
    "logreg_ros.fit(train_data_prep_ros, train_target_ros)\n",
    "prediction = logreg_ros.predict(test_data_prep_ros)\n",
    "acc = 100 * accuracy_score(test_target_ros, prediction)\n",
    "f1 = f1_score(test_target_ros, prediction)\n",
    "print(\"Model Stats: f1 = %.2f, accuracy %.2f %%\" % (f1, acc))"
   ]
  },
  {
   "cell_type": "markdown",
   "metadata": {},
   "source": [
    "#### 4.2.3 Gaussian Naive Bayes"
   ]
  },
  {
   "cell_type": "code",
   "execution_count": 45,
   "metadata": {},
   "outputs": [
    {
     "name": "stdout",
     "output_type": "stream",
     "text": [
      "Model Stats: f1 = 0.65, accuracy 52.03 %\n"
     ]
    }
   ],
   "source": [
    "gnb_ros = GaussianNB()\n",
    "gnb_ros.fit(train_data_prep_ros, train_target_ros)\n",
    "prediction = gnb_ros.predict(test_data_prep_ros)\n",
    "acc = 100 * accuracy_score(test_target_ros, prediction)\n",
    "f1 = f1_score(test_target_ros, prediction)\n",
    "print(\"Model Stats: f1 = %.2f, accuracy %.2f %%\" % (f1, acc))"
   ]
  },
  {
   "cell_type": "markdown",
   "metadata": {},
   "source": [
    "#### 4.2.4 KNN"
   ]
  },
  {
   "cell_type": "code",
   "execution_count": 46,
   "metadata": {},
   "outputs": [
    {
     "name": "stdout",
     "output_type": "stream",
     "text": [
      "Model Stats for k = 1: f1 = 0.98, accuracy 98.05 %\n",
      "Model Stats for k = 2: f1 = 0.98, accuracy 98.05 %\n"
     ]
    },
    {
     "name": "stdout",
     "output_type": "stream",
     "text": [
      "Model Stats for k = 3: f1 = 0.97, accuracy 96.88 %\n",
      "Model Stats for k = 4: f1 = 0.97, accuracy 96.88 %\n",
      "Model Stats for k = 5: f1 = 0.96, accuracy 95.59 %\n",
      "Model Stats for k = 6: f1 = 0.96, accuracy 95.59 %\n",
      "Model Stats for k = 7: f1 = 0.95, accuracy 94.47 %\n",
      "Model Stats for k = 8: f1 = 0.95, accuracy 94.47 %\n",
      "Model Stats for k = 9: f1 = 0.94, accuracy 93.52 %\n",
      "Model Stats for k = 10: f1 = 0.94, accuracy 93.52 %\n",
      "Model Stats for k = 11: f1 = 0.93, accuracy 92.71 %\n",
      "Model Stats for k = 12: f1 = 0.93, accuracy 92.71 %\n",
      "Model Stats for k = 13: f1 = 0.92, accuracy 91.95 %\n",
      "Model Stats for k = 14: f1 = 0.92, accuracy 91.95 %\n",
      "Model Stats for k = 15: f1 = 0.92, accuracy 91.17 %\n",
      "Model Stats for k = 16: f1 = 0.92, accuracy 91.17 %\n",
      "Model Stats for k = 17: f1 = 0.91, accuracy 90.76 %\n",
      "Model Stats for k = 18: f1 = 0.92, accuracy 91.17 %\n",
      "Model Stats for k = 19: f1 = 0.91, accuracy 90.74 %\n",
      "Model Stats for k = 20: f1 = 0.91, accuracy 90.74 %\n",
      "Model Stats for k = 21: f1 = 0.91, accuracy 90.11 %\n",
      "Model Stats for k = 22: f1 = 0.91, accuracy 90.15 %\n",
      "Model Stats for k = 23: f1 = 0.91, accuracy 89.68 %\n",
      "Model Stats for k = 24: f1 = 0.91, accuracy 89.81 %\n",
      "Model Stats for k = 25: f1 = 0.90, accuracy 89.43 %\n",
      "Model Stats for k = 26: f1 = 0.90, accuracy 89.17 %\n",
      "Model Stats for k = 27: f1 = 0.90, accuracy 88.75 %\n",
      "Model Stats for k = 28: f1 = 0.89, accuracy 88.07 %\n",
      "Model Stats for k = 29: f1 = 0.89, accuracy 87.61 %\n",
      "Model Stats for k = 30: f1 = 0.89, accuracy 87.82 %\n"
     ]
    }
   ],
   "source": [
    "for k in range(1, 31):\n",
    "    knn_ros = KNeighborsClassifier(n_neighbors=k)\n",
    "    knn_ros.fit(train_data_prep_ros, train_target_ros)\n",
    "    prediction = knn_ros.predict(test_data_prep_ros)\n",
    "    acc = 100 * accuracy_score(test_target_ros, prediction)\n",
    "    f1 = f1_score(test_target_ros, prediction)\n",
    "    print(\"Model Stats for k = %g: f1 = %.2f, accuracy %.2f %%\" % (k, f1, acc))"
   ]
  },
  {
   "cell_type": "code",
   "execution_count": 47,
   "metadata": {},
   "outputs": [
    {
     "name": "stdout",
     "output_type": "stream",
     "text": [
      "Model Stats for k = 2: f1 = 0.98, accuracy 98.05 %\n"
     ]
    }
   ],
   "source": [
    "k = 2\n",
    "\n",
    "knn_ros = KNeighborsClassifier(n_neighbors=k)\n",
    "knn_ros.fit(train_data_prep_ros, train_target_ros)\n",
    "prediction = knn_ros.predict(test_data_prep_ros)\n",
    "acc = 100 * accuracy_score(test_target_ros, prediction)\n",
    "f1 = f1_score(test_target_ros, prediction)\n",
    "print(\"Model Stats for k = %g: f1 = %.2f, accuracy %.2f %%\" % (k, f1, acc))"
   ]
  },
  {
   "cell_type": "markdown",
   "metadata": {},
   "source": [
    "#### 4.2.5 Light GBM (LGBM)"
   ]
  },
  {
   "cell_type": "code",
   "execution_count": 48,
   "metadata": {},
   "outputs": [
    {
     "name": "stdout",
     "output_type": "stream",
     "text": [
      "[LightGBM] [Info] Number of positive: 3980, number of negative: 3938\n",
      "[LightGBM] [Info] Auto-choosing col-wise multi-threading, the overhead of testing was 0.002433 seconds.\n",
      "You can set `force_col_wise=true` to remove the overhead.\n",
      "[LightGBM] [Info] Total Bins 15805\n",
      "[LightGBM] [Info] Number of data points in the train set: 7918, number of used features: 62\n",
      "[LightGBM] [Info] [binary:BoostFromScore]: pavg=0.502652 -> initscore=0.010609\n",
      "[LightGBM] [Info] Start training from score 0.010609\n"
     ]
    },
    {
     "name": "stdout",
     "output_type": "stream",
     "text": [
      "Model Stats: f1 = 0.99, accuracy 98.75 %\n"
     ]
    }
   ],
   "source": [
    "lgbm_ros = LGBMClassifier()\n",
    "lgbm_ros.fit(train_data_prep_ros, train_target_ros)\n",
    "prediction = lgbm_ros.predict(test_data_prep_ros)\n",
    "acc = 100 * accuracy_score(test_target_ros, prediction)\n",
    "f1 = f1_score(test_target_ros, prediction)\n",
    "print(\"Model Stats: f1 = %.2f, accuracy %.2f %%\" % (f1, acc))"
   ]
  },
  {
   "cell_type": "code",
   "execution_count": 33,
   "metadata": {},
   "outputs": [
    {
     "name": "stderr",
     "output_type": "stream",
     "text": [
      "[I 2023-12-08 10:16:48,241] A new study created in memory with name: no-name-9103165b-b03a-4ebf-961b-e59463ac22fa\n",
      "[I 2023-12-08 10:16:48,937] Trial 0 finished with value: 0.9926686217008798 and parameters: {'lambda_l1': 1.1040871146498405e-07, 'lambda_l2': 3.293059790943949e-08, 'num_leaves': 152, 'feature_fraction': 0.7305107307632857, 'bagging_fraction': 0.9127439272050993, 'bagging_freq': 5, 'min_child_samples': 77}. Best is trial 0 with value: 0.9926686217008798.\n",
      "[I 2023-12-08 10:16:50,020] Trial 1 finished with value: 0.9970674486803519 and parameters: {'lambda_l1': 1.5123915041045091e-05, 'lambda_l2': 0.0031079972517546284, 'num_leaves': 246, 'feature_fraction': 0.703764185148986, 'bagging_fraction': 0.7714032550002234, 'bagging_freq': 6, 'min_child_samples': 22}. Best is trial 1 with value: 0.9970674486803519.\n",
      "[I 2023-12-08 10:16:50,509] Trial 2 finished with value: 0.9941348973607038 and parameters: {'lambda_l1': 0.04515967202016958, 'lambda_l2': 2.1949366988289473e-08, 'num_leaves': 59, 'feature_fraction': 0.5084236499338288, 'bagging_fraction': 0.8236250751463983, 'bagging_freq': 1, 'min_child_samples': 25}. Best is trial 1 with value: 0.9970674486803519.\n",
      "[I 2023-12-08 10:16:50,977] Trial 3 finished with value: 0.9904692082111437 and parameters: {'lambda_l1': 0.0031705122018089206, 'lambda_l2': 0.005217942275274452, 'num_leaves': 162, 'feature_fraction': 0.6558915229131321, 'bagging_fraction': 0.6710962955269768, 'bagging_freq': 1, 'min_child_samples': 75}. Best is trial 1 with value: 0.9970674486803519.\n",
      "[I 2023-12-08 10:16:51,586] Trial 4 finished with value: 0.9926686217008798 and parameters: {'lambda_l1': 1.264762877748522e-08, 'lambda_l2': 0.001279722186030857, 'num_leaves': 227, 'feature_fraction': 0.8104437982685921, 'bagging_fraction': 0.6397374362967503, 'bagging_freq': 7, 'min_child_samples': 68}. Best is trial 1 with value: 0.9970674486803519.\n",
      "[I 2023-12-08 10:16:52,307] Trial 5 finished with value: 0.9937683284457478 and parameters: {'lambda_l1': 4.9715424574559814e-08, 'lambda_l2': 0.018567677583661932, 'num_leaves': 143, 'feature_fraction': 0.8198418807145771, 'bagging_fraction': 0.983663448726828, 'bagging_freq': 7, 'min_child_samples': 74}. Best is trial 1 with value: 0.9970674486803519.\n",
      "[I 2023-12-08 10:16:52,823] Trial 6 finished with value: 0.9923020527859238 and parameters: {'lambda_l1': 6.032516363358636e-07, 'lambda_l2': 2.1550634678446726e-07, 'num_leaves': 163, 'feature_fraction': 0.6176187719637729, 'bagging_fraction': 0.5625700960714913, 'bagging_freq': 4, 'min_child_samples': 58}. Best is trial 1 with value: 0.9970674486803519.\n",
      "[I 2023-12-08 10:16:53,375] Trial 7 finished with value: 0.9952346041055719 and parameters: {'lambda_l1': 1.5568589350501067e-05, 'lambda_l2': 7.585273536493899e-05, 'num_leaves': 163, 'feature_fraction': 0.583609058151312, 'bagging_fraction': 0.9806645606272754, 'bagging_freq': 3, 'min_child_samples': 78}. Best is trial 1 with value: 0.9970674486803519.\n",
      "[I 2023-12-08 10:16:53,938] Trial 8 finished with value: 0.9934017595307918 and parameters: {'lambda_l1': 1.8583283901512165e-06, 'lambda_l2': 2.7127293184254457e-06, 'num_leaves': 237, 'feature_fraction': 0.6740500543588286, 'bagging_fraction': 0.7680476851458684, 'bagging_freq': 5, 'min_child_samples': 85}. Best is trial 1 with value: 0.9970674486803519.\n",
      "[I 2023-12-08 10:16:54,514] Trial 9 finished with value: 0.9934017595307918 and parameters: {'lambda_l1': 5.4484541145711875e-05, 'lambda_l2': 5.538920992442244e-07, 'num_leaves': 228, 'feature_fraction': 0.4339640192661356, 'bagging_fraction': 0.6421120180795081, 'bagging_freq': 4, 'min_child_samples': 53}. Best is trial 1 with value: 0.9970674486803519.\n",
      "[I 2023-12-08 10:16:54,939] Trial 10 finished with value: 0.969574780058651 and parameters: {'lambda_l1': 6.890187594757858, 'lambda_l2': 2.629114602872607, 'num_leaves': 43, 'feature_fraction': 0.9975681618995236, 'bagging_fraction': 0.4921779476742335, 'bagging_freq': 6, 'min_child_samples': 5}. Best is trial 1 with value: 0.9970674486803519.\n",
      "[I 2023-12-08 10:16:55,383] Trial 11 finished with value: 0.9941348973607038 and parameters: {'lambda_l1': 3.77679568639658e-05, 'lambda_l2': 3.741125969931426e-05, 'num_leaves': 93, 'feature_fraction': 0.5479483791266713, 'bagging_fraction': 0.860210489190001, 'bagging_freq': 3, 'min_child_samples': 100}. Best is trial 1 with value: 0.9970674486803519.\n",
      "[I 2023-12-08 10:16:56,257] Trial 12 finished with value: 0.9981671554252199 and parameters: {'lambda_l1': 5.948405388231482e-06, 'lambda_l2': 8.753605853150372e-05, 'num_leaves': 192, 'feature_fraction': 0.4044121456646266, 'bagging_fraction': 0.9885171716455551, 'bagging_freq': 3, 'min_child_samples': 38}. Best is trial 12 with value: 0.9981671554252199.\n",
      "[I 2023-12-08 10:16:56,900] Trial 13 finished with value: 0.9970674486803519 and parameters: {'lambda_l1': 4.037506033999758e-06, 'lambda_l2': 0.07089558841858583, 'num_leaves': 200, 'feature_fraction': 0.40049586422960254, 'bagging_fraction': 0.7793123132267192, 'bagging_freq': 2, 'min_child_samples': 34}. Best is trial 12 with value: 0.9981671554252199.\n",
      "[I 2023-12-08 10:16:57,807] Trial 14 finished with value: 0.9970674486803519 and parameters: {'lambda_l1': 0.00030486288045851245, 'lambda_l2': 0.00019974233510586419, 'num_leaves': 201, 'feature_fraction': 0.48102648328260145, 'bagging_fraction': 0.8945353714202752, 'bagging_freq': 5, 'min_child_samples': 32}. Best is trial 12 with value: 0.9981671554252199.\n",
      "[I 2023-12-08 10:16:59,375] Trial 15 finished with value: 0.9978005865102639 and parameters: {'lambda_l1': 1.851231524185308e-06, 'lambda_l2': 1.0077798753953843e-05, 'num_leaves': 251, 'feature_fraction': 0.534888752903876, 'bagging_fraction': 0.7516947498354899, 'bagging_freq': 3, 'min_child_samples': 15}. Best is trial 12 with value: 0.9981671554252199.\n",
      "[I 2023-12-08 10:17:01,002] Trial 16 finished with value: 0.999633431085044 and parameters: {'lambda_l1': 2.5730164324497303e-07, 'lambda_l2': 9.341840190177615e-06, 'num_leaves': 200, 'feature_fraction': 0.4815712133355077, 'bagging_fraction': 0.7201145525570019, 'bagging_freq': 3, 'min_child_samples': 8}. Best is trial 16 with value: 0.999633431085044.\n",
      "[I 2023-12-08 10:17:01,561] Trial 17 finished with value: 0.9915689149560117 and parameters: {'lambda_l1': 2.6044818933463654e-07, 'lambda_l2': 4.959363887904369e-06, 'num_leaves': 115, 'feature_fraction': 0.45479020445826057, 'bagging_fraction': 0.4075901637980989, 'bagging_freq': 2, 'min_child_samples': 36}. Best is trial 16 with value: 0.999633431085044.\n",
      "[I 2023-12-08 10:17:01,812] Trial 18 finished with value: 0.9468475073313783 and parameters: {'lambda_l1': 5.1479032769131735e-08, 'lambda_l2': 0.0002632834605821099, 'num_leaves': 8, 'feature_fraction': 0.40828869838364534, 'bagging_fraction': 0.7028901723924684, 'bagging_freq': 2, 'min_child_samples': 45}. Best is trial 16 with value: 0.999633431085044.\n",
      "[I 2023-12-08 10:17:03,209] Trial 19 finished with value: 0.998533724340176 and parameters: {'lambda_l1': 3.2100010732718585e-07, 'lambda_l2': 2.8526637502188748e-05, 'num_leaves': 187, 'feature_fraction': 0.4846941575007972, 'bagging_fraction': 0.9545333044713885, 'bagging_freq': 3, 'min_child_samples': 10}. Best is trial 16 with value: 0.999633431085044.\n",
      "[I 2023-12-08 10:17:04,705] Trial 20 finished with value: 0.998900293255132 and parameters: {'lambda_l1': 1.2046852255811958e-08, 'lambda_l2': 1.1377058622819368e-06, 'num_leaves': 186, 'feature_fraction': 0.5080112422653992, 'bagging_fraction': 0.8431997426929734, 'bagging_freq': 4, 'min_child_samples': 6}. Best is trial 16 with value: 0.999633431085044.\n",
      "[I 2023-12-08 10:17:06,153] Trial 21 finished with value: 0.999633431085044 and parameters: {'lambda_l1': 1.4759564777836638e-08, 'lambda_l2': 9.532338045426818e-07, 'num_leaves': 184, 'feature_fraction': 0.49068026491023164, 'bagging_fraction': 0.920164963722885, 'bagging_freq': 4, 'min_child_samples': 8}. Best is trial 16 with value: 0.999633431085044.\n",
      "[I 2023-12-08 10:17:07,157] Trial 22 finished with value: 0.998900293255132 and parameters: {'lambda_l1': 4.54849030362905e-08, 'lambda_l2': 5.243721982743862e-07, 'num_leaves': 120, 'feature_fraction': 0.5332739850713054, 'bagging_fraction': 0.8412107664986163, 'bagging_freq': 4, 'min_child_samples': 19}. Best is trial 16 with value: 0.999633431085044.\n",
      "[I 2023-12-08 10:17:08,581] Trial 23 finished with value: 0.998900293255132 and parameters: {'lambda_l1': 1.1056154521661744e-08, 'lambda_l2': 3.5052372161572557e-06, 'num_leaves': 215, 'feature_fraction': 0.46762892227730524, 'bagging_fraction': 0.9193838854150544, 'bagging_freq': 4, 'min_child_samples': 5}. Best is trial 16 with value: 0.999633431085044.\n",
      "[I 2023-12-08 10:17:10,006] Trial 24 finished with value: 0.998900293255132 and parameters: {'lambda_l1': 4.4828132783013007e-07, 'lambda_l2': 1.5838925288218118e-07, 'num_leaves': 179, 'feature_fraction': 0.5854366518456504, 'bagging_fraction': 0.8760575620599602, 'bagging_freq': 5, 'min_child_samples': 13}. Best is trial 16 with value: 0.999633431085044.\n",
      "[I 2023-12-08 10:17:11,224] Trial 25 finished with value: 0.9974340175953079 and parameters: {'lambda_l1': 1.0329587219704183e-08, 'lambda_l2': 1.3247389280737045e-06, 'num_leaves': 209, 'feature_fraction': 0.49322274179742875, 'bagging_fraction': 0.8181617806189933, 'bagging_freq': 4, 'min_child_samples': 26}. Best is trial 16 with value: 0.999633431085044.\n",
      "[I 2023-12-08 10:17:12,656] Trial 26 finished with value: 0.998900293255132 and parameters: {'lambda_l1': 6.677117558195222e-08, 'lambda_l2': 1.4564197214836252e-05, 'num_leaves': 179, 'feature_fraction': 0.44442827935310214, 'bagging_fraction': 0.9042422347567257, 'bagging_freq': 2, 'min_child_samples': 12}. Best is trial 16 with value: 0.999633431085044.\n",
      "[I 2023-12-08 10:17:13,681] Trial 27 finished with value: 0.9981671554252199 and parameters: {'lambda_l1': 9.005650294799653e-07, 'lambda_l2': 7.746485878714444e-08, 'num_leaves': 139, 'feature_fraction': 0.5723468891237009, 'bagging_fraction': 0.9385108009424515, 'bagging_freq': 4, 'min_child_samples': 21}. Best is trial 16 with value: 0.999633431085044.\n",
      "[I 2023-12-08 10:17:14,800] Trial 28 finished with value: 0.998900293255132 and parameters: {'lambda_l1': 1.4578221986327258e-07, 'lambda_l2': 1.288104800942085e-08, 'num_leaves': 95, 'feature_fraction': 0.5180373923592747, 'bagging_fraction': 0.8653328999434393, 'bagging_freq': 6, 'min_child_samples': 5}. Best is trial 16 with value: 0.999633431085044.\n",
      "[I 2023-12-08 10:17:15,951] Trial 29 finished with value: 0.9959677419354839 and parameters: {'lambda_l1': 1.2630841327296908e-07, 'lambda_l2': 4.9921637351307446e-08, 'num_leaves': 220, 'feature_fraction': 0.6188823184165197, 'bagging_fraction': 0.8075085599688714, 'bagging_freq': 5, 'min_child_samples': 44}. Best is trial 16 with value: 0.999633431085044.\n",
      "[I 2023-12-08 10:17:17,312] Trial 30 finished with value: 0.9981671554252199 and parameters: {'lambda_l1': 2.4573960572788696e-08, 'lambda_l2': 9.513656319173694e-07, 'num_leaves': 169, 'feature_fraction': 0.4590192287123155, 'bagging_fraction': 0.7268395814336168, 'bagging_freq': 3, 'min_child_samples': 29}. Best is trial 16 with value: 0.999633431085044.\n",
      "[I 2023-12-08 10:17:18,729] Trial 31 finished with value: 0.998900293255132 and parameters: {'lambda_l1': 4.4549912848017905e-08, 'lambda_l2': 4.397602824059193e-07, 'num_leaves': 108, 'feature_fraction': 0.5067724329676833, 'bagging_fraction': 0.84174244476483, 'bagging_freq': 4, 'min_child_samples': 16}. Best is trial 16 with value: 0.999633431085044.\n",
      "[I 2023-12-08 10:17:19,839] Trial 32 finished with value: 0.9981671554252199 and parameters: {'lambda_l1': 1.0301297716744405e-07, 'lambda_l2': 1.5045745523994234e-06, 'num_leaves': 125, 'feature_fraction': 0.5493241432465822, 'bagging_fraction': 0.8896025812556194, 'bagging_freq': 5, 'min_child_samples': 20}. Best is trial 16 with value: 0.999633431085044.\n",
      "[I 2023-12-08 10:17:20,868] Trial 33 finished with value: 0.9981671554252199 and parameters: {'lambda_l1': 2.868465358163434e-08, 'lambda_l2': 1.6750654870368103e-07, 'num_leaves': 149, 'feature_fraction': 0.5215287556185328, 'bagging_fraction': 0.8032938106030167, 'bagging_freq': 4, 'min_child_samples': 19}. Best is trial 16 with value: 0.999633431085044.\n",
      "[I 2023-12-08 10:17:21,602] Trial 34 finished with value: 0.998533724340176 and parameters: {'lambda_l1': 1.0028590603518727e-08, 'lambda_l2': 8.062838478617321e-06, 'num_leaves': 76, 'feature_fraction': 0.4862958185870236, 'bagging_fraction': 0.8496018650125583, 'bagging_freq': 4, 'min_child_samples': 9}. Best is trial 16 with value: 0.999633431085044.\n",
      "[I 2023-12-08 10:17:22,446] Trial 35 finished with value: 0.998533724340176 and parameters: {'lambda_l1': 2.758287733205476e-07, 'lambda_l2': 3.452974935124228e-08, 'num_leaves': 129, 'feature_fraction': 0.4428590390496805, 'bagging_fraction': 0.8251995302656278, 'bagging_freq': 3, 'min_child_samples': 24}. Best is trial 16 with value: 0.999633431085044.\n",
      "[I 2023-12-08 10:17:23,626] Trial 36 finished with value: 0.998533724340176 and parameters: {'lambda_l1': 1.0174138740224256e-07, 'lambda_l2': 6.081829125694716e-07, 'num_leaves': 174, 'feature_fraction': 0.5431557912681929, 'bagging_fraction': 0.934287604550778, 'bagging_freq': 1, 'min_child_samples': 16}. Best is trial 16 with value: 0.999633431085044.\n",
      "[I 2023-12-08 10:17:24,753] Trial 37 finished with value: 0.998900293255132 and parameters: {'lambda_l1': 2.093327157742e-08, 'lambda_l2': 3.2432417956534967e-06, 'num_leaves': 152, 'feature_fraction': 0.5132516295642682, 'bagging_fraction': 0.7915670761641838, 'bagging_freq': 4, 'min_child_samples': 10}. Best is trial 16 with value: 0.999633431085044.\n",
      "[I 2023-12-08 10:17:25,909] Trial 38 finished with value: 0.9974340175953079 and parameters: {'lambda_l1': 5.958991854591289e-07, 'lambda_l2': 1.3841499411130991e-07, 'num_leaves': 241, 'feature_fraction': 0.6198546107841415, 'bagging_fraction': 0.7532938855528376, 'bagging_freq': 6, 'min_child_samples': 27}. Best is trial 16 with value: 0.999633431085044.\n",
      "[I 2023-12-08 10:17:26,567] Trial 39 finished with value: 0.9934017595307918 and parameters: {'lambda_l1': 3.4209356366703016e-08, 'lambda_l2': 1.4892185219098141e-08, 'num_leaves': 196, 'feature_fraction': 0.5725872018134782, 'bagging_fraction': 0.834734936624204, 'bagging_freq': 5, 'min_child_samples': 61}. Best is trial 16 with value: 0.999633431085044.\n",
      "[I 2023-12-08 10:17:27,455] Trial 40 finished with value: 0.998900293255132 and parameters: {'lambda_l1': 2.0469614734424933e-07, 'lambda_l2': 3.3684068457447986e-07, 'num_leaves': 130, 'feature_fraction': 0.43492279884395935, 'bagging_fraction': 0.9603445860010661, 'bagging_freq': 3, 'min_child_samples': 18}. Best is trial 16 with value: 0.999633431085044.\n",
      "[I 2023-12-08 10:17:28,858] Trial 41 finished with value: 0.998900293255132 and parameters: {'lambda_l1': 1.2029668747064206e-08, 'lambda_l2': 2.5517316217347883e-06, 'num_leaves': 212, 'feature_fraction': 0.4650731416894272, 'bagging_fraction': 0.9119772046729683, 'bagging_freq': 4, 'min_child_samples': 5}. Best is trial 16 with value: 0.999633431085044.\n",
      "[I 2023-12-08 10:17:30,373] Trial 42 finished with value: 0.999633431085044 and parameters: {'lambda_l1': 6.357552659450949e-08, 'lambda_l2': 4.743673307359e-06, 'num_leaves': 222, 'feature_fraction': 0.48481595831110424, 'bagging_fraction': 0.926671073491786, 'bagging_freq': 4, 'min_child_samples': 8}. Best is trial 16 with value: 0.999633431085044.\n",
      "[I 2023-12-08 10:17:31,825] Trial 43 finished with value: 0.999633431085044 and parameters: {'lambda_l1': 5.274822597532759e-08, 'lambda_l2': 9.883994137447048e-07, 'num_leaves': 232, 'feature_fraction': 0.4992644330918855, 'bagging_fraction': 0.8688851849713197, 'bagging_freq': 4, 'min_child_samples': 10}. Best is trial 16 with value: 0.999633431085044.\n",
      "[I 2023-12-08 10:17:33,615] Trial 44 finished with value: 0.999266862170088 and parameters: {'lambda_l1': 1.1857475732405375e-06, 'lambda_l2': 1.9818842561792938e-05, 'num_leaves': 227, 'feature_fraction': 0.49316557302951874, 'bagging_fraction': 0.8733070361113718, 'bagging_freq': 3, 'min_child_samples': 10}. Best is trial 16 with value: 0.999633431085044.\n",
      "[I 2023-12-08 10:17:35,457] Trial 45 finished with value: 0.999633431085044 and parameters: {'lambda_l1': 1.2588289201810344e-06, 'lambda_l2': 2.6811587414405825e-05, 'num_leaves': 256, 'feature_fraction': 0.420440621811702, 'bagging_fraction': 0.9925462763921689, 'bagging_freq': 3, 'min_child_samples': 11}. Best is trial 16 with value: 0.999633431085044.\n",
      "[I 2023-12-08 10:17:36,961] Trial 46 finished with value: 0.999266862170088 and parameters: {'lambda_l1': 2.0637714595812297e-06, 'lambda_l2': 7.083946398096018e-06, 'num_leaves': 256, 'feature_fraction': 0.43681862688740697, 'bagging_fraction': 0.999370839781298, 'bagging_freq': 2, 'min_child_samples': 13}. Best is trial 16 with value: 0.999633431085044.\n",
      "[I 2023-12-08 10:17:38,503] Trial 47 finished with value: 0.998533724340176 and parameters: {'lambda_l1': 7.734245030666633e-07, 'lambda_l2': 5.8260770732984305e-05, 'num_leaves': 235, 'feature_fraction': 0.4751601704450849, 'bagging_fraction': 0.9659753239198143, 'bagging_freq': 3, 'min_child_samples': 22}. Best is trial 16 with value: 0.999633431085044.\n",
      "[I 2023-12-08 10:17:39,065] Trial 48 finished with value: 0.9930351906158358 and parameters: {'lambda_l1': 4.258539710429548e-06, 'lambda_l2': 2.0563686822166722e-05, 'num_leaves': 246, 'feature_fraction': 0.41713859470489356, 'bagging_fraction': 0.9762058414911475, 'bagging_freq': 3, 'min_child_samples': 90}. Best is trial 16 with value: 0.999633431085044.\n",
      "[I 2023-12-08 10:17:39,920] Trial 49 finished with value: 0.9978005865102639 and parameters: {'lambda_l1': 9.412651788634352e-08, 'lambda_l2': 0.0008653415487601845, 'num_leaves': 235, 'feature_fraction': 0.42236064354401914, 'bagging_fraction': 0.9248522484137602, 'bagging_freq': 5, 'min_child_samples': 31}. Best is trial 16 with value: 0.999633431085044.\n",
      "[I 2023-12-08 10:17:41,418] Trial 50 finished with value: 0.999266862170088 and parameters: {'lambda_l1': 3.092815547124208e-07, 'lambda_l2': 1.0419449912658949e-05, 'num_leaves': 226, 'feature_fraction': 0.46302875757856565, 'bagging_fraction': 0.996450038946547, 'bagging_freq': 2, 'min_child_samples': 8}. Best is trial 16 with value: 0.999633431085044.\n",
      "[I 2023-12-08 10:17:42,876] Trial 51 finished with value: 0.998900293255132 and parameters: {'lambda_l1': 1.100542901736349e-06, 'lambda_l2': 5.1563577181300896e-05, 'num_leaves': 225, 'feature_fraction': 0.4848831992581528, 'bagging_fraction': 0.8803621058267429, 'bagging_freq': 3, 'min_child_samples': 12}. Best is trial 16 with value: 0.999633431085044.\n",
      "[I 2023-12-08 10:17:44,247] Trial 52 finished with value: 0.999633431085044 and parameters: {'lambda_l1': 1.5324627731076294e-05, 'lambda_l2': 2.0367669103671588e-05, 'num_leaves': 206, 'feature_fraction': 0.4053976259329509, 'bagging_fraction': 0.9346303922442294, 'bagging_freq': 3, 'min_child_samples': 15}. Best is trial 16 with value: 0.999633431085044.\n",
      "[I 2023-12-08 10:17:45,455] Trial 53 finished with value: 0.998900293255132 and parameters: {'lambda_l1': 2.2598028227374434e-05, 'lambda_l2': 0.00011287974746254615, 'num_leaves': 206, 'feature_fraction': 0.4186580083736887, 'bagging_fraction': 0.9456314621365919, 'bagging_freq': 3, 'min_child_samples': 15}. Best is trial 16 with value: 0.999633431085044.\n",
      "[I 2023-12-08 10:17:46,795] Trial 54 finished with value: 0.999266862170088 and parameters: {'lambda_l1': 6.335153478694198e-06, 'lambda_l2': 5.932331057864611e-06, 'num_leaves': 245, 'feature_fraction': 0.40728126012972415, 'bagging_fraction': 0.9070162647901495, 'bagging_freq': 2, 'min_child_samples': 8}. Best is trial 16 with value: 0.999633431085044.\n",
      "[I 2023-12-08 10:17:48,055] Trial 55 finished with value: 0.9981671554252199 and parameters: {'lambda_l1': 1.918136177464151e-07, 'lambda_l2': 1.9599926632184585e-05, 'num_leaves': 256, 'feature_fraction': 0.44665957592133193, 'bagging_fraction': 0.9715011174113428, 'bagging_freq': 4, 'min_child_samples': 24}. Best is trial 16 with value: 0.999633431085044.\n",
      "[I 2023-12-08 10:17:49,467] Trial 56 finished with value: 0.998900293255132 and parameters: {'lambda_l1': 6.14264017415652e-08, 'lambda_l2': 2.0005899139674375e-06, 'num_leaves': 196, 'feature_fraction': 0.40101488106793326, 'bagging_fraction': 0.9461411115507579, 'bagging_freq': 3, 'min_child_samples': 14}. Best is trial 16 with value: 0.999633431085044.\n",
      "[I 2023-12-08 10:17:50,363] Trial 57 finished with value: 0.9978005865102639 and parameters: {'lambda_l1': 9.935844096583624e-06, 'lambda_l2': 3.507639747588965e-05, 'num_leaves': 215, 'feature_fraction': 0.4300666809251194, 'bagging_fraction': 0.9335457611466029, 'bagging_freq': 7, 'min_child_samples': 39}. Best is trial 16 with value: 0.999633431085044.\n",
      "[I 2023-12-08 10:17:51,607] Trial 58 finished with value: 0.998900293255132 and parameters: {'lambda_l1': 4.3481262095235195e-07, 'lambda_l2': 4.504800902835765e-06, 'num_leaves': 235, 'feature_fraction': 0.45596283948669303, 'bagging_fraction': 0.8914367326269083, 'bagging_freq': 1, 'min_child_samples': 17}. Best is trial 16 with value: 0.999633431085044.\n",
      "[I 2023-12-08 10:17:52,196] Trial 59 finished with value: 0.9956011730205279 and parameters: {'lambda_l1': 2.043224847585644e-06, 'lambda_l2': 1.0213160725397045e-06, 'num_leaves': 201, 'feature_fraction': 0.4742143442596838, 'bagging_fraction': 0.9180214219120649, 'bagging_freq': 4, 'min_child_samples': 66}. Best is trial 16 with value: 0.999633431085044.\n",
      "[I 2023-12-08 10:17:53,449] Trial 60 finished with value: 0.9981671554252199 and parameters: {'lambda_l1': 9.405547956471141e-05, 'lambda_l2': 0.00015547909885746692, 'num_leaves': 185, 'feature_fraction': 0.5037302594642, 'bagging_fraction': 0.9811923158976781, 'bagging_freq': 5, 'min_child_samples': 8}. Best is trial 16 with value: 0.999633431085044.\n",
      "[I 2023-12-08 10:17:54,789] Trial 61 finished with value: 0.999266862170088 and parameters: {'lambda_l1': 1.5078026123395007e-06, 'lambda_l2': 1.701881793131638e-05, 'num_leaves': 221, 'feature_fraction': 0.49670141104990045, 'bagging_fraction': 0.8710316051182422, 'bagging_freq': 3, 'min_child_samples': 10}. Best is trial 16 with value: 0.999633431085044.\n",
      "[I 2023-12-08 10:17:56,191] Trial 62 finished with value: 0.999266862170088 and parameters: {'lambda_l1': 3.1444250634193663e-06, 'lambda_l2': 8.506088217775415e-06, 'num_leaves': 229, 'feature_fraction': 0.5316381688155558, 'bagging_fraction': 0.9570762121607327, 'bagging_freq': 3, 'min_child_samples': 11}. Best is trial 16 with value: 0.999633431085044.\n",
      "[I 2023-12-08 10:17:57,582] Trial 63 finished with value: 0.999633431085044 and parameters: {'lambda_l1': 6.39981764232485e-07, 'lambda_l2': 3.16497370075457e-05, 'num_leaves': 210, 'feature_fraction': 0.42872866189230296, 'bagging_fraction': 0.8995048658082979, 'bagging_freq': 4, 'min_child_samples': 5}. Best is trial 16 with value: 0.999633431085044.\n",
      "[I 2023-12-08 10:17:58,847] Trial 64 finished with value: 0.999266862170088 and parameters: {'lambda_l1': 4.540913035749283e-07, 'lambda_l2': 7.150557371691995e-05, 'num_leaves': 203, 'feature_fraction': 0.42278692642893545, 'bagging_fraction': 0.897202898710742, 'bagging_freq': 4, 'min_child_samples': 6}. Best is trial 16 with value: 0.999633431085044.\n",
      "[I 2023-12-08 10:18:00,181] Trial 65 finished with value: 0.999266862170088 and parameters: {'lambda_l1': 2.429095148252469e-08, 'lambda_l2': 3.106974770802091e-05, 'num_leaves': 162, 'feature_fraction': 0.40022650468942506, 'bagging_fraction': 0.8569931677970645, 'bagging_freq': 4, 'min_child_samples': 14}. Best is trial 16 with value: 0.999633431085044.\n",
      "[I 2023-12-08 10:18:01,895] Trial 66 finished with value: 0.999266862170088 and parameters: {'lambda_l1': 1.3973779289299612e-07, 'lambda_l2': 2.6803689816236816e-06, 'num_leaves': 211, 'feature_fraction': 0.4580642214404786, 'bagging_fraction': 0.9250695561008091, 'bagging_freq': 4, 'min_child_samples': 7}. Best is trial 16 with value: 0.999633431085044.\n",
      "[I 2023-12-08 10:18:03,138] Trial 67 finished with value: 0.9981671554252199 and parameters: {'lambda_l1': 6.877662700407791e-08, 'lambda_l2': 0.00035026429261292893, 'num_leaves': 190, 'feature_fraction': 0.4410275911010411, 'bagging_fraction': 0.9595126403464417, 'bagging_freq': 5, 'min_child_samples': 22}. Best is trial 16 with value: 0.999633431085044.\n",
      "[I 2023-12-08 10:18:03,967] Trial 68 finished with value: 0.9948680351906158 and parameters: {'lambda_l1': 1.923196404122196e-07, 'lambda_l2': 4.660345732479294e-06, 'num_leaves': 249, 'feature_fraction': 0.47458609171122257, 'bagging_fraction': 0.903845320031497, 'bagging_freq': 4, 'min_child_samples': 49}. Best is trial 16 with value: 0.999633431085044.\n",
      "[I 2023-12-08 10:18:05,446] Trial 69 finished with value: 0.999633431085044 and parameters: {'lambda_l1': 6.935509402226845e-07, 'lambda_l2': 1.3516919097720598e-05, 'num_leaves': 218, 'feature_fraction': 0.4297699058112108, 'bagging_fraction': 0.940778633331045, 'bagging_freq': 2, 'min_child_samples': 18}. Best is trial 16 with value: 0.999633431085044.\n",
      "[I 2023-12-08 10:18:07,019] Trial 70 finished with value: 0.998900293255132 and parameters: {'lambda_l1': 2.001089950891063e-08, 'lambda_l2': 1.627600062799548e-06, 'num_leaves': 240, 'feature_fraction': 0.5180845490422226, 'bagging_fraction': 0.9845416334816502, 'bagging_freq': 3, 'min_child_samples': 5}. Best is trial 16 with value: 0.999633431085044.\n",
      "[I 2023-12-08 10:18:08,291] Trial 71 finished with value: 0.998900293255132 and parameters: {'lambda_l1': 6.345770585661788e-07, 'lambda_l2': 1.3528244502253125e-05, 'num_leaves': 218, 'feature_fraction': 0.4254239699610188, 'bagging_fraction': 0.9364913330776246, 'bagging_freq': 2, 'min_child_samples': 18}. Best is trial 16 with value: 0.999633431085044.\n",
      "[I 2023-12-08 10:18:09,959] Trial 72 finished with value: 0.999266862170088 and parameters: {'lambda_l1': 5.0654742160097145e-08, 'lambda_l2': 1.1949803264483112e-05, 'num_leaves': 206, 'feature_fraction': 0.45452409724617177, 'bagging_fraction': 0.9506669552015918, 'bagging_freq': 2, 'min_child_samples': 12}. Best is trial 16 with value: 0.999633431085044.\n",
      "[I 2023-12-08 10:18:10,365] Trial 73 finished with value: 0.9904692082111437 and parameters: {'lambda_l1': 7.65819046342466e-07, 'lambda_l2': 5.742424866151572e-05, 'num_leaves': 28, 'feature_fraction': 0.4388261190965933, 'bagging_fraction': 0.8871450163696465, 'bagging_freq': 4, 'min_child_samples': 14}. Best is trial 16 with value: 0.999633431085044.\n",
      "[I 2023-12-08 10:18:11,817] Trial 74 finished with value: 0.998900293255132 and parameters: {'lambda_l1': 2.9017817126392266e-07, 'lambda_l2': 3.275623643848334e-05, 'num_leaves': 173, 'feature_fraction': 0.4881713598671017, 'bagging_fraction': 0.9166595650764532, 'bagging_freq': 1, 'min_child_samples': 8}. Best is trial 16 with value: 0.999633431085044.\n",
      "[I 2023-12-08 10:18:13,368] Trial 75 finished with value: 0.999266862170088 and parameters: {'lambda_l1': 9.614378510245229e-08, 'lambda_l2': 5.517817574539969e-06, 'num_leaves': 231, 'feature_fraction': 0.4129990435366027, 'bagging_fraction': 0.972126210521207, 'bagging_freq': 3, 'min_child_samples': 17}. Best is trial 16 with value: 0.999633431085044.\n",
      "[I 2023-12-08 10:18:14,821] Trial 76 finished with value: 0.998533724340176 and parameters: {'lambda_l1': 2.8239102181177975e-06, 'lambda_l2': 7.534976476016918e-07, 'num_leaves': 221, 'feature_fraction': 0.4733773440534115, 'bagging_fraction': 0.8589420243219574, 'bagging_freq': 2, 'min_child_samples': 21}. Best is trial 16 with value: 0.999633431085044.\n",
      "[I 2023-12-08 10:18:16,266] Trial 77 finished with value: 0.999266862170088 and parameters: {'lambda_l1': 4.0458795399700755e-08, 'lambda_l2': 2.6961980585697314e-06, 'num_leaves': 184, 'feature_fraction': 0.5024558977852828, 'bagging_fraction': 0.9379801992438748, 'bagging_freq': 4, 'min_child_samples': 11}. Best is trial 16 with value: 0.999633431085044.\n",
      "[I 2023-12-08 10:18:17,414] Trial 78 finished with value: 0.9978005865102639 and parameters: {'lambda_l1': 1.2499574741452185e-06, 'lambda_l2': 2.8040683001372537e-07, 'num_leaves': 193, 'feature_fraction': 0.4481393845218749, 'bagging_fraction': 0.903984870265172, 'bagging_freq': 3, 'min_child_samples': 26}. Best is trial 16 with value: 0.999633431085044.\n",
      "[I 2023-12-08 10:18:19,139] Trial 79 finished with value: 0.9981671554252199 and parameters: {'lambda_l1': 4.622785426364418e-07, 'lambda_l2': 1.5606002698139772e-06, 'num_leaves': 212, 'feature_fraction': 0.4311424343950469, 'bagging_fraction': 0.9997571947579804, 'bagging_freq': 4, 'min_child_samples': 16}. Best is trial 16 with value: 0.999633431085044.\n",
      "[I 2023-12-08 10:18:21,105] Trial 80 finished with value: 0.999266862170088 and parameters: {'lambda_l1': 1.6263640149737375e-07, 'lambda_l2': 5.350528161420469e-07, 'num_leaves': 242, 'feature_fraction': 0.4659363030265583, 'bagging_fraction': 0.8815320892908731, 'bagging_freq': 5, 'min_child_samples': 5}. Best is trial 16 with value: 0.999633431085044.\n",
      "[I 2023-12-08 10:18:22,914] Trial 81 finished with value: 0.999633431085044 and parameters: {'lambda_l1': 1.3052482888724525e-06, 'lambda_l2': 2.4408575157280446e-05, 'num_leaves': 228, 'feature_fraction': 0.49110864667688786, 'bagging_fraction': 0.8675855260863065, 'bagging_freq': 3, 'min_child_samples': 10}. Best is trial 16 with value: 0.999633431085044.\n",
      "[I 2023-12-08 10:18:24,534] Trial 82 finished with value: 0.998900293255132 and parameters: {'lambda_l1': 5.6300591506418984e-06, 'lambda_l2': 9.310961218282367e-05, 'num_leaves': 251, 'feature_fraction': 0.5292043362637077, 'bagging_fraction': 0.9222414374475659, 'bagging_freq': 3, 'min_child_samples': 10}. Best is trial 16 with value: 0.999633431085044.\n",
      "[I 2023-12-08 10:18:26,371] Trial 83 finished with value: 0.999266862170088 and parameters: {'lambda_l1': 1.0162591265141813e-06, 'lambda_l2': 7.106816499943905e-06, 'num_leaves': 219, 'feature_fraction': 0.4973223614937587, 'bagging_fraction': 0.8620796192102539, 'bagging_freq': 4, 'min_child_samples': 8}. Best is trial 16 with value: 0.999633431085044.\n",
      "[I 2023-12-08 10:18:28,002] Trial 84 finished with value: 0.999633431085044 and parameters: {'lambda_l1': 2.304533999308356e-06, 'lambda_l2': 1.0554633480978576e-05, 'num_leaves': 231, 'feature_fraction': 0.4128946205030266, 'bagging_fraction': 0.8487418554662802, 'bagging_freq': 2, 'min_child_samples': 12}. Best is trial 16 with value: 0.999633431085044.\n",
      "[I 2023-12-08 10:18:29,465] Trial 85 finished with value: 0.999266862170088 and parameters: {'lambda_l1': 2.785931669780155e-07, 'lambda_l2': 2.604222567780043e-05, 'num_leaves': 200, 'feature_fraction': 0.47838839386823656, 'bagging_fraction': 0.8328066619167964, 'bagging_freq': 3, 'min_child_samples': 14}. Best is trial 16 with value: 0.999633431085044.\n",
      "[I 2023-12-08 10:18:30,986] Trial 86 finished with value: 0.998900293255132 and parameters: {'lambda_l1': 1.768793242914429e-08, 'lambda_l2': 4.048944329892544e-06, 'num_leaves': 211, 'feature_fraction': 0.45164825185610846, 'bagging_fraction': 0.8091559126302493, 'bagging_freq': 4, 'min_child_samples': 8}. Best is trial 16 with value: 0.999633431085044.\n",
      "[I 2023-12-08 10:18:32,489] Trial 87 finished with value: 0.9981671554252199 and parameters: {'lambda_l1': 8.586705463953919e-08, 'lambda_l2': 4.844726290098271e-05, 'num_leaves': 237, 'feature_fraction': 0.544923466848761, 'bagging_fraction': 0.9543413388036497, 'bagging_freq': 3, 'min_child_samples': 19}. Best is trial 16 with value: 0.999633431085044.\n",
      "[I 2023-12-08 10:18:33,059] Trial 88 finished with value: 0.9948680351906158 and parameters: {'lambda_l1': 9.262005587337586e-06, 'lambda_l2': 1.3008053221626226e-05, 'num_leaves': 224, 'feature_fraction': 0.4275599142453345, 'bagging_fraction': 0.8941527032665417, 'bagging_freq': 4, 'min_child_samples': 78}. Best is trial 16 with value: 0.999633431085044.\n",
      "[I 2023-12-08 10:18:34,378] Trial 89 finished with value: 0.9981671554252199 and parameters: {'lambda_l1': 5.956009920339537e-07, 'lambda_l2': 3.2024270230700445e-06, 'num_leaves': 207, 'feature_fraction': 0.5119605486321734, 'bagging_fraction': 0.9679056689549024, 'bagging_freq': 3, 'min_child_samples': 23}. Best is trial 16 with value: 0.999633431085044.\n",
      "[I 2023-12-08 10:18:35,985] Trial 90 finished with value: 0.998533724340176 and parameters: {'lambda_l1': 3.2521497964060535e-08, 'lambda_l2': 1.079865762646599e-06, 'num_leaves': 196, 'feature_fraction': 0.4852533431251146, 'bagging_fraction': 0.7880372572661788, 'bagging_freq': 2, 'min_child_samples': 16}. Best is trial 16 with value: 0.999633431085044.\n",
      "[I 2023-12-08 10:18:37,872] Trial 91 finished with value: 0.998900293255132 and parameters: {'lambda_l1': 2.367832134491265e-06, 'lambda_l2': 8.340725047955475e-06, 'num_leaves': 233, 'feature_fraction': 0.40626141771404045, 'bagging_fraction': 0.8529975777336775, 'bagging_freq': 2, 'min_child_samples': 11}. Best is trial 16 with value: 0.999633431085044.\n",
      "[I 2023-12-08 10:18:39,022] Trial 92 finished with value: 0.998900293255132 and parameters: {'lambda_l1': 1.6304506495251468e-06, 'lambda_l2': 2.0839618452109404e-05, 'num_leaves': 229, 'feature_fraction': 0.4126478330857012, 'bagging_fraction': 0.8736638265402017, 'bagging_freq': 2, 'min_child_samples': 13}. Best is trial 16 with value: 0.999633431085044.\n",
      "[I 2023-12-08 10:18:40,240] Trial 93 finished with value: 0.999266862170088 and parameters: {'lambda_l1': 9.318613875042821e-07, 'lambda_l2': 3.717122774556941e-05, 'num_leaves': 216, 'feature_fraction': 0.4445257355242978, 'bagging_fraction': 0.9088197183888059, 'bagging_freq': 1, 'min_child_samples': 7}. Best is trial 16 with value: 0.999633431085044.\n",
      "[I 2023-12-08 10:18:41,481] Trial 94 finished with value: 0.999633431085044 and parameters: {'lambda_l1': 1.3238219707436346e-07, 'lambda_l2': 1.0995886970371977e-05, 'num_leaves': 249, 'feature_fraction': 0.46582228178853774, 'bagging_fraction': 0.8448384476633731, 'bagging_freq': 2, 'min_child_samples': 12}. Best is trial 16 with value: 0.999633431085044.\n",
      "[I 2023-12-08 10:18:42,915] Trial 95 finished with value: 0.998533724340176 and parameters: {'lambda_l1': 3.033601709465266e-07, 'lambda_l2': 6.428123628042329e-06, 'num_leaves': 242, 'feature_fraction': 0.4210478366478029, 'bagging_fraction': 0.8822958518706732, 'bagging_freq': 3, 'min_child_samples': 5}. Best is trial 16 with value: 0.999633431085044.\n",
      "[I 2023-12-08 10:18:43,986] Trial 96 finished with value: 0.9974340175953079 and parameters: {'lambda_l1': 4.241086976173731e-06, 'lambda_l2': 1.7219569530897e-05, 'num_leaves': 224, 'feature_fraction': 0.44356658922269937, 'bagging_fraction': 0.9269442040215722, 'bagging_freq': 2, 'min_child_samples': 20}. Best is trial 16 with value: 0.999633431085044.\n",
      "[I 2023-12-08 10:18:45,172] Trial 97 finished with value: 0.998533724340176 and parameters: {'lambda_l1': 1.5316655043879115e-06, 'lambda_l2': 2.4768240251478144e-06, 'num_leaves': 201, 'feature_fraction': 0.4351596549952787, 'bagging_fraction': 0.9456000218579472, 'bagging_freq': 4, 'min_child_samples': 9}. Best is trial 16 with value: 0.999633431085044.\n",
      "[I 2023-12-08 10:18:45,655] Trial 98 finished with value: 0.9937683284457478 and parameters: {'lambda_l1': 2.871527126231581e-06, 'lambda_l2': 0.00012534930242318556, 'num_leaves': 254, 'feature_fraction': 0.4184752788023882, 'bagging_fraction': 0.8322536295634295, 'bagging_freq': 3, 'min_child_samples': 82}. Best is trial 16 with value: 0.999633431085044.\n",
      "[I 2023-12-08 10:18:46,984] Trial 99 finished with value: 0.999266862170088 and parameters: {'lambda_l1': 2.0144982551082923e-07, 'lambda_l2': 2.5934528028569246e-05, 'num_leaves': 231, 'feature_fraction': 0.4007328867581094, 'bagging_fraction': 0.9853382537822677, 'bagging_freq': 1, 'min_child_samples': 15}. Best is trial 16 with value: 0.999633431085044.\n"
     ]
    },
    {
     "name": "stdout",
     "output_type": "stream",
     "text": [
      "Number of finished trials: 100\n",
      "Best trial:\n",
      "  Value: 0.999633431085044\n",
      "  Params: \n",
      "    lambda_l1: 2.5730164324497303e-07\n",
      "    lambda_l2: 9.341840190177615e-06\n",
      "    num_leaves: 200\n",
      "    feature_fraction: 0.4815712133355077\n",
      "    bagging_fraction: 0.7201145525570019\n",
      "    bagging_freq: 3\n",
      "    min_child_samples: 8\n"
     ]
    }
   ],
   "source": [
    "import optuna\n",
    "import lightgbm as lgb\n",
    "import sklearn\n",
    "\n",
    "def objective(trial):\n",
    "    dtrain = lgb.Dataset(train_data_prep_ros, label=train_target_ros)\n",
    "\n",
    "    param = {\n",
    "        \"objective\": \"binary\",\n",
    "        \"metric\": \"binary_logloss\",\n",
    "        \"verbosity\": -1,\n",
    "        \"boosting_type\": \"gbdt\",\n",
    "        \"lambda_l1\": trial.suggest_float(\"lambda_l1\", 1e-8, 10.0, log=True),\n",
    "        \"lambda_l2\": trial.suggest_float(\"lambda_l2\", 1e-8, 10.0, log=True),\n",
    "        \"num_leaves\": trial.suggest_int(\"num_leaves\", 2, 256),\n",
    "        \"feature_fraction\": trial.suggest_float(\"feature_fraction\", 0.4, 1.0),\n",
    "        \"bagging_fraction\": trial.suggest_float(\"bagging_fraction\", 0.4, 1.0),\n",
    "        \"bagging_freq\": trial.suggest_int(\"bagging_freq\", 1, 7),\n",
    "        \"min_child_samples\": trial.suggest_int(\"min_child_samples\", 5, 100),\n",
    "    }\n",
    "\n",
    "    gbm = lgb.train(param, dtrain)\n",
    "    preds = gbm.predict(test_data_u_ros)\n",
    "    pred_labels = np.rint(preds)\n",
    "    accuracy = sklearn.metrics.accuracy_score(test_target_u_ros, pred_labels)\n",
    "    return accuracy\n",
    "\n",
    "\n",
    "if __name__ == \"__main__\":\n",
    "    study = optuna.create_study(direction=\"maximize\")\n",
    "    study.optimize(objective, n_trials=100)\n",
    "\n",
    "    print(\"Number of finished trials: {}\".format(len(study.trials)))\n",
    "\n",
    "    print(\"Best trial:\")\n",
    "    trial = study.best_trial\n",
    "\n",
    "    print(\"  Value: {}\".format(trial.value))\n",
    "\n",
    "    print(\"  Params: \")\n",
    "    for key, value in trial.params.items():\n",
    "        print(\"    {}: {}\".format(key, value))"
   ]
  },
  {
   "cell_type": "code",
   "execution_count": 38,
   "metadata": {},
   "outputs": [
    {
     "name": "stdout",
     "output_type": "stream",
     "text": [
      "Model Stats: f1 = 1.00, accuracy 99.73 %\n"
     ]
    }
   ],
   "source": [
    "param = {\n",
    "    \"objective\": \"binary\",\n",
    "    \"metric\": \"binary_logloss\",\n",
    "    \"verbosity\": -1,\n",
    "    \"boosting_type\": \"gbdt\",\n",
    "    \"lambda_l1\": 2.5730164324497303e-07,\n",
    "    \"lambda_l2\": 9.341840190177615e-06,\n",
    "    \"num_leaves\": 200,\n",
    "    \"feature_fraction\": 0.4815712133355077,\n",
    "    \"bagging_fraction\": 0.7201145525570019,\n",
    "    \"bagging_freq\": 3,\n",
    "    \"min_child_samples\": 8,\n",
    "}    \n",
    "\n",
    "lgbm_ros = LGBMClassifier()\n",
    "dtrain = lgb.Dataset(train_data_prep_ros, label=train_target_ros)\n",
    "\n",
    "# lgbm_ros.set_params(param)\n",
    "# lgbm_ros.fit(train_data_prep_ros, train_target_ros)\n",
    "lgbm_ros = lgb.train(param, dtrain)\n",
    "prediction = lgbm_ros.predict(test_data_prep_ros)\n",
    "pred_labels = np.rint(prediction)\n",
    "acc = 100 * accuracy_score(test_target_ros, pred_labels)\n",
    "f1 = f1_score(test_target_ros, pred_labels)\n",
    "print(\"Model Stats: f1 = %.2f, accuracy %.2f %%\" % (f1, acc))"
   ]
  },
  {
   "cell_type": "code",
   "execution_count": 42,
   "metadata": {},
   "outputs": [
    {
     "name": "stdout",
     "output_type": "stream",
     "text": [
      "Accuracy of the Model: 99.7348 %\n",
      "F1 Score of the Model: 0.9973343488194973\n",
      "              precision    recall  f1-score   support\n",
      "\n",
      "           0       1.00      0.99      1.00      2661\n",
      "           1       0.99      1.00      1.00      2619\n",
      "\n",
      "    accuracy                           1.00      5280\n",
      "   macro avg       1.00      1.00      1.00      5280\n",
      "weighted avg       1.00      1.00      1.00      5280\n",
      "\n"
     ]
    },
    {
     "data": {
      "text/plain": [
       "<sklearn.metrics._plot.confusion_matrix.ConfusionMatrixDisplay at 0x2093504df10>"
      ]
     },
     "execution_count": 42,
     "metadata": {},
     "output_type": "execute_result"
    },
    {
     "data": {
      "image/png": "[encoded data removed]",
      "text/plain": [
       "<Figure size 432x288 with 2 Axes>"
      ]
     },
     "metadata": {
      "needs_background": "light"
     },
     "output_type": "display_data"
    }
   ],
   "source": [
    "prediction = lgbm_ros.predict(test_data_prep_ros)\n",
    "prediction = np.rint(prediction)\n",
    "acc = 100 * accuracy_score(test_target_ros, prediction)\n",
    "\n",
    "print(\"Accuracy of the Model: %g %%\" %acc)\n",
    "f1 = f1_score(test_target_ros, prediction)\n",
    "print(\"F1 Score of the Model:\", f1)\n",
    "print(classification_report(test_target_ros, prediction))\n",
    "ConfusionMatrixDisplay.from_predictions(test_target_ros, prediction)"
   ]
  },
  {
   "cell_type": "code",
   "execution_count": 41,
   "metadata": {},
   "outputs": [
    {
     "name": "stdout",
     "output_type": "stream",
     "text": [
      "Accuracy of the Model: 99.9633 %\n",
      "F1 Score of the Model: 0.994535519125683\n",
      "              precision    recall  f1-score   support\n",
      "\n",
      "           0       1.00      1.00      1.00      2637\n",
      "           1       0.99      1.00      0.99        91\n",
      "\n",
      "    accuracy                           1.00      2728\n",
      "   macro avg       0.99      1.00      1.00      2728\n",
      "weighted avg       1.00      1.00      1.00      2728\n",
      "\n"
     ]
    },
    {
     "data": {
      "text/plain": [
       "<sklearn.metrics._plot.confusion_matrix.ConfusionMatrixDisplay at 0x20934eb7310>"
      ]
     },
     "execution_count": 41,
     "metadata": {},
     "output_type": "execute_result"
    },
    {
     "data": {
      "image/png": "[encoded data removed]",
      "text/plain": [
       "<Figure size 432x288 with 2 Axes>"
      ]
     },
     "metadata": {
      "needs_background": "light"
     },
     "output_type": "display_data"
    }
   ],
   "source": [
    "prediction = lgbm_ros.predict(test_data_u_ros)\n",
    "prediction = np.rint(prediction)\n",
    "acc = 100 * accuracy_score(test_target_u_ros, prediction)\n",
    "\n",
    "print(\"Accuracy of the Model: %g %%\" %acc)\n",
    "f1 = f1_score(test_target_u_ros, prediction)\n",
    "print(\"F1 Score of the Model:\", f1)\n",
    "print(classification_report(test_target_u_ros, prediction))\n",
    "ConfusionMatrixDisplay.from_predictions(test_target_u_ros, prediction)"
   ]
  },
  {
   "cell_type": "markdown",
   "metadata": {},
   "source": [
    "#### 4.2.6 XGB"
   ]
  },
  {
   "cell_type": "code",
   "execution_count": 57,
   "id": "255ad2d3",
   "metadata": {},
   "outputs": [
    {
     "name": "stderr",
     "output_type": "stream",
     "text": [
      "[I 2023-12-11 15:32:26,006] A new study created in memory with name: no-name-414da387-a2ae-45cc-9efe-1812a603716c\n",
      "[I 2023-12-11 15:32:26,197] Trial 0 finished with value: 0.4607594936708861 and parameters: {'booster': 'dart', 'lambda': 2.2224779270355533e-05, 'alpha': 0.002521538287847134, 'subsample': 0.9888302301605523, 'colsample_bytree': 0.7420339382812977, 'max_depth': 7, 'min_child_weight': 3, 'eta': 0.015392313188325851, 'gamma': 2.5533392208834974e-08, 'grow_policy': 'lossguide', 'sample_type': 'uniform', 'normalize_type': 'tree', 'rate_drop': 6.680336158227594e-06, 'skip_drop': 0.05369793724726002}. Best is trial 0 with value: 0.4607594936708861.\n",
      "[I 2023-12-11 15:32:26,272] Trial 1 finished with value: 0.0645619013834693 and parameters: {'booster': 'gbtree', 'lambda': 1.0740637858446991e-07, 'alpha': 2.8041704435669973e-08, 'subsample': 0.4073066617244937, 'colsample_bytree': 0.4711109822902261, 'max_depth': 3, 'min_child_weight': 4, 'eta': 4.4993624957397024e-07, 'gamma': 0.001359460392551087, 'grow_policy': 'lossguide'}. Best is trial 0 with value: 0.4607594936708861.\n",
      "[I 2023-12-11 15:32:26,354] Trial 2 finished with value: 0.0645619013834693 and parameters: {'booster': 'dart', 'lambda': 0.004514698011803555, 'alpha': 4.255041592102976e-07, 'subsample': 0.31131319828831594, 'colsample_bytree': 0.22183773672209722, 'max_depth': 5, 'min_child_weight': 3, 'eta': 7.854102348990692e-07, 'gamma': 5.5888438518435584e-05, 'grow_policy': 'lossguide', 'sample_type': 'uniform', 'normalize_type': 'forest', 'rate_drop': 1.3034336242472309e-05, 'skip_drop': 0.0014092000079621986}. Best is trial 0 with value: 0.4607594936708861.\n",
      "[I 2023-12-11 15:32:26,475] Trial 3 finished with value: 0.43230403800475053 and parameters: {'booster': 'dart', 'lambda': 0.11533673580957976, 'alpha': 2.9481436334202492e-08, 'subsample': 0.6985653595428493, 'colsample_bytree': 0.27843503452149704, 'max_depth': 7, 'min_child_weight': 7, 'eta': 0.0036160618246133666, 'gamma': 2.0724131501269386e-08, 'grow_policy': 'lossguide', 'sample_type': 'uniform', 'normalize_type': 'tree', 'rate_drop': 0.00013155788714777476, 'skip_drop': 1.0965155850766049e-08}. Best is trial 0 with value: 0.4607594936708861.\n",
      "[I 2023-12-11 15:32:26,590] Trial 4 finished with value: 0.0645619013834693 and parameters: {'booster': 'gbtree', 'lambda': 3.245630363340824e-05, 'alpha': 0.1196076844500869, 'subsample': 0.4751270511240301, 'colsample_bytree': 0.7688728084506711, 'max_depth': 9, 'min_child_weight': 10, 'eta': 1.871801583073723e-08, 'gamma': 1.8300534660364485e-08, 'grow_policy': 'lossguide'}. Best is trial 0 with value: 0.4607594936708861.\n",
      "[I 2023-12-11 15:32:26,691] Trial 5 finished with value: 0.606060606060606 and parameters: {'booster': 'dart', 'lambda': 0.0003633279051760705, 'alpha': 0.001878956318437668, 'subsample': 0.38594437479583804, 'colsample_bytree': 0.20251097710415752, 'max_depth': 7, 'min_child_weight': 4, 'eta': 0.05038792602199496, 'gamma': 2.3882589591467742e-06, 'grow_policy': 'lossguide', 'sample_type': 'uniform', 'normalize_type': 'tree', 'rate_drop': 1.020190038064712e-05, 'skip_drop': 2.9948673848008567e-06}. Best is trial 5 with value: 0.606060606060606.\n",
      "[I 2023-12-11 15:32:26,734] Trial 6 finished with value: 0.2935779816513761 and parameters: {'booster': 'gblinear', 'lambda': 0.4998553945907371, 'alpha': 1.3689357619442735e-05, 'subsample': 0.5962791504324062, 'colsample_bytree': 0.2306762401789132}. Best is trial 5 with value: 0.606060606060606.\n",
      "[I 2023-12-11 15:32:26,815] Trial 7 finished with value: 0.3254113345521024 and parameters: {'booster': 'gbtree', 'lambda': 3.3018627609215995e-07, 'alpha': 1.1169749828124407e-07, 'subsample': 0.21641388387539903, 'colsample_bytree': 0.986450073350128, 'max_depth': 5, 'min_child_weight': 2, 'eta': 0.010453331592765238, 'gamma': 4.3351738359869226e-08, 'grow_policy': 'depthwise'}. Best is trial 5 with value: 0.606060606060606.\n",
      "[I 2023-12-11 15:32:26,852] Trial 8 finished with value: 0.29942418426103656 and parameters: {'booster': 'gblinear', 'lambda': 2.3332165480537606e-06, 'alpha': 1.1894970146901859e-08, 'subsample': 0.7979862546955354, 'colsample_bytree': 0.5801382534139243}. Best is trial 5 with value: 0.606060606060606.\n",
      "[I 2023-12-11 15:32:26,957] Trial 9 finished with value: 0.3991228070175439 and parameters: {'booster': 'dart', 'lambda': 4.454625882803492e-07, 'alpha': 1.3786128748917404e-05, 'subsample': 0.6862484802106615, 'colsample_bytree': 0.6403988165608436, 'max_depth': 5, 'min_child_weight': 6, 'eta': 0.12888365569567506, 'gamma': 0.0025698573607885918, 'grow_policy': 'depthwise', 'sample_type': 'weighted', 'normalize_type': 'forest', 'rate_drop': 1.799418836223572e-08, 'skip_drop': 0.02398164317927267}. Best is trial 5 with value: 0.606060606060606.\n",
      "[I 2023-12-11 15:32:27,131] Trial 10 finished with value: 0.5321637426900584 and parameters: {'booster': 'dart', 'lambda': 0.0008659704498206012, 'alpha': 0.002413222817821381, 'subsample': 0.4512817720009734, 'colsample_bytree': 0.39189956196173525, 'max_depth': 9, 'min_child_weight': 6, 'eta': 0.9160123001221303, 'gamma': 0.7792988882285534, 'grow_policy': 'depthwise', 'sample_type': 'weighted', 'normalize_type': 'tree', 'rate_drop': 0.4456780205437452, 'skip_drop': 2.366390412488361e-06}. Best is trial 5 with value: 0.606060606060606.\n",
      "[I 2023-12-11 15:32:27,303] Trial 11 finished with value: 0.527536231884058 and parameters: {'booster': 'dart', 'lambda': 0.001275534312032984, 'alpha': 0.004242130250945187, 'subsample': 0.42977038612853524, 'colsample_bytree': 0.35922446372711037, 'max_depth': 9, 'min_child_weight': 6, 'eta': 0.9404734389560964, 'gamma': 0.5213424309610674, 'grow_policy': 'depthwise', 'sample_type': 'weighted', 'normalize_type': 'tree', 'rate_drop': 0.4215189374010389, 'skip_drop': 2.0927912911984297e-06}. Best is trial 5 with value: 0.606060606060606.\n",
      "[I 2023-12-11 15:32:27,463] Trial 12 finished with value: 0.4945652173913044 and parameters: {'booster': 'dart', 'lambda': 0.0006263544517580496, 'alpha': 0.001514914922543562, 'subsample': 0.31972275960766816, 'colsample_bytree': 0.35806661910857585, 'max_depth': 9, 'min_child_weight': 5, 'eta': 0.5472208498683856, 'gamma': 0.8513086669276915, 'grow_policy': 'depthwise', 'sample_type': 'weighted', 'normalize_type': 'tree', 'rate_drop': 0.3259559719436196, 'skip_drop': 7.098746350467759e-06}. Best is trial 5 with value: 0.606060606060606.\n",
      "[I 2023-12-11 15:32:27,628] Trial 13 finished with value: 0.20177383592017736 and parameters: {'booster': 'dart', 'lambda': 0.012248247381580262, 'alpha': 0.4371061069198902, 'subsample': 0.512763872639097, 'colsample_bytree': 0.3810586209293386, 'max_depth': 7, 'min_child_weight': 8, 'eta': 0.0009634126255994196, 'gamma': 7.824273524539225e-06, 'grow_policy': 'depthwise', 'sample_type': 'weighted', 'normalize_type': 'tree', 'rate_drop': 0.005120362846710184, 'skip_drop': 1.1135315743934283e-05}. Best is trial 5 with value: 0.606060606060606.\n",
      "[I 2023-12-11 15:32:27,821] Trial 14 finished with value: 0.7027027027027027 and parameters: {'booster': 'dart', 'lambda': 0.0001365528173186026, 'alpha': 0.029631901914391964, 'subsample': 0.5383827713361635, 'colsample_bytree': 0.23851371863050094, 'max_depth': 9, 'min_child_weight': 5, 'eta': 0.04085747711074581, 'gamma': 3.3946044711383047e-06, 'grow_policy': 'depthwise', 'sample_type': 'uniform', 'normalize_type': 'tree', 'rate_drop': 0.003594056682702384, 'skip_drop': 1.7256358803364854e-07}. Best is trial 14 with value: 0.7027027027027027.\n",
      "[I 2023-12-11 15:32:27,885] Trial 15 finished with value: 0.2657342657342658 and parameters: {'booster': 'gblinear', 'lambda': 0.00013210500200488325, 'alpha': 0.047216034800516976, 'subsample': 0.5582309787161532, 'colsample_bytree': 0.23540536349002356}. Best is trial 14 with value: 0.7027027027027027.\n",
      "[I 2023-12-11 15:32:28,042] Trial 16 finished with value: 0.0645619013834693 and parameters: {'booster': 'dart', 'lambda': 2.828613695944281e-08, 'alpha': 0.9992453367669231, 'subsample': 0.36703170186791895, 'colsample_bytree': 0.30788019533081457, 'max_depth': 7, 'min_child_weight': 4, 'eta': 0.00016022740097338618, 'gamma': 1.4523297887910253e-06, 'grow_policy': 'lossguide', 'sample_type': 'uniform', 'normalize_type': 'tree', 'rate_drop': 0.0022345103807378994, 'skip_drop': 2.4084422629176657e-08}. Best is trial 14 with value: 0.7027027027027027.\n",
      "[I 2023-12-11 15:32:28,189] Trial 17 finished with value: 0.445 and parameters: {'booster': 'dart', 'lambda': 7.897074686423793e-06, 'alpha': 0.027354209133655247, 'subsample': 0.2553953547868191, 'colsample_bytree': 0.20244422620076052, 'max_depth': 9, 'min_child_weight': 8, 'eta': 0.03890823195167778, 'gamma': 7.838041453982875e-07, 'grow_policy': 'depthwise', 'sample_type': 'uniform', 'normalize_type': 'forest', 'rate_drop': 4.794222381358462e-07, 'skip_drop': 1.9468833173397158e-07}. Best is trial 14 with value: 0.7027027027027027.\n",
      "[I 2023-12-11 15:32:28,254] Trial 18 finished with value: 0.29942418426103656 and parameters: {'booster': 'gblinear', 'lambda': 0.00012889801510788753, 'alpha': 0.00019868859255768289, 'subsample': 0.5063594514631736, 'colsample_bytree': 0.44692740169905243}. Best is trial 14 with value: 0.7027027027027027.\n",
      "[I 2023-12-11 15:32:28,386] Trial 19 finished with value: 0.1991150442477876 and parameters: {'booster': 'gbtree', 'lambda': 4.577408732038895e-06, 'alpha': 0.019166173723225648, 'subsample': 0.3613378853650855, 'colsample_bytree': 0.29373212067632665, 'max_depth': 7, 'min_child_weight': 4, 'eta': 0.0013086086490027627, 'gamma': 5.274857717675572e-07, 'grow_policy': 'lossguide'}. Best is trial 14 with value: 0.7027027027027027.\n",
      "[I 2023-12-11 15:32:28,547] Trial 20 finished with value: 0.2675159235668789 and parameters: {'booster': 'dart', 'lambda': 0.015932163171404782, 'alpha': 0.15409879729822396, 'subsample': 0.2052417728637907, 'colsample_bytree': 0.4690339438283886, 'max_depth': 3, 'min_child_weight': 2, 'eta': 0.05351072889305821, 'gamma': 1.069197858692309e-05, 'grow_policy': 'lossguide', 'sample_type': 'uniform', 'normalize_type': 'tree', 'rate_drop': 0.0006855130652402352, 'skip_drop': 0.00033642507192688145}. Best is trial 14 with value: 0.7027027027027027.\n",
      "[I 2023-12-11 15:32:28,716] Trial 21 finished with value: 0.7000000000000001 and parameters: {'booster': 'dart', 'lambda': 0.0006233741746324235, 'alpha': 0.007414145140299489, 'subsample': 0.43523464919054383, 'colsample_bytree': 0.20394894309383632, 'max_depth': 9, 'min_child_weight': 5, 'eta': 0.19878421884586514, 'gamma': 0.0004885789143110415, 'grow_policy': 'depthwise', 'sample_type': 'uniform', 'normalize_type': 'tree', 'rate_drop': 0.03239597057413855, 'skip_drop': 3.508046516377099e-07}. Best is trial 14 with value: 0.7027027027027027.\n",
      "[I 2023-12-11 15:32:28,909] Trial 22 finished with value: 0.7109375 and parameters: {'booster': 'dart', 'lambda': 0.0002487828541482886, 'alpha': 0.012709517762188809, 'subsample': 0.4115302074103813, 'colsample_bytree': 0.20513228536363978, 'max_depth': 9, 'min_child_weight': 5, 'eta': 0.0947041787625646, 'gamma': 0.00018569634898364822, 'grow_policy': 'depthwise', 'sample_type': 'uniform', 'normalize_type': 'tree', 'rate_drop': 0.010512143890105225, 'skip_drop': 1.5344790555142825e-07}. Best is trial 22 with value: 0.7109375.\n",
      "[I 2023-12-11 15:32:29,087] Trial 23 finished with value: 0.6867924528301886 and parameters: {'booster': 'dart', 'lambda': 5.8747258867190886e-05, 'alpha': 0.011447388301567605, 'subsample': 0.5390684270956873, 'colsample_bytree': 0.298881896751754, 'max_depth': 9, 'min_child_weight': 5, 'eta': 0.15030489466165597, 'gamma': 0.0003220532934696015, 'grow_policy': 'depthwise', 'sample_type': 'uniform', 'normalize_type': 'tree', 'rate_drop': 0.03588409029226265, 'skip_drop': 1.5897147206773505e-07}. Best is trial 22 with value: 0.7109375.\n",
      "[I 2023-12-11 15:32:29,262] Trial 24 finished with value: 0.5852090032154341 and parameters: {'booster': 'dart', 'lambda': 0.00013127051091294225, 'alpha': 0.10749648207265616, 'subsample': 0.4554793759973694, 'colsample_bytree': 0.2686902015691959, 'max_depth': 9, 'min_child_weight': 5, 'eta': 0.013420030483235382, 'gamma': 8.559510273669308e-05, 'grow_policy': 'depthwise', 'sample_type': 'uniform', 'normalize_type': 'tree', 'rate_drop': 0.020681730126289922, 'skip_drop': 2.071256118701697e-07}. Best is trial 22 with value: 0.7109375.\n",
      "[I 2023-12-11 15:32:29,418] Trial 25 finished with value: 0.5669781931464175 and parameters: {'booster': 'dart', 'lambda': 0.0035141360984963337, 'alpha': 0.0004699402212003256, 'subsample': 0.3105451727593442, 'colsample_bytree': 0.2013772473858937, 'max_depth': 9, 'min_child_weight': 7, 'eta': 0.18713023525671663, 'gamma': 0.0005861489738519604, 'grow_policy': 'depthwise', 'sample_type': 'uniform', 'normalize_type': 'tree', 'rate_drop': 0.019371793267556753, 'skip_drop': 9.950892589278579e-08}. Best is trial 22 with value: 0.7109375.\n",
      "[I 2023-12-11 15:32:29,609] Trial 26 finished with value: 0.47643979057591623 and parameters: {'booster': 'dart', 'lambda': 0.0003226613665106594, 'alpha': 0.007449149935091414, 'subsample': 0.47160354307103786, 'colsample_bytree': 0.29949605903621707, 'max_depth': 9, 'min_child_weight': 5, 'eta': 0.003077658624579399, 'gamma': 0.009195736306642026, 'grow_policy': 'depthwise', 'sample_type': 'uniform', 'normalize_type': 'forest', 'rate_drop': 0.0005348196108357323, 'skip_drop': 5.286923324452269e-07}. Best is trial 22 with value: 0.7109375.\n",
      "[I 2023-12-11 15:32:29,786] Trial 27 finished with value: 0.5909090909090909 and parameters: {'booster': 'dart', 'lambda': 1.785789628943137e-05, 'alpha': 0.02979617715168027, 'subsample': 0.5809519174881865, 'colsample_bytree': 0.3460559120816184, 'max_depth': 9, 'min_child_weight': 7, 'eta': 0.19961673280934886, 'gamma': 7.221974133781346e-05, 'grow_policy': 'depthwise', 'sample_type': 'uniform', 'normalize_type': 'tree', 'rate_drop': 0.003154249449307639, 'skip_drop': 2.876467118113777e-05}. Best is trial 22 with value: 0.7109375.\n",
      "[I 2023-12-11 15:32:29,949] Trial 28 finished with value: 0.0645619013834693 and parameters: {'booster': 'gbtree', 'lambda': 0.0021879974018126917, 'alpha': 0.0006059553660828779, 'subsample': 0.4247301797719117, 'colsample_bytree': 0.25927078691075967, 'max_depth': 7, 'min_child_weight': 3, 'eta': 0.00040884710187482064, 'gamma': 1.205180698919213e-05, 'grow_policy': 'depthwise'}. Best is trial 22 with value: 0.7109375.\n",
      "[I 2023-12-11 15:32:30,023] Trial 29 finished with value: 0.29699248120300753 and parameters: {'booster': 'gblinear', 'lambda': 2.6749756857630822e-05, 'alpha': 0.004974026095905197, 'subsample': 0.5212778368748816, 'colsample_bytree': 0.41676653368245814}. Best is trial 22 with value: 0.7109375.\n",
      "[I 2023-12-11 15:32:30,210] Trial 30 finished with value: 0.5155807365439093 and parameters: {'booster': 'dart', 'lambda': 7.474096586893307e-05, 'alpha': 0.009193050540722678, 'subsample': 0.6687931850591905, 'colsample_bytree': 0.3405837357324081, 'max_depth': 9, 'min_child_weight': 5, 'eta': 0.00611763391364156, 'gamma': 0.00024057568152695402, 'grow_policy': 'depthwise', 'sample_type': 'uniform', 'normalize_type': 'tree', 'rate_drop': 0.0579034379905264, 'skip_drop': 1.4603002557024161e-08}. Best is trial 22 with value: 0.7109375.\n",
      "[I 2023-12-11 15:32:30,397] Trial 31 finished with value: 0.7000000000000001 and parameters: {'booster': 'dart', 'lambda': 0.00034052862142100427, 'alpha': 0.014308567734926595, 'subsample': 0.5516801022261476, 'colsample_bytree': 0.2792134186700016, 'max_depth': 9, 'min_child_weight': 5, 'eta': 0.16544035920692893, 'gamma': 0.00013875270254236937, 'grow_policy': 'depthwise', 'sample_type': 'uniform', 'normalize_type': 'tree', 'rate_drop': 0.06260447796593895, 'skip_drop': 5.302762730289571e-07}. Best is trial 22 with value: 0.7109375.\n",
      "[I 2023-12-11 15:32:30,572] Trial 32 finished with value: 0.625 and parameters: {'booster': 'dart', 'lambda': 0.00041782916197244684, 'alpha': 0.058965405594688505, 'subsample': 0.49499073055213816, 'colsample_bytree': 0.25999847261420245, 'max_depth': 9, 'min_child_weight': 6, 'eta': 0.04042396687629365, 'gamma': 3.328013154460342e-05, 'grow_policy': 'depthwise', 'sample_type': 'uniform', 'normalize_type': 'tree', 'rate_drop': 0.09988844571999539, 'skip_drop': 7.554307740021477e-07}. Best is trial 22 with value: 0.7109375.\n",
      "[I 2023-12-11 15:32:30,749] Trial 33 finished with value: 0.6275862068965518 and parameters: {'booster': 'dart', 'lambda': 0.00024092346803971217, 'alpha': 0.015580977509276837, 'subsample': 0.4068535128594809, 'colsample_bytree': 0.3250522029092575, 'max_depth': 9, 'min_child_weight': 4, 'eta': 0.29398970204178404, 'gamma': 0.00017448908799435603, 'grow_policy': 'depthwise', 'sample_type': 'uniform', 'normalize_type': 'tree', 'rate_drop': 0.01132342795977917, 'skip_drop': 4.4089433951249195e-08}. Best is trial 22 with value: 0.7109375.\n",
      "[I 2023-12-11 15:32:30,929] Trial 34 finished with value: 0.7428571428571429 and parameters: {'booster': 'dart', 'lambda': 0.002444609582507666, 'alpha': 0.20576259042473208, 'subsample': 0.6325061661175823, 'colsample_bytree': 0.24619014079879584, 'max_depth': 9, 'min_child_weight': 5, 'eta': 0.07890360748070889, 'gamma': 0.0012467055725332895, 'grow_policy': 'depthwise', 'sample_type': 'uniform', 'normalize_type': 'tree', 'rate_drop': 0.12426786368466802, 'skip_drop': 4.482119137840649e-07}. Best is trial 34 with value: 0.7428571428571429.\n",
      "[I 2023-12-11 15:32:31,172] Trial 35 finished with value: 0.5617283950617283 and parameters: {'booster': 'dart', 'lambda': 0.004374848575019186, 'alpha': 0.3047205049990359, 'subsample': 0.6562719735136422, 'colsample_bytree': 0.2406137715710552, 'max_depth': 7, 'min_child_weight': 6, 'eta': 0.023243779469976033, 'gamma': 0.004086993183805892, 'grow_policy': 'depthwise', 'sample_type': 'uniform', 'normalize_type': 'tree', 'rate_drop': 0.13173544405435655, 'skip_drop': 6.02809796050607e-08}. Best is trial 34 with value: 0.7428571428571429.\n",
      "[I 2023-12-11 15:32:31,336] Trial 36 finished with value: 0.625 and parameters: {'booster': 'gbtree', 'lambda': 0.0017642510004896939, 'alpha': 0.06014700566996095, 'subsample': 0.6126136810832101, 'colsample_bytree': 0.24381734186976872, 'max_depth': 7, 'min_child_weight': 3, 'eta': 0.015131604368005744, 'gamma': 0.001448282443569963, 'grow_policy': 'depthwise'}. Best is trial 34 with value: 0.7428571428571429.\n",
      "[I 2023-12-11 15:32:31,537] Trial 37 finished with value: 0.6066666666666667 and parameters: {'booster': 'dart', 'lambda': 0.010849138125314486, 'alpha': 0.15091445103563486, 'subsample': 0.7692496334531247, 'colsample_bytree': 0.42119127062242717, 'max_depth': 9, 'min_child_weight': 4, 'eta': 0.07105613125841431, 'gamma': 0.000950761076882935, 'grow_policy': 'depthwise', 'sample_type': 'uniform', 'normalize_type': 'tree', 'rate_drop': 0.8594004189719001, 'skip_drop': 3.680793528921299e-07}. Best is trial 34 with value: 0.7428571428571429.\n",
      "[I 2023-12-11 15:32:31,683] Trial 38 finished with value: 0.3790849673202614 and parameters: {'booster': 'dart', 'lambda': 0.0009882057418014326, 'alpha': 0.2673900322770729, 'subsample': 0.62264203655142, 'colsample_bytree': 0.21784607752046406, 'max_depth': 3, 'min_child_weight': 5, 'eta': 0.5233502147286929, 'gamma': 0.008762797383341736, 'grow_policy': 'depthwise', 'sample_type': 'uniform', 'normalize_type': 'forest', 'rate_drop': 0.01343943475612844, 'skip_drop': 4.223962916128794e-08}. Best is trial 34 with value: 0.7428571428571429.\n",
      "[I 2023-12-11 15:32:31,856] Trial 39 finished with value: 0.5141242937853108 and parameters: {'booster': 'gbtree', 'lambda': 0.04113320773308285, 'alpha': 0.8180350074249707, 'subsample': 0.5753737456394742, 'colsample_bytree': 0.32340040090305266, 'max_depth': 9, 'min_child_weight': 7, 'eta': 0.008738901356512795, 'gamma': 0.000402418199170373, 'grow_policy': 'depthwise'}. Best is trial 34 with value: 0.7428571428571429.\n",
      "[I 2023-12-11 15:32:32,068] Trial 40 finished with value: 0.0645619013834693 and parameters: {'booster': 'dart', 'lambda': 0.0043184388671557465, 'alpha': 0.08157299647966253, 'subsample': 0.48245509658441826, 'colsample_bytree': 0.5280489847810589, 'max_depth': 7, 'min_child_weight': 3, 'eta': 3.230123145785501e-05, 'gamma': 2.6315772248576546e-05, 'grow_policy': 'depthwise', 'sample_type': 'uniform', 'normalize_type': 'tree', 'rate_drop': 0.00421387383263386, 'skip_drop': 9.857325185672111e-07}. Best is trial 34 with value: 0.7428571428571429.\n",
      "[I 2023-12-11 15:32:32,290] Trial 41 finished with value: 0.6867924528301886 and parameters: {'booster': 'dart', 'lambda': 0.0005413719677299068, 'alpha': 0.025767926205919344, 'subsample': 0.5380723880320919, 'colsample_bytree': 0.2663129307067242, 'max_depth': 9, 'min_child_weight': 5, 'eta': 0.09707822510216292, 'gamma': 0.00012188727995769787, 'grow_policy': 'depthwise', 'sample_type': 'uniform', 'normalize_type': 'tree', 'rate_drop': 0.07640898390529328, 'skip_drop': 4.882232810576945e-07}. Best is trial 34 with value: 0.7428571428571429.\n",
      "[I 2023-12-11 15:32:32,518] Trial 42 finished with value: 0.7368421052631579 and parameters: {'booster': 'dart', 'lambda': 0.00022595225764781188, 'alpha': 0.0041294144255348145, 'subsample': 0.5485080833363224, 'colsample_bytree': 0.28337789673891317, 'max_depth': 9, 'min_child_weight': 4, 'eta': 0.34728999925251774, 'gamma': 0.0005135375225733522, 'grow_policy': 'depthwise', 'sample_type': 'uniform', 'normalize_type': 'tree', 'rate_drop': 0.08739583087147962, 'skip_drop': 9.83387026557263e-08}. Best is trial 34 with value: 0.7428571428571429.\n",
      "[I 2023-12-11 15:32:32,704] Trial 43 finished with value: 0.7489711934156378 and parameters: {'booster': 'dart', 'lambda': 7.13060822869532e-05, 'alpha': 0.002614172321537655, 'subsample': 0.4573094651164416, 'colsample_bytree': 0.2187289255733228, 'max_depth': 9, 'min_child_weight': 4, 'eta': 0.35919694776045896, 'gamma': 0.0007340592138285591, 'grow_policy': 'depthwise', 'sample_type': 'uniform', 'normalize_type': 'tree', 'rate_drop': 0.1793516143537314, 'skip_drop': 1.289942413346513e-07}. Best is trial 43 with value: 0.7489711934156378.\n",
      "[I 2023-12-11 15:32:32,919] Trial 44 finished with value: 0.771186440677966 and parameters: {'booster': 'dart', 'lambda': 5.159638673907111e-05, 'alpha': 0.0017415718751496222, 'subsample': 0.6214572043695012, 'colsample_bytree': 0.24097269031588342, 'max_depth': 9, 'min_child_weight': 4, 'eta': 0.315532917168168, 'gamma': 0.0014402192674706998, 'grow_policy': 'depthwise', 'sample_type': 'uniform', 'normalize_type': 'tree', 'rate_drop': 0.231893063006118, 'skip_drop': 6.024485233387347e-08}. Best is trial 44 with value: 0.771186440677966.\n",
      "[I 2023-12-11 15:32:32,992] Trial 45 finished with value: 0.29166666666666663 and parameters: {'booster': 'gblinear', 'lambda': 5.063555539711657e-05, 'alpha': 0.001651324902424103, 'subsample': 0.7218146335217727, 'colsample_bytree': 0.2921938295508428}. Best is trial 44 with value: 0.771186440677966.\n",
      "[I 2023-12-11 15:32:33,219] Trial 46 finished with value: 0.6867924528301886 and parameters: {'booster': 'dart', 'lambda': 1.1560878117079977e-05, 'alpha': 0.004174253499588475, 'subsample': 0.6346696825018496, 'colsample_bytree': 0.3815964859261707, 'max_depth': 9, 'min_child_weight': 4, 'eta': 0.42511281386443994, 'gamma': 0.002900831630179985, 'grow_policy': 'lossguide', 'sample_type': 'uniform', 'normalize_type': 'tree', 'rate_drop': 0.16608532086888692, 'skip_drop': 3.4719312475876664e-08}. Best is trial 44 with value: 0.771186440677966.\n",
      "[I 2023-12-11 15:32:33,382] Trial 47 finished with value: 0.4045454545454545 and parameters: {'booster': 'dart', 'lambda': 3.835141429595865e-05, 'alpha': 0.0009066347043376461, 'subsample': 0.5939941969550327, 'colsample_bytree': 0.3253551627098472, 'max_depth': 5, 'min_child_weight': 3, 'eta': 0.7342287895032059, 'gamma': 0.0008363600959512871, 'grow_policy': 'depthwise', 'sample_type': 'uniform', 'normalize_type': 'tree', 'rate_drop': 0.9644395117099623, 'skip_drop': 1.2603341154263753e-08}. Best is trial 44 with value: 0.771186440677966.\n",
      "[I 2023-12-11 15:32:33,566] Trial 48 finished with value: 0.6618181818181819 and parameters: {'booster': 'dart', 'lambda': 2.5080935376624348e-05, 'alpha': 0.003506932703790504, 'subsample': 0.4757408632507111, 'colsample_bytree': 0.23964996060818142, 'max_depth': 7, 'min_child_weight': 4, 'eta': 0.2942120053427529, 'gamma': 0.0015517936472376648, 'grow_policy': 'depthwise', 'sample_type': 'uniform', 'normalize_type': 'forest', 'rate_drop': 0.22898821039305756, 'skip_drop': 7.851976376863887e-08}. Best is trial 44 with value: 0.771186440677966.\n",
      "[I 2023-12-11 15:32:33,782] Trial 49 finished with value: 0.6765799256505577 and parameters: {'booster': 'dart', 'lambda': 1.719720184879615e-06, 'alpha': 0.0017296025873806316, 'subsample': 0.6386754506900689, 'colsample_bytree': 0.3650832805352321, 'max_depth': 9, 'min_child_weight': 2, 'eta': 0.09592852617134462, 'gamma': 0.012973858975136018, 'grow_policy': 'depthwise', 'sample_type': 'uniform', 'normalize_type': 'tree', 'rate_drop': 0.16862788383829175, 'skip_drop': 7.48752861524074e-08}. Best is trial 44 with value: 0.771186440677966.\n",
      "[I 2023-12-11 15:32:33,860] Trial 50 finished with value: 0.3005780346820809 and parameters: {'booster': 'gblinear', 'lambda': 0.0002073643868272705, 'alpha': 0.00026349418875261957, 'subsample': 0.7054166767109841, 'colsample_bytree': 0.22568378326061717}. Best is trial 44 with value: 0.771186440677966.\n",
      "[I 2023-12-11 15:32:34,241] Trial 51 finished with value: 0.7054263565891472 and parameters: {'booster': 'dart', 'lambda': 7.275145430940635e-05, 'alpha': 0.03727325361126852, 'subsample': 0.5561589943302352, 'colsample_bytree': 0.26727528446706994, 'max_depth': 9, 'min_child_weight': 4, 'eta': 0.024949360477522997, 'gamma': 0.00026689898782637626, 'grow_policy': 'depthwise', 'sample_type': 'uniform', 'normalize_type': 'tree', 'rate_drop': 0.06422014596963156, 'skip_drop': 1.5952092896964297e-07}. Best is trial 44 with value: 0.771186440677966.\n",
      "[I 2023-12-11 15:32:34,458] Trial 52 finished with value: 0.787878787878788 and parameters: {'booster': 'dart', 'lambda': 8.816609926646574e-05, 'alpha': 0.0023691708188578182, 'subsample': 0.589107451186191, 'colsample_bytree': 0.27709200197340317, 'max_depth': 9, 'min_child_weight': 4, 'eta': 0.8299132556660833, 'gamma': 0.0003215009190308134, 'grow_policy': 'depthwise', 'sample_type': 'uniform', 'normalize_type': 'tree', 'rate_drop': 0.06200851726467794, 'skip_drop': 1.0618450028262726e-08}. Best is trial 52 with value: 0.787878787878788.\n",
      "[I 2023-12-11 15:32:34,659] Trial 53 finished with value: 0.7250996015936254 and parameters: {'booster': 'dart', 'lambda': 0.001062773231079296, 'alpha': 0.0033201662571811785, 'subsample': 0.5877072376496726, 'colsample_bytree': 0.20192445114804342, 'max_depth': 9, 'min_child_weight': 4, 'eta': 0.7865742155566458, 'gamma': 0.0009598139104130712, 'grow_policy': 'depthwise', 'sample_type': 'uniform', 'normalize_type': 'tree', 'rate_drop': 0.26843216835654365, 'skip_drop': 1.1894374842472565e-08}. Best is trial 52 with value: 0.787878787878788.\n",
      "[I 2023-12-11 15:32:34,872] Trial 54 finished with value: 0.7583333333333334 and parameters: {'booster': 'dart', 'lambda': 0.0018745495092588355, 'alpha': 0.0010594778586694058, 'subsample': 0.5952373119148475, 'colsample_bytree': 0.31690650884994837, 'max_depth': 9, 'min_child_weight': 3, 'eta': 0.8746425851892979, 'gamma': 0.0008900468606305643, 'grow_policy': 'depthwise', 'sample_type': 'weighted', 'normalize_type': 'tree', 'rate_drop': 0.33920122536860464, 'skip_drop': 1.2182518687279512e-08}. Best is trial 52 with value: 0.787878787878788.\n",
      "[I 2023-12-11 15:32:35,079] Trial 55 finished with value: 0.7583333333333334 and parameters: {'booster': 'dart', 'lambda': 0.0016197472902230732, 'alpha': 3.358202041223232e-05, 'subsample': 0.6122091173262412, 'colsample_bytree': 0.3074514009562274, 'max_depth': 9, 'min_child_weight': 3, 'eta': 0.9860258164110483, 'gamma': 0.003418759620802592, 'grow_policy': 'depthwise', 'sample_type': 'weighted', 'normalize_type': 'tree', 'rate_drop': 0.5882610742500943, 'skip_drop': 1.988768120609621e-08}. Best is trial 52 with value: 0.787878787878788.\n",
      "[I 2023-12-11 15:32:35,316] Trial 56 finished with value: 0.7459016393442622 and parameters: {'booster': 'dart', 'lambda': 0.0022153973801404808, 'alpha': 6.93858895294018e-05, 'subsample': 0.6094672755814492, 'colsample_bytree': 0.3251385294841874, 'max_depth': 9, 'min_child_weight': 2, 'eta': 0.774059671787862, 'gamma': 0.00405096494017363, 'grow_policy': 'lossguide', 'sample_type': 'weighted', 'normalize_type': 'tree', 'rate_drop': 0.6279350345846111, 'skip_drop': 1.0730401629954612e-08}. Best is trial 52 with value: 0.787878787878788.\n",
      "[I 2023-12-11 15:32:35,524] Trial 57 finished with value: 0.794759825327511 and parameters: {'booster': 'gbtree', 'lambda': 0.0007724478964951429, 'alpha': 4.629027539373112e-05, 'subsample': 0.6067685766191713, 'colsample_bytree': 0.3450983015990899, 'max_depth': 9, 'min_child_weight': 2, 'eta': 0.8864177563100468, 'gamma': 0.021670883850692466, 'grow_policy': 'lossguide'}. Best is trial 57 with value: 0.794759825327511.\n",
      "[I 2023-12-11 15:32:35,740] Trial 58 finished with value: 0.8088888888888888 and parameters: {'booster': 'gbtree', 'lambda': 0.0008769645635451834, 'alpha': 7.244174621888797e-05, 'subsample': 0.6822069711657087, 'colsample_bytree': 0.35233256755531184, 'max_depth': 9, 'min_child_weight': 2, 'eta': 0.4302284375118122, 'gamma': 0.026871715644740862, 'grow_policy': 'lossguide'}. Best is trial 58 with value: 0.8088888888888888.\n",
      "[I 2023-12-11 15:32:35,917] Trial 59 finished with value: 0.8348623853211008 and parameters: {'booster': 'gbtree', 'lambda': 0.0009061722088251533, 'alpha': 6.164340269348657e-05, 'subsample': 0.6741781768706605, 'colsample_bytree': 0.3653755539049176, 'max_depth': 7, 'min_child_weight': 2, 'eta': 0.9435258959518426, 'gamma': 0.019869055709313393, 'grow_policy': 'lossguide'}. Best is trial 59 with value: 0.8348623853211008.\n",
      "[I 2023-12-11 15:32:36,075] Trial 60 finished with value: 0.629757785467128 and parameters: {'booster': 'gbtree', 'lambda': 0.0009018000529887189, 'alpha': 0.00012718347654484287, 'subsample': 0.6772020205336785, 'colsample_bytree': 0.39625054255964226, 'max_depth': 5, 'min_child_weight': 2, 'eta': 0.5186599607976226, 'gamma': 0.04564507444148504, 'grow_policy': 'lossguide'}. Best is trial 59 with value: 0.8348623853211008.\n",
      "[I 2023-12-11 15:32:36,290] Trial 61 finished with value: 0.8161434977578476 and parameters: {'booster': 'gbtree', 'lambda': 0.0005653679540219958, 'alpha': 4.061788656565522e-05, 'subsample': 0.6557978333616368, 'colsample_bytree': 0.36965704863949933, 'max_depth': 7, 'min_child_weight': 2, 'eta': 0.8994549846906602, 'gamma': 0.07096470081484868, 'grow_policy': 'lossguide'}. Best is trial 59 with value: 0.8348623853211008.\n",
      "[I 2023-12-11 15:32:36,482] Trial 62 finished with value: 0.7250996015936254 and parameters: {'booster': 'gbtree', 'lambda': 0.0005865576458828916, 'alpha': 2.761822558268391e-05, 'subsample': 0.6568367713804065, 'colsample_bytree': 0.41034075775228723, 'max_depth': 7, 'min_child_weight': 2, 'eta': 0.31197187539819393, 'gamma': 0.057465773119523805, 'grow_policy': 'lossguide'}. Best is trial 59 with value: 0.8348623853211008.\n",
      "[I 2023-12-11 15:32:36,662] Trial 63 finished with value: 0.7615062761506276 and parameters: {'booster': 'gbtree', 'lambda': 0.00015557476608902258, 'alpha': 6.641196292975922e-06, 'subsample': 0.7108578383836158, 'colsample_bytree': 0.431829710910483, 'max_depth': 7, 'min_child_weight': 2, 'eta': 0.9870877826814256, 'gamma': 0.043725181565461506, 'grow_policy': 'lossguide'}. Best is trial 59 with value: 0.8348623853211008.\n",
      "[I 2023-12-11 15:32:36,852] Trial 64 finished with value: 0.7165354330708662 and parameters: {'booster': 'gbtree', 'lambda': 0.0001712520239946833, 'alpha': 5.9807850974445864e-06, 'subsample': 0.716494322846702, 'colsample_bytree': 0.4432515194915943, 'max_depth': 7, 'min_child_weight': 2, 'eta': 0.24083171439146528, 'gamma': 0.05830574027211903, 'grow_policy': 'lossguide'}. Best is trial 59 with value: 0.8348623853211008.\n",
      "[I 2023-12-11 15:32:37,013] Trial 65 finished with value: 0.8465116279069768 and parameters: {'booster': 'gbtree', 'lambda': 0.0005000536797561546, 'alpha': 5.525552656249378e-06, 'subsample': 0.6803576376646231, 'colsample_bytree': 0.3576505232162758, 'max_depth': 7, 'min_child_weight': 2, 'eta': 0.9727029181769414, 'gamma': 0.16607839116228681, 'grow_policy': 'lossguide'}. Best is trial 65 with value: 0.8465116279069768.\n",
      "[I 2023-12-11 15:32:37,179] Trial 66 finished with value: 0.6618181818181819 and parameters: {'booster': 'gbtree', 'lambda': 0.0004378951886279761, 'alpha': 7.292564853602303e-05, 'subsample': 0.7403295447290211, 'colsample_bytree': 0.36885991159356746, 'max_depth': 7, 'min_child_weight': 2, 'eta': 0.1352903467531946, 'gamma': 0.15708149373854685, 'grow_policy': 'lossguide'}. Best is trial 65 with value: 0.8465116279069768.\n",
      "[I 2023-12-11 15:32:37,329] Trial 67 finished with value: 0.5967213114754099 and parameters: {'booster': 'gbtree', 'lambda': 8.775994632362983e-05, 'alpha': 0.00028775555801651234, 'subsample': 0.6846975273562447, 'colsample_bytree': 0.35378221557305367, 'max_depth': 5, 'min_child_weight': 2, 'eta': 0.4716559397939709, 'gamma': 0.28823488857636315, 'grow_policy': 'lossguide'}. Best is trial 65 with value: 0.8465116279069768.\n",
      "[I 2023-12-11 15:32:37,501] Trial 68 finished with value: 0.5465465465465466 and parameters: {'booster': 'gbtree', 'lambda': 0.0009454883450394132, 'alpha': 0.0001210379621108541, 'subsample': 0.6437991019019678, 'colsample_bytree': 0.3928183706830478, 'max_depth': 7, 'min_child_weight': 10, 'eta': 0.1620002969650568, 'gamma': 0.021398523871375197, 'grow_policy': 'lossguide'}. Best is trial 65 with value: 0.8465116279069768.\n",
      "[I 2023-12-11 15:32:37,671] Trial 69 finished with value: 0.708171206225681 and parameters: {'booster': 'gbtree', 'lambda': 0.0003382829475076008, 'alpha': 0.00043605756284017806, 'subsample': 0.678842990819668, 'colsample_bytree': 0.3523290163055247, 'max_depth': 7, 'min_child_weight': 3, 'eta': 0.45862396913475867, 'gamma': 0.1425956354072393, 'grow_policy': 'lossguide'}. Best is trial 65 with value: 0.8465116279069768.\n",
      "[I 2023-12-11 15:32:37,864] Trial 70 finished with value: 0.6816479400749064 and parameters: {'booster': 'gbtree', 'lambda': 4.112050634139118e-05, 'alpha': 3.5923113030101495e-05, 'subsample': 0.6562776223195576, 'colsample_bytree': 0.47564878521324094, 'max_depth': 7, 'min_child_weight': 2, 'eta': 0.24065033795480884, 'gamma': 0.028527025572094085, 'grow_policy': 'lossguide'}. Best is trial 65 with value: 0.8465116279069768.\n",
      "[I 2023-12-11 15:32:38,038] Trial 71 finished with value: 0.7811158798283262 and parameters: {'booster': 'gbtree', 'lambda': 0.00011366304645238468, 'alpha': 6.617395739504332e-06, 'subsample': 0.6975216477269918, 'colsample_bytree': 0.3747966801421568, 'max_depth': 7, 'min_child_weight': 2, 'eta': 0.7872191897343319, 'gamma': 0.0966356766258991, 'grow_policy': 'lossguide'}. Best is trial 65 with value: 0.8465116279069768.\n",
      "[I 2023-12-11 15:32:38,232] Trial 72 finished with value: 0.7583333333333334 and parameters: {'booster': 'gbtree', 'lambda': 0.0001160480200591031, 'alpha': 8.266573211722005e-06, 'subsample': 0.6955831638082494, 'colsample_bytree': 0.34569837084504806, 'max_depth': 7, 'min_child_weight': 3, 'eta': 0.4994230492511663, 'gamma': 0.1253266654543332, 'grow_policy': 'lossguide'}. Best is trial 65 with value: 0.8465116279069768.\n",
      "[I 2023-12-11 15:32:38,409] Trial 73 finished with value: 0.7844827586206896 and parameters: {'booster': 'gbtree', 'lambda': 0.0006592339153434064, 'alpha': 3.1798177071901208e-06, 'subsample': 0.7358551769636505, 'colsample_bytree': 0.3808365186914513, 'max_depth': 7, 'min_child_weight': 2, 'eta': 0.9357162045049854, 'gamma': 0.09446579909952096, 'grow_policy': 'lossguide'}. Best is trial 65 with value: 0.8465116279069768.\n",
      "[I 2023-12-11 15:32:38,599] Trial 74 finished with value: 0.791304347826087 and parameters: {'booster': 'gbtree', 'lambda': 0.0006218317641143999, 'alpha': 1.2894345059364315e-05, 'subsample': 0.7466544770029473, 'colsample_bytree': 0.38245361710196973, 'max_depth': 7, 'min_child_weight': 2, 'eta': 0.989620209207563, 'gamma': 0.09146971851835997, 'grow_policy': 'lossguide'}. Best is trial 65 with value: 0.8465116279069768.\n",
      "[I 2023-12-11 15:32:38,788] Trial 75 finished with value: 0.6363636363636364 and parameters: {'booster': 'gbtree', 'lambda': 0.0006696638030496431, 'alpha': 2.390812215590781e-06, 'subsample': 0.7967149120805068, 'colsample_bytree': 0.4093279516096312, 'max_depth': 7, 'min_child_weight': 2, 'eta': 0.137786085784088, 'gamma': 0.3314984016455273, 'grow_policy': 'lossguide'}. Best is trial 65 with value: 0.8465116279069768.\n",
      "[I 2023-12-11 15:32:38,951] Trial 76 finished with value: 0.4292682926829268 and parameters: {'booster': 'gbtree', 'lambda': 0.0013541042114678112, 'alpha': 1.897166357942871e-05, 'subsample': 0.7566433448412644, 'colsample_bytree': 0.3804635052771614, 'max_depth': 5, 'min_child_weight': 3, 'eta': 0.05192303111771249, 'gamma': 0.769299818021828, 'grow_policy': 'lossguide'}. Best is trial 65 with value: 0.8465116279069768.\n",
      "[I 2023-12-11 15:32:39,118] Trial 77 finished with value: 0.801762114537445 and parameters: {'booster': 'gbtree', 'lambda': 0.006317609091916718, 'alpha': 4.573646881879077e-05, 'subsample': 0.668345888987869, 'colsample_bytree': 0.4589181356606926, 'max_depth': 7, 'min_child_weight': 2, 'eta': 0.9369231953113404, 'gamma': 0.22972079516378746, 'grow_policy': 'lossguide'}. Best is trial 65 with value: 0.8465116279069768.\n",
      "[I 2023-12-11 15:32:39,269] Trial 78 finished with value: 0.4891304347826087 and parameters: {'booster': 'gbtree', 'lambda': 0.007788765452559942, 'alpha': 5.226867650391361e-05, 'subsample': 0.6644394578682778, 'colsample_bytree': 0.33894088562161373, 'max_depth': 5, 'min_child_weight': 2, 'eta': 0.20532245051504627, 'gamma': 0.25430162098076786, 'grow_policy': 'lossguide'}. Best is trial 65 with value: 0.8465116279069768.\n",
      "[I 2023-12-11 15:32:39,428] Trial 79 finished with value: 0.6593406593406593 and parameters: {'booster': 'gbtree', 'lambda': 0.0034081353522147357, 'alpha': 1.5136593648399751e-05, 'subsample': 0.6490540212398244, 'colsample_bytree': 0.2940824230695318, 'max_depth': 7, 'min_child_weight': 3, 'eta': 0.10642146534953358, 'gamma': 0.0219137864137395, 'grow_policy': 'lossguide'}. Best is trial 65 with value: 0.8465116279069768.\n",
      "[I 2023-12-11 15:32:39,600] Trial 80 finished with value: 0.7368421052631579 and parameters: {'booster': 'gbtree', 'lambda': 0.0003792504465661518, 'alpha': 0.00015700295362698513, 'subsample': 0.6772880072109517, 'colsample_bytree': 0.4034858178651032, 'max_depth': 7, 'min_child_weight': 2, 'eta': 0.5444687700058148, 'gamma': 0.584082034239539, 'grow_policy': 'lossguide'}. Best is trial 65 with value: 0.8465116279069768.\n",
      "[I 2023-12-11 15:32:39,763] Trial 81 finished with value: 0.8161434977578476 and parameters: {'booster': 'gbtree', 'lambda': 0.0007981800575791083, 'alpha': 6.899693370529678e-05, 'subsample': 0.7358176321513192, 'colsample_bytree': 0.3710645568576287, 'max_depth': 7, 'min_child_weight': 2, 'eta': 0.8870983559088678, 'gamma': 0.0821176462702665, 'grow_policy': 'lossguide'}. Best is trial 65 with value: 0.8465116279069768.\n",
      "[I 2023-12-11 15:32:39,935] Trial 82 finished with value: 0.787878787878788 and parameters: {'booster': 'gbtree', 'lambda': 0.001253719146985602, 'alpha': 8.783663607047421e-05, 'subsample': 0.7286534891569154, 'colsample_bytree': 0.45798833053469934, 'max_depth': 7, 'min_child_weight': 2, 'eta': 0.9975917346769547, 'gamma': 0.07482368205844782, 'grow_policy': 'lossguide'}. Best is trial 65 with value: 0.8465116279069768.\n",
      "[I 2023-12-11 15:32:40,107] Trial 83 finished with value: 0.771186440677966 and parameters: {'booster': 'gbtree', 'lambda': 0.0031745029581861125, 'alpha': 6.075571730168934e-05, 'subsample': 0.6940620396343427, 'colsample_bytree': 0.4317777224127123, 'max_depth': 7, 'min_child_weight': 3, 'eta': 0.5013605856444562, 'gamma': 0.1894994881594272, 'grow_policy': 'lossguide'}. Best is trial 65 with value: 0.8465116279069768.\n",
      "[I 2023-12-11 15:32:40,277] Trial 84 finished with value: 0.621160409556314 and parameters: {'booster': 'gbtree', 'lambda': 0.006622302516164038, 'alpha': 2.2411992426058582e-05, 'subsample': 0.7572220574297843, 'colsample_bytree': 0.36215385817128126, 'max_depth': 7, 'min_child_weight': 9, 'eta': 0.26791721787971357, 'gamma': 0.03414149353054046, 'grow_policy': 'lossguide'}. Best is trial 65 with value: 0.8465116279069768.\n",
      "[I 2023-12-11 15:32:40,441] Trial 85 finished with value: 0.787878787878788 and parameters: {'booster': 'gbtree', 'lambda': 0.00049770457776204, 'alpha': 5.144310991291081e-05, 'subsample': 0.6265015404466633, 'colsample_bytree': 0.3394522127729136, 'max_depth': 7, 'min_child_weight': 2, 'eta': 0.567672638740118, 'gamma': 0.42804790913002266, 'grow_policy': 'lossguide'}. Best is trial 65 with value: 0.8465116279069768.\n",
      "[I 2023-12-11 15:32:40,602] Trial 86 finished with value: 0.6973180076628352 and parameters: {'booster': 'gbtree', 'lambda': 0.0025874216100402365, 'alpha': 0.00017041529341146677, 'subsample': 0.5724445376360582, 'colsample_bytree': 0.30560271431072655, 'max_depth': 7, 'min_child_weight': 2, 'eta': 0.1938654254924334, 'gamma': 0.07674369089883012, 'grow_policy': 'lossguide'}. Best is trial 65 with value: 0.8465116279069768.\n",
      "[I 2023-12-11 15:32:40,831] Trial 87 finished with value: 0.7193675889328064 and parameters: {'booster': 'gbtree', 'lambda': 0.00031044055012956646, 'alpha': 0.00010141455713099026, 'subsample': 0.7135888269211852, 'colsample_bytree': 0.3999919587146609, 'max_depth': 7, 'min_child_weight': 2, 'eta': 0.36129224479816385, 'gamma': 0.23117042872977653, 'grow_policy': 'lossguide'}. Best is trial 65 with value: 0.8465116279069768.\n",
      "[I 2023-12-11 15:32:41,014] Trial 88 finished with value: 0.6521739130434784 and parameters: {'booster': 'gbtree', 'lambda': 0.001433571192648635, 'alpha': 3.5151877216515826e-05, 'subsample': 0.7891082009218735, 'colsample_bytree': 0.28041249528972934, 'max_depth': 7, 'min_child_weight': 3, 'eta': 0.06566137698635954, 'gamma': 0.013452694252845539, 'grow_policy': 'lossguide'}. Best is trial 65 with value: 0.8465116279069768.\n",
      "[I 2023-12-11 15:32:41,184] Trial 89 finished with value: 0.7777777777777778 and parameters: {'booster': 'gbtree', 'lambda': 0.0002561614788133597, 'alpha': 4.247985899973117e-05, 'subsample': 0.6685274584123723, 'colsample_bytree': 0.32759084227465224, 'max_depth': 7, 'min_child_weight': 2, 'eta': 0.6236037656373189, 'gamma': 0.0071140471480914055, 'grow_policy': 'lossguide'}. Best is trial 65 with value: 0.8465116279069768.\n",
      "[I 2023-12-11 15:32:41,328] Trial 90 finished with value: 0.35845213849287166 and parameters: {'booster': 'gbtree', 'lambda': 0.0008126490088671256, 'alpha': 1.1649815840823453e-05, 'subsample': 0.6350149156932181, 'colsample_bytree': 0.37140018313991313, 'max_depth': 3, 'min_child_weight': 3, 'eta': 0.34255455384816186, 'gamma': 0.12292672236664731, 'grow_policy': 'lossguide'}. Best is trial 65 with value: 0.8465116279069768.\n",
      "[I 2023-12-11 15:32:41,519] Trial 91 finished with value: 0.8125000000000001 and parameters: {'booster': 'gbtree', 'lambda': 0.0012145138982498148, 'alpha': 8.653992403160275e-05, 'subsample': 0.742763933128248, 'colsample_bytree': 0.4656012994386874, 'max_depth': 7, 'min_child_weight': 2, 'eta': 0.8272835469071177, 'gamma': 0.06958624543788507, 'grow_policy': 'lossguide'}. Best is trial 65 with value: 0.8465116279069768.\n",
      "[I 2023-12-11 15:32:41,696] Trial 92 finished with value: 0.7982456140350876 and parameters: {'booster': 'gbtree', 'lambda': 0.005445425057426747, 'alpha': 2.2256196181602927e-05, 'subsample': 0.8256750238654307, 'colsample_bytree': 0.49255187049783383, 'max_depth': 7, 'min_child_weight': 2, 'eta': 0.6176004990755137, 'gamma': 0.03153601158980326, 'grow_policy': 'lossguide'}. Best is trial 65 with value: 0.8465116279069768.\n",
      "[I 2023-12-11 15:32:41,878] Trial 93 finished with value: 0.65 and parameters: {'booster': 'gbtree', 'lambda': 0.0017527371453527286, 'alpha': 2.884786736294757e-05, 'subsample': 0.8515661972019212, 'colsample_bytree': 0.49425560270245195, 'max_depth': 7, 'min_child_weight': 2, 'eta': 0.14301997226783003, 'gamma': 0.030529263057423824, 'grow_policy': 'lossguide'}. Best is trial 65 with value: 0.8465116279069768.\n",
      "[I 2023-12-11 15:32:42,050] Trial 94 finished with value: 0.8053097345132744 and parameters: {'booster': 'gbtree', 'lambda': 0.005077448264462849, 'alpha': 2.1172004366805233e-05, 'subsample': 0.7422237841918837, 'colsample_bytree': 0.41933839775354087, 'max_depth': 7, 'min_child_weight': 2, 'eta': 0.5765466407345978, 'gamma': 0.06298850490029506, 'grow_policy': 'lossguide'}. Best is trial 65 with value: 0.8465116279069768.\n",
      "[I 2023-12-11 15:32:42,225] Trial 95 finished with value: 0.7615062761506276 and parameters: {'booster': 'gbtree', 'lambda': 0.005358679223416249, 'alpha': 8.444456708632012e-05, 'subsample': 0.7749862160128433, 'colsample_bytree': 0.42375354015511235, 'max_depth': 7, 'min_child_weight': 2, 'eta': 0.3627322575887664, 'gamma': 0.05295256981552933, 'grow_policy': 'lossguide'}. Best is trial 65 with value: 0.8465116279069768.\n",
      "[I 2023-12-11 15:32:42,403] Trial 96 finished with value: 0.7982456140350876 and parameters: {'booster': 'gbtree', 'lambda': 0.01762290207230642, 'alpha': 2.322489918089342e-05, 'subsample': 0.8250890314217465, 'colsample_bytree': 0.4502489425417514, 'max_depth': 7, 'min_child_weight': 2, 'eta': 0.5762445889519913, 'gamma': 0.1853166389806355, 'grow_policy': 'lossguide'}. Best is trial 65 with value: 0.8465116279069768.\n",
      "[I 2023-12-11 15:32:42,582] Trial 97 finished with value: 0.7193675889328064 and parameters: {'booster': 'gbtree', 'lambda': 0.016511367303713286, 'alpha': 2.157312246886598e-05, 'subsample': 0.8239491831554363, 'colsample_bytree': 0.44105493898258463, 'max_depth': 7, 'min_child_weight': 2, 'eta': 0.21507345404551828, 'gamma': 0.17496080543527506, 'grow_policy': 'lossguide'}. Best is trial 65 with value: 0.8465116279069768.\n",
      "[I 2023-12-11 15:32:42,654] Trial 98 finished with value: 0.29615384615384616 and parameters: {'booster': 'gblinear', 'lambda': 0.004080110848936691, 'alpha': 0.00010724013037159679, 'subsample': 0.7253695820251873, 'colsample_bytree': 0.45597728309847335}. Best is trial 65 with value: 0.8465116279069768.\n",
      "[I 2023-12-11 15:32:42,840] Trial 99 finished with value: 0.6127946127946128 and parameters: {'booster': 'gbtree', 'lambda': 0.009052341580822422, 'alpha': 2.0008891049133575e-05, 'subsample': 0.8391403784972643, 'colsample_bytree': 0.48731623740690694, 'max_depth': 7, 'min_child_weight': 3, 'eta': 0.11089704409655855, 'gamma': 0.4368235298125787, 'grow_policy': 'lossguide'}. Best is trial 65 with value: 0.8465116279069768.\n",
      "[I 2023-12-11 15:32:43,003] Trial 100 finished with value: 0.6453900709219857 and parameters: {'booster': 'gbtree', 'lambda': 0.002684690047776361, 'alpha': 0.00021073333584176217, 'subsample': 0.7065264767292609, 'colsample_bytree': 0.505088149538418, 'max_depth': 5, 'min_child_weight': 2, 'eta': 0.6131363008736057, 'gamma': 0.2512667949536856, 'grow_policy': 'lossguide'}. Best is trial 65 with value: 0.8465116279069768.\n",
      "[I 2023-12-11 15:32:43,174] Trial 101 finished with value: 0.7844827586206896 and parameters: {'booster': 'gbtree', 'lambda': 0.00640523162222383, 'alpha': 6.581936697317608e-05, 'subsample': 0.6886818738914329, 'colsample_bytree': 0.4260116181528918, 'max_depth': 7, 'min_child_weight': 2, 'eta': 0.5979148887904705, 'gamma': 0.019337708310584775, 'grow_policy': 'lossguide'}. Best is trial 65 with value: 0.8465116279069768.\n",
      "[I 2023-12-11 15:32:43,351] Trial 102 finished with value: 0.774468085106383 and parameters: {'booster': 'gbtree', 'lambda': 0.019218582892815677, 'alpha': 4.2322512271533846e-05, 'subsample': 0.7382649115595786, 'colsample_bytree': 0.4575815548481176, 'max_depth': 7, 'min_child_weight': 2, 'eta': 0.38963278782447625, 'gamma': 0.040631406869982574, 'grow_policy': 'lossguide'}. Best is trial 65 with value: 0.8465116279069768.\n",
      "[I 2023-12-11 15:32:43,529] Trial 103 finished with value: 0.6893939393939393 and parameters: {'booster': 'gbtree', 'lambda': 0.0011510029016069342, 'alpha': 4.7312778808927265e-05, 'subsample': 0.6622799882044843, 'colsample_bytree': 0.41383719217928294, 'max_depth': 7, 'min_child_weight': 2, 'eta': 0.2594220919505852, 'gamma': 0.05790175261268932, 'grow_policy': 'lossguide'}. Best is trial 65 with value: 0.8465116279069768.\n",
      "[I 2023-12-11 15:32:43,699] Trial 104 finished with value: 0.7844827586206896 and parameters: {'booster': 'gbtree', 'lambda': 0.005268664069354914, 'alpha': 0.00013219557946393679, 'subsample': 0.772154452623325, 'colsample_bytree': 0.4378069154524385, 'max_depth': 7, 'min_child_weight': 2, 'eta': 0.561807274853862, 'gamma': 0.12133342533166161, 'grow_policy': 'lossguide'}. Best is trial 65 with value: 0.8465116279069768.\n",
      "[I 2023-12-11 15:32:43,853] Trial 105 finished with value: 0.791304347826087 and parameters: {'booster': 'gbtree', 'lambda': 0.0021356892902573647, 'alpha': 2.7925917734924396e-05, 'subsample': 0.7234835125466781, 'colsample_bytree': 0.36228208994219935, 'max_depth': 7, 'min_child_weight': 2, 'eta': 0.6791100759605921, 'gamma': 0.03916933932867467, 'grow_policy': 'lossguide'}. Best is trial 65 with value: 0.8465116279069768.\n",
      "[I 2023-12-11 15:32:44,011] Trial 106 finished with value: 0.7222222222222222 and parameters: {'booster': 'gbtree', 'lambda': 0.012423486309890664, 'alpha': 6.93275132431305e-05, 'subsample': 0.8180495571854036, 'colsample_bytree': 0.3914240699263559, 'max_depth': 7, 'min_child_weight': 3, 'eta': 0.36914354218305384, 'gamma': 0.07646913735462142, 'grow_policy': 'lossguide'}. Best is trial 65 with value: 0.8465116279069768.\n",
      "[I 2023-12-11 15:32:44,181] Trial 107 finished with value: 0.6791044776119404 and parameters: {'booster': 'gbtree', 'lambda': 0.0033999627590516773, 'alpha': 1.7004484609645678e-05, 'subsample': 0.8696399290716549, 'colsample_bytree': 0.46654242447706323, 'max_depth': 7, 'min_child_weight': 2, 'eta': 0.18583137766686741, 'gamma': 0.17407340768831653, 'grow_policy': 'lossguide'}. Best is trial 65 with value: 0.8465116279069768.\n",
      "[I 2023-12-11 15:32:44,337] Trial 108 finished with value: 0.7520661157024793 and parameters: {'booster': 'gbtree', 'lambda': 0.02453563463966106, 'alpha': 3.5001836555296056e-05, 'subsample': 0.6997934468935839, 'colsample_bytree': 0.4136553843970178, 'max_depth': 7, 'min_child_weight': 3, 'eta': 0.6952925342945325, 'gamma': 0.0655732983383806, 'grow_policy': 'lossguide'}. Best is trial 65 with value: 0.8465116279069768.\n",
      "[I 2023-12-11 15:32:44,403] Trial 109 finished with value: 0.30000000000000004 and parameters: {'booster': 'gblinear', 'lambda': 0.0009024549438672713, 'alpha': 1.0249634393632332e-05, 'subsample': 0.6524691593515802, 'colsample_bytree': 0.5277015655397549}. Best is trial 65 with value: 0.8465116279069768.\n",
      "[I 2023-12-11 15:32:44,557] Trial 110 finished with value: 0.6086956521739131 and parameters: {'booster': 'gbtree', 'lambda': 0.0016333661510655787, 'alpha': 9.453864400089778e-05, 'subsample': 0.7525162255121361, 'colsample_bytree': 0.39788820267827063, 'max_depth': 7, 'min_child_weight': 2, 'eta': 0.08306205705805737, 'gamma': 0.02607529681647325, 'grow_policy': 'lossguide'}. Best is trial 65 with value: 0.8465116279069768.\n",
      "[I 2023-12-11 15:32:44,707] Trial 111 finished with value: 0.7647058823529412 and parameters: {'booster': 'gbtree', 'lambda': 0.0005068555255014892, 'alpha': 1.3424730713732168e-05, 'subsample': 0.7414453485913608, 'colsample_bytree': 0.3819591476142375, 'max_depth': 7, 'min_child_weight': 2, 'eta': 0.9671479068122519, 'gamma': 0.09261811992614463, 'grow_policy': 'lossguide'}. Best is trial 65 with value: 0.8465116279069768.\n",
      "[I 2023-12-11 15:32:44,904] Trial 112 finished with value: 0.8053097345132744 and parameters: {'booster': 'gbtree', 'lambda': 0.0007815605812465104, 'alpha': 1.4625832788085506e-05, 'subsample': 0.69166666374492, 'colsample_bytree': 0.35154153055914394, 'max_depth': 7, 'min_child_weight': 2, 'eta': 0.9561242773487951, 'gamma': 0.014680733283603965, 'grow_policy': 'lossguide'}. Best is trial 65 with value: 0.8465116279069768.\n",
      "[I 2023-12-11 15:32:45,060] Trial 113 finished with value: 0.7551867219917012 and parameters: {'booster': 'gbtree', 'lambda': 0.0007956392430792221, 'alpha': 2.3646166127961943e-05, 'subsample': 0.6709941568536085, 'colsample_bytree': 0.35297166627983445, 'max_depth': 7, 'min_child_weight': 2, 'eta': 0.4435311530596581, 'gamma': 0.016713775595430237, 'grow_policy': 'lossguide'}. Best is trial 65 with value: 0.8465116279069768.\n",
      "[I 2023-12-11 15:32:45,215] Trial 114 finished with value: 0.7027027027027027 and parameters: {'booster': 'gbtree', 'lambda': 0.004426774042841816, 'alpha': 4.745010560605421e-05, 'subsample': 0.6901974253273583, 'colsample_bytree': 0.33389131271042033, 'max_depth': 7, 'min_child_weight': 2, 'eta': 0.24419070036052973, 'gamma': 0.03237938619416849, 'grow_policy': 'lossguide'}. Best is trial 65 with value: 0.8465116279069768.\n",
      "[I 2023-12-11 15:32:45,368] Trial 115 finished with value: 0.771186440677966 and parameters: {'booster': 'gbtree', 'lambda': 0.001164545580521141, 'alpha': 1.725552063607593e-05, 'subsample': 0.6108057688175632, 'colsample_bytree': 0.314213040386832, 'max_depth': 7, 'min_child_weight': 2, 'eta': 0.6870502129962536, 'gamma': 0.010550086296102837, 'grow_policy': 'lossguide'}. Best is trial 65 with value: 0.8465116279069768.\n",
      "[I 2023-12-11 15:32:45,582] Trial 116 finished with value: 0.6867924528301886 and parameters: {'booster': 'gbtree', 'lambda': 0.00020016504033905586, 'alpha': 9.905397617998325e-06, 'subsample': 0.6380337388183241, 'colsample_bytree': 0.4430312261928983, 'max_depth': 7, 'min_child_weight': 3, 'eta': 0.29987973836508613, 'gamma': 0.020229983479748453, 'grow_policy': 'lossguide'}. Best is trial 65 with value: 0.8465116279069768.\n",
      "[I 2023-12-11 15:32:45,743] Trial 117 finished with value: 0.794759825327511 and parameters: {'booster': 'gbtree', 'lambda': 0.0024512464997766496, 'alpha': 2.487913286277983e-05, 'subsample': 0.7252749272521082, 'colsample_bytree': 0.3508883217374456, 'max_depth': 7, 'min_child_weight': 2, 'eta': 0.4298249487823482, 'gamma': 0.04896778787549612, 'grow_policy': 'lossguide'}. Best is trial 65 with value: 0.8465116279069768.\n",
      "[I 2023-12-11 15:32:45,909] Trial 118 finished with value: 0.6546762589928058 and parameters: {'booster': 'gbtree', 'lambda': 0.01046316069293552, 'alpha': 5.964027127646004e-05, 'subsample': 0.6783948348490186, 'colsample_bytree': 0.42467356351979524, 'max_depth': 7, 'min_child_weight': 2, 'eta': 0.15109205661406025, 'gamma': 0.005661045137366305, 'grow_policy': 'lossguide'}. Best is trial 65 with value: 0.8465116279069768.\n",
      "[I 2023-12-11 15:32:46,063] Trial 119 finished with value: 0.8348623853211008 and parameters: {'booster': 'gbtree', 'lambda': 0.0004773104573504699, 'alpha': 0.00017020214195520778, 'subsample': 0.7081168388464769, 'colsample_bytree': 0.3688608233597853, 'max_depth': 7, 'min_child_weight': 2, 'eta': 0.973249211748669, 'gamma': 0.01454048479281169, 'grow_policy': 'lossguide'}. Best is trial 65 with value: 0.8465116279069768.\n",
      "[I 2023-12-11 15:32:46,214] Trial 120 finished with value: 0.7109375 and parameters: {'booster': 'gbtree', 'lambda': 0.0004316192554267457, 'alpha': 0.00020769269764828833, 'subsample': 0.7622551015958061, 'colsample_bytree': 0.3685768555776456, 'max_depth': 7, 'min_child_weight': 8, 'eta': 0.5675459523020143, 'gamma': 0.011679986565700596, 'grow_policy': 'lossguide'}. Best is trial 65 with value: 0.8465116279069768.\n",
      "[I 2023-12-11 15:32:46,366] Trial 121 finished with value: 0.794759825327511 and parameters: {'booster': 'gbtree', 'lambda': 0.0002746019668353595, 'alpha': 0.00028761483301357777, 'subsample': 0.7108109087897798, 'colsample_bytree': 0.39748040915649485, 'max_depth': 7, 'min_child_weight': 2, 'eta': 0.9419159118165193, 'gamma': 0.01320352577346106, 'grow_policy': 'lossguide'}. Best is trial 65 with value: 0.8465116279069768.\n",
      "[I 2023-12-11 15:32:46,521] Trial 122 finished with value: 0.7982456140350876 and parameters: {'booster': 'gbtree', 'lambda': 0.0006958770599824095, 'alpha': 0.00013565746764702253, 'subsample': 0.6552961788199577, 'colsample_bytree': 0.3471045441736909, 'max_depth': 7, 'min_child_weight': 2, 'eta': 0.6855144047643095, 'gamma': 0.024418339979346528, 'grow_policy': 'lossguide'}. Best is trial 65 with value: 0.8465116279069768.\n",
      "[I 2023-12-11 15:32:46,677] Trial 123 finished with value: 0.7222222222222222 and parameters: {'booster': 'gbtree', 'lambda': 0.0014023463954372657, 'alpha': 0.000166550768460063, 'subsample': 0.6561407326402757, 'colsample_bytree': 0.3357148073820893, 'max_depth': 7, 'min_child_weight': 2, 'eta': 0.3996794401970423, 'gamma': 0.031163355497481216, 'grow_policy': 'lossguide'}. Best is trial 65 with value: 0.8465116279069768.\n",
      "[I 2023-12-11 15:32:46,831] Trial 124 finished with value: 0.8053097345132744 and parameters: {'booster': 'gbtree', 'lambda': 0.000549275123447112, 'alpha': 0.00012506523211450323, 'subsample': 0.705911712271341, 'colsample_bytree': 0.31595795569864005, 'max_depth': 7, 'min_child_weight': 2, 'eta': 0.7171831981577094, 'gamma': 0.11429411202488166, 'grow_policy': 'lossguide'}. Best is trial 65 with value: 0.8465116279069768.\n",
      "[I 2023-12-11 15:32:46,986] Trial 125 finished with value: 0.7137254901960784 and parameters: {'booster': 'gbtree', 'lambda': 0.00043339285281980566, 'alpha': 8.988769620285459e-05, 'subsample': 0.7067743636580928, 'colsample_bytree': 0.31210982534481674, 'max_depth': 7, 'min_child_weight': 2, 'eta': 0.29000055407237346, 'gamma': 0.12856234939498518, 'grow_policy': 'lossguide'}. Best is trial 65 with value: 0.8465116279069768.\n",
      "[I 2023-12-11 15:32:47,144] Trial 126 finished with value: 0.787878787878788 and parameters: {'booster': 'gbtree', 'lambda': 0.00031723918089533173, 'alpha': 3.460822616688938e-05, 'subsample': 0.6891777500457713, 'colsample_bytree': 0.4731281841628237, 'max_depth': 7, 'min_child_weight': 3, 'eta': 0.6878266803413164, 'gamma': 0.33700213439143883, 'grow_policy': 'lossguide'}. Best is trial 65 with value: 0.8465116279069768.\n",
      "[I 2023-12-11 15:32:47,308] Trial 127 finished with value: 0.7647058823529412 and parameters: {'booster': 'gbtree', 'lambda': 0.00015458105406390812, 'alpha': 7.209187052618884e-05, 'subsample': 0.7357237004502715, 'colsample_bytree': 0.4109615197623811, 'max_depth': 7, 'min_child_weight': 2, 'eta': 0.47694656020506854, 'gamma': 0.16829412302852867, 'grow_policy': 'lossguide'}. Best is trial 65 with value: 0.8465116279069768.\n",
      "[I 2023-12-11 15:32:47,469] Trial 128 finished with value: 0.6816479400749064 and parameters: {'booster': 'gbtree', 'lambda': 0.0017967274650872477, 'alpha': 0.0004179878012476454, 'subsample': 0.784659502483824, 'colsample_bytree': 0.3651237737164664, 'max_depth': 7, 'min_child_weight': 2, 'eta': 0.20864556523142955, 'gamma': 0.10177344811291292, 'grow_policy': 'lossguide'}. Best is trial 65 with value: 0.8465116279069768.\n",
      "[I 2023-12-11 15:32:47,537] Trial 129 finished with value: 0.29333333333333333 and parameters: {'booster': 'gblinear', 'lambda': 0.006975449080101302, 'alpha': 4.056370743631273e-06, 'subsample': 0.7163473048331452, 'colsample_bytree': 0.3852517783661889}. Best is trial 65 with value: 0.8465116279069768.\n",
      "[I 2023-12-11 15:32:47,704] Trial 130 finished with value: 0.674074074074074 and parameters: {'booster': 'gbtree', 'lambda': 0.002926518521448381, 'alpha': 1.3330536567904267e-05, 'subsample': 0.752719387334748, 'colsample_bytree': 0.42825113467258863, 'max_depth': 7, 'min_child_weight': 3, 'eta': 0.30482594699866294, 'gamma': 0.21949253072223704, 'grow_policy': 'lossguide'}. Best is trial 65 with value: 0.8465116279069768.\n",
      "[I 2023-12-11 15:32:47,858] Trial 131 finished with value: 0.8272727272727274 and parameters: {'booster': 'gbtree', 'lambda': 0.0006074998698607275, 'alpha': 0.00013223326931045262, 'subsample': 0.678622302124888, 'colsample_bytree': 0.3250944861788692, 'max_depth': 7, 'min_child_weight': 2, 'eta': 0.9870506509460453, 'gamma': 0.059561598026352885, 'grow_policy': 'lossguide'}. Best is trial 65 with value: 0.8465116279069768.\n",
      "[I 2023-12-11 15:32:48,031] Trial 132 finished with value: 0.787878787878788 and parameters: {'booster': 'gbtree', 'lambda': 0.0004990043446785342, 'alpha': 0.00012031566821458276, 'subsample': 0.680494452449075, 'colsample_bytree': 0.2914945280813067, 'max_depth': 7, 'min_child_weight': 2, 'eta': 0.7573577486216304, 'gamma': 0.06692117291842753, 'grow_policy': 'lossguide'}. Best is trial 65 with value: 0.8465116279069768.\n",
      "[I 2023-12-11 15:32:48,184] Trial 133 finished with value: 0.8425925925925926 and parameters: {'booster': 'gbtree', 'lambda': 0.0012316930678477585, 'alpha': 0.00022350416923410085, 'subsample': 0.6999388475047406, 'colsample_bytree': 0.32592193444776885, 'max_depth': 7, 'min_child_weight': 2, 'eta': 0.9361186872282974, 'gamma': 0.04581086489320326, 'grow_policy': 'lossguide'}. Best is trial 65 with value: 0.8465116279069768.\n",
      "[I 2023-12-11 15:32:48,329] Trial 134 finished with value: 0.794759825327511 and parameters: {'booster': 'gbtree', 'lambda': 0.001090757501017181, 'alpha': 0.00022572290215369076, 'subsample': 0.7014694770882179, 'colsample_bytree': 0.32498962242453056, 'max_depth': 7, 'min_child_weight': 2, 'eta': 0.9996243571469721, 'gamma': 0.04880290555187371, 'grow_policy': 'lossguide'}. Best is trial 65 with value: 0.8465116279069768.\n",
      "[I 2023-12-11 15:32:48,481] Trial 135 finished with value: 0.7679324894514769 and parameters: {'booster': 'gbtree', 'lambda': 0.0006905902118220781, 'alpha': 0.00031409033488965257, 'subsample': 0.6748138448136547, 'colsample_bytree': 0.31679731936331446, 'max_depth': 7, 'min_child_weight': 2, 'eta': 0.47631008323488594, 'gamma': 0.016983436783755284, 'grow_policy': 'lossguide'}. Best is trial 65 with value: 0.8465116279069768.\n",
      "[I 2023-12-11 15:32:48,630] Trial 136 finished with value: 0.8088888888888888 and parameters: {'booster': 'gbtree', 'lambda': 0.00020419838578674248, 'alpha': 0.0005963691133090718, 'subsample': 0.6418934535767625, 'colsample_bytree': 0.30189711556573484, 'max_depth': 7, 'min_child_weight': 2, 'eta': 0.9861926356033007, 'gamma': 0.03905783494532088, 'grow_policy': 'lossguide'}. Best is trial 65 with value: 0.8465116279069768.\n",
      "[I 2023-12-11 15:32:48,778] Trial 137 finished with value: 0.8198198198198199 and parameters: {'booster': 'gbtree', 'lambda': 0.00024056123212868227, 'alpha': 0.0005553226759670626, 'subsample': 0.6254948832915992, 'colsample_bytree': 0.2953148264487923, 'max_depth': 7, 'min_child_weight': 2, 'eta': 0.9587417239569934, 'gamma': 0.08390112300536723, 'grow_policy': 'lossguide'}. Best is trial 65 with value: 0.8465116279069768.\n",
      "[I 2023-12-11 15:32:48,928] Trial 138 finished with value: 0.8198198198198199 and parameters: {'booster': 'gbtree', 'lambda': 0.0001978355791207958, 'alpha': 0.0005400674403116033, 'subsample': 0.624089718787276, 'colsample_bytree': 0.30434878511602637, 'max_depth': 7, 'min_child_weight': 2, 'eta': 0.9846371345168958, 'gamma': 0.04260145448522967, 'grow_policy': 'lossguide'}. Best is trial 65 with value: 0.8465116279069768.\n",
      "[I 2023-12-11 15:32:49,076] Trial 139 finished with value: 0.7368421052631579 and parameters: {'booster': 'gbtree', 'lambda': 0.0002089542991681053, 'alpha': 0.0007563881899911155, 'subsample': 0.6244570455534997, 'colsample_bytree': 0.258514746242417, 'max_depth': 7, 'min_child_weight': 3, 'eta': 0.36905739303395735, 'gamma': 0.04405559438417034, 'grow_policy': 'lossguide'}. Best is trial 65 with value: 0.8465116279069768.\n",
      "[I 2023-12-11 15:32:49,221] Trial 140 finished with value: 0.794759825327511 and parameters: {'booster': 'gbtree', 'lambda': 0.0003272731162794064, 'alpha': 0.0004976764771133524, 'subsample': 0.6009473747576505, 'colsample_bytree': 0.3062985976013753, 'max_depth': 7, 'min_child_weight': 2, 'eta': 0.9740731601560009, 'gamma': 0.008360085231958136, 'grow_policy': 'lossguide'}. Best is trial 65 with value: 0.8465116279069768.\n",
      "[I 2023-12-11 15:32:49,368] Trial 141 finished with value: 0.8310502283105022 and parameters: {'booster': 'gbtree', 'lambda': 0.00023810450570398685, 'alpha': 0.0006351429767305475, 'subsample': 0.6410410038111656, 'colsample_bytree': 0.29696643601368317, 'max_depth': 7, 'min_child_weight': 2, 'eta': 0.9837744094893001, 'gamma': 0.09235949452346365, 'grow_policy': 'lossguide'}. Best is trial 65 with value: 0.8465116279069768.\n",
      "[I 2023-12-11 15:32:49,520] Trial 142 finished with value: 0.7551867219917012 and parameters: {'booster': 'gbtree', 'lambda': 0.0001266232745613557, 'alpha': 0.000326847835217693, 'subsample': 0.6430088489838426, 'colsample_bytree': 0.2949790986953431, 'max_depth': 7, 'min_child_weight': 2, 'eta': 0.45127355092229926, 'gamma': 0.08514332786023289, 'grow_policy': 'lossguide'}. Best is trial 65 with value: 0.8465116279069768.\n",
      "[I 2023-12-11 15:32:49,669] Trial 143 finished with value: 0.801762114537445 and parameters: {'booster': 'gbtree', 'lambda': 0.00018604339063436258, 'alpha': 0.000744143968429075, 'subsample': 0.6234961676977268, 'colsample_bytree': 0.28080582983477037, 'max_depth': 7, 'min_child_weight': 2, 'eta': 0.9739891196038037, 'gamma': 0.06747646397597332, 'grow_policy': 'lossguide'}. Best is trial 65 with value: 0.8465116279069768.\n",
      "[I 2023-12-11 15:32:49,822] Trial 144 finished with value: 0.7844827586206896 and parameters: {'booster': 'gbtree', 'lambda': 0.00033300046432542177, 'alpha': 0.001039203968373223, 'subsample': 0.6359602387851201, 'colsample_bytree': 0.34252105224298346, 'max_depth': 7, 'min_child_weight': 2, 'eta': 0.9979840429932468, 'gamma': 0.042645017992425184, 'grow_policy': 'lossguide'}. Best is trial 65 with value: 0.8465116279069768.\n",
      "[I 2023-12-11 15:32:49,974] Trial 145 finished with value: 0.794759825327511 and parameters: {'booster': 'gbtree', 'lambda': 0.0002356710285125075, 'alpha': 0.0006107342766801506, 'subsample': 0.6482536009663206, 'colsample_bytree': 0.29901555576176203, 'max_depth': 7, 'min_child_weight': 2, 'eta': 0.582402706261928, 'gamma': 0.02762570732623644, 'grow_policy': 'lossguide'}. Best is trial 65 with value: 0.8465116279069768.\n",
      "[I 2023-12-11 15:32:50,113] Trial 146 finished with value: 0.5373134328358209 and parameters: {'booster': 'gbtree', 'lambda': 9.59942570209927e-05, 'alpha': 0.001197183320543301, 'subsample': 0.6668676754075212, 'colsample_bytree': 0.3307814667920359, 'max_depth': 5, 'min_child_weight': 2, 'eta': 0.2706443288508253, 'gamma': 0.0144156283315494, 'grow_policy': 'lossguide'}. Best is trial 65 with value: 0.8465116279069768.\n",
      "[I 2023-12-11 15:32:50,266] Trial 147 finished with value: 0.7583333333333334 and parameters: {'booster': 'gbtree', 'lambda': 0.0008537337466027181, 'alpha': 0.00040580566288867757, 'subsample': 0.6879318355736801, 'colsample_bytree': 0.36376825404486923, 'max_depth': 7, 'min_child_weight': 2, 'eta': 0.44357028706822416, 'gamma': 0.05832308043129894, 'grow_policy': 'lossguide'}. Best is trial 65 with value: 0.8465116279069768.\n",
      "[I 2023-12-11 15:32:50,414] Trial 148 finished with value: 0.774468085106383 and parameters: {'booster': 'gbtree', 'lambda': 0.0003860993530341524, 'alpha': 0.0002142870363766296, 'subsample': 0.6228343818364069, 'colsample_bytree': 0.3308921878498102, 'max_depth': 7, 'min_child_weight': 2, 'eta': 0.6954201887598358, 'gamma': 0.006006734874708072, 'grow_policy': 'lossguide'}. Best is trial 65 with value: 0.8465116279069768.\n",
      "[I 2023-12-11 15:32:50,568] Trial 149 finished with value: 0.6642335766423358 and parameters: {'booster': 'gbtree', 'lambda': 0.00016422877593997513, 'alpha': 0.0005890347899214644, 'subsample': 0.5957766635324844, 'colsample_bytree': 0.27453568094158604, 'max_depth': 7, 'min_child_weight': 3, 'eta': 0.16409608062160821, 'gamma': 0.019977374397944232, 'grow_policy': 'lossguide'}. Best is trial 65 with value: 0.8465116279069768.\n",
      "[I 2023-12-11 15:32:50,715] Trial 150 finished with value: 0.6148648648648649 and parameters: {'booster': 'gbtree', 'lambda': 0.000549347195527098, 'alpha': 0.0003062208826518887, 'subsample': 0.6450593552026913, 'colsample_bytree': 0.3706672262353522, 'max_depth': 7, 'min_child_weight': 9, 'eta': 0.350289056279071, 'gamma': 0.0384855521087046, 'grow_policy': 'lossguide'}. Best is trial 65 with value: 0.8465116279069768.\n",
      "[I 2023-12-11 15:32:50,880] Trial 151 finished with value: 0.7811158798283262 and parameters: {'booster': 'gbtree', 'lambda': 0.0005740414402194149, 'alpha': 0.00018197816358252904, 'subsample': 0.7070914901936439, 'colsample_bytree': 0.30864663788535457, 'max_depth': 7, 'min_child_weight': 2, 'eta': 0.6720272920551673, 'gamma': 0.10321986715382318, 'grow_policy': 'lossguide'}. Best is trial 65 with value: 0.8465116279069768.\n",
      "[I 2023-12-11 15:32:51,030] Trial 152 finished with value: 0.8125000000000001 and parameters: {'booster': 'gbtree', 'lambda': 0.0010231086269169858, 'alpha': 0.00014270565230460117, 'subsample': 0.7235488508831479, 'colsample_bytree': 0.321259049283704, 'max_depth': 7, 'min_child_weight': 2, 'eta': 0.684922436998567, 'gamma': 0.112189514511456, 'grow_policy': 'lossguide'}. Best is trial 65 with value: 0.8465116279069768.\n",
      "[I 2023-12-11 15:32:51,181] Trial 153 finished with value: 0.8584905660377359 and parameters: {'booster': 'gbtree', 'lambda': 0.0010317543856220518, 'alpha': 0.0004344484534776764, 'subsample': 0.7227331472181465, 'colsample_bytree': 0.35255592681314796, 'max_depth': 7, 'min_child_weight': 2, 'eta': 0.9793908643633891, 'gamma': 0.07019393274150842, 'grow_policy': 'lossguide'}. Best is trial 153 with value: 0.8584905660377359.\n",
      "[I 2023-12-11 15:32:51,331] Trial 154 finished with value: 0.8465116279069768 and parameters: {'booster': 'gbtree', 'lambda': 0.0012832708157845447, 'alpha': 0.00047383675925482773, 'subsample': 0.7274012237481776, 'colsample_bytree': 0.25554940769035883, 'max_depth': 7, 'min_child_weight': 2, 'eta': 0.5370043141564254, 'gamma': 0.13661342521576858, 'grow_policy': 'lossguide'}. Best is trial 153 with value: 0.8584905660377359.\n",
      "[I 2023-12-11 15:32:51,483] Trial 155 finished with value: 0.774468085106383 and parameters: {'booster': 'gbtree', 'lambda': 0.0012566456692939291, 'alpha': 0.0004245308416285948, 'subsample': 0.6785299290747469, 'colsample_bytree': 0.26897073522196674, 'max_depth': 7, 'min_child_weight': 2, 'eta': 0.4214467193258073, 'gamma': 0.15785853856092216, 'grow_policy': 'lossguide'}. Best is trial 153 with value: 0.8584905660377359.\n",
      "[I 2023-12-11 15:32:51,548] Trial 156 finished with value: 0.29277566539923955 and parameters: {'booster': 'gblinear', 'lambda': 0.001057078405881287, 'alpha': 0.0007314213959540253, 'subsample': 0.7264743748399181, 'colsample_bytree': 0.2839855226977122}. Best is trial 153 with value: 0.8584905660377359.\n",
      "[I 2023-12-11 15:32:51,700] Trial 157 finished with value: 0.7054263565891472 and parameters: {'booster': 'gbtree', 'lambda': 0.0002802360201608619, 'alpha': 0.0002645308306484711, 'subsample': 0.6608600915227246, 'colsample_bytree': 0.299067803758737, 'max_depth': 7, 'min_child_weight': 2, 'eta': 0.2679631340608553, 'gamma': 0.08364141139302698, 'grow_policy': 'lossguide'}. Best is trial 153 with value: 0.8584905660377359.\n",
      "[I 2023-12-11 15:32:51,864] Trial 158 finished with value: 0.7844827586206896 and parameters: {'booster': 'gbtree', 'lambda': 0.0018106038399196842, 'alpha': 0.00123147812312099, 'subsample': 0.7233796980734176, 'colsample_bytree': 0.32391720997070644, 'max_depth': 7, 'min_child_weight': 2, 'eta': 0.6666354794493713, 'gamma': 0.34443923598722664, 'grow_policy': 'lossguide'}. Best is trial 153 with value: 0.8584905660377359.\n",
      "[I 2023-12-11 15:32:52,016] Trial 159 finished with value: 0.8161434977578476 and parameters: {'booster': 'gbtree', 'lambda': 0.0004236538915628235, 'alpha': 0.00043468027581131574, 'subsample': 0.7451481051877519, 'colsample_bytree': 0.24428693727919573, 'max_depth': 7, 'min_child_weight': 2, 'eta': 0.5356011866035908, 'gamma': 0.11471826831222683, 'grow_policy': 'lossguide'}. Best is trial 153 with value: 0.8584905660377359.\n",
      "[I 2023-12-11 15:32:52,173] Trial 160 finished with value: 0.6867924528301886 and parameters: {'booster': 'gbtree', 'lambda': 0.0008860605688742133, 'alpha': 0.00016557087176340544, 'subsample': 0.7670564069864217, 'colsample_bytree': 0.256689430702008, 'max_depth': 7, 'min_child_weight': 2, 'eta': 0.20980611318599968, 'gamma': 0.12948279005061988, 'grow_policy': 'lossguide'}. Best is trial 153 with value: 0.8584905660377359.\n",
      "[I 2023-12-11 15:32:52,321] Trial 161 finished with value: 0.791304347826087 and parameters: {'booster': 'gbtree', 'lambda': 0.0003843281930870716, 'alpha': 0.0003474572005071968, 'subsample': 0.7379440229862072, 'colsample_bytree': 0.2503760530112, 'max_depth': 7, 'min_child_weight': 2, 'eta': 0.9942834755891254, 'gamma': 0.08281630637131111, 'grow_policy': 'lossguide'}. Best is trial 153 with value: 0.8584905660377359.\n",
      "[I 2023-12-11 15:32:52,475] Trial 162 finished with value: 0.7583333333333334 and parameters: {'booster': 'gbtree', 'lambda': 0.0005927840432336104, 'alpha': 0.0006089175216700203, 'subsample': 0.6965462509817064, 'colsample_bytree': 0.23115800885656057, 'max_depth': 7, 'min_child_weight': 2, 'eta': 0.46181240922302885, 'gamma': 0.055699965776769465, 'grow_policy': 'lossguide'}. Best is trial 153 with value: 0.8584905660377359.\n",
      "[I 2023-12-11 15:32:52,635] Trial 163 finished with value: 0.8198198198198199 and parameters: {'booster': 'gbtree', 'lambda': 0.0013897367168459337, 'alpha': 0.000483609897991648, 'subsample': 0.7232841825180172, 'colsample_bytree': 0.342353128462867, 'max_depth': 7, 'min_child_weight': 2, 'eta': 0.6703597058329102, 'gamma': 0.12802320190211341, 'grow_policy': 'lossguide'}. Best is trial 153 with value: 0.8584905660377359.\n",
      "[I 2023-12-11 15:32:52,791] Trial 164 finished with value: 0.5384615384615384 and parameters: {'booster': 'gbtree', 'lambda': 0.0013636281341169352, 'alpha': 0.0009437302463376622, 'subsample': 0.7524191832049814, 'colsample_bytree': 0.35288525325631903, 'max_depth': 7, 'min_child_weight': 2, 'eta': 0.004246158414917021, 'gamma': 0.140093471105589, 'grow_policy': 'lossguide'}. Best is trial 153 with value: 0.8584905660377359.\n",
      "[I 2023-12-11 15:32:52,951] Trial 165 finished with value: 0.7583333333333334 and parameters: {'booster': 'gbtree', 'lambda': 0.0010240384199425184, 'alpha': 0.0004818087774282183, 'subsample': 0.7210316826027928, 'colsample_bytree': 0.2704592790261928, 'max_depth': 7, 'min_child_weight': 2, 'eta': 0.6393674918794351, 'gamma': 0.2646387390229415, 'grow_policy': 'lossguide'}. Best is trial 153 with value: 0.8584905660377359.\n",
      "[I 2023-12-11 15:32:53,109] Trial 166 finished with value: 0.7398373983739838 and parameters: {'booster': 'gbtree', 'lambda': 0.0015843762694637807, 'alpha': 0.00023708749174927718, 'subsample': 0.739650481578968, 'colsample_bytree': 0.34175168641552, 'max_depth': 7, 'min_child_weight': 2, 'eta': 0.360213157521288, 'gamma': 0.5824145880147205, 'grow_policy': 'lossguide'}. Best is trial 153 with value: 0.8584905660377359.\n",
      "[I 2023-12-11 15:32:53,291] Trial 167 finished with value: 0.7520661157024793 and parameters: {'booster': 'gbtree', 'lambda': 0.0021315447357272243, 'alpha': 9.317103098559996e-05, 'subsample': 0.712247160890708, 'colsample_bytree': 0.3803883205939322, 'max_depth': 7, 'min_child_weight': 2, 'eta': 0.52604775630077, 'gamma': 0.10797584539191775, 'grow_policy': 'lossguide'}. Best is trial 153 with value: 0.8584905660377359.\n",
      "[I 2023-12-11 15:32:53,490] Trial 168 finished with value: 0.6026490066225166 and parameters: {'booster': 'gbtree', 'lambda': 0.0004231967746357205, 'alpha': 0.00018923391117778326, 'subsample': 0.6866056095790912, 'colsample_bytree': 0.3235394267135153, 'max_depth': 7, 'min_child_weight': 2, 'eta': 0.038970523004333235, 'gamma': 0.1966988694117888, 'grow_policy': 'lossguide'}. Best is trial 153 with value: 0.8584905660377359.\n",
      "[I 2023-12-11 15:32:53,651] Trial 169 finished with value: 0.794759825327511 and parameters: {'booster': 'gbtree', 'lambda': 0.0009295818109840261, 'alpha': 0.00033195358912627696, 'subsample': 0.7675394781129983, 'colsample_bytree': 0.24478063247096493, 'max_depth': 7, 'min_child_weight': 2, 'eta': 0.680578822036813, 'gamma': 0.08576971215935271, 'grow_policy': 'lossguide'}. Best is trial 153 with value: 0.8584905660377359.\n",
      "[I 2023-12-11 15:32:53,821] Trial 170 finished with value: 0.7027027027027027 and parameters: {'booster': 'gbtree', 'lambda': 0.0005332254867454199, 'alpha': 0.00013296368207962804, 'subsample': 0.7288434925257444, 'colsample_bytree': 0.28922602937143127, 'max_depth': 7, 'min_child_weight': 3, 'eta': 0.2938046452296839, 'gamma': 0.06448745319995623, 'grow_policy': 'lossguide'}. Best is trial 153 with value: 0.8584905660377359.\n",
      "[I 2023-12-11 15:32:53,989] Trial 171 finished with value: 0.791304347826087 and parameters: {'booster': 'gbtree', 'lambda': 0.0002537910117818387, 'alpha': 0.0015229023351903553, 'subsample': 0.6679884808493556, 'colsample_bytree': 0.30505476382199515, 'max_depth': 7, 'min_child_weight': 2, 'eta': 0.7478919284661857, 'gamma': 0.04190709143143748, 'grow_policy': 'lossguide'}. Best is trial 153 with value: 0.8584905660377359.\n",
      "[I 2023-12-11 15:32:54,139] Trial 172 finished with value: 0.801762114537445 and parameters: {'booster': 'gbtree', 'lambda': 0.000718530083045584, 'alpha': 0.0004687217654366413, 'subsample': 0.7019181790816093, 'colsample_bytree': 0.357948670020846, 'max_depth': 7, 'min_child_weight': 2, 'eta': 0.9580851206809704, 'gamma': 0.028807406102236414, 'grow_policy': 'lossguide'}. Best is trial 153 with value: 0.8584905660377359.\n",
      "[I 2023-12-11 15:32:54,292] Trial 173 finished with value: 0.7811158798283262 and parameters: {'booster': 'gbtree', 'lambda': 0.00015618226736444814, 'alpha': 0.0007329466266261345, 'subsample': 0.6409433492232736, 'colsample_bytree': 0.34025988207649865, 'max_depth': 7, 'min_child_weight': 2, 'eta': 0.4789649202093346, 'gamma': 0.11402695549554802, 'grow_policy': 'lossguide'}. Best is trial 153 with value: 0.8584905660377359.\n",
      "[I 2023-12-11 15:32:54,440] Trial 174 finished with value: 0.801762114537445 and parameters: {'booster': 'gbtree', 'lambda': 0.0002359977169807982, 'alpha': 0.00024677226040095587, 'subsample': 0.6122144443319472, 'colsample_bytree': 0.3189269346179433, 'max_depth': 7, 'min_child_weight': 2, 'eta': 0.9988516608167363, 'gamma': 0.1627572508940787, 'grow_policy': 'lossguide'}. Best is trial 153 with value: 0.8584905660377359.\n",
      "[I 2023-12-11 15:32:54,594] Trial 175 finished with value: 0.7982456140350876 and parameters: {'booster': 'gbtree', 'lambda': 0.000409571577323638, 'alpha': 0.000520759008224198, 'subsample': 0.6607349452316813, 'colsample_bytree': 0.22358028455685122, 'max_depth': 7, 'min_child_weight': 2, 'eta': 0.5352826771827457, 'gamma': 0.036991139154290135, 'grow_policy': 'lossguide'}. Best is trial 153 with value: 0.8584905660377359.\n",
      "[I 2023-12-11 15:32:54,747] Trial 176 finished with value: 0.8584905660377359 and parameters: {'booster': 'gbtree', 'lambda': 0.0012249543630208335, 'alpha': 0.0022033276497320222, 'subsample': 0.7538783193735957, 'colsample_bytree': 0.2855864063973867, 'max_depth': 7, 'min_child_weight': 2, 'eta': 0.7095314488495523, 'gamma': 0.05454043637932578, 'grow_policy': 'lossguide'}. Best is trial 153 with value: 0.8584905660377359.\n",
      "[I 2023-12-11 15:32:54,907] Trial 177 finished with value: 0.7811158798283262 and parameters: {'booster': 'gbtree', 'lambda': 0.0013055548523308192, 'alpha': 0.002485132765399759, 'subsample': 0.7489213195223124, 'colsample_bytree': 0.2642936763111196, 'max_depth': 7, 'min_child_weight': 2, 'eta': 0.35377439723865406, 'gamma': 0.060585977991722356, 'grow_policy': 'lossguide'}. Best is trial 153 with value: 0.8584905660377359.\n",
      "[I 2023-12-11 15:32:55,058] Trial 178 finished with value: 0.8310502283105022 and parameters: {'booster': 'gbtree', 'lambda': 0.002087017536428622, 'alpha': 0.0016368853691665144, 'subsample': 0.7195616736449884, 'colsample_bytree': 0.2882640495877121, 'max_depth': 7, 'min_child_weight': 2, 'eta': 0.6717828332373167, 'gamma': 0.2848982212452683, 'grow_policy': 'lossguide'}. Best is trial 153 with value: 0.8584905660377359.\n",
      "[I 2023-12-11 15:32:55,212] Trial 179 finished with value: 0.7982456140350876 and parameters: {'booster': 'gbtree', 'lambda': 0.002267515232908295, 'alpha': 0.00213129087078358, 'subsample': 0.71908725878121, 'colsample_bytree': 0.283620269907708, 'max_depth': 7, 'min_child_weight': 2, 'eta': 0.6664347358547724, 'gamma': 0.26360742198388043, 'grow_policy': 'lossguide'}. Best is trial 153 with value: 0.8584905660377359.\n",
      "[I 2023-12-11 15:32:55,376] Trial 180 finished with value: 0.27956989247311825 and parameters: {'booster': 'gbtree', 'lambda': 0.002823388694451279, 'alpha': 0.0015010688004156688, 'subsample': 0.7604698670459197, 'colsample_bytree': 0.25079644282125113, 'max_depth': 7, 'min_child_weight': 2, 'eta': 0.0014865484454805035, 'gamma': 0.455157422539175, 'grow_policy': 'lossguide'}. Best is trial 153 with value: 0.8584905660377359.\n",
      "[I 2023-12-11 15:32:55,540] Trial 181 finished with value: 0.0645619013834693 and parameters: {'booster': 'gbtree', 'lambda': 0.000803175388776403, 'alpha': 0.0010681334249902673, 'subsample': 0.7359544771862965, 'colsample_bytree': 0.37180329062493256, 'max_depth': 7, 'min_child_weight': 2, 'eta': 0.00010586893617001061, 'gamma': 0.14330733643295537, 'grow_policy': 'lossguide'}. Best is trial 153 with value: 0.8584905660377359.\n",
      "[I 2023-12-11 15:32:55,704] Trial 182 finished with value: 0.7777777777777778 and parameters: {'booster': 'gbtree', 'lambda': 0.0012208372637157394, 'alpha': 0.0001099079537243871, 'subsample': 0.7827635351871695, 'colsample_bytree': 0.333891989291777, 'max_depth': 7, 'min_child_weight': 2, 'eta': 0.4862320178755261, 'gamma': 0.07275365421959484, 'grow_policy': 'lossguide'}. Best is trial 153 with value: 0.8584905660377359.\n",
      "[I 2023-12-11 15:32:55,864] Trial 183 finished with value: 0.8161434977578476 and parameters: {'booster': 'gbtree', 'lambda': 0.0017348084609540278, 'alpha': 7.975182053291049e-05, 'subsample': 0.6978640444286741, 'colsample_bytree': 0.28825409712748606, 'max_depth': 7, 'min_child_weight': 2, 'eta': 0.696841284640667, 'gamma': 0.22078686526259136, 'grow_policy': 'lossguide'}. Best is trial 153 with value: 0.8584905660377359.\n",
      "[I 2023-12-11 15:32:56,019] Trial 184 finished with value: 0.7027027027027027 and parameters: {'booster': 'gbtree', 'lambda': 0.0017968897252819077, 'alpha': 0.00016672561894102354, 'subsample': 0.710999985819261, 'colsample_bytree': 0.2870615666680366, 'max_depth': 7, 'min_child_weight': 6, 'eta': 0.6374779976024336, 'gamma': 0.3488541870508637, 'grow_policy': 'lossguide'}. Best is trial 153 with value: 0.8584905660377359.\n",
      "[I 2023-12-11 15:32:56,178] Trial 185 finished with value: 0.7777777777777778 and parameters: {'booster': 'gbtree', 'lambda': 0.0016162390908593528, 'alpha': 0.0008938891693802342, 'subsample': 0.7477404385142387, 'colsample_bytree': 0.26968597625747376, 'max_depth': 7, 'min_child_weight': 2, 'eta': 0.7123438162400287, 'gamma': 0.17558546145529755, 'grow_policy': 'lossguide'}. Best is trial 153 with value: 0.8584905660377359.\n",
      "[I 2023-12-11 15:32:56,248] Trial 186 finished with value: 0.2967244701348748 and parameters: {'booster': 'gblinear', 'lambda': 0.0006498786509960423, 'alpha': 0.0003628033748984848, 'subsample': 0.6928748652979236, 'colsample_bytree': 0.3108972249498979}. Best is trial 153 with value: 0.8584905660377359.\n",
      "[I 2023-12-11 15:32:56,406] Trial 187 finished with value: 0.7109375 and parameters: {'booster': 'gbtree', 'lambda': 0.002888518642950729, 'alpha': 6.589914683775399e-05, 'subsample': 0.7230875071611271, 'colsample_bytree': 0.2956412920205644, 'max_depth': 7, 'min_child_weight': 2, 'eta': 0.2493889606574964, 'gamma': 0.7499973313769607, 'grow_policy': 'lossguide'}. Best is trial 153 with value: 0.8584905660377359.\n",
      "[I 2023-12-11 15:32:56,560] Trial 188 finished with value: 0.0645619013834693 and parameters: {'booster': 'gbtree', 'lambda': 0.0009855058407586305, 'alpha': 0.0032720362055696805, 'subsample': 0.7041426336986286, 'colsample_bytree': 0.2415388935697913, 'max_depth': 7, 'min_child_weight': 2, 'eta': 9.314741003559071e-06, 'gamma': 0.20836282188847238, 'grow_policy': 'lossguide'}. Best is trial 153 with value: 0.8584905660377359.\n",
      "[I 2023-12-11 15:32:56,717] Trial 189 finished with value: 0.594059405940594 and parameters: {'booster': 'gbtree', 'lambda': 0.0004771348841420328, 'alpha': 0.0015911353753037688, 'subsample': 0.7317568447514295, 'colsample_bytree': 0.31985629462303206, 'max_depth': 7, 'min_child_weight': 2, 'eta': 0.007295628580713722, 'gamma': 0.09312055874214967, 'grow_policy': 'lossguide'}. Best is trial 153 with value: 0.8584905660377359.\n",
      "[I 2023-12-11 15:32:56,899] Trial 190 finished with value: 0.6081081081081081 and parameters: {'booster': 'gbtree', 'lambda': 0.0013297403177875357, 'alpha': 0.00010173188735051478, 'subsample': 0.6774996561341468, 'colsample_bytree': 0.2762081480527382, 'max_depth': 7, 'min_child_weight': 2, 'eta': 0.011548532933463267, 'gamma': 0.11870502697435821, 'grow_policy': 'lossguide'}. Best is trial 153 with value: 0.8584905660377359.\n",
      "[I 2023-12-11 15:32:57,064] Trial 191 finished with value: 0.7338709677419354 and parameters: {'booster': 'gbtree', 'lambda': 0.0008785372419453486, 'alpha': 7.017478967885349e-05, 'subsample': 0.6849395125343676, 'colsample_bytree': 0.35456062719728, 'max_depth': 7, 'min_child_weight': 2, 'eta': 0.4151402289926005, 'gamma': 0.025437813013149933, 'grow_policy': 'lossguide'}. Best is trial 153 with value: 0.8584905660377359.\n",
      "[I 2023-12-11 15:32:57,247] Trial 192 finished with value: 0.8053097345132744 and parameters: {'booster': 'gbtree', 'lambda': 0.0006720937306508271, 'alpha': 0.00013353310862868745, 'subsample': 0.7007436455456241, 'colsample_bytree': 0.3923146021912707, 'max_depth': 7, 'min_child_weight': 2, 'eta': 0.7293747455624425, 'gamma': 0.05123070605908758, 'grow_policy': 'lossguide'}. Best is trial 153 with value: 0.8584905660377359.\n",
      "[I 2023-12-11 15:32:57,401] Trial 193 finished with value: 0.7811158798283262 and parameters: {'booster': 'gbtree', 'lambda': 0.0018117344395987358, 'alpha': 0.00023379358515633389, 'subsample': 0.7558403272352433, 'colsample_bytree': 0.3371848826582278, 'max_depth': 7, 'min_child_weight': 2, 'eta': 0.9560015955606308, 'gamma': 0.27485638823895187, 'grow_policy': 'lossguide'}. Best is trial 153 with value: 0.8584905660377359.\n",
      "[I 2023-12-11 15:32:57,540] Trial 194 finished with value: 0.38344226579520696 and parameters: {'booster': 'gbtree', 'lambda': 0.0003358562326576582, 'alpha': 4.926845840677617e-05, 'subsample': 0.7168773880308287, 'colsample_bytree': 0.3678488463824274, 'max_depth': 3, 'min_child_weight': 2, 'eta': 0.4889178249449768, 'gamma': 0.9929853696358601, 'grow_policy': 'lossguide'}. Best is trial 153 with value: 0.8584905660377359.\n",
      "[I 2023-12-11 15:32:57,697] Trial 195 finished with value: 0.7777777777777778 and parameters: {'booster': 'gbtree', 'lambda': 0.001121209090730363, 'alpha': 9.296950675930007e-05, 'subsample': 0.6728635197764434, 'colsample_bytree': 0.3079574994335649, 'max_depth': 7, 'min_child_weight': 2, 'eta': 0.36568598291131565, 'gamma': 0.06888149195531121, 'grow_policy': 'lossguide'}. Best is trial 153 with value: 0.8584905660377359.\n",
      "[I 2023-12-11 15:32:57,864] Trial 196 finished with value: 0.7982456140350876 and parameters: {'booster': 'gbtree', 'lambda': 0.0005390876870546969, 'alpha': 0.000387038708813909, 'subsample': 0.7378176348698701, 'colsample_bytree': 0.3477468477637691, 'max_depth': 7, 'min_child_weight': 2, 'eta': 0.7069180692680934, 'gamma': 0.09682279906210718, 'grow_policy': 'lossguide'}. Best is trial 153 with value: 0.8584905660377359.\n",
      "[I 2023-12-11 15:32:58,029] Trial 197 finished with value: 0.6666666666666666 and parameters: {'booster': 'gbtree', 'lambda': 0.0036337286666475034, 'alpha': 0.000816758610100912, 'subsample': 0.774105240763915, 'colsample_bytree': 0.32777106589914246, 'max_depth': 7, 'min_child_weight': 2, 'eta': 0.11510122387370939, 'gamma': 0.14175698763265815, 'grow_policy': 'lossguide'}. Best is trial 153 with value: 0.8584905660377359.\n",
      "[I 2023-12-11 15:32:58,180] Trial 198 finished with value: 0.8235294117647058 and parameters: {'booster': 'gbtree', 'lambda': 0.0022867587966556202, 'alpha': 0.00016355207724095703, 'subsample': 0.6912904519225715, 'colsample_bytree': 0.28524986315680845, 'max_depth': 7, 'min_child_weight': 2, 'eta': 0.9975789728450275, 'gamma': 0.051458961217826844, 'grow_policy': 'lossguide'}. Best is trial 153 with value: 0.8584905660377359.\n",
      "[I 2023-12-11 15:32:58,333] Trial 199 finished with value: 0.801762114537445 and parameters: {'booster': 'gbtree', 'lambda': 0.0019887587572557076, 'alpha': 0.0001739821352943503, 'subsample': 0.6933356506839422, 'colsample_bytree': 0.25661139611986533, 'max_depth': 7, 'min_child_weight': 2, 'eta': 0.9746995487807236, 'gamma': 0.04732949150274716, 'grow_policy': 'lossguide'}. Best is trial 153 with value: 0.8584905660377359.\n",
      "[I 2023-12-11 15:32:58,491] Trial 200 finished with value: 0.7250996015936254 and parameters: {'booster': 'gbtree', 'lambda': 0.002035685533359958, 'alpha': 0.0002967672331467257, 'subsample': 0.7161388523515627, 'colsample_bytree': 0.28840215113797246, 'max_depth': 7, 'min_child_weight': 3, 'eta': 0.5777814854103022, 'gamma': 0.39246776337345124, 'grow_policy': 'lossguide'}. Best is trial 153 with value: 0.8584905660377359.\n",
      "[I 2023-12-11 15:32:58,646] Trial 201 finished with value: 0.8198198198198199 and parameters: {'booster': 'gbtree', 'lambda': 0.0007766128160363158, 'alpha': 7.262023533955141e-05, 'subsample': 0.6555017013872666, 'colsample_bytree': 0.3052849507338949, 'max_depth': 7, 'min_child_weight': 2, 'eta': 0.7354296845175436, 'gamma': 0.025324256078653504, 'grow_policy': 'lossguide'}. Best is trial 153 with value: 0.8584905660377359.\n",
      "[I 2023-12-11 15:32:58,798] Trial 202 finished with value: 0.801762114537445 and parameters: {'booster': 'gbtree', 'lambda': 0.0007760075117410833, 'alpha': 0.00015489519168280608, 'subsample': 0.6559835867448577, 'colsample_bytree': 0.3001026165096774, 'max_depth': 7, 'min_child_weight': 2, 'eta': 0.9977011053770775, 'gamma': 0.07637872131913154, 'grow_policy': 'lossguide'}. Best is trial 153 with value: 0.8584905660377359.\n",
      "[I 2023-12-11 15:32:58,953] Trial 203 finished with value: 0.7027027027027027 and parameters: {'booster': 'gbtree', 'lambda': 0.0011751247391660795, 'alpha': 7.89891862112165e-05, 'subsample': 0.6209267104642081, 'colsample_bytree': 0.27529033630785493, 'max_depth': 7, 'min_child_weight': 7, 'eta': 0.6915672616725702, 'gamma': 0.03129497578008737, 'grow_policy': 'lossguide'}. Best is trial 153 with value: 0.8584905660377359.\n",
      "[I 2023-12-11 15:32:59,115] Trial 204 finished with value: 0.8088888888888888 and parameters: {'booster': 'gbtree', 'lambda': 0.0003156389827509594, 'alpha': 0.0005739117769620288, 'subsample': 0.6669329188911074, 'colsample_bytree': 0.31792113005133815, 'max_depth': 7, 'min_child_weight': 2, 'eta': 0.5059346297952994, 'gamma': 0.2178314816601135, 'grow_policy': 'lossguide'}. Best is trial 153 with value: 0.8584905660377359.\n",
      "[I 2023-12-11 15:32:59,268] Trial 205 finished with value: 0.801762114537445 and parameters: {'booster': 'gbtree', 'lambda': 0.003306407629698686, 'alpha': 0.005275193759491646, 'subsample': 0.685664641382539, 'colsample_bytree': 0.2252782393949435, 'max_depth': 7, 'min_child_weight': 2, 'eta': 0.7390491758884422, 'gamma': 0.019703868381159798, 'grow_policy': 'lossguide'}. Best is trial 153 with value: 0.8584905660377359.\n",
      "[I 2023-12-11 15:32:59,429] Trial 206 finished with value: 0.7777777777777778 and parameters: {'booster': 'gbtree', 'lambda': 0.0005114526571113926, 'alpha': 0.0002093454168738501, 'subsample': 0.7313700392896756, 'colsample_bytree': 0.2933433468553976, 'max_depth': 7, 'min_child_weight': 2, 'eta': 0.3307005460845604, 'gamma': 0.05497823944353828, 'grow_policy': 'lossguide'}. Best is trial 153 with value: 0.8584905660377359.\n",
      "[I 2023-12-11 15:32:59,584] Trial 207 finished with value: 0.0645619013834693 and parameters: {'booster': 'gbtree', 'lambda': 0.0012856364423479137, 'alpha': 5.034791615904936e-05, 'subsample': 0.6349184036475272, 'colsample_bytree': 0.2654515422539633, 'max_depth': 7, 'min_child_weight': 2, 'eta': 0.000421426736053416, 'gamma': 0.10913693282419902, 'grow_policy': 'lossguide'}. Best is trial 153 with value: 0.8584905660377359.\n",
      "[I 2023-12-11 15:32:59,758] Trial 208 finished with value: 0.7811158798283262 and parameters: {'booster': 'gbtree', 'lambda': 0.0007132079401959212, 'alpha': 0.00011449868732285771, 'subsample': 0.7088373164263644, 'colsample_bytree': 0.6239019461239237, 'max_depth': 7, 'min_child_weight': 2, 'eta': 0.9960860668691484, 'gamma': 0.03654187211694761, 'grow_policy': 'lossguide'}. Best is trial 153 with value: 0.8584905660377359.\n",
      "[I 2023-12-11 15:32:59,924] Trial 209 finished with value: 0.7811158798283262 and parameters: {'booster': 'gbtree', 'lambda': 0.002529846340740343, 'alpha': 0.0003835996882863623, 'subsample': 0.74943994541576, 'colsample_bytree': 0.3109044819689798, 'max_depth': 7, 'min_child_weight': 2, 'eta': 0.5268870226539413, 'gamma': 0.08117684711243207, 'grow_policy': 'lossguide'}. Best is trial 153 with value: 0.8584905660377359.\n",
      "[I 2023-12-11 15:33:00,090] Trial 210 finished with value: 0.7615062761506276 and parameters: {'booster': 'gbtree', 'lambda': 0.0003803127293896303, 'alpha': 0.0011803349386659786, 'subsample': 0.6582458245782565, 'colsample_bytree': 0.33526252986348, 'max_depth': 7, 'min_child_weight': 2, 'eta': 0.6984190831730106, 'gamma': 0.14689615055736516, 'grow_policy': 'lossguide'}. Best is trial 153 with value: 0.8584905660377359.\n",
      "[I 2023-12-11 15:33:00,248] Trial 211 finished with value: 0.7811158798283262 and parameters: {'booster': 'gbtree', 'lambda': 0.0009809132435015277, 'alpha': 6.824359428754234e-05, 'subsample': 0.6956966723984597, 'colsample_bytree': 0.348740591685458, 'max_depth': 7, 'min_child_weight': 2, 'eta': 0.4548148904158781, 'gamma': 0.0024022637923928575, 'grow_policy': 'lossguide'}. Best is trial 153 with value: 0.8584905660377359.\n",
      "[I 2023-12-11 15:33:00,414] Trial 212 finished with value: 0.5634674922600619 and parameters: {'booster': 'gbtree', 'lambda': 0.0015988698881708582, 'alpha': 8.282642162066275e-05, 'subsample': 0.6691612861104501, 'colsample_bytree': 0.380970393427966, 'max_depth': 7, 'min_child_weight': 2, 'eta': 0.023750211763392228, 'gamma': 0.05033490423748239, 'grow_policy': 'lossguide'}. Best is trial 153 with value: 0.8584905660377359.\n",
      "[I 2023-12-11 15:33:00,573] Trial 213 finished with value: 0.8310502283105022 and parameters: {'booster': 'gbtree', 'lambda': 0.0007454407439678571, 'alpha': 3.483073934457949e-05, 'subsample': 0.6850642668370865, 'colsample_bytree': 0.3628248398459818, 'max_depth': 7, 'min_child_weight': 2, 'eta': 0.7206919367326433, 'gamma': 0.023602414082062522, 'grow_policy': 'lossguide'}. Best is trial 153 with value: 0.8584905660377359.\n",
      "[I 2023-12-11 15:33:00,731] Trial 214 finished with value: 0.7777777777777778 and parameters: {'booster': 'gbtree', 'lambda': 0.0006568409939674443, 'alpha': 3.378432886613449e-05, 'subsample': 0.680979255071366, 'colsample_bytree': 0.36362411739659617, 'max_depth': 7, 'min_child_weight': 2, 'eta': 0.6786922160962334, 'gamma': 0.024105313797199244, 'grow_policy': 'lossguide'}. Best is trial 153 with value: 0.8584905660377359.\n",
      "[I 2023-12-11 15:33:00,895] Trial 215 finished with value: 0.791304347826087 and parameters: {'booster': 'gbtree', 'lambda': 0.0009352833798135825, 'alpha': 0.0002499059486828485, 'subsample': 0.7220713010889396, 'colsample_bytree': 0.39868637217890884, 'max_depth': 7, 'min_child_weight': 2, 'eta': 0.6913120441113271, 'gamma': 8.720864585724588e-05, 'grow_policy': 'lossguide'}. Best is trial 153 with value: 0.8584905660377359.\n",
      "[I 2023-12-11 15:33:01,055] Trial 216 finished with value: 0.6867924528301886 and parameters: {'booster': 'gbtree', 'lambda': 0.0004518138115931174, 'alpha': 1.05732561549347e-06, 'subsample': 0.7017786473521728, 'colsample_bytree': 0.28732937529584446, 'max_depth': 7, 'min_child_weight': 2, 'eta': 0.36886147660810936, 'gamma': 0.01509783991385151, 'grow_policy': 'lossguide'}. Best is trial 153 with value: 0.8584905660377359.\n",
      "[I 2023-12-11 15:33:01,209] Trial 217 finished with value: 0.774468085106383 and parameters: {'booster': 'gbtree', 'lambda': 0.00024354356171708404, 'alpha': 4.8228137807408036e-05, 'subsample': 0.6486323271622911, 'colsample_bytree': 0.3291479876932913, 'max_depth': 7, 'min_child_weight': 2, 'eta': 0.9935523380802478, 'gamma': 0.010328899231162205, 'grow_policy': 'lossguide'}. Best is trial 153 with value: 0.8584905660377359.\n",
      "[I 2023-12-11 15:33:01,369] Trial 218 finished with value: 0.7520661157024793 and parameters: {'booster': 'gbtree', 'lambda': 0.0015326861901577588, 'alpha': 0.0001368366066919939, 'subsample': 0.7405373038844415, 'colsample_bytree': 0.3073717615676357, 'max_depth': 7, 'min_child_weight': 2, 'eta': 0.2443056293731163, 'gamma': 0.03558724119743591, 'grow_policy': 'lossguide'}. Best is trial 153 with value: 0.8584905660377359.\n",
      "[I 2023-12-11 15:33:01,440] Trial 219 finished with value: 0.2955854126679462 and parameters: {'booster': 'gblinear', 'lambda': 0.0006549908084199968, 'alpha': 0.0004856420266599444, 'subsample': 0.7128415045183362, 'colsample_bytree': 0.2485974594016017}. Best is trial 153 with value: 0.8584905660377359.\n",
      "[I 2023-12-11 15:33:01,608] Trial 220 finished with value: 0.787878787878788 and parameters: {'booster': 'gbtree', 'lambda': 0.00014073811777545324, 'alpha': 0.0019489883944035615, 'subsample': 0.7617973756569721, 'colsample_bytree': 0.3752704779476274, 'max_depth': 7, 'min_child_weight': 2, 'eta': 0.5308076314985242, 'gamma': 0.06686734008003047, 'grow_policy': 'lossguide'}. Best is trial 153 with value: 0.8584905660377359.\n",
      "[I 2023-12-11 15:33:01,768] Trial 221 finished with value: 0.8053097345132744 and parameters: {'booster': 'gbtree', 'lambda': 0.0009425438531260327, 'alpha': 3.8850575562122115e-05, 'subsample': 0.6779510815283116, 'colsample_bytree': 0.3517824857148418, 'max_depth': 7, 'min_child_weight': 2, 'eta': 0.7620279714820893, 'gamma': 0.023070531522359043, 'grow_policy': 'lossguide'}. Best is trial 153 with value: 0.8584905660377359.\n",
      "[I 2023-12-11 15:33:01,930] Trial 222 finished with value: 0.7459016393442622 and parameters: {'booster': 'gbtree', 'lambda': 0.0012154703519558546, 'alpha': 6.173446448805647e-05, 'subsample': 0.6869768216584008, 'colsample_bytree': 0.35735717727402505, 'max_depth': 7, 'min_child_weight': 2, 'eta': 0.47277686631524746, 'gamma': 0.11530177750815199, 'grow_policy': 'lossguide'}. Best is trial 153 with value: 0.8584905660377359.\n",
      "[I 2023-12-11 15:33:02,092] Trial 223 finished with value: 0.6385964912280702 and parameters: {'booster': 'gbtree', 'lambda': 0.0004504018026163695, 'alpha': 9.997212305739762e-05, 'subsample': 0.6315310439258739, 'colsample_bytree': 0.32397165181112314, 'max_depth': 7, 'min_child_weight': 2, 'eta': 0.06379582435768583, 'gamma': 0.04455228869307361, 'grow_policy': 'lossguide'}. Best is trial 153 with value: 0.8584905660377359.\n",
      "[I 2023-12-11 15:33:02,249] Trial 224 finished with value: 0.794759825327511 and parameters: {'booster': 'gbtree', 'lambda': 0.1765996235092714, 'alpha': 0.0007354604895716562, 'subsample': 0.6499974822075893, 'colsample_bytree': 0.390545329710179, 'max_depth': 7, 'min_child_weight': 2, 'eta': 0.9928865472402935, 'gamma': 0.029387592961657757, 'grow_policy': 'lossguide'}. Best is trial 153 with value: 0.8584905660377359.\n",
      "[I 2023-12-11 15:33:02,406] Trial 225 finished with value: 0.7338709677419354 and parameters: {'booster': 'gbtree', 'lambda': 0.0023593876612762374, 'alpha': 0.00016164068102248036, 'subsample': 0.5812771252188399, 'colsample_bytree': 0.275000280743376, 'max_depth': 7, 'min_child_weight': 2, 'eta': 0.354855411994166, 'gamma': 0.18945018309825593, 'grow_policy': 'lossguide'}. Best is trial 153 with value: 0.8584905660377359.\n",
      "[I 2023-12-11 15:33:02,574] Trial 226 finished with value: 0.6453900709219857 and parameters: {'booster': 'gbtree', 'lambda': 0.0007597566581150253, 'alpha': 0.00028018489689648964, 'subsample': 0.6991997085295408, 'colsample_bytree': 0.6697395651135422, 'max_depth': 5, 'min_child_weight': 2, 'eta': 0.5786632603642358, 'gamma': 0.0006382808333897745, 'grow_policy': 'lossguide'}. Best is trial 153 with value: 0.8584905660377359.\n",
      "[I 2023-12-11 15:33:02,731] Trial 227 finished with value: 0.771186440677966 and parameters: {'booster': 'gbtree', 'lambda': 0.0015344091754765962, 'alpha': 3.080205628576721e-05, 'subsample': 0.7268139186120143, 'colsample_bytree': 0.3409952065875847, 'max_depth': 7, 'min_child_weight': 2, 'eta': 0.9982048204911442, 'gamma': 0.08946888758429837, 'grow_policy': 'lossguide'}. Best is trial 153 with value: 0.8584905660377359.\n",
      "[I 2023-12-11 15:33:02,892] Trial 228 finished with value: 0.794759825327511 and parameters: {'booster': 'gbtree', 'lambda': 0.0005990080582735582, 'alpha': 6.008283084282281e-05, 'subsample': 0.664770616310446, 'colsample_bytree': 0.300755958293645, 'max_depth': 7, 'min_child_weight': 2, 'eta': 0.7082235376545718, 'gamma': 0.06369374565941976, 'grow_policy': 'lossguide'}. Best is trial 153 with value: 0.8584905660377359.\n",
      "[I 2023-12-11 15:33:03,056] Trial 229 finished with value: 0.5777777777777777 and parameters: {'booster': 'gbtree', 'lambda': 0.00027010011024521894, 'alpha': 9.617708833761585e-05, 'subsample': 0.6092908087849308, 'colsample_bytree': 0.3672892326450989, 'max_depth': 7, 'min_child_weight': 2, 'eta': 0.016769828136313013, 'gamma': 0.01805615676758278, 'grow_policy': 'lossguide'}. Best is trial 153 with value: 0.8584905660377359.\n",
      "[I 2023-12-11 15:33:03,226] Trial 230 finished with value: 0.728 and parameters: {'booster': 'gbtree', 'lambda': 0.0010125179862566236, 'alpha': 0.00020255285597858667, 'subsample': 0.7141355109287382, 'colsample_bytree': 0.31878487405654654, 'max_depth': 7, 'min_child_weight': 2, 'eta': 0.4821290429447347, 'gamma': 0.00845409684706981, 'grow_policy': 'lossguide'}. Best is trial 153 with value: 0.8584905660377359.\n",
      "[I 2023-12-11 15:33:03,386] Trial 231 finished with value: 0.7811158798283262 and parameters: {'booster': 'gbtree', 'lambda': 0.00016772734773958794, 'alpha': 0.0004212391806800487, 'subsample': 0.643641538070205, 'colsample_bytree': 0.29505791722271113, 'max_depth': 7, 'min_child_weight': 2, 'eta': 0.9828741496140881, 'gamma': 0.038944753063492946, 'grow_policy': 'lossguide'}. Best is trial 153 with value: 0.8584905660377359.\n",
      "[I 2023-12-11 15:33:03,555] Trial 232 finished with value: 0.5309734513274337 and parameters: {'booster': 'gbtree', 'lambda': 6.008864177102372e-05, 'alpha': 0.000554934216772693, 'subsample': 0.6222098789987579, 'colsample_bytree': 0.2849433249530639, 'max_depth': 7, 'min_child_weight': 2, 'eta': 0.005153163235445235, 'gamma': 0.04822981729912683, 'grow_policy': 'lossguide'}. Best is trial 153 with value: 0.8584905660377359.\n",
      "[I 2023-12-11 15:33:03,726] Trial 233 finished with value: 0.7844827586206896 and parameters: {'booster': 'gbtree', 'lambda': 0.0001121181247852135, 'alpha': 0.0010445027087771053, 'subsample': 0.6760121736531366, 'colsample_bytree': 0.26229922796844696, 'max_depth': 7, 'min_child_weight': 2, 'eta': 0.7154297979137634, 'gamma': 0.028962539894163628, 'grow_policy': 'lossguide'}. Best is trial 153 with value: 0.8584905660377359.\n",
      "[I 2023-12-11 15:33:03,900] Trial 234 finished with value: 0.6006600660066006 and parameters: {'booster': 'gbtree', 'lambda': 0.00032482675481403214, 'alpha': 0.000623691238658743, 'subsample': 0.638287937730849, 'colsample_bytree': 0.3044768719771236, 'max_depth': 7, 'min_child_weight': 2, 'eta': 0.008434396433424212, 'gamma': 0.00016199756909778578, 'grow_policy': 'lossguide'}. Best is trial 153 with value: 0.8584905660377359.\n",
      "[I 2023-12-11 15:33:04,058] Trial 235 finished with value: 0.6893939393939393 and parameters: {'booster': 'gbtree', 'lambda': 0.00021814721431259788, 'alpha': 0.00036130853624939435, 'subsample': 0.30376573018761444, 'colsample_bytree': 0.339101152988761, 'max_depth': 7, 'min_child_weight': 2, 'eta': 0.6691114637132677, 'gamma': 0.09057216154730906, 'grow_policy': 'lossguide'}. Best is trial 153 with value: 0.8584905660377359.\n",
      "[I 2023-12-11 15:33:04,303] Trial 236 finished with value: 0.4364508393285372 and parameters: {'booster': 'gbtree', 'lambda': 6.846983191443602e-08, 'alpha': 1.1751083628613664e-07, 'subsample': 0.6568971260208522, 'colsample_bytree': 0.5148915038907407, 'max_depth': 7, 'min_child_weight': 2, 'eta': 0.0021865465284352822, 'gamma': 0.13607252847462706, 'grow_policy': 'lossguide'}. Best is trial 153 with value: 0.8584905660377359.\n",
      "[I 2023-12-11 15:33:04,486] Trial 237 finished with value: 0.791304347826087 and parameters: {'booster': 'gbtree', 'lambda': 0.00042986074256460503, 'alpha': 0.00013408879715103426, 'subsample': 0.6971096627279314, 'colsample_bytree': 0.3129894279407423, 'max_depth': 7, 'min_child_weight': 2, 'eta': 0.9918253395944581, 'gamma': 5.400255857271276e-05, 'grow_policy': 'lossguide'}. Best is trial 153 with value: 0.8584905660377359.\n",
      "[I 2023-12-11 15:33:04,679] Trial 238 finished with value: 0.0645619013834693 and parameters: {'booster': 'gbtree', 'lambda': 0.0018489855908218468, 'alpha': 0.0007195035234840158, 'subsample': 0.7391672435372116, 'colsample_bytree': 0.3828075204947111, 'max_depth': 7, 'min_child_weight': 2, 'eta': 2.998787115787005e-08, 'gamma': 0.000306282775767384, 'grow_policy': 'lossguide'}. Best is trial 153 with value: 0.8584905660377359.\n",
      "[I 2023-12-11 15:33:04,851] Trial 239 finished with value: 0.7428571428571429 and parameters: {'booster': 'gbtree', 'lambda': 0.0007960063101977877, 'alpha': 7.627489712190467e-05, 'subsample': 0.6838348111431831, 'colsample_bytree': 0.27963071966322706, 'max_depth': 7, 'min_child_weight': 2, 'eta': 0.417209682410025, 'gamma': 0.05780363522532953, 'grow_policy': 'lossguide'}. Best is trial 153 with value: 0.8584905660377359.\n",
      "[I 2023-12-11 15:33:05,019] Trial 240 finished with value: 0.8584905660377359 and parameters: {'booster': 'gbtree', 'lambda': 1.28582344116022e-08, 'alpha': 0.0014037684369576683, 'subsample': 0.9962003797796657, 'colsample_bytree': 0.3572274736176574, 'max_depth': 7, 'min_child_weight': 2, 'eta': 0.5735316491427549, 'gamma': 0.03779889484690571, 'grow_policy': 'lossguide'}. Best is trial 153 with value: 0.8584905660377359.\n",
      "[I 2023-12-11 15:33:05,188] Trial 241 finished with value: 0.791304347826087 and parameters: {'booster': 'gbtree', 'lambda': 0.00010239827122318484, 'alpha': 0.0013053077865828814, 'subsample': 0.9511320039396078, 'colsample_bytree': 0.35469420747466573, 'max_depth': 7, 'min_child_weight': 2, 'eta': 0.5710024822701775, 'gamma': 0.03590318159114112, 'grow_policy': 'lossguide'}. Best is trial 153 with value: 0.8584905660377359.\n",
      "[I 2023-12-11 15:33:05,432] Trial 242 finished with value: 0.8161434977578476 and parameters: {'booster': 'gbtree', 'lambda': 2.2196177127330512e-05, 'alpha': 0.0002799625673426208, 'subsample': 0.9689254086836661, 'colsample_bytree': 0.5545994497387841, 'max_depth': 7, 'min_child_weight': 2, 'eta': 0.7217258273066073, 'gamma': 0.020346763463143156, 'grow_policy': 'lossguide'}. Best is trial 153 with value: 0.8584905660377359.\n",
      "[I 2023-12-11 15:33:05,615] Trial 243 finished with value: 0.801762114537445 and parameters: {'booster': 'gbtree', 'lambda': 7.433854214331494e-07, 'alpha': 0.0018513604871708018, 'subsample': 0.994631372057863, 'colsample_bytree': 0.5137204491609229, 'max_depth': 7, 'min_child_weight': 2, 'eta': 0.6525569444207102, 'gamma': 0.01760877017902753, 'grow_policy': 'lossguide'}. Best is trial 153 with value: 0.8584905660377359.\n",
      "[I 2023-12-11 15:33:05,811] Trial 244 finished with value: 0.5000000000000001 and parameters: {'booster': 'gbtree', 'lambda': 0.0040472294709898516, 'alpha': 0.0002770056388551269, 'subsample': 0.9838120819624193, 'colsample_bytree': 0.40488980441054023, 'max_depth': 7, 'min_child_weight': 2, 'eta': 0.003312292563495933, 'gamma': 0.021294734624406043, 'grow_policy': 'lossguide'}. Best is trial 153 with value: 0.8584905660377359.\n",
      "[I 2023-12-11 15:33:06,073] Trial 245 finished with value: 0.771186440677966 and parameters: {'booster': 'gbtree', 'lambda': 3.028596321802843e-06, 'alpha': 0.002948684361672602, 'subsample': 0.963395267384074, 'colsample_bytree': 0.5915137570995848, 'max_depth': 7, 'min_child_weight': 2, 'eta': 0.32645562783637383, 'gamma': 0.29472626327547397, 'grow_policy': 'lossguide'}. Best is trial 153 with value: 0.8584905660377359.\n",
      "[I 2023-12-11 15:33:06,259] Trial 246 finished with value: 0.6232876712328766 and parameters: {'booster': 'gbtree', 'lambda': 1.8936572846213008e-07, 'alpha': 0.0001943362642037298, 'subsample': 0.7824418326497026, 'colsample_bytree': 0.48056168268445487, 'max_depth': 7, 'min_child_weight': 2, 'eta': 0.047843297152294545, 'gamma': 0.014570662277103717, 'grow_policy': 'lossguide'}. Best is trial 153 with value: 0.8584905660377359.\n",
      "[I 2023-12-11 15:33:06,424] Trial 247 finished with value: 0.801762114537445 and parameters: {'booster': 'gbtree', 'lambda': 1.1659578154183479e-05, 'alpha': 3.837744966882508e-06, 'subsample': 0.8691629239973899, 'colsample_bytree': 0.3634048429962206, 'max_depth': 7, 'min_child_weight': 2, 'eta': 0.48773818120486045, 'gamma': 0.0693565499199039, 'grow_policy': 'lossguide'}. Best is trial 153 with value: 0.8584905660377359.\n",
      "[I 2023-12-11 15:33:06,593] Trial 248 finished with value: 0.8125000000000001 and parameters: {'booster': 'gbtree', 'lambda': 6.636470508675372e-08, 'alpha': 4.3178406202155366e-05, 'subsample': 0.9729253329991158, 'colsample_bytree': 0.3377511088951887, 'max_depth': 7, 'min_child_weight': 2, 'eta': 0.7422704986960934, 'gamma': 0.21044019865536817, 'grow_policy': 'lossguide'}. Best is trial 153 with value: 0.8584905660377359.\n",
      "[I 2023-12-11 15:33:06,810] Trial 249 finished with value: 0.8198198198198199 and parameters: {'booster': 'gbtree', 'lambda': 5.2140878623446924e-06, 'alpha': 0.0009277489589738621, 'subsample': 0.9357294765359563, 'colsample_bytree': 0.5494084693498675, 'max_depth': 7, 'min_child_weight': 2, 'eta': 0.7150320162245442, 'gamma': 0.21115524845047637, 'grow_policy': 'lossguide'}. Best is trial 153 with value: 0.8584905660377359.\n",
      "[I 2023-12-11 15:33:06,994] Trial 250 finished with value: 0.8161434977578476 and parameters: {'booster': 'gbtree', 'lambda': 3.944932172219405e-05, 'alpha': 0.0008955671862096485, 'subsample': 0.9177363330352107, 'colsample_bytree': 0.5643891547942511, 'max_depth': 7, 'min_child_weight': 2, 'eta': 0.7324108643700581, 'gamma': 0.13409113325538516, 'grow_policy': 'lossguide'}. Best is trial 153 with value: 0.8584905660377359.\n",
      "[I 2023-12-11 15:33:07,172] Trial 251 finished with value: 0.791304347826087 and parameters: {'booster': 'gbtree', 'lambda': 1.964924910867934e-08, 'alpha': 0.0009302473964441947, 'subsample': 0.9348967780747706, 'colsample_bytree': 0.5240978235520161, 'max_depth': 7, 'min_child_weight': 2, 'eta': 0.9894603016094333, 'gamma': 0.4095123112583365, 'grow_policy': 'lossguide'}. Best is trial 153 with value: 0.8584905660377359.\n",
      "[I 2023-12-11 15:33:07,357] Trial 252 finished with value: 0.7811158798283262 and parameters: {'booster': 'gbtree', 'lambda': 1.838358867570815e-05, 'alpha': 0.0008886173737471309, 'subsample': 0.9222809731193652, 'colsample_bytree': 0.5511543403584382, 'max_depth': 7, 'min_child_weight': 2, 'eta': 0.5169510623069388, 'gamma': 0.2174694629335923, 'grow_policy': 'lossguide'}. Best is trial 153 with value: 0.8584905660377359.\n",
      "[I 2023-12-11 15:33:07,432] Trial 253 finished with value: 0.29222011385199237 and parameters: {'booster': 'gblinear', 'lambda': 8.38632985419156e-06, 'alpha': 0.0012529507320890143, 'subsample': 0.9892956308563673, 'colsample_bytree': 0.5636245028596888}. Best is trial 153 with value: 0.8584905660377359.\n",
      "[I 2023-12-11 15:33:07,615] Trial 254 finished with value: 0.6973180076628352 and parameters: {'booster': 'gbtree', 'lambda': 2.4810405216157337e-08, 'alpha': 0.000523656834330911, 'subsample': 0.894576866180783, 'colsample_bytree': 0.5465692601823369, 'max_depth': 7, 'min_child_weight': 2, 'eta': 0.27496340635727295, 'gamma': 0.1264219358890703, 'grow_policy': 'lossguide'}. Best is trial 153 with value: 0.8584905660377359.\n",
      "[I 2023-12-11 15:33:07,778] Trial 255 finished with value: 0.06582278481012659 and parameters: {'booster': 'gbtree', 'lambda': 6.741243641374042e-05, 'alpha': 0.002396111046370619, 'subsample': 0.9992250717964497, 'colsample_bytree': 0.23705393316841622, 'max_depth': 7, 'min_child_weight': 2, 'eta': 0.0005458945134963686, 'gamma': 0.09005728155540357, 'grow_policy': 'lossguide'}. Best is trial 153 with value: 0.8584905660377359.\n",
      "[I 2023-12-11 15:33:07,963] Trial 256 finished with value: 0.8088888888888888 and parameters: {'booster': 'gbtree', 'lambda': 1.3385804234330818e-06, 'alpha': 0.0008052526717894008, 'subsample': 0.9751893069046249, 'colsample_bytree': 0.5520979477413195, 'max_depth': 7, 'min_child_weight': 2, 'eta': 0.7192786938963808, 'gamma': 0.005396923284464124, 'grow_policy': 'lossguide'}. Best is trial 153 with value: 0.8584905660377359.\n",
      "[I 2023-12-11 15:33:08,152] Trial 257 finished with value: 0.7459016393442622 and parameters: {'booster': 'gbtree', 'lambda': 4.1313142948983124e-05, 'alpha': 0.001452909722680843, 'subsample': 0.9532186419908594, 'colsample_bytree': 0.578379816925863, 'max_depth': 7, 'min_child_weight': 2, 'eta': 0.3996403109966712, 'gamma': 1.555983826993938e-05, 'grow_policy': 'lossguide'}. Best is trial 153 with value: 0.8584905660377359.\n",
      "[I 2023-12-11 15:33:08,333] Trial 258 finished with value: 0.8465116279069768 and parameters: {'booster': 'gbtree', 'lambda': 4.837465837115673e-07, 'alpha': 0.00040287212562216407, 'subsample': 0.9390327491256145, 'colsample_bytree': 0.4928681230058657, 'max_depth': 7, 'min_child_weight': 2, 'eta': 0.7420090555166283, 'gamma': 0.588694454396751, 'grow_policy': 'lossguide'}. Best is trial 153 with value: 0.8584905660377359.\n",
      "[I 2023-12-11 15:33:08,513] Trial 259 finished with value: 0.7647058823529412 and parameters: {'booster': 'gbtree', 'lambda': 3.3652403441648002e-06, 'alpha': 0.00042819118611266106, 'subsample': 0.8100698156595219, 'colsample_bytree': 0.4942224006077278, 'max_depth': 7, 'min_child_weight': 2, 'eta': 0.5402964148960904, 'gamma': 0.3158216663303654, 'grow_policy': 'lossguide'}. Best is trial 153 with value: 0.8584905660377359.\n",
      "[I 2023-12-11 15:33:08,702] Trial 260 finished with value: 0.6254295532646048 and parameters: {'booster': 'gbtree', 'lambda': 1.0071272863451072e-08, 'alpha': 0.00031289475441589296, 'subsample': 0.952416508634652, 'colsample_bytree': 0.5324661497653917, 'max_depth': 7, 'min_child_weight': 2, 'eta': 0.07891801847902016, 'gamma': 0.659601941785331, 'grow_policy': 'lossguide'}. Best is trial 153 with value: 0.8584905660377359.\n",
      "[I 2023-12-11 15:33:08,873] Trial 261 finished with value: 0.8235294117647058 and parameters: {'booster': 'gbtree', 'lambda': 2.310381862391647e-05, 'alpha': 0.0006144222419712431, 'subsample': 0.9589303683996554, 'colsample_bytree': 0.21326545079076847, 'max_depth': 7, 'min_child_weight': 2, 'eta': 0.9855431592588073, 'gamma': 0.7257697804771904, 'grow_policy': 'lossguide'}. Best is trial 153 with value: 0.8584905660377359.\n",
      "[I 2023-12-11 15:33:09,041] Trial 262 finished with value: 0.8125000000000001 and parameters: {'booster': 'gbtree', 'lambda': 7.34669884411084e-06, 'alpha': 0.0005287792615552877, 'subsample': 0.9698938398025351, 'colsample_bytree': 0.22681235530374716, 'max_depth': 7, 'min_child_weight': 2, 'eta': 0.7303938492378881, 'gamma': 0.5282597320727307, 'grow_policy': 'depthwise'}. Best is trial 153 with value: 0.8584905660377359.\n",
      "[I 2023-12-11 15:33:09,199] Trial 263 finished with value: 0.6523297491039427 and parameters: {'booster': 'gbtree', 'lambda': 1.96727417777852e-05, 'alpha': 0.0006194758956836792, 'subsample': 0.9430026747125743, 'colsample_bytree': 0.20792986768736732, 'max_depth': 7, 'min_child_weight': 6, 'eta': 0.17416655298098227, 'gamma': 0.9423883267225394, 'grow_policy': 'lossguide'}. Best is trial 153 with value: 0.8584905660377359.\n",
      "[I 2023-12-11 15:33:09,368] Trial 264 finished with value: 0.8161434977578476 and parameters: {'booster': 'gbtree', 'lambda': 2.5159604849482837e-05, 'alpha': 6.701756596634242e-06, 'subsample': 0.9747015629777198, 'colsample_bytree': 0.20042688568703126, 'max_depth': 7, 'min_child_weight': 3, 'eta': 0.9985176978935283, 'gamma': 0.5558936369776325, 'grow_policy': 'lossguide'}. Best is trial 153 with value: 0.8584905660377359.\n",
      "[I 2023-12-11 15:33:09,537] Trial 265 finished with value: 0.6382978723404256 and parameters: {'booster': 'gbtree', 'lambda': 1.6980211683954113e-06, 'alpha': 0.00034860349617501395, 'subsample': 0.9251604247979517, 'colsample_bytree': 0.2140747464469407, 'max_depth': 7, 'min_child_weight': 2, 'eta': 0.02440570297070805, 'gamma': 0.6874647709717412, 'grow_policy': 'lossguide'}. Best is trial 153 with value: 0.8584905660377359.\n",
      "[I 2023-12-11 15:33:09,707] Trial 266 finished with value: 0.625 and parameters: {'booster': 'gbtree', 'lambda': 7.946832185674735e-06, 'alpha': 0.00023622422343308052, 'subsample': 0.9821694824936383, 'colsample_bytree': 0.2587089308961545, 'max_depth': 7, 'min_child_weight': 2, 'eta': 0.01540651964509079, 'gamma': 0.0020272938256909703, 'grow_policy': 'lossguide'}. Best is trial 153 with value: 0.8584905660377359.\n",
      "[I 2023-12-11 15:33:09,878] Trial 267 finished with value: 0.7679324894514769 and parameters: {'booster': 'gbtree', 'lambda': 9.93467517520861e-07, 'alpha': 0.005538686867624518, 'subsample': 0.9048649509301371, 'colsample_bytree': 0.23392656148921845, 'max_depth': 7, 'min_child_weight': 2, 'eta': 0.3825149816972642, 'gamma': 0.010714566945553084, 'grow_policy': 'lossguide'}. Best is trial 153 with value: 0.8584905660377359.\n",
      "[I 2023-12-11 15:33:10,056] Trial 268 finished with value: 0.6867924528301886 and parameters: {'booster': 'gbtree', 'lambda': 4.5995619455893075e-08, 'alpha': 0.0004149093919907305, 'subsample': 0.9424192852979868, 'colsample_bytree': 0.4851347563306285, 'max_depth': 7, 'min_child_weight': 10, 'eta': 0.5242176277883868, 'gamma': 0.39055148059381956, 'grow_policy': 'lossguide'}. Best is trial 153 with value: 0.8584905660377359.\n",
      "[I 2023-12-11 15:33:10,256] Trial 269 finished with value: 0.5481927710843374 and parameters: {'booster': 'gbtree', 'lambda': 1.3582678069207273e-07, 'alpha': 0.001871282714505977, 'subsample': 0.9624722353437548, 'colsample_bytree': 0.6094879862164115, 'max_depth': 7, 'min_child_weight': 2, 'eta': 0.03703943991682022, 'gamma': 0.0033259078297085106, 'grow_policy': 'lossguide'}. Best is trial 153 with value: 0.8584905660377359.\n",
      "[I 2023-12-11 15:33:10,436] Trial 270 finished with value: 0.6920152091254753 and parameters: {'booster': 'gbtree', 'lambda': 1.072080841711447e-08, 'alpha': 2.795081563280805e-06, 'subsample': 0.9597369677526042, 'colsample_bytree': 0.3820575992498758, 'max_depth': 7, 'min_child_weight': 3, 'eta': 0.2348730936085757, 'gamma': 2.0485630658303222e-07, 'grow_policy': 'lossguide'}. Best is trial 153 with value: 0.8584905660377359.\n",
      "[I 2023-12-11 15:33:10,621] Trial 271 finished with value: 0.0645619013834693 and parameters: {'booster': 'gbtree', 'lambda': 3.094591249810876e-05, 'alpha': 0.0006311669412909361, 'subsample': 0.9381488341912215, 'colsample_bytree': 0.5326280326915522, 'max_depth': 7, 'min_child_weight': 2, 'eta': 2.799910688947303e-05, 'gamma': 0.47219566932263746, 'grow_policy': 'lossguide'}. Best is trial 153 with value: 0.8584905660377359.\n",
      "[I 2023-12-11 15:33:10,799] Trial 272 finished with value: 0.08398707891093678 and parameters: {'booster': 'gbtree', 'lambda': 1.2691778714463413e-05, 'alpha': 8.328806995022495e-06, 'subsample': 0.9966138842247994, 'colsample_bytree': 0.2476029463832018, 'max_depth': 7, 'min_child_weight': 2, 'eta': 0.0006720166579075644, 'gamma': 0.0008984103821844724, 'grow_policy': 'lossguide'}. Best is trial 153 with value: 0.8584905660377359.\n",
      "[I 2023-12-11 15:33:10,976] Trial 273 finished with value: 0.0645619013834693 and parameters: {'booster': 'gbtree', 'lambda': 4.5927771960071635e-06, 'alpha': 0.00026467911937318173, 'subsample': 0.8403782516303233, 'colsample_bytree': 0.5062067884322189, 'max_depth': 7, 'min_child_weight': 9, 'eta': 0.0001922216323089714, 'gamma': 0.21577401132903504, 'grow_policy': 'lossguide'}. Best is trial 153 with value: 0.8584905660377359.\n",
      "[I 2023-12-11 15:33:11,134] Trial 274 finished with value: 0.7844827586206896 and parameters: {'booster': 'gbtree', 'lambda': 2.3820268753533457e-07, 'alpha': 0.478795685151808, 'subsample': 0.4953260914145613, 'colsample_bytree': 0.272837661281781, 'max_depth': 7, 'min_child_weight': 2, 'eta': 0.9700751482206877, 'gamma': 0.00021346200084385822, 'grow_policy': 'lossguide'}. Best is trial 153 with value: 0.8584905660377359.\n",
      "[I 2023-12-11 15:33:11,206] Trial 275 finished with value: 0.2965779467680608 and parameters: {'booster': 'gblinear', 'lambda': 8.847125797553045e-07, 'alpha': 0.003237015183182032, 'subsample': 0.7915152242770547, 'colsample_bytree': 0.3710971998002506}. Best is trial 153 with value: 0.8584905660377359.\n",
      "[I 2023-12-11 15:33:11,387] Trial 276 finished with value: 0.7982456140350876 and parameters: {'booster': 'gbtree', 'lambda': 6.320167178705105e-07, 'alpha': 0.0012886482582310749, 'subsample': 0.7958978629621941, 'colsample_bytree': 0.4514941328977419, 'max_depth': 7, 'min_child_weight': 2, 'eta': 0.5978523526799467, 'gamma': 0.04756276931859413, 'grow_policy': 'lossguide'}. Best is trial 153 with value: 0.8584905660377359.\n",
      "[I 2023-12-11 15:33:11,555] Trial 277 finished with value: 0.794759825327511 and parameters: {'booster': 'gbtree', 'lambda': 2.515076325751452e-07, 'alpha': 2.6704476745761186e-05, 'subsample': 0.8771134660817181, 'colsample_bytree': 0.28586447598882414, 'max_depth': 7, 'min_child_weight': 2, 'eta': 0.3504173215948487, 'gamma': 0.0012610395905643251, 'grow_policy': 'lossguide'}. Best is trial 153 with value: 0.8584905660377359.\n",
      "[I 2023-12-11 15:33:11,722] Trial 278 finished with value: 0.771186440677966 and parameters: {'booster': 'gbtree', 'lambda': 5.264976442649606e-05, 'alpha': 0.00040699121596174517, 'subsample': 0.915750107324565, 'colsample_bytree': 0.2183064852169212, 'max_depth': 7, 'min_child_weight': 7, 'eta': 0.7258882025467386, 'gamma': 0.02649915347469442, 'grow_policy': 'lossguide'}. Best is trial 153 with value: 0.8584905660377359.\n",
      "[I 2023-12-11 15:33:11,904] Trial 279 finished with value: 0.801762114537445 and parameters: {'booster': 'gbtree', 'lambda': 1.3242223736139448e-05, 'alpha': 0.0009301854004314761, 'subsample': 0.9350296651300296, 'colsample_bytree': 0.46650740793809475, 'max_depth': 7, 'min_child_weight': 2, 'eta': 0.9887857803667982, 'gamma': 0.2887082612137695, 'grow_policy': 'lossguide'}. Best is trial 153 with value: 0.8584905660377359.\n",
      "[I 2023-12-11 15:33:12,090] Trial 280 finished with value: 0.47395833333333337 and parameters: {'booster': 'gbtree', 'lambda': 2.6457023938331024e-05, 'alpha': 4.5733693574210785e-06, 'subsample': 0.5271784553260409, 'colsample_bytree': 0.5834296848581807, 'max_depth': 7, 'min_child_weight': 2, 'eta': 0.005812217247817593, 'gamma': 0.16853311634544813, 'grow_policy': 'lossguide'}. Best is trial 153 with value: 0.8584905660377359.\n",
      "[I 2023-12-11 15:33:12,265] Trial 281 finished with value: 0.771186440677966 and parameters: {'booster': 'gbtree', 'lambda': 1.8868010072208338e-06, 'alpha': 0.00016822463598407364, 'subsample': 0.8999910279584684, 'colsample_bytree': 0.3300416346584219, 'max_depth': 7, 'min_child_weight': 2, 'eta': 0.4945328419494684, 'gamma': 0.6629506441216515, 'grow_policy': 'depthwise'}. Best is trial 153 with value: 0.8584905660377359.\n",
      "[I 2023-12-11 15:33:12,450] Trial 282 finished with value: 0.3345588235294118 and parameters: {'booster': 'gbtree', 'lambda': 2.572800541306103e-06, 'alpha': 0.0005656016286215808, 'subsample': 0.95967517224879, 'colsample_bytree': 0.40634972044875367, 'max_depth': 7, 'min_child_weight': 2, 'eta': 0.001281965486341915, 'gamma': 0.9780295763479934, 'grow_policy': 'lossguide'}. Best is trial 153 with value: 0.8584905660377359.\n",
      "[I 2023-12-11 15:33:12,655] Trial 283 finished with value: 0.771186440677966 and parameters: {'booster': 'dart', 'lambda': 1.5018070859899498e-07, 'alpha': 0.0003079985838896254, 'subsample': 0.9847599806822763, 'colsample_bytree': 0.35555402943394976, 'max_depth': 7, 'min_child_weight': 2, 'eta': 0.6912645249958779, 'gamma': 0.05746759115266437, 'grow_policy': 'lossguide', 'sample_type': 'weighted', 'normalize_type': 'forest', 'rate_drop': 2.705386171225642e-05, 'skip_drop': 0.4644114850245041}. Best is trial 153 with value: 0.8584905660377359.\n",
      "[I 2023-12-11 15:33:12,815] Trial 284 finished with value: 0.7583333333333334 and parameters: {'booster': 'gbtree', 'lambda': 3.0598635737225687e-07, 'alpha': 1.1566693005268607e-06, 'subsample': 0.44918888244216393, 'colsample_bytree': 0.29932847975894983, 'max_depth': 7, 'min_child_weight': 2, 'eta': 0.9987740005499934, 'gamma': 0.08660037706722805, 'grow_policy': 'lossguide'}. Best is trial 153 with value: 0.8584905660377359.\n",
      "[I 2023-12-11 15:33:13,010] Trial 285 finished with value: 0.6765799256505577 and parameters: {'booster': 'gbtree', 'lambda': 1.161458667256219e-06, 'alpha': 1.540910762315901e-05, 'subsample': 0.5990846739384126, 'colsample_bytree': 0.6570361319176734, 'max_depth': 7, 'min_child_weight': 2, 'eta': 0.29146749223284973, 'gamma': 0.039437294144010336, 'grow_policy': 'lossguide'}. Best is trial 153 with value: 0.8584905660377359.\n",
      "[I 2023-12-11 15:33:13,191] Trial 286 finished with value: 0.7982456140350876 and parameters: {'booster': 'gbtree', 'lambda': 7.578736299019393e-05, 'alpha': 0.0001255163054294683, 'subsample': 0.7684813711095234, 'colsample_bytree': 0.25695237918593394, 'max_depth': 7, 'min_child_weight': 2, 'eta': 0.4923094301415046, 'gamma': 0.02463621176240127, 'grow_policy': 'lossguide'}. Best is trial 153 with value: 0.8584905660377359.\n",
      "[I 2023-12-11 15:33:13,353] Trial 287 finished with value: 0.8161434977578476 and parameters: {'booster': 'gbtree', 'lambda': 1.0824627655401655e-07, 'alpha': 0.00022764737861542605, 'subsample': 0.5695574153717686, 'colsample_bytree': 0.31590726087717885, 'max_depth': 7, 'min_child_weight': 2, 'eta': 0.7128877221988977, 'gamma': 0.30909247291699665, 'grow_policy': 'lossguide'}. Best is trial 153 with value: 0.8584905660377359.\n",
      "[I 2023-12-11 15:33:13,530] Trial 288 finished with value: 0.7679324894514769 and parameters: {'booster': 'gbtree', 'lambda': 6.5954161603729805e-06, 'alpha': 0.0007190013467124152, 'subsample': 0.8607628524246274, 'colsample_bytree': 0.3898415335606084, 'max_depth': 7, 'min_child_weight': 2, 'eta': 0.4004237672104923, 'gamma': 0.01301215793890557, 'grow_policy': 'lossguide'}. Best is trial 153 with value: 0.8584905660377359.\n",
      "[I 2023-12-11 15:33:13,721] Trial 289 finished with value: 0.5870967741935483 and parameters: {'booster': 'gbtree', 'lambda': 2.953443719048218e-07, 'alpha': 3.5462227117883684e-05, 'subsample': 0.6657492458198176, 'colsample_bytree': 0.6002617035407529, 'max_depth': 7, 'min_child_weight': 3, 'eta': 0.10738397094184642, 'gamma': 0.0004811140223043191, 'grow_policy': 'lossguide'}. Best is trial 153 with value: 0.8584905660377359.\n",
      "[I 2023-12-11 15:33:13,896] Trial 290 finished with value: 0.6691176470588235 and parameters: {'booster': 'gbtree', 'lambda': 3.649007114964709e-07, 'alpha': 5.1656489203160946e-05, 'subsample': 0.8437292507064216, 'colsample_bytree': 0.34357096658067837, 'max_depth': 7, 'min_child_weight': 2, 'eta': 0.1800610763383248, 'gamma': 0.16660108618693292, 'grow_policy': 'lossguide'}. Best is trial 153 with value: 0.8584905660377359.\n",
      "[I 2023-12-11 15:33:14,100] Trial 291 finished with value: 0.7459016393442622 and parameters: {'booster': 'gbtree', 'lambda': 7.177094498902586e-07, 'alpha': 0.024134057679984507, 'subsample': 0.7074651043525636, 'colsample_bytree': 0.9259329636658984, 'max_depth': 7, 'min_child_weight': 2, 'eta': 0.9968866956694385, 'gamma': 0.07085097143313965, 'grow_policy': 'lossguide'}. Best is trial 153 with value: 0.8584905660377359.\n",
      "[I 2023-12-11 15:33:14,271] Trial 292 finished with value: 0.7583333333333334 and parameters: {'booster': 'gbtree', 'lambda': 3.7273524498603045e-05, 'alpha': 0.01471970210053868, 'subsample': 0.6137608084375105, 'colsample_bytree': 0.43807663496343474, 'max_depth': 7, 'min_child_weight': 2, 'eta': 0.5585079641478873, 'gamma': 0.10965547791540048, 'grow_policy': 'lossguide'}. Best is trial 153 with value: 0.8584905660377359.\n",
      "[I 2023-12-11 15:33:14,455] Trial 293 finished with value: 0.5083798882681565 and parameters: {'booster': 'gbtree', 'lambda': 0.0001831851514000218, 'alpha': 0.0019784596041120856, 'subsample': 0.8145119807247031, 'colsample_bytree': 0.5049267514021323, 'max_depth': 7, 'min_child_weight': 2, 'eta': 0.0032903071068810315, 'gamma': 0.04014655578850572, 'grow_policy': 'lossguide'}. Best is trial 153 with value: 0.8584905660377359.\n",
      "[I 2023-12-11 15:33:14,626] Trial 294 finished with value: 0.801762114537445 and parameters: {'booster': 'gbtree', 'lambda': 4.516809634288769e-07, 'alpha': 0.00046467731130477746, 'subsample': 0.6933977915179073, 'colsample_bytree': 0.2693982556365773, 'max_depth': 7, 'min_child_weight': 2, 'eta': 0.6872070601657313, 'gamma': 0.4712963534320506, 'grow_policy': 'lossguide'}. Best is trial 153 with value: 0.8584905660377359.\n",
      "[I 2023-12-11 15:33:14,795] Trial 295 finished with value: 0.7027027027027027 and parameters: {'booster': 'gbtree', 'lambda': 1.5076238969006282e-05, 'alpha': 0.0011802330150708841, 'subsample': 0.6350538502862957, 'colsample_bytree': 0.2927211347623826, 'max_depth': 7, 'min_child_weight': 2, 'eta': 0.3407251956580558, 'gamma': 0.05352952079347898, 'grow_policy': 'lossguide'}. Best is trial 153 with value: 0.8584905660377359.\n",
      "[I 2023-12-11 15:33:14,973] Trial 296 finished with value: 0.7811158798283262 and parameters: {'booster': 'gbtree', 'lambda': 4.471856028705725e-06, 'alpha': 0.008156826806017994, 'subsample': 0.8256656881696903, 'colsample_bytree': 0.374080042461334, 'max_depth': 7, 'min_child_weight': 2, 'eta': 0.537166982442863, 'gamma': 0.00010555295797106658, 'grow_policy': 'lossguide'}. Best is trial 153 with value: 0.8584905660377359.\n",
      "[I 2023-12-11 15:33:15,054] Trial 297 finished with value: 0.29942418426103656 and parameters: {'booster': 'gblinear', 'lambda': 1.9849291816461233e-05, 'alpha': 9.997027204647945e-05, 'subsample': 0.9696981399721994, 'colsample_bytree': 0.35704848687741897}. Best is trial 153 with value: 0.8584905660377359.\n",
      "[I 2023-12-11 15:33:15,216] Trial 298 finished with value: 0.801762114537445 and parameters: {'booster': 'gbtree', 'lambda': 5.834928521552644e-07, 'alpha': 0.07974729635580545, 'subsample': 0.7250838463735532, 'colsample_bytree': 0.3231289972784858, 'max_depth': 7, 'min_child_weight': 2, 'eta': 0.7240945977649121, 'gamma': 0.006333223772709692, 'grow_policy': 'lossguide'}. Best is trial 153 with value: 0.8584905660377359.\n",
      "[I 2023-12-11 15:33:15,403] Trial 299 finished with value: 0.791304347826087 and parameters: {'booster': 'gbtree', 'lambda': 9.476952240537561e-06, 'alpha': 0.00035098033615709855, 'subsample': 0.6731248036217952, 'colsample_bytree': 0.23590999457729916, 'max_depth': 7, 'min_child_weight': 2, 'eta': 0.43384906749957797, 'gamma': 0.0043106639912877, 'grow_policy': 'lossguide'}. Best is trial 153 with value: 0.8584905660377359.\n",
      "[I 2023-12-11 15:33:15,643] Trial 300 finished with value: 0.8161434977578476 and parameters: {'booster': 'gbtree', 'lambda': 5.787420865482684e-06, 'alpha': 0.0001988908657310535, 'subsample': 0.8858928517995278, 'colsample_bytree': 0.3351783777296003, 'max_depth': 7, 'min_child_weight': 2, 'eta': 0.9971114365767038, 'gamma': 0.02064379449342843, 'grow_policy': 'lossguide'}. Best is trial 153 with value: 0.8584905660377359.\n",
      "[I 2023-12-11 15:33:15,840] Trial 301 finished with value: 0.771186440677966 and parameters: {'booster': 'gbtree', 'lambda': 3.98435406481088e-06, 'alpha': 0.0007438571574788053, 'subsample': 0.749774463619769, 'colsample_bytree': 0.27785448986784367, 'max_depth': 7, 'min_child_weight': 2, 'eta': 0.2770876010993319, 'gamma': 2.4550111228658063e-06, 'grow_policy': 'depthwise'}. Best is trial 153 with value: 0.8584905660377359.\n",
      "[I 2023-12-11 15:33:16,016] Trial 302 finished with value: 0.5960264900662252 and parameters: {'booster': 'gbtree', 'lambda': 3.431625044707272e-08, 'alpha': 5.872426668620532e-05, 'subsample': 0.9107873027047678, 'colsample_bytree': 0.3034056638589506, 'max_depth': 7, 'min_child_weight': 2, 'eta': 0.007130309434388384, 'gamma': 0.1629515887000048, 'grow_policy': 'lossguide'}. Best is trial 153 with value: 0.8584905660377359.\n",
      "[I 2023-12-11 15:33:16,200] Trial 303 finished with value: 0.0645619013834693 and parameters: {'booster': 'gbtree', 'lambda': 2.095914223639928e-06, 'alpha': 0.004219951188018603, 'subsample': 0.7057999501372848, 'colsample_bytree': 0.4208955401968213, 'max_depth': 7, 'min_child_weight': 3, 'eta': 2.372739566260271e-06, 'gamma': 0.03166071532603183, 'grow_policy': 'lossguide'}. Best is trial 153 with value: 0.8584905660377359.\n",
      "[I 2023-12-11 15:33:16,388] Trial 304 finished with value: 0.0645619013834693 and parameters: {'booster': 'gbtree', 'lambda': 0.0003010726734565259, 'alpha': 3.0062188295890746e-08, 'subsample': 0.6552121407435328, 'colsample_bytree': 0.5663326308844733, 'max_depth': 7, 'min_child_weight': 2, 'eta': 0.0001929231963879036, 'gamma': 0.09945521177180332, 'grow_policy': 'lossguide'}. Best is trial 153 with value: 0.8584905660377359.\n",
      "[I 2023-12-11 15:33:16,560] Trial 305 finished with value: 0.8053097345132744 and parameters: {'booster': 'gbtree', 'lambda': 9.961345167355528e-05, 'alpha': 1.0849472606436266e-05, 'subsample': 0.5464683257363092, 'colsample_bytree': 0.3678699733664264, 'max_depth': 7, 'min_child_weight': 2, 'eta': 0.7090056379879813, 'gamma': 0.010618584971154189, 'grow_policy': 'lossguide'}. Best is trial 153 with value: 0.8584905660377359.\n",
      "[I 2023-12-11 15:33:16,777] Trial 306 finished with value: 0.7679324894514769 and parameters: {'booster': 'dart', 'lambda': 1.7448255209355146e-07, 'alpha': 2.2685000675117257e-05, 'subsample': 0.9304604519611298, 'colsample_bytree': 0.3952805106372184, 'max_depth': 7, 'min_child_weight': 2, 'eta': 0.45136879352079184, 'gamma': 0.0744007896813879, 'grow_policy': 'lossguide', 'sample_type': 'weighted', 'normalize_type': 'forest', 'rate_drop': 1.0962835641162887e-08, 'skip_drop': 0.0033237503426535005}. Best is trial 153 with value: 0.8584905660377359.\n",
      "[I 2023-12-11 15:33:16,989] Trial 307 finished with value: 0.8272727272727274 and parameters: {'booster': 'gbtree', 'lambda': 1.0557497240536173e-05, 'alpha': 0.0004848937831856347, 'subsample': 0.9532791283779835, 'colsample_bytree': 0.34498520946518385, 'max_depth': 7, 'min_child_weight': 2, 'eta': 0.7341036518624331, 'gamma': 0.2899150409336732, 'grow_policy': 'lossguide'}. Best is trial 153 with value: 0.8584905660377359.\n",
      "[I 2023-12-11 15:33:17,200] Trial 308 finished with value: 0.8125000000000001 and parameters: {'booster': 'gbtree', 'lambda': 3.999839734942975e-07, 'alpha': 0.0015945741596569204, 'subsample': 0.9439969231688513, 'colsample_bytree': 0.34683417404387196, 'max_depth': 7, 'min_child_weight': 2, 'eta': 0.9996960226840351, 'gamma': 0.24047476825483857, 'grow_policy': 'lossguide'}. Best is trial 153 with value: 0.8584905660377359.\n",
      "[I 2023-12-11 15:33:17,405] Trial 309 finished with value: 0.8125000000000001 and parameters: {'booster': 'gbtree', 'lambda': 9.972235963059366e-06, 'alpha': 0.0010820069748047317, 'subsample': 0.8991637287626616, 'colsample_bytree': 0.325108008275762, 'max_depth': 7, 'min_child_weight': 2, 'eta': 0.5481487328141221, 'gamma': 0.34460734657812647, 'grow_policy': 'lossguide'}. Best is trial 153 with value: 0.8584905660377359.\n",
      "[I 2023-12-11 15:33:17,624] Trial 310 finished with value: 0.7309236947791165 and parameters: {'booster': 'gbtree', 'lambda': 1.3642302321455429e-06, 'alpha': 0.0005481167258069221, 'subsample': 0.9478346542249952, 'colsample_bytree': 0.34012354208357176, 'max_depth': 7, 'min_child_weight': 2, 'eta': 0.33043534593254675, 'gamma': 0.23527031371737114, 'grow_policy': 'lossguide'}. Best is trial 153 with value: 0.8584905660377359.\n",
      "[I 2023-12-11 15:33:17,833] Trial 311 finished with value: 0.7368421052631579 and parameters: {'booster': 'gbtree', 'lambda': 5.454050237349181e-06, 'alpha': 0.00042614591924026264, 'subsample': 0.926151849262225, 'colsample_bytree': 0.25686981087688093, 'max_depth': 7, 'min_child_weight': 2, 'eta': 0.21610836199706027, 'gamma': 0.5149839783486254, 'grow_policy': 'lossguide'}. Best is trial 153 with value: 0.8584905660377359.\n",
      "[I 2023-12-11 15:33:18,036] Trial 312 finished with value: 0.5421686746987951 and parameters: {'booster': 'gbtree', 'lambda': 9.182433950594911e-08, 'alpha': 0.002611638252802405, 'subsample': 0.9994711000248317, 'colsample_bytree': 0.30841686392783324, 'max_depth': 7, 'min_child_weight': 2, 'eta': 0.00470318137344967, 'gamma': 0.14830632865402218, 'grow_policy': 'lossguide'}. Best is trial 153 with value: 0.8584905660377359.\n",
      "[I 2023-12-11 15:33:18,235] Trial 313 finished with value: 0.7647058823529412 and parameters: {'booster': 'gbtree', 'lambda': 0.0005282996006096148, 'alpha': 8.074138433161079e-05, 'subsample': 0.8031651290401671, 'colsample_bytree': 0.2868997277479938, 'max_depth': 7, 'min_child_weight': 3, 'eta': 0.6593602245606767, 'gamma': 0.1145816742248058, 'grow_policy': 'lossguide'}. Best is trial 153 with value: 0.8584905660377359.\n",
      "[I 2023-12-11 15:33:18,440] Trial 314 finished with value: 0.7844827586206896 and parameters: {'booster': 'gbtree', 'lambda': 1.9080244650935633e-08, 'alpha': 5.704702046588011e-06, 'subsample': 0.8499886279417497, 'colsample_bytree': 0.38012210726740053, 'max_depth': 7, 'min_child_weight': 2, 'eta': 0.4258954545378359, 'gamma': 0.3617292308916545, 'grow_policy': 'lossguide'}. Best is trial 153 with value: 0.8584905660377359.\n",
      "[I 2023-12-11 15:33:18,641] Trial 315 finished with value: 0.801762114537445 and parameters: {'booster': 'gbtree', 'lambda': 0.0004097387092507473, 'alpha': 0.0007961742982181486, 'subsample': 0.8728211473476161, 'colsample_bytree': 0.3599134297488545, 'max_depth': 7, 'min_child_weight': 2, 'eta': 0.7217411243535597, 'gamma': 0.05236232552360089, 'grow_policy': 'lossguide'}. Best is trial 153 with value: 0.8584905660377359.\n",
      "[I 2023-12-11 15:33:18,832] Trial 316 finished with value: 0.7647058823529412 and parameters: {'booster': 'gbtree', 'lambda': 5.446095639930521e-08, 'alpha': 0.041959547253862, 'subsample': 0.5905780964013339, 'colsample_bytree': 0.31801568848526784, 'max_depth': 7, 'min_child_weight': 2, 'eta': 0.9969964402337885, 'gamma': 0.7213954616636096, 'grow_policy': 'lossguide'}. Best is trial 153 with value: 0.8584905660377359.\n",
      "[I 2023-12-11 15:33:19,040] Trial 317 finished with value: 0.791304347826087 and parameters: {'booster': 'gbtree', 'lambda': 0.0007342421720365575, 'alpha': 0.0001540326959668188, 'subsample': 0.7316434428044213, 'colsample_bytree': 0.3450495023478786, 'max_depth': 7, 'min_child_weight': 2, 'eta': 0.5621717311919376, 'gamma': 5.9491372856227694e-05, 'grow_policy': 'lossguide'}. Best is trial 153 with value: 0.8584905660377359.\n",
      "[I 2023-12-11 15:33:19,240] Trial 318 finished with value: 0.7165354330708662 and parameters: {'booster': 'gbtree', 'lambda': 3.929801794710514e-08, 'alpha': 4.139694435459686e-05, 'subsample': 0.6812924396129727, 'colsample_bytree': 0.29896490221485483, 'max_depth': 7, 'min_child_weight': 5, 'eta': 0.3698173034946099, 'gamma': 0.21796136513662726, 'grow_policy': 'lossguide'}. Best is trial 153 with value: 0.8584905660377359.\n",
      "[I 2023-12-11 15:33:19,427] Trial 319 finished with value: 0.8125000000000001 and parameters: {'booster': 'gbtree', 'lambda': 1.0155196077250723e-07, 'alpha': 0.000536023756729736, 'subsample': 0.648909916845346, 'colsample_bytree': 0.21662005273378523, 'max_depth': 7, 'min_child_weight': 2, 'eta': 0.730411257454291, 'gamma': 8.494945229976374e-06, 'grow_policy': 'lossguide'}. Best is trial 153 with value: 0.8584905660377359.\n",
      "[I 2023-12-11 15:33:19,512] Trial 320 finished with value: 0.2955854126679462 and parameters: {'booster': 'gblinear', 'lambda': 0.0025428484361585315, 'alpha': 0.00010873001076377312, 'subsample': 0.6254208515821122, 'colsample_bytree': 0.3658776636014195}. Best is trial 153 with value: 0.8584905660377359.\n",
      "[I 2023-12-11 15:33:19,700] Trial 321 finished with value: 0.0645619013834693 and parameters: {'booster': 'gbtree', 'lambda': 2.7462744348986694e-06, 'alpha': 0.0002915977950014852, 'subsample': 0.7726292117362842, 'colsample_bytree': 0.26961356221525995, 'max_depth': 7, 'min_child_weight': 2, 'eta': 0.0002736013684211881, 'gamma': 0.07368859564478258, 'grow_policy': 'depthwise'}. Best is trial 153 with value: 0.8584905660377359.\n",
      "[I 2023-12-11 15:33:19,882] Trial 322 finished with value: 0.6666666666666666 and parameters: {'booster': 'gbtree', 'lambda': 0.0012703858142853897, 'alpha': 0.0014491921267583865, 'subsample': 0.7147446542973754, 'colsample_bytree': 0.23963982901601236, 'max_depth': 7, 'min_child_weight': 8, 'eta': 0.5347431201098631, 'gamma': 0.00046117621537703017, 'grow_policy': 'lossguide'}. Best is trial 153 with value: 0.8584905660377359.\n",
      "[I 2023-12-11 15:33:20,068] Trial 323 finished with value: 0.0645619013834693 and parameters: {'booster': 'gbtree', 'lambda': 1.4772555840840023e-05, 'alpha': 0.0007910017097681017, 'subsample': 0.401575465253568, 'colsample_bytree': 0.414673344887161, 'max_depth': 7, 'min_child_weight': 2, 'eta': 7.92311672552374e-05, 'gamma': 0.15581566633654015, 'grow_policy': 'lossguide'}. Best is trial 153 with value: 0.8584905660377359.\n",
      "[I 2023-12-11 15:33:20,266] Trial 324 finished with value: 0.7777777777777778 and parameters: {'booster': 'gbtree', 'lambda': 0.0015664415543576902, 'alpha': 6.992754328545686e-05, 'subsample': 0.6950887701987507, 'colsample_bytree': 0.33286287808271925, 'max_depth': 7, 'min_child_weight': 2, 'eta': 0.9976686499717734, 'gamma': 0.035822578245910015, 'grow_policy': 'lossguide'}. Best is trial 153 with value: 0.8584905660377359.\n",
      "[I 2023-12-11 15:33:20,467] Trial 325 finished with value: 0.2195416164053076 and parameters: {'booster': 'gbtree', 'lambda': 0.0002874770850142495, 'alpha': 0.00019410642600583652, 'subsample': 0.6661754075284607, 'colsample_bytree': 0.394304998506961, 'max_depth': 7, 'min_child_weight': 2, 'eta': 0.0008966897366885173, 'gamma': 0.09630084466015154, 'grow_policy': 'lossguide'}. Best is trial 153 with value: 0.8584905660377359.\n",
      "[I 2023-12-11 15:33:20,655] Trial 326 finished with value: 0.7109375 and parameters: {'booster': 'gbtree', 'lambda': 0.0006366803162209184, 'alpha': 0.0003745970272673914, 'subsample': 0.760771217778851, 'colsample_bytree': 0.28808562989364506, 'max_depth': 7, 'min_child_weight': 2, 'eta': 0.23385564670143005, 'gamma': 0.2923032402962892, 'grow_policy': 'lossguide'}. Best is trial 153 with value: 0.8584905660377359.\n",
      "[I 2023-12-11 15:33:20,874] Trial 327 finished with value: 0.8272727272727274 and parameters: {'booster': 'dart', 'lambda': 0.00015074075692997387, 'alpha': 1.7350329021744208e-05, 'subsample': 0.8946789173807549, 'colsample_bytree': 0.2005534226198744, 'max_depth': 7, 'min_child_weight': 2, 'eta': 0.4641243052855799, 'gamma': 0.0015430768489556206, 'grow_policy': 'lossguide', 'sample_type': 'weighted', 'normalize_type': 'forest', 'rate_drop': 1.3146565195362058e-06, 'skip_drop': 0.0002343019430294474}. Best is trial 153 with value: 0.8584905660377359.\n",
      "[I 2023-12-11 15:33:21,099] Trial 328 finished with value: 0.7000000000000001 and parameters: {'booster': 'dart', 'lambda': 0.00013849384988771435, 'alpha': 1.66234559703698e-05, 'subsample': 0.9104699117041077, 'colsample_bytree': 0.21217167101377346, 'max_depth': 7, 'min_child_weight': 3, 'eta': 0.01903786741895583, 'gamma': 0.007374005559824482, 'grow_policy': 'lossguide', 'sample_type': 'weighted', 'normalize_type': 'forest', 'rate_drop': 8.551548164035337e-07, 'skip_drop': 0.000194131211310902}. Best is trial 153 with value: 0.8584905660377359.\n",
      "[I 2023-12-11 15:33:21,312] Trial 329 finished with value: 0.8161434977578476 and parameters: {'booster': 'dart', 'lambda': 0.0002137640241942681, 'alpha': 2.8515670860635e-05, 'subsample': 0.8895036974578097, 'colsample_bytree': 0.22437518424287572, 'max_depth': 7, 'min_child_weight': 2, 'eta': 0.38809604108071205, 'gamma': 0.05004777749811441, 'grow_policy': 'lossguide', 'sample_type': 'weighted', 'normalize_type': 'forest', 'rate_drop': 1.3699596365299863e-07, 'skip_drop': 4.371856174357928e-05}. Best is trial 153 with value: 0.8584905660377359.\n",
      "[I 2023-12-11 15:33:21,508] Trial 330 finished with value: 0.37209302325581395 and parameters: {'booster': 'dart', 'lambda': 0.0004109428732007043, 'alpha': 0.0010795778784913705, 'subsample': 0.9550380385988637, 'colsample_bytree': 0.3795095079635786, 'max_depth': 3, 'min_child_weight': 2, 'eta': 0.47805644697274174, 'gamma': 0.002352270120458374, 'grow_policy': 'lossguide', 'sample_type': 'weighted', 'normalize_type': 'forest', 'rate_drop': 3.712721495499118e-06, 'skip_drop': 0.0012684050830810598}. Best is trial 153 with value: 0.8584905660377359.\n",
      "[I 2023-12-11 15:33:21,731] Trial 331 finished with value: 0.3520309477756286 and parameters: {'booster': 'dart', 'lambda': 0.00014168284133808838, 'alpha': 9.25482023760846e-06, 'subsample': 0.9247994701516858, 'colsample_bytree': 0.20089491505159224, 'max_depth': 7, 'min_child_weight': 2, 'eta': 0.0019170276848480563, 'gamma': 0.0016654325132557744, 'grow_policy': 'lossguide', 'sample_type': 'weighted', 'normalize_type': 'forest', 'rate_drop': 8.385021430219104e-05, 'skip_drop': 6.97269389976895e-06}. Best is trial 153 with value: 0.8584905660377359.\n",
      "[I 2023-12-11 15:33:21,946] Trial 332 finished with value: 0.8465116279069768 and parameters: {'booster': 'dart', 'lambda': 1.6072118443349477e-08, 'alpha': 0.0023417146212428705, 'subsample': 0.9439180217040256, 'colsample_bytree': 0.2454979377069513, 'max_depth': 7, 'min_child_weight': 2, 'eta': 0.69798486129725, 'gamma': 0.01565032332572893, 'grow_policy': 'lossguide', 'sample_type': 'weighted', 'normalize_type': 'forest', 'rate_drop': 7.093851857006527e-08, 'skip_drop': 0.02109341852084281}. Best is trial 153 with value: 0.8584905660377359.\n",
      "[I 2023-12-11 15:33:22,169] Trial 333 finished with value: 0.801762114537445 and parameters: {'booster': 'dart', 'lambda': 4.235755322385463e-08, 'alpha': 0.002847018287576111, 'subsample': 0.9418568219343095, 'colsample_bytree': 0.3519144105158553, 'max_depth': 7, 'min_child_weight': 2, 'eta': 0.9908002414463437, 'gamma': 0.01457883523937615, 'grow_policy': 'lossguide', 'sample_type': 'weighted', 'normalize_type': 'forest', 'rate_drop': 4.054006143791737e-08, 'skip_drop': 0.025096942992553342}. Best is trial 153 with value: 0.8584905660377359.\n",
      "[I 2023-12-11 15:33:22,409] Trial 334 finished with value: 0.4840425531914893 and parameters: {'booster': 'dart', 'lambda': 1.6083405923314507e-08, 'alpha': 0.003723399614956414, 'subsample': 0.9597919176736337, 'colsample_bytree': 0.48611422309868757, 'max_depth': 7, 'min_child_weight': 2, 'eta': 0.008410357238145365, 'gamma': 0.010388778684964583, 'grow_policy': 'lossguide', 'sample_type': 'weighted', 'normalize_type': 'forest', 'rate_drop': 4.53897071169739e-08, 'skip_drop': 0.005363484426677713}. Best is trial 153 with value: 0.8584905660377359.\n",
      "[I 2023-12-11 15:33:22,638] Trial 335 finished with value: 0.8310502283105022 and parameters: {'booster': 'dart', 'lambda': 3.1238417926229246e-08, 'alpha': 0.0018621297217635859, 'subsample': 0.9851876308013232, 'colsample_bytree': 0.2004639327089424, 'max_depth': 7, 'min_child_weight': 2, 'eta': 0.6755503371622504, 'gamma': 0.026562979019368417, 'grow_policy': 'lossguide', 'sample_type': 'weighted', 'normalize_type': 'forest', 'rate_drop': 2.860998559832771e-06, 'skip_drop': 0.0978398317488462}. Best is trial 153 with value: 0.8584905660377359.\n",
      "[I 2023-12-11 15:33:22,857] Trial 336 finished with value: 0.7520661157024793 and parameters: {'booster': 'dart', 'lambda': 2.723515706372009e-08, 'alpha': 0.0024367855431156704, 'subsample': 0.9773523116474475, 'colsample_bytree': 0.2015815754570751, 'max_depth': 7, 'min_child_weight': 2, 'eta': 0.2746742381225344, 'gamma': 0.026109314890466827, 'grow_policy': 'lossguide', 'sample_type': 'weighted', 'normalize_type': 'forest', 'rate_drop': 2.457550481059498e-06, 'skip_drop': 0.3583398356835434}. Best is trial 153 with value: 0.8584905660377359.\n",
      "[I 2023-12-11 15:33:23,070] Trial 337 finished with value: 0.8125000000000001 and parameters: {'booster': 'dart', 'lambda': 2.989243161742374e-08, 'alpha': 0.0014561340941662904, 'subsample': 0.9791996733631496, 'colsample_bytree': 0.20078202506222273, 'max_depth': 7, 'min_child_weight': 2, 'eta': 0.6807186195155734, 'gamma': 0.017759974853921015, 'grow_policy': 'lossguide', 'sample_type': 'weighted', 'normalize_type': 'forest', 'rate_drop': 3.252387731810983e-07, 'skip_drop': 0.06832301811936484}. Best is trial 153 with value: 0.8584905660377359.\n",
      "[I 2023-12-11 15:33:23,297] Trial 338 finished with value: 0.8125000000000001 and parameters: {'booster': 'dart', 'lambda': 1.5890552712320185e-08, 'alpha': 0.0018790685900984172, 'subsample': 0.9836493829809819, 'colsample_bytree': 0.2268239338811499, 'max_depth': 7, 'min_child_weight': 2, 'eta': 0.5009354807224198, 'gamma': 0.030700072867083993, 'grow_policy': 'lossguide', 'sample_type': 'weighted', 'normalize_type': 'forest', 'rate_drop': 7.744442013547052e-06, 'skip_drop': 0.13276391887833278}. Best is trial 153 with value: 0.8584905660377359.\n",
      "[I 2023-12-11 15:33:23,521] Trial 339 finished with value: 0.7027027027027027 and parameters: {'booster': 'dart', 'lambda': 2.0189625226029078e-08, 'alpha': 0.002233630319867971, 'subsample': 0.9300791636788047, 'colsample_bytree': 0.21517114885245955, 'max_depth': 7, 'min_child_weight': 3, 'eta': 0.04921966196942167, 'gamma': 1.5312114424542705e-08, 'grow_policy': 'lossguide', 'sample_type': 'weighted', 'normalize_type': 'forest', 'rate_drop': 1.0008347395379542e-06, 'skip_drop': 0.00966093061445233}. Best is trial 153 with value: 0.8584905660377359.\n",
      "[I 2023-12-11 15:33:23,735] Trial 340 finished with value: 0.65 and parameters: {'booster': 'dart', 'lambda': 1.24825511186499e-08, 'alpha': 0.0010604959894443208, 'subsample': 0.9485299898329497, 'colsample_bytree': 0.2504184484781151, 'max_depth': 7, 'min_child_weight': 2, 'eta': 0.08242168875704989, 'gamma': 0.013142435865669478, 'grow_policy': 'lossguide', 'sample_type': 'weighted', 'normalize_type': 'forest', 'rate_drop': 1.880676216951424e-05, 'skip_drop': 0.0005834144757722119}. Best is trial 153 with value: 0.8584905660377359.\n",
      "[I 2023-12-11 15:33:23,954] Trial 341 finished with value: 0.46428571428571425 and parameters: {'booster': 'dart', 'lambda': 1.4120448944966148e-08, 'alpha': 0.0020564065346005992, 'subsample': 0.9658551405355316, 'colsample_bytree': 0.23036368813514269, 'max_depth': 7, 'min_child_weight': 2, 'eta': 0.0029305164961833086, 'gamma': 0.00022563478503072408, 'grow_policy': 'depthwise', 'sample_type': 'weighted', 'normalize_type': 'forest', 'rate_drop': 2.0479613880371476e-07, 'skip_drop': 0.03492520875854295}. Best is trial 153 with value: 0.8584905660377359.\n",
      "[I 2023-12-11 15:33:24,196] Trial 342 finished with value: 0.6232876712328766 and parameters: {'booster': 'dart', 'lambda': 5.444894923160706e-08, 'alpha': 0.003332433128957515, 'subsample': 0.881349918891196, 'colsample_bytree': 0.5357971532229567, 'max_depth': 7, 'min_child_weight': 2, 'eta': 0.13182430368445028, 'gamma': 0.0014738727318788548, 'grow_policy': 'lossguide', 'sample_type': 'weighted', 'normalize_type': 'forest', 'rate_drop': 3.926053847088349e-06, 'skip_drop': 0.9349460289410636}. Best is trial 153 with value: 0.8584905660377359.\n",
      "[I 2023-12-11 15:33:24,471] Trial 343 finished with value: 0.6232876712328766 and parameters: {'booster': 'dart', 'lambda': 2.2342783658852482e-08, 'alpha': 0.004435974177606817, 'subsample': 0.9158481485100943, 'colsample_bytree': 0.45111393750274686, 'max_depth': 7, 'min_child_weight': 2, 'eta': 0.1566277970504386, 'gamma': 0.017677649482598864, 'grow_policy': 'lossguide', 'sample_type': 'weighted', 'normalize_type': 'forest', 'rate_drop': 1.7334815847122729e-06, 'skip_drop': 0.008541767403061036}. Best is trial 153 with value: 0.8584905660377359.\n",
      "[I 2023-12-11 15:33:24,691] Trial 344 finished with value: 0.631578947368421 and parameters: {'booster': 'dart', 'lambda': 7.690964258467855e-05, 'alpha': 0.005779706003945585, 'subsample': 0.6361431333466921, 'colsample_bytree': 0.3171440759893918, 'max_depth': 7, 'min_child_weight': 2, 'eta': 0.027184369375587224, 'gamma': 0.0033915117881254393, 'grow_policy': 'lossguide', 'sample_type': 'weighted', 'normalize_type': 'forest', 'rate_drop': 4.1263089827337643e-07, 'skip_drop': 0.016540611661835583}. Best is trial 153 with value: 0.8584905660377359.\n",
      "[I 2023-12-11 15:33:24,906] Trial 345 finished with value: 0.8053097345132744 and parameters: {'booster': 'dart', 'lambda': 3.7478651101234568e-06, 'alpha': 0.000689573414688523, 'subsample': 0.6032409333883043, 'colsample_bytree': 0.24321512181256258, 'max_depth': 7, 'min_child_weight': 2, 'eta': 0.7209712347009392, 'gamma': 0.0008507659025153787, 'grow_policy': 'lossguide', 'sample_type': 'weighted', 'normalize_type': 'forest', 'rate_drop': 1.0119753736524242e-05, 'skip_drop': 0.0023210340811863754}. Best is trial 153 with value: 0.8584905660377359.\n",
      "[I 2023-12-11 15:33:25,158] Trial 346 finished with value: 0.7165354330708662 and parameters: {'booster': 'dart', 'lambda': 3.0078600910178564e-08, 'alpha': 2.0691427104806365e-05, 'subsample': 0.9974753238150209, 'colsample_bytree': 0.6219583331040011, 'max_depth': 7, 'min_child_weight': 2, 'eta': 0.321294169589439, 'gamma': 0.02684886666843713, 'grow_policy': 'lossguide', 'sample_type': 'weighted', 'normalize_type': 'forest', 'rate_drop': 1.2850174647592375e-07, 'skip_drop': 0.0923574613181023}. Best is trial 153 with value: 0.8584905660377359.\n",
      "[I 2023-12-11 15:33:25,390] Trial 347 finished with value: 0.8387096774193548 and parameters: {'booster': 'dart', 'lambda': 1.567767800801144e-08, 'alpha': 0.0014009942611447365, 'subsample': 0.6542868563860361, 'colsample_bytree': 0.2683144801760336, 'max_depth': 7, 'min_child_weight': 2, 'eta': 0.7038156211313681, 'gamma': 0.006635246243426575, 'grow_policy': 'lossguide', 'sample_type': 'weighted', 'normalize_type': 'forest', 'rate_drop': 1.4666235311944715e-06, 'skip_drop': 0.040147233500707646}. Best is trial 153 with value: 0.8584905660377359.\n",
      "[I 2023-12-11 15:33:25,618] Trial 348 finished with value: 0.2143698468786808 and parameters: {'booster': 'dart', 'lambda': 2.192639348007544e-08, 'alpha': 0.0011487507182271679, 'subsample': 0.620927982147407, 'colsample_bytree': 0.2679070286954775, 'max_depth': 7, 'min_child_weight': 2, 'eta': 0.0011164183912267718, 'gamma': 0.008091474297839732, 'grow_policy': 'lossguide', 'sample_type': 'weighted', 'normalize_type': 'forest', 'rate_drop': 8.21505333955948e-07, 'skip_drop': 0.03853857985803136}. Best is trial 153 with value: 0.8584905660377359.\n",
      "[I 2023-12-11 15:33:25,841] Trial 349 finished with value: 0.8125000000000001 and parameters: {'booster': 'dart', 'lambda': 1.2165567926231637e-08, 'alpha': 0.001660118485509226, 'subsample': 0.8335521833116042, 'colsample_bytree': 0.2574989955398863, 'max_depth': 7, 'min_child_weight': 2, 'eta': 0.5670707830240105, 'gamma': 0.011553818078414435, 'grow_policy': 'lossguide', 'sample_type': 'weighted', 'normalize_type': 'forest', 'rate_drop': 5.4947230717105705e-06, 'skip_drop': 0.015930321222230245}. Best is trial 153 with value: 0.8584905660377359.\n",
      "[I 2023-12-11 15:33:26,056] Trial 350 finished with value: 0.794759825327511 and parameters: {'booster': 'dart', 'lambda': 1.49645703156578e-08, 'alpha': 1.602893387891834e-06, 'subsample': 0.8541799509624292, 'colsample_bytree': 0.21522805423020813, 'max_depth': 7, 'min_child_weight': 2, 'eta': 0.3742391644948968, 'gamma': 0.0050075155791121755, 'grow_policy': 'lossguide', 'sample_type': 'weighted', 'normalize_type': 'forest', 'rate_drop': 1.7855486043821864e-06, 'skip_drop': 0.11481662149636734}. Best is trial 153 with value: 0.8584905660377359.\n",
      "[I 2023-12-11 15:33:26,285] Trial 351 finished with value: 0.7489711934156378 and parameters: {'booster': 'dart', 'lambda': 1.1520641428623444e-08, 'alpha': 0.0009036941528445608, 'subsample': 0.68223897191947, 'colsample_bytree': 0.4698866906595821, 'max_depth': 7, 'min_child_weight': 2, 'eta': 0.7187911191940596, 'gamma': 0.00863152910492598, 'grow_policy': 'lossguide', 'sample_type': 'weighted', 'normalize_type': 'forest', 'rate_drop': 5.097461977261387e-07, 'skip_drop': 0.0011174643349517008}. Best is trial 153 with value: 0.8584905660377359.\n",
      "[I 2023-12-11 15:33:26,514] Trial 352 finished with value: 0.0645619013834693 and parameters: {'booster': 'dart', 'lambda': 8.802057741033522e-08, 'alpha': 0.0017972537272063834, 'subsample': 0.6600798486893206, 'colsample_bytree': 0.3014268284213108, 'max_depth': 7, 'min_child_weight': 3, 'eta': 7.65968038553059e-07, 'gamma': 0.00318904429955905, 'grow_policy': 'lossguide', 'sample_type': 'weighted', 'normalize_type': 'forest', 'rate_drop': 7.150914660267503e-08, 'skip_drop': 0.05454004631195685}. Best is trial 153 with value: 0.8584905660377359.\n",
      "[I 2023-12-11 15:33:26,731] Trial 353 finished with value: 0.7193675889328064 and parameters: {'booster': 'dart', 'lambda': 3.4463924178287305e-08, 'alpha': 0.0012435724143805946, 'subsample': 0.905780112448917, 'colsample_bytree': 0.2298627155096143, 'max_depth': 7, 'min_child_weight': 6, 'eta': 0.47307464307884317, 'gamma': 0.0003501596913625237, 'grow_policy': 'lossguide', 'sample_type': 'weighted', 'normalize_type': 'forest', 'rate_drop': 2.411127035770291e-07, 'skip_drop': 0.23113322688731358}. Best is trial 153 with value: 0.8584905660377359.\n",
      "[I 2023-12-11 15:33:26,997] Trial 354 finished with value: 0.7520661157024793 and parameters: {'booster': 'dart', 'lambda': 1.9785929143138368e-07, 'alpha': 4.9714313337933366e-06, 'subsample': 0.9419216247452751, 'colsample_bytree': 0.26797455435703743, 'max_depth': 7, 'min_child_weight': 2, 'eta': 0.2594916642228948, 'gamma': 0.02002423169222634, 'grow_policy': 'lossguide', 'sample_type': 'weighted', 'normalize_type': 'forest', 'rate_drop': 2.2713228737712317e-08, 'skip_drop': 0.1681020459037981}. Best is trial 153 with value: 0.8584905660377359.\n",
      "[I 2023-12-11 15:33:27,221] Trial 355 finished with value: 0.8544600938967136 and parameters: {'booster': 'dart', 'lambda': 9.246100485397663e-06, 'alpha': 0.010606733352232387, 'subsample': 0.9686952466817826, 'colsample_bytree': 0.2813084884894955, 'max_depth': 7, 'min_child_weight': 2, 'eta': 0.7393420329935618, 'gamma': 0.014969847864168514, 'grow_policy': 'lossguide', 'sample_type': 'weighted', 'normalize_type': 'forest', 'rate_drop': 5.776711128078182e-07, 'skip_drop': 0.059465971499799875}. Best is trial 153 with value: 0.8584905660377359.\n",
      "[I 2023-12-11 15:33:27,448] Trial 356 finished with value: 0.8235294117647058 and parameters: {'booster': 'dart', 'lambda': 1.6288015922287373e-08, 'alpha': 0.004352856041971958, 'subsample': 0.9752842112665027, 'colsample_bytree': 0.2844621026856526, 'max_depth': 7, 'min_child_weight': 2, 'eta': 0.9844963973627385, 'gamma': 0.015010231691114134, 'grow_policy': 'lossguide', 'sample_type': 'weighted', 'normalize_type': 'forest', 'rate_drop': 7.247333513698186e-07, 'skip_drop': 0.06117075880209904}. Best is trial 153 with value: 0.8584905660377359.\n",
      "[I 2023-12-11 15:33:27,772] Trial 357 finished with value: 0.18647540983606556 and parameters: {'booster': 'dart', 'lambda': 2.2179092399846438e-08, 'alpha': 0.013684645334468882, 'subsample': 0.9800225305273275, 'colsample_bytree': 0.2798800618513899, 'max_depth': 7, 'min_child_weight': 2, 'eta': 0.0008975080035681444, 'gamma': 0.011953690485414727, 'grow_policy': 'lossguide', 'sample_type': 'weighted', 'normalize_type': 'forest', 'rate_drop': 7.309918457781644e-07, 'skip_drop': 0.06530740180400052}. Best is trial 153 with value: 0.8584905660377359.\n",
      "[I 2023-12-11 15:33:28,147] Trial 358 finished with value: 0.6006600660066006 and parameters: {'booster': 'dart', 'lambda': 1.4510065499860337e-08, 'alpha': 0.007316726617310061, 'subsample': 0.9607302314140048, 'colsample_bytree': 0.2534875409561496, 'max_depth': 7, 'min_child_weight': 2, 'eta': 0.01377715861182611, 'gamma': 0.017860991955061932, 'grow_policy': 'lossguide', 'sample_type': 'weighted', 'normalize_type': 'forest', 'rate_drop': 1.4134411216051136e-06, 'skip_drop': 0.04882292487207269}. Best is trial 153 with value: 0.8584905660377359.\n",
      "[I 2023-12-11 15:33:28,415] Trial 359 finished with value: 0.8161434977578476 and parameters: {'booster': 'dart', 'lambda': 1.8028382226263835e-08, 'alpha': 0.011314784490835584, 'subsample': 0.9989622327359374, 'colsample_bytree': 0.2885549877487602, 'max_depth': 7, 'min_child_weight': 2, 'eta': 0.716225017969105, 'gamma': 0.005004891349645637, 'grow_policy': 'lossguide', 'sample_type': 'weighted', 'normalize_type': 'forest', 'rate_drop': 5.182590752091559e-07, 'skip_drop': 0.029135009333357238}. Best is trial 153 with value: 0.8584905660377359.\n",
      "[I 2023-12-11 15:33:28,656] Trial 360 finished with value: 0.8310502283105022 and parameters: {'booster': 'dart', 'lambda': 1.0994357820458219e-08, 'alpha': 0.005779401143345203, 'subsample': 0.9870500239155161, 'colsample_bytree': 0.27545561141134545, 'max_depth': 7, 'min_child_weight': 2, 'eta': 0.996641217775425, 'gamma': 0.013638894931492796, 'grow_policy': 'lossguide', 'sample_type': 'weighted', 'normalize_type': 'forest', 'rate_drop': 2.4063742885974774e-06, 'skip_drop': 0.018254966682673048}. Best is trial 153 with value: 0.8584905660377359.\n",
      "[I 2023-12-11 15:33:28,906] Trial 361 finished with value: 0.0645619013834693 and parameters: {'booster': 'dart', 'lambda': 1.553794952057642e-08, 'alpha': 0.010639842219364173, 'subsample': 0.9788052917556889, 'colsample_bytree': 0.27007219716006037, 'max_depth': 7, 'min_child_weight': 2, 'eta': 0.0005084089182990049, 'gamma': 0.008496546296327415, 'grow_policy': 'lossguide', 'sample_type': 'weighted', 'normalize_type': 'forest', 'rate_drop': 2.5759971548066668e-06, 'skip_drop': 0.018450248930256728}. Best is trial 153 with value: 0.8584905660377359.\n",
      "[I 2023-12-11 15:33:28,998] Trial 362 finished with value: 0.29755178907721286 and parameters: {'booster': 'gblinear', 'lambda': 1.1467007740730663e-08, 'alpha': 0.0048474959564691975, 'subsample': 0.9686464766452734, 'colsample_bytree': 0.24566447383035392}. Best is trial 153 with value: 0.8584905660377359.\n",
      "[I 2023-12-11 15:33:29,241] Trial 363 finished with value: 0.8387096774193548 and parameters: {'booster': 'dart', 'lambda': 2.8436630072370084e-08, 'alpha': 0.006259946932904825, 'subsample': 0.9795979112724343, 'colsample_bytree': 0.2839569035978943, 'max_depth': 7, 'min_child_weight': 2, 'eta': 0.9725665867392567, 'gamma': 0.012623242514298869, 'grow_policy': 'depthwise', 'sample_type': 'weighted', 'normalize_type': 'forest', 'rate_drop': 1.1602832390262585e-06, 'skip_drop': 0.009639980301917558}. Best is trial 153 with value: 0.8584905660377359.\n",
      "[I 2023-12-11 15:33:29,533] Trial 364 finished with value: 0.6127946127946128 and parameters: {'booster': 'dart', 'lambda': 2.020403947349981e-08, 'alpha': 0.0062079984437823105, 'subsample': 0.9884632793969392, 'colsample_bytree': 0.2743389942091296, 'max_depth': 7, 'min_child_weight': 2, 'eta': 0.0325451162532153, 'gamma': 0.006855978748405638, 'grow_policy': 'lossguide', 'sample_type': 'weighted', 'normalize_type': 'forest', 'rate_drop': 9.325495745925767e-07, 'skip_drop': 0.07950235844646752}. Best is trial 153 with value: 0.8584905660377359.\n",
      "[I 2023-12-11 15:33:29,750] Trial 365 finished with value: 0.6594202898550725 and parameters: {'booster': 'dart', 'lambda': 1.0009658716612717e-08, 'alpha': 0.006461845369373148, 'subsample': 0.9693560719804106, 'colsample_bytree': 0.2554010123383745, 'max_depth': 5, 'min_child_weight': 2, 'eta': 0.9725685017021936, 'gamma': 0.013261437208376404, 'grow_policy': 'depthwise', 'sample_type': 'weighted', 'normalize_type': 'forest', 'rate_drop': 1.2405803322744912e-06, 'skip_drop': 0.03624713696301073}. Best is trial 153 with value: 0.8584905660377359.\n",
      "[I 2023-12-11 15:33:29,987] Trial 366 finished with value: 0.7844827586206896 and parameters: {'booster': 'dart', 'lambda': 3.711795959473275e-08, 'alpha': 0.008745250882868644, 'subsample': 0.9531528665509817, 'colsample_bytree': 0.28206395436568726, 'max_depth': 7, 'min_child_weight': 2, 'eta': 0.47614490944372057, 'gamma': 0.01588504096885472, 'grow_policy': 'depthwise', 'sample_type': 'weighted', 'normalize_type': 'forest', 'rate_drop': 4.975545301631537e-07, 'skip_drop': 0.007100053682079005}. Best is trial 153 with value: 0.8584905660377359.\n",
      "[I 2023-12-11 15:33:30,301] Trial 367 finished with value: 0.8235294117647058 and parameters: {'booster': 'dart', 'lambda': 2.6777660522956713e-08, 'alpha': 0.00518305379658957, 'subsample': 0.987053959968167, 'colsample_bytree': 0.2359698239114249, 'max_depth': 7, 'min_child_weight': 2, 'eta': 0.9871335591989746, 'gamma': 0.008937410979114227, 'grow_policy': 'depthwise', 'sample_type': 'weighted', 'normalize_type': 'forest', 'rate_drop': 2.380776341078645e-06, 'skip_drop': 0.013661168270940296}. Best is trial 153 with value: 0.8584905660377359.\n",
      "[I 2023-12-11 15:33:30,540] Trial 368 finished with value: 0.771186440677966 and parameters: {'booster': 'dart', 'lambda': 5.501187332481678e-08, 'alpha': 0.004022978164915997, 'subsample': 0.984985063392907, 'colsample_bytree': 0.2246744934399874, 'max_depth': 7, 'min_child_weight': 2, 'eta': 0.5147703325194516, 'gamma': 0.006213549174977832, 'grow_policy': 'depthwise', 'sample_type': 'weighted', 'normalize_type': 'forest', 'rate_drop': 2.8541006206912916e-06, 'skip_drop': 0.012898658835861365}. Best is trial 153 with value: 0.8584905660377359.\n",
      "[I 2023-12-11 15:33:30,794] Trial 369 finished with value: 0.0645619013834693 and parameters: {'booster': 'dart', 'lambda': 2.9059164893278857e-08, 'alpha': 0.008186929815271504, 'subsample': 0.9976045918134204, 'colsample_bytree': 0.2500754587028547, 'max_depth': 7, 'min_child_weight': 2, 'eta': 2.3667846287842182e-07, 'gamma': 0.012030547649831583, 'grow_policy': 'depthwise', 'sample_type': 'weighted', 'normalize_type': 'forest', 'rate_drop': 4.549539068427651e-06, 'skip_drop': 0.023667326133342905}. Best is trial 153 with value: 0.8584905660377359.\n",
      "[I 2023-12-11 15:33:31,055] Trial 370 finished with value: 0.6319444444444444 and parameters: {'booster': 'dart', 'lambda': 2.579203507638603e-08, 'alpha': 0.0039733996359369445, 'subsample': 0.9642379760855367, 'colsample_bytree': 0.20049007287238585, 'max_depth': 7, 'min_child_weight': 3, 'eta': 0.012226659644333417, 'gamma': 0.008706149204083195, 'grow_policy': 'depthwise', 'sample_type': 'weighted', 'normalize_type': 'forest', 'rate_drop': 1.7716228118565053e-06, 'skip_drop': 0.011978782666312358}. Best is trial 153 with value: 0.8584905660377359.\n",
      "[I 2023-12-11 15:33:31,319] Trial 371 finished with value: 0.8504672897196263 and parameters: {'booster': 'dart', 'lambda': 1.8096304575341276e-08, 'alpha': 0.0031268100332929637, 'subsample': 0.9839052149870469, 'colsample_bytree': 0.23716851148242854, 'max_depth': 7, 'min_child_weight': 2, 'eta': 0.9854676345950428, 'gamma': 0.005022924555724832, 'grow_policy': 'depthwise', 'sample_type': 'weighted', 'normalize_type': 'forest', 'rate_drop': 6.691299067484487e-06, 'skip_drop': 0.02428905113510503}. Best is trial 153 with value: 0.8584905660377359.\n",
      "[I 2023-12-11 15:33:31,549] Trial 372 finished with value: 0.8310502283105022 and parameters: {'booster': 'dart', 'lambda': 1.0524512127338435e-08, 'alpha': 0.002883283005188369, 'subsample': 0.975267337703084, 'colsample_bytree': 0.2628297857294461, 'max_depth': 7, 'min_child_weight': 2, 'eta': 0.7238232249994411, 'gamma': 0.015572584848965332, 'grow_policy': 'depthwise', 'sample_type': 'weighted', 'normalize_type': 'forest', 'rate_drop': 6.008730298402303e-06, 'skip_drop': 0.044484607377908145}. Best is trial 153 with value: 0.8584905660377359.\n",
      "[I 2023-12-11 15:33:31,775] Trial 373 finished with value: 0.774468085106383 and parameters: {'booster': 'dart', 'lambda': 1.1161082314399206e-08, 'alpha': 0.0028085652167016313, 'subsample': 0.9484098575817133, 'colsample_bytree': 0.23788494217333736, 'max_depth': 7, 'min_child_weight': 2, 'eta': 0.19021877925441266, 'gamma': 0.004329256882225358, 'grow_policy': 'depthwise', 'sample_type': 'weighted', 'normalize_type': 'forest', 'rate_drop': 6.5469926235563806e-06, 'skip_drop': 0.005468117804185313}. Best is trial 153 with value: 0.8584905660377359.\n",
      "[I 2023-12-11 15:33:32,010] Trial 374 finished with value: 0.7844827586206896 and parameters: {'booster': 'dart', 'lambda': 1.7922393125358818e-08, 'alpha': 0.0030325916151679984, 'subsample': 0.9632915825846632, 'colsample_bytree': 0.21600385885032586, 'max_depth': 7, 'min_child_weight': 2, 'eta': 0.36731382698493487, 'gamma': 0.023369384987814622, 'grow_policy': 'depthwise', 'sample_type': 'weighted', 'normalize_type': 'forest', 'rate_drop': 1.1210092801522608e-05, 'skip_drop': 0.020039986633313245}. Best is trial 153 with value: 0.8584905660377359.\n",
      "[I 2023-12-11 15:33:32,238] Trial 375 finished with value: 0.0645619013834693 and parameters: {'booster': 'dart', 'lambda': 1.0651443855320792e-08, 'alpha': 0.002872320229962326, 'subsample': 0.9983366103528538, 'colsample_bytree': 0.25528162194492426, 'max_depth': 7, 'min_child_weight': 2, 'eta': 7.904442440600193e-05, 'gamma': 0.005173524072949857, 'grow_policy': 'depthwise', 'sample_type': 'weighted', 'normalize_type': 'forest', 'rate_drop': 3.5978420308611105e-06, 'skip_drop': 0.03726915630691167}. Best is trial 153 with value: 0.8584905660377359.\n",
      "[I 2023-12-11 15:33:32,486] Trial 376 finished with value: 0.8198198198198199 and parameters: {'booster': 'dart', 'lambda': 6.197670291381688e-08, 'alpha': 0.0026526703790149555, 'subsample': 0.9817271408115544, 'colsample_bytree': 0.43199700802226026, 'max_depth': 7, 'min_child_weight': 2, 'eta': 0.574049634777717, 'gamma': 0.0027215813231309563, 'grow_policy': 'depthwise', 'sample_type': 'weighted', 'normalize_type': 'forest', 'rate_drop': 7.055100777457622e-06, 'skip_drop': 0.10314887154637378}. Best is trial 153 with value: 0.8584905660377359.\n",
      "[I 2023-12-11 15:33:32,732] Trial 377 finished with value: 0.0645619013834693 and parameters: {'booster': 'dart', 'lambda': 3.7526164876614204e-08, 'alpha': 0.014496120020227021, 'subsample': 0.9493784274775834, 'colsample_bytree': 0.23782980351171473, 'max_depth': 7, 'min_child_weight': 2, 'eta': 2.8527425152703526e-05, 'gamma': 2.4949634289835456e-05, 'grow_policy': 'depthwise', 'sample_type': 'weighted', 'normalize_type': 'forest', 'rate_drop': 1.2957606257419434e-06, 'skip_drop': 0.026018132841778466}. Best is trial 153 with value: 0.8584905660377359.\n",
      "[I 2023-12-11 15:33:33,061] Trial 378 finished with value: 0.5909090909090909 and parameters: {'booster': 'dart', 'lambda': 1.657640969926401e-08, 'alpha': 0.023507853739401625, 'subsample': 0.9707455863340113, 'colsample_bytree': 0.265079593724198, 'max_depth': 7, 'min_child_weight': 2, 'eta': 0.009538853642758947, 'gamma': 0.007011969581885129, 'grow_policy': 'depthwise', 'sample_type': 'weighted', 'normalize_type': 'forest', 'rate_drop': 5.0636306097190485e-06, 'skip_drop': 0.1649035978009744}. Best is trial 153 with value: 0.8584905660377359.\n",
      "[I 2023-12-11 15:33:33,315] Trial 379 finished with value: 0.7647058823529412 and parameters: {'booster': 'dart', 'lambda': 8.352457923400329e-06, 'alpha': 0.01036753665420729, 'subsample': 0.9305125371972561, 'colsample_bytree': 0.222167073305077, 'max_depth': 7, 'min_child_weight': 2, 'eta': 0.29996793110032627, 'gamma': 0.016985054720058887, 'grow_policy': 'depthwise', 'sample_type': 'weighted', 'normalize_type': 'forest', 'rate_drop': 1.532684991033823e-05, 'skip_drop': 0.045751856114623624}. Best is trial 153 with value: 0.8584905660377359.\n",
      "[I 2023-12-11 15:33:33,611] Trial 380 finished with value: 0.8272727272727274 and parameters: {'booster': 'dart', 'lambda': 4.506646612372452e-07, 'alpha': 0.005668401339990815, 'subsample': 0.9569402508209389, 'colsample_bytree': 0.26160631023625514, 'max_depth': 7, 'min_child_weight': 2, 'eta': 0.6924602340438207, 'gamma': 0.012217712334431573, 'grow_policy': 'depthwise', 'sample_type': 'weighted', 'normalize_type': 'forest', 'rate_drop': 2.16759431245671e-06, 'skip_drop': 0.00880967666777433}. Best is trial 153 with value: 0.8584905660377359.\n",
      "[I 2023-12-11 15:33:33,956] Trial 381 finished with value: 0.8235294117647058 and parameters: {'booster': 'dart', 'lambda': 3.361258163416401e-07, 'alpha': 0.006331181062060443, 'subsample': 0.9867128765370647, 'colsample_bytree': 0.26503762396099134, 'max_depth': 7, 'min_child_weight': 2, 'eta': 0.5527304348089871, 'gamma': 0.010766084937530217, 'grow_policy': 'depthwise', 'sample_type': 'weighted', 'normalize_type': 'forest', 'rate_drop': 2.2252741451025086e-06, 'skip_drop': 0.0036044568899733925}. Best is trial 153 with value: 0.8584905660377359.\n",
      "[I 2023-12-11 15:33:34,229] Trial 382 finished with value: 0.7137254901960784 and parameters: {'booster': 'dart', 'lambda': 7.054512124587082e-07, 'alpha': 0.0035242671156988734, 'subsample': 0.9628325451626796, 'colsample_bytree': 0.7039706897708543, 'max_depth': 7, 'min_child_weight': 2, 'eta': 0.36876534963253416, 'gamma': 0.021716682138930198, 'grow_policy': 'depthwise', 'sample_type': 'weighted', 'normalize_type': 'forest', 'rate_drop': 3.2239366801193806e-06, 'skip_drop': 0.009364759426765802}. Best is trial 153 with value: 0.8584905660377359.\n",
      "[I 2023-12-11 15:33:34,468] Trial 383 finished with value: 0.3684210526315789 and parameters: {'booster': 'dart', 'lambda': 1.6109177575265142e-06, 'alpha': 0.020050991146379323, 'subsample': 0.9399791363094429, 'colsample_bytree': 0.27315227281294, 'max_depth': 7, 'min_child_weight': 8, 'eta': 0.002124004622640892, 'gamma': 0.01411122648534361, 'grow_policy': 'depthwise', 'sample_type': 'weighted', 'normalize_type': 'forest', 'rate_drop': 1.2394085339554986e-06, 'skip_drop': 0.02194004467674013}. Best is trial 153 with value: 0.8584905660377359.\n",
      "[I 2023-12-11 15:33:34,699] Trial 384 finished with value: 0.31058020477815695 and parameters: {'booster': 'dart', 'lambda': 1.1771642457945331e-06, 'alpha': 0.007702599268114924, 'subsample': 0.5109223481399989, 'colsample_bytree': 0.25268292518574503, 'max_depth': 7, 'min_child_weight': 2, 'eta': 0.001544458451349075, 'gamma': 0.032671275056357356, 'grow_policy': 'depthwise', 'sample_type': 'weighted', 'normalize_type': 'forest', 'rate_drop': 1.9021071972756255e-06, 'skip_drop': 0.08388396703285689}. Best is trial 153 with value: 0.8584905660377359.\n",
      "[I 2023-12-11 15:33:35,043] Trial 385 finished with value: 0.787878787878788 and parameters: {'booster': 'dart', 'lambda': 1.2866311769874156e-07, 'alpha': 0.004988978968895342, 'subsample': 0.7968295110542415, 'colsample_bytree': 0.2948885246047516, 'max_depth': 7, 'min_child_weight': 4, 'eta': 0.7014682552439686, 'gamma': 0.011212299771527068, 'grow_policy': 'depthwise', 'sample_type': 'weighted', 'normalize_type': 'forest', 'rate_drop': 3.3855168495116754e-07, 'skip_drop': 0.006575255138932054}. Best is trial 153 with value: 0.8584905660377359.\n",
      "[I 2023-12-11 15:33:35,326] Trial 386 finished with value: 0.6642335766423358 and parameters: {'booster': 'dart', 'lambda': 2.420520476372298e-08, 'alpha': 0.002098857289908134, 'subsample': 0.9831512145390692, 'colsample_bytree': 0.26795329216529107, 'max_depth': 7, 'min_child_weight': 3, 'eta': 0.07496717078506138, 'gamma': 0.003729040510786243, 'grow_policy': 'depthwise', 'sample_type': 'weighted', 'normalize_type': 'forest', 'rate_drop': 4.164916293090648e-06, 'skip_drop': 0.011714035134930715}. Best is trial 153 with value: 0.8584905660377359.\n",
      "[I 2023-12-11 15:33:35,581] Trial 387 finished with value: 0.6523297491039427 and parameters: {'booster': 'dart', 'lambda': 2.7803137435512442e-06, 'alpha': 7.790649500783348e-06, 'subsample': 0.6909381525624753, 'colsample_bytree': 0.31011599785356647, 'max_depth': 7, 'min_child_weight': 2, 'eta': 0.1334279877617674, 'gamma': 0.007881025928857146, 'grow_policy': 'depthwise', 'sample_type': 'weighted', 'normalize_type': 'forest', 'rate_drop': 7.859801736308773e-06, 'skip_drop': 0.04699711333023483}. Best is trial 153 with value: 0.8584905660377359.\n",
      "[I 2023-12-11 15:33:35,819] Trial 388 finished with value: 0.8310502283105022 and parameters: {'booster': 'dart', 'lambda': 7.544795869530558e-08, 'alpha': 0.009964409242665688, 'subsample': 0.8642380916019028, 'colsample_bytree': 0.23965907497788197, 'max_depth': 7, 'min_child_weight': 2, 'eta': 0.6772051610441921, 'gamma': 0.022104096374468172, 'grow_policy': 'depthwise', 'sample_type': 'weighted', 'normalize_type': 'forest', 'rate_drop': 6.55416404713109e-07, 'skip_drop': 0.028679447321265334}. Best is trial 153 with value: 0.8584905660377359.\n",
      "[I 2023-12-11 15:33:36,064] Trial 389 finished with value: 0.771186440677966 and parameters: {'booster': 'dart', 'lambda': 6.75939808070346e-08, 'alpha': 0.004081088801973504, 'subsample': 0.8880178779967101, 'colsample_bytree': 0.24869060536911589, 'max_depth': 7, 'min_child_weight': 2, 'eta': 0.24651207317566737, 'gamma': 0.020159895118086607, 'grow_policy': 'depthwise', 'sample_type': 'weighted', 'normalize_type': 'forest', 'rate_drop': 6.927164608026815e-07, 'skip_drop': 0.02942049248522055}. Best is trial 153 with value: 0.8584905660377359.\n",
      "[I 2023-12-11 15:33:36,285] Trial 390 finished with value: 0.5814696485623003 and parameters: {'booster': 'dart', 'lambda': 4.3411327814080503e-07, 'alpha': 0.016681359564276372, 'subsample': 0.211381674930529, 'colsample_bytree': 0.23728955286966513, 'max_depth': 7, 'min_child_weight': 2, 'eta': 0.41864080883372273, 'gamma': 0.0005907362553229098, 'grow_policy': 'depthwise', 'sample_type': 'weighted', 'normalize_type': 'forest', 'rate_drop': 1.1291001038819838e-06, 'skip_drop': 0.017695571414173033}. Best is trial 153 with value: 0.8584905660377359.\n",
      "[I 2023-12-11 15:33:36,529] Trial 391 finished with value: 0.8235294117647058 and parameters: {'booster': 'dart', 'lambda': 2.0942122941444445e-07, 'alpha': 0.007630700144588135, 'subsample': 0.8734273298677036, 'colsample_bytree': 0.4104352045469424, 'max_depth': 7, 'min_child_weight': 2, 'eta': 0.5692420309485475, 'gamma': 0.005766896867940966, 'grow_policy': 'depthwise', 'sample_type': 'weighted', 'normalize_type': 'forest', 'rate_drop': 5.782177247035639e-07, 'skip_drop': 0.06745025534574009}. Best is trial 153 with value: 0.8584905660377359.\n",
      "[I 2023-12-11 15:33:36,765] Trial 392 finished with value: 0.8387096774193548 and parameters: {'booster': 'dart', 'lambda': 8.245282299325146e-08, 'alpha': 0.011059760452494316, 'subsample': 0.9027788889578924, 'colsample_bytree': 0.23093031299896763, 'max_depth': 7, 'min_child_weight': 2, 'eta': 0.6993356481895098, 'gamma': 0.013994020406844682, 'grow_policy': 'depthwise', 'sample_type': 'weighted', 'normalize_type': 'forest', 'rate_drop': 3.72140295900994e-07, 'skip_drop': 0.009189162138649}. Best is trial 153 with value: 0.8584905660377359.\n",
      "[I 2023-12-11 15:33:36,994] Trial 393 finished with value: 0.0645619013834693 and parameters: {'booster': 'dart', 'lambda': 5.010025929717856e-08, 'alpha': 0.030674668868045218, 'subsample': 0.8928446383427473, 'colsample_bytree': 0.2284680699146114, 'max_depth': 7, 'min_child_weight': 2, 'eta': 4.1883894905956385e-05, 'gamma': 0.019982322558406353, 'grow_policy': 'depthwise', 'sample_type': 'weighted', 'normalize_type': 'forest', 'rate_drop': 3.5393753412171086e-07, 'skip_drop': 0.004722417046698192}. Best is trial 153 with value: 0.8584905660377359.\n",
      "[I 2023-12-11 15:33:37,220] Trial 394 finished with value: 0.0645619013834693 and parameters: {'booster': 'dart', 'lambda': 4.216866478714117e-08, 'alpha': 0.01787380679868182, 'subsample': 0.9098125832982353, 'colsample_bytree': 0.2379057199544068, 'max_depth': 7, 'min_child_weight': 2, 'eta': 1.0819793803542244e-05, 'gamma': 0.03557237378480645, 'grow_policy': 'depthwise', 'sample_type': 'weighted', 'normalize_type': 'forest', 'rate_drop': 2.0916075966356397e-07, 'skip_drop': 0.029782267994036125}. Best is trial 153 with value: 0.8584905660377359.\n",
      "[I 2023-12-11 15:33:37,482] Trial 395 finished with value: 0.7551867219917012 and parameters: {'booster': 'dart', 'lambda': 1.4878567497441032e-07, 'alpha': 0.012001398567352488, 'subsample': 0.8973706034088156, 'colsample_bytree': 0.7582027163479734, 'max_depth': 7, 'min_child_weight': 2, 'eta': 0.3976764681351082, 'gamma': 0.0021707397217267266, 'grow_policy': 'depthwise', 'sample_type': 'weighted', 'normalize_type': 'forest', 'rate_drop': 9.605997484989074e-07, 'skip_drop': 0.13103813570288161}. Best is trial 153 with value: 0.8584905660377359.\n",
      "[I 2023-12-11 15:33:37,701] Trial 396 finished with value: 0.4396135265700483 and parameters: {'booster': 'dart', 'lambda': 8.614662819005647e-08, 'alpha': 0.008635493718264255, 'subsample': 0.9249029030542879, 'colsample_bytree': 0.32408736252813164, 'max_depth': 7, 'min_child_weight': 3, 'eta': 0.0025470656294365873, 'gamma': 0.02667533521101904, 'grow_policy': 'depthwise', 'sample_type': 'weighted', 'normalize_type': 'forest', 'rate_drop': 2.851276793969477e-07, 'skip_drop': 0.015525413182793966}. Best is trial 153 with value: 0.8584905660377359.\n",
      "[I 2023-12-11 15:33:37,928] Trial 397 finished with value: 0.7250996015936254 and parameters: {'booster': 'dart', 'lambda': 1.0231861370016378e-08, 'alpha': 0.002693835403838157, 'subsample': 0.8148832060506527, 'colsample_bytree': 0.21021217776823564, 'max_depth': 7, 'min_child_weight': 2, 'eta': 0.19205047570430156, 'gamma': 0.01508257804484971, 'grow_policy': 'depthwise', 'sample_type': 'weighted', 'normalize_type': 'forest', 'rate_drop': 4.255720590408474e-07, 'skip_drop': 0.05314150352810634}. Best is trial 153 with value: 0.8584905660377359.\n",
      "[I 2023-12-11 15:33:38,146] Trial 398 finished with value: 0.6594202898550725 and parameters: {'booster': 'dart', 'lambda': 2.9347836960180766e-08, 'alpha': 0.011963212780306114, 'subsample': 0.3450963264712455, 'colsample_bytree': 0.4533977296170938, 'max_depth': 7, 'min_child_weight': 2, 'eta': 0.7291633684015193, 'gamma': 0.010219662280760395, 'grow_policy': 'depthwise', 'sample_type': 'weighted', 'normalize_type': 'forest', 'rate_drop': 1.693942234179802e-07, 'skip_drop': 0.0025514134115374003}. Best is trial 153 with value: 0.8584905660377359.\n",
      "[I 2023-12-11 15:33:38,415] Trial 399 finished with value: 0.8088888888888888 and parameters: {'booster': 'dart', 'lambda': 9.686704279102754e-08, 'alpha': 0.09973982209780541, 'subsample': 0.8354107280015693, 'colsample_bytree': 0.5795852519164598, 'max_depth': 7, 'min_child_weight': 2, 'eta': 0.49122164504179044, 'gamma': 5.894217665799071e-06, 'grow_policy': 'depthwise', 'sample_type': 'weighted', 'normalize_type': 'forest', 'rate_drop': 9.635025873474896e-08, 'skip_drop': 0.09171520797639017}. Best is trial 153 with value: 0.8584905660377359.\n",
      "[I 2023-12-11 15:33:38,722] Trial 400 finished with value: 0.6973180076628352 and parameters: {'booster': 'dart', 'lambda': 2.0069943694619988e-08, 'alpha': 0.0016620247011750334, 'subsample': 0.880609212250618, 'colsample_bytree': 0.5216963544565582, 'max_depth': 7, 'min_child_weight': 2, 'eta': 0.3098485546259552, 'gamma': 0.024674212297672433, 'grow_policy': 'depthwise', 'sample_type': 'weighted', 'normalize_type': 'forest', 'rate_drop': 6.50599389074351e-07, 'skip_drop': 0.00804665212766163}. Best is trial 153 with value: 0.8584905660377359.\n",
      "[I 2023-12-11 15:33:38,960] Trial 401 finished with value: 0.8125000000000001 and parameters: {'booster': 'dart', 'lambda': 3.5830858315295236e-08, 'alpha': 0.031676977343914725, 'subsample': 0.9145206281219849, 'colsample_bytree': 0.3507787482112189, 'max_depth': 7, 'min_child_weight': 2, 'eta': 0.708167088153537, 'gamma': 0.006734020557150995, 'grow_policy': 'depthwise', 'sample_type': 'weighted', 'normalize_type': 'forest', 'rate_drop': 2.50880097182011e-07, 'skip_drop': 0.036361415023835324}. Best is trial 153 with value: 0.8584905660377359.\n",
      "[I 2023-12-11 15:33:39,178] Trial 402 finished with value: 0.794759825327511 and parameters: {'booster': 'dart', 'lambda': 1.4912661262237586e-08, 'alpha': 2.9216405932299782e-06, 'subsample': 0.7095351247717784, 'colsample_bytree': 0.2235116695598594, 'max_depth': 7, 'min_child_weight': 2, 'eta': 0.5417721528494034, 'gamma': 0.015214185893705146, 'grow_policy': 'depthwise', 'sample_type': 'weighted', 'normalize_type': 'forest', 'rate_drop': 1.414067930104281e-06, 'skip_drop': 0.23090890018978039}. Best is trial 153 with value: 0.8584905660377359.\n",
      "[I 2023-12-11 15:33:39,412] Trial 403 finished with value: 0.0645619013834693 and parameters: {'booster': 'dart', 'lambda': 4.433948266215571e-05, 'alpha': 2.2619939371220727e-06, 'subsample': 0.8630723605947183, 'colsample_bytree': 0.38748439376728794, 'max_depth': 7, 'min_child_weight': 3, 'eta': 1.0136545681921886e-08, 'gamma': 0.03218018944101972, 'grow_policy': 'depthwise', 'sample_type': 'weighted', 'normalize_type': 'forest', 'rate_drop': 3.133930454041471e-06, 'skip_drop': 0.021385582696131784}. Best is trial 153 with value: 0.8584905660377359.\n",
      "[I 2023-12-11 15:33:39,614] Trial 404 finished with value: 0.8387096774193548 and parameters: {'booster': 'dart', 'lambda': 4.643874587347333e-08, 'alpha': 1.3341092462599253e-05, 'subsample': 0.7825830801887563, 'colsample_bytree': 0.20000692325699987, 'max_depth': 7, 'min_child_weight': 2, 'eta': 0.9996337002798571, 'gamma': 0.004603714351417814, 'grow_policy': 'depthwise', 'sample_type': 'weighted', 'normalize_type': 'forest', 'rate_drop': 1.5757174888987748e-07, 'skip_drop': 0.011856353200885229}. Best is trial 153 with value: 0.8584905660377359.\n",
      "[I 2023-12-11 15:33:39,842] Trial 405 finished with value: 0.7844827586206896 and parameters: {'booster': 'dart', 'lambda': 7.476943022766142e-08, 'alpha': 0.001982999898805515, 'subsample': 0.7503081536035191, 'colsample_bytree': 0.43237013303190514, 'max_depth': 7, 'min_child_weight': 2, 'eta': 0.9878892414207818, 'gamma': 4.355158375920487e-08, 'grow_policy': 'depthwise', 'sample_type': 'weighted', 'normalize_type': 'forest', 'rate_drop': 1.4264934326361552e-07, 'skip_drop': 0.014163085993883903}. Best is trial 153 with value: 0.8584905660377359.\n",
      "[I 2023-12-11 15:33:40,122] Trial 406 finished with value: 0.4853333333333334 and parameters: {'booster': 'dart', 'lambda': 4.8734382042761586e-08, 'alpha': 0.010293376512708032, 'subsample': 0.7277014151392918, 'colsample_bytree': 0.7962628773236904, 'max_depth': 7, 'min_child_weight': 2, 'eta': 0.018419632300535255, 'gamma': 0.004942043676546717, 'grow_policy': 'depthwise', 'sample_type': 'weighted', 'normalize_type': 'forest', 'rate_drop': 9.796933246698145e-08, 'skip_drop': 0.005524279850954925}. Best is trial 153 with value: 0.8584905660377359.\n",
      "[I 2023-12-11 15:33:40,344] Trial 407 finished with value: 0.6232876712328766 and parameters: {'booster': 'dart', 'lambda': 2.5015746493881984e-08, 'alpha': 5.123867378670789e-06, 'subsample': 0.7929743353401092, 'colsample_bytree': 0.3277389440577423, 'max_depth': 7, 'min_child_weight': 2, 'eta': 0.06926443238733014, 'gamma': 0.00868441852589365, 'grow_policy': 'depthwise', 'sample_type': 'weighted', 'normalize_type': 'forest', 'rate_drop': 3.2374321086937885e-07, 'skip_drop': 0.05466554982835468}. Best is trial 153 with value: 0.8584905660377359.\n",
      "[I 2023-12-11 15:33:40,561] Trial 408 finished with value: 0.7777777777777778 and parameters: {'booster': 'dart', 'lambda': 1.1909872268718496e-07, 'alpha': 0.0034110916639518173, 'subsample': 0.7790111278649177, 'colsample_bytree': 0.2504856126611326, 'max_depth': 7, 'min_child_weight': 2, 'eta': 0.7050059782404454, 'gamma': 1.521888624613333e-06, 'grow_policy': 'depthwise', 'sample_type': 'weighted', 'normalize_type': 'forest', 'rate_drop': 1.9160456399320413e-07, 'skip_drop': 0.01063004347156135}. Best is trial 153 with value: 0.8584905660377359.\n",
      "[I 2023-12-11 15:33:40,811] Trial 409 finished with value: 0.8053097345132744 and parameters: {'booster': 'dart', 'lambda': 4.975013592949302e-08, 'alpha': 0.18901304502981764, 'subsample': 0.8072168646683012, 'colsample_bytree': 0.35842093703811123, 'max_depth': 7, 'min_child_weight': 2, 'eta': 0.9817353406973648, 'gamma': 0.018486764505359035, 'grow_policy': 'depthwise', 'sample_type': 'weighted', 'normalize_type': 'forest', 'rate_drop': 2.4313841473117395e-05, 'skip_drop': 0.026326599936908578}. Best is trial 153 with value: 0.8584905660377359.\n",
      "[I 2023-12-11 15:33:41,039] Trial 410 finished with value: 0.0645619013834693 and parameters: {'booster': 'dart', 'lambda': 3.0290115140364505e-08, 'alpha': 0.01775209504361856, 'subsample': 0.9985852646234478, 'colsample_bytree': 0.2814506292329011, 'max_depth': 7, 'min_child_weight': 2, 'eta': 0.0003871117655665995, 'gamma': 0.04313953648950182, 'grow_policy': 'depthwise', 'sample_type': 'weighted', 'normalize_type': 'forest', 'rate_drop': 4.719775647543935e-07, 'skip_drop': 0.11622127895180963}. Best is trial 153 with value: 0.8584905660377359.\n",
      "[I 2023-12-11 15:33:41,122] Trial 411 finished with value: 0.29942418426103656 and parameters: {'booster': 'gblinear', 'lambda': 1.5611151899649627e-08, 'alpha': 1.1542323629080264e-05, 'subsample': 0.9733847323362236, 'colsample_bytree': 0.3717351627754608}. Best is trial 153 with value: 0.8584905660377359.\n",
      "[I 2023-12-11 15:33:41,416] Trial 412 finished with value: 0.7398373983739838 and parameters: {'booster': 'dart', 'lambda': 2.1961632218647013e-06, 'alpha': 0.005266701234310475, 'subsample': 0.8569812734872898, 'colsample_bytree': 0.5047846894215952, 'max_depth': 7, 'min_child_weight': 7, 'eta': 0.708948751945043, 'gamma': 0.02605762386573893, 'grow_policy': 'depthwise', 'sample_type': 'weighted', 'normalize_type': 'forest', 'rate_drop': 9.971296122277539e-06, 'skip_drop': 0.004087135409677339}. Best is trial 153 with value: 0.8584905660377359.\n",
      "[I 2023-12-11 15:33:41,647] Trial 413 finished with value: 0.7459016393442622 and parameters: {'booster': 'dart', 'lambda': 1.961269927279494e-08, 'alpha': 0.00764454546239727, 'subsample': 0.7577096874930218, 'colsample_bytree': 0.33475035564324923, 'max_depth': 7, 'min_child_weight': 2, 'eta': 0.36044485458598036, 'gamma': 0.010650074748705596, 'grow_policy': 'depthwise', 'sample_type': 'weighted', 'normalize_type': 'forest', 'rate_drop': 7.684739194993994e-07, 'skip_drop': 0.072663114878601}. Best is trial 153 with value: 0.8584905660377359.\n",
      "[I 2023-12-11 15:33:41,868] Trial 414 finished with value: 0.7844827586206896 and parameters: {'booster': 'dart', 'lambda': 8.480533418451003e-07, 'alpha': 0.0021586931406755517, 'subsample': 0.6793014400262943, 'colsample_bytree': 0.23967113796093517, 'max_depth': 7, 'min_child_weight': 5, 'eta': 0.9912641215551232, 'gamma': 0.03282266355641853, 'grow_policy': 'depthwise', 'sample_type': 'weighted', 'normalize_type': 'forest', 'rate_drop': 5.1194802705929076e-08, 'skip_drop': 0.007568641240582749}. Best is trial 153 with value: 0.8584905660377359.\n",
      "[I 2023-12-11 15:33:42,075] Trial 415 finished with value: 0.7338709677419354 and parameters: {'booster': 'dart', 'lambda': 6.030361160320138e-08, 'alpha': 0.04765425613942407, 'subsample': 0.4752661153338116, 'colsample_bytree': 0.29815824249541006, 'max_depth': 7, 'min_child_weight': 2, 'eta': 0.5331758968449035, 'gamma': 0.0032355223848751927, 'grow_policy': 'depthwise', 'sample_type': 'weighted', 'normalize_type': 'forest', 'rate_drop': 1.5294897010332278e-06, 'skip_drop': 0.0431419625721111}. Best is trial 153 with value: 0.8584905660377359.\n",
      "[I 2023-12-11 15:33:42,286] Trial 416 finished with value: 0.8425925925925926 and parameters: {'booster': 'dart', 'lambda': 2.5968538304709985e-07, 'alpha': 0.004026649136109572, 'subsample': 0.9410994448178477, 'colsample_bytree': 0.26323255620676533, 'max_depth': 7, 'min_child_weight': 2, 'eta': 0.7032529229972586, 'gamma': 0.014986292331996448, 'grow_policy': 'depthwise', 'sample_type': 'weighted', 'normalize_type': 'forest', 'rate_drop': 5.29250985045139e-06, 'skip_drop': 0.017541157940966928}. Best is trial 153 with value: 0.8584905660377359.\n",
      "[I 2023-12-11 15:33:42,498] Trial 417 finished with value: 0.08096085409252668 and parameters: {'booster': 'dart', 'lambda': 3.3210411271532154e-08, 'alpha': 0.004120231343244908, 'subsample': 0.712521971303043, 'colsample_bytree': 0.2626821206580591, 'max_depth': 7, 'min_child_weight': 2, 'eta': 0.0006305686831547052, 'gamma': 0.015025401363375457, 'grow_policy': 'depthwise', 'sample_type': 'weighted', 'normalize_type': 'forest', 'rate_drop': 4.9424609166752705e-06, 'skip_drop': 0.020280466585175936}. Best is trial 153 with value: 0.8584905660377359.\n",
      "[I 2023-12-11 15:33:42,724] Trial 418 finished with value: 0.2622478386167147 and parameters: {'booster': 'dart', 'lambda': 1.3462688911008419e-07, 'alpha': 0.0031511358423227604, 'subsample': 0.9373289271002558, 'colsample_bytree': 0.27910432892767395, 'max_depth': 7, 'min_child_weight': 2, 'eta': 0.0013427197616413269, 'gamma': 0.023724808766534385, 'grow_policy': 'depthwise', 'sample_type': 'weighted', 'normalize_type': 'forest', 'rate_drop': 6.004531113500723e-06, 'skip_drop': 0.013005807530388708}. Best is trial 153 with value: 0.8584905660377359.\n",
      "[I 2023-12-11 15:33:42,937] Trial 419 finished with value: 0.7459016393442622 and parameters: {'booster': 'dart', 'lambda': 9.23557559325113e-08, 'alpha': 0.007344048904877876, 'subsample': 0.7375237981469897, 'colsample_bytree': 0.24888906582127307, 'max_depth': 7, 'min_child_weight': 2, 'eta': 0.272244762551083, 'gamma': 0.0002139194460961699, 'grow_policy': 'depthwise', 'sample_type': 'weighted', 'normalize_type': 'forest', 'rate_drop': 2.3671915514855184e-06, 'skip_drop': 0.03158377516173858}. Best is trial 153 with value: 0.8584905660377359.\n",
      "[I 2023-12-11 15:33:43,171] Trial 420 finished with value: 0.6363636363636364 and parameters: {'booster': 'dart', 'lambda': 1.5345995411192184e-07, 'alpha': 0.0016353377862482403, 'subsample': 0.6991242288366779, 'colsample_bytree': 0.22768266588109468, 'max_depth': 5, 'min_child_weight': 2, 'eta': 0.5469372765040975, 'gamma': 0.0075746117800894195, 'grow_policy': 'depthwise', 'sample_type': 'weighted', 'normalize_type': 'forest', 'rate_drop': 3.5517303444470472e-06, 'skip_drop': 0.0019238926235828463}. Best is trial 153 with value: 0.8584905660377359.\n",
      "[I 2023-12-11 15:33:43,407] Trial 421 finished with value: 0.8161434977578476 and parameters: {'booster': 'dart', 'lambda': 3.2102139721545854e-07, 'alpha': 0.012072003788527753, 'subsample': 0.8378619623950947, 'colsample_bytree': 0.25767871223317196, 'max_depth': 7, 'min_child_weight': 2, 'eta': 0.9916276459653052, 'gamma': 0.0001360308440594974, 'grow_policy': 'depthwise', 'sample_type': 'weighted', 'normalize_type': 'forest', 'rate_drop': 1.0090500837006327e-06, 'skip_drop': 0.004462724211902085}. Best is trial 153 with value: 0.8584905660377359.\n",
      "[I 2023-12-11 15:33:43,627] Trial 422 finished with value: 0.787878787878788 and parameters: {'booster': 'dart', 'lambda': 1.0112979596744638e-08, 'alpha': 0.004706583147863773, 'subsample': 0.7810058160416495, 'colsample_bytree': 0.27002519812463754, 'max_depth': 7, 'min_child_weight': 2, 'eta': 0.3866078127622216, 'gamma': 5.057951650226911e-05, 'grow_policy': 'depthwise', 'sample_type': 'weighted', 'normalize_type': 'forest', 'rate_drop': 1.3787671651086092e-05, 'skip_drop': 0.006256636444445975}. Best is trial 153 with value: 0.8584905660377359.\n",
      "[I 2023-12-11 15:33:43,849] Trial 423 finished with value: 0.6363636363636364 and parameters: {'booster': 'dart', 'lambda': 6.469798989631417e-08, 'alpha': 9.460740035175146e-06, 'subsample': 0.6718450105413046, 'colsample_bytree': 0.4018437298618674, 'max_depth': 7, 'min_child_weight': 10, 'eta': 0.7299952406162863, 'gamma': 0.012996246105342174, 'grow_policy': 'depthwise', 'sample_type': 'weighted', 'normalize_type': 'forest', 'rate_drop': 5.744656887733103e-07, 'skip_drop': 0.009682777066444223}. Best is trial 153 with value: 0.8584905660377359.\n",
      "[I 2023-12-11 15:33:44,033] Trial 424 finished with value: 0.07285828662930344 and parameters: {'booster': 'dart', 'lambda': 2.5360158578889533e-07, 'alpha': 6.274647882971631e-06, 'subsample': 0.5391005726809152, 'colsample_bytree': 0.22131691140233134, 'max_depth': 3, 'min_child_weight': 2, 'eta': 0.0009063119914113306, 'gamma': 0.04167182496929486, 'grow_policy': 'depthwise', 'sample_type': 'weighted', 'normalize_type': 'forest', 'rate_drop': 1.734723583811451e-06, 'skip_drop': 0.18447526967748148}. Best is trial 153 with value: 0.8584905660377359.\n",
      "[I 2023-12-11 15:33:44,310] Trial 425 finished with value: 0.6476868327402135 and parameters: {'booster': 'dart', 'lambda': 2.293456387999435e-07, 'alpha': 0.002271888145355059, 'subsample': 0.9763302421180645, 'colsample_bytree': 0.3085893874809418, 'max_depth': 7, 'min_child_weight': 3, 'eta': 0.1103886058475458, 'gamma': 0.018789162242003308, 'grow_policy': 'depthwise', 'sample_type': 'weighted', 'normalize_type': 'forest', 'rate_drop': 1.1103155106217072e-07, 'skip_drop': 0.08844776985347666}. Best is trial 153 with value: 0.8584905660377359.\n",
      "[I 2023-12-11 15:33:44,413] Trial 426 finished with value: 0.29942418426103656 and parameters: {'booster': 'gblinear', 'lambda': 5.409100058428324e-07, 'alpha': 3.6331356219697993e-06, 'subsample': 0.9315923586522484, 'colsample_bytree': 0.47782320835087455}. Best is trial 153 with value: 0.8584905660377359.\n",
      "[I 2023-12-11 15:33:44,681] Trial 427 finished with value: 0.7054263565891472 and parameters: {'booster': 'dart', 'lambda': 0.001015331201032653, 'alpha': 1.5104741399888388e-07, 'subsample': 0.7141815043120097, 'colsample_bytree': 0.2905323875383961, 'max_depth': 7, 'min_child_weight': 2, 'eta': 0.21514870673191408, 'gamma': 0.004794403958173811, 'grow_policy': 'depthwise', 'sample_type': 'weighted', 'normalize_type': 'forest', 'rate_drop': 2.319696512388714e-07, 'skip_drop': 0.01805829365630521}. Best is trial 153 with value: 0.8584905660377359.\n",
      "[I 2023-12-11 15:33:44,913] Trial 428 finished with value: 0.787878787878788 and parameters: {'booster': 'dart', 'lambda': 2.1840504134684483e-08, 'alpha': 0.006775922005200815, 'subsample': 0.997656820323144, 'colsample_bytree': 0.2392583059309676, 'max_depth': 7, 'min_child_weight': 2, 'eta': 0.5467959881741331, 'gamma': 0.009738703831595722, 'grow_policy': 'depthwise', 'sample_type': 'weighted', 'normalize_type': 'forest', 'rate_drop': 7.300821749801713e-08, 'skip_drop': 0.3239125253632019}. Best is trial 153 with value: 0.8584905660377359.\n",
      "[I 2023-12-11 15:33:45,145] Trial 429 finished with value: 0.8161434977578476 and parameters: {'booster': 'dart', 'lambda': 8.255824950562525e-08, 'alpha': 5.865478418672089e-07, 'subsample': 0.7378809624062107, 'colsample_bytree': 0.2768729684416872, 'max_depth': 7, 'min_child_weight': 2, 'eta': 0.7182975179926766, 'gamma': 0.018500885736421724, 'grow_policy': 'depthwise', 'sample_type': 'weighted', 'normalize_type': 'forest', 'rate_drop': 7.6696190686893e-06, 'skip_drop': 0.05547014071670744}. Best is trial 153 with value: 0.8584905660377359.\n",
      "[I 2023-12-11 15:33:45,392] Trial 430 finished with value: 0.5083798882681565 and parameters: {'booster': 'dart', 'lambda': 1.5148569084261223e-08, 'alpha': 0.00322725166450868, 'subsample': 0.819535399643956, 'colsample_bytree': 0.4952909877445586, 'max_depth': 7, 'min_child_weight': 2, 'eta': 0.009839964439421605, 'gamma': 2.1413654686568514e-05, 'grow_policy': 'lossguide', 'sample_type': 'weighted', 'normalize_type': 'forest', 'rate_drop': 2.8241675922746472e-06, 'skip_drop': 0.04243857694090715}. Best is trial 153 with value: 0.8584905660377359.\n",
      "[I 2023-12-11 15:33:45,605] Trial 431 finished with value: 0.791304347826087 and parameters: {'booster': 'dart', 'lambda': 0.18663751086086103, 'alpha': 0.009704795789607767, 'subsample': 0.7701053383652652, 'colsample_bytree': 0.21401886678695323, 'max_depth': 7, 'min_child_weight': 2, 'eta': 0.4112686543196102, 'gamma': 0.05214118409756312, 'grow_policy': 'lossguide', 'sample_type': 'weighted', 'normalize_type': 'forest', 'rate_drop': 3.821459799138448e-07, 'skip_drop': 0.003446226727608862}. Best is trial 153 with value: 0.8584905660377359.\n",
      "[I 2023-12-11 15:33:46,384] Trial 432 finished with value: 0.7338709677419354 and parameters: {'booster': 'dart', 'lambda': 3.742312322332942e-08, 'alpha': 0.0014187810492659904, 'subsample': 0.39221120371302753, 'colsample_bytree': 0.2535714570620869, 'max_depth': 7, 'min_child_weight': 2, 'eta': 0.7008839743228105, 'gamma': 0.03076148075707603, 'grow_policy': 'lossguide', 'sample_type': 'uniform', 'normalize_type': 'forest', 'rate_drop': 3.2927237158426617e-05, 'skip_drop': 0.13302761599754429}. Best is trial 153 with value: 0.8584905660377359.\n",
      "[I 2023-12-11 15:33:46,603] Trial 433 finished with value: 0.6169491525423729 and parameters: {'booster': 'dart', 'lambda': 1.001234342070148e-06, 'alpha': 1.2373226390422446e-05, 'subsample': 0.9522204560627623, 'colsample_bytree': 0.29331718028830284, 'max_depth': 7, 'min_child_weight': 2, 'eta': 0.01306707367935849, 'gamma': 0.012071047649437385, 'grow_policy': 'depthwise', 'sample_type': 'weighted', 'normalize_type': 'forest', 'rate_drop': 9.665237828633873e-07, 'skip_drop': 0.026161441459986744}. Best is trial 153 with value: 0.8584905660377359.\n",
      "[I 2023-12-11 15:33:46,878] Trial 434 finished with value: 0.5449101796407186 and parameters: {'booster': 'dart', 'lambda': 0.0031159344289027795, 'alpha': 0.02132075242097594, 'subsample': 0.9741669007006155, 'colsample_bytree': 0.44552258606702155, 'max_depth': 7, 'min_child_weight': 2, 'eta': 0.04403881842154833, 'gamma': 0.018135191673250683, 'grow_policy': 'lossguide', 'sample_type': 'weighted', 'normalize_type': 'forest', 'rate_drop': 1.495145783472572e-07, 'skip_drop': 0.015105379653621008}. Best is trial 153 with value: 0.8584905660377359.\n",
      "[I 2023-12-11 15:33:47,106] Trial 435 finished with value: 0.0645619013834693 and parameters: {'booster': 'dart', 'lambda': 2.357799652606328e-08, 'alpha': 0.002331590385678268, 'subsample': 0.6901002211417446, 'colsample_bytree': 0.31734328623224234, 'max_depth': 7, 'min_child_weight': 3, 'eta': 3.553106044525089e-06, 'gamma': 0.0001299966545009462, 'grow_policy': 'lossguide', 'sample_type': 'weighted', 'normalize_type': 'forest', 'rate_drop': 4.651557225063253e-06, 'skip_drop': 0.07276099515245357}. Best is trial 153 with value: 0.8584905660377359.\n",
      "[I 2023-12-11 15:33:47,196] Trial 436 finished with value: 0.29755178907721286 and parameters: {'booster': 'gblinear', 'lambda': 0.0006260145614344143, 'alpha': 0.0059748334880474355, 'subsample': 0.7244827901456196, 'colsample_bytree': 0.2663713272046678}. Best is trial 153 with value: 0.8584905660377359.\n",
      "[I 2023-12-11 15:33:47,458] Trial 437 finished with value: 0.7137254901960784 and parameters: {'booster': 'dart', 'lambda': 1.4348957859865448e-08, 'alpha': 1.4746717659335626e-08, 'subsample': 0.5757314299221152, 'colsample_bytree': 0.6357781281371602, 'max_depth': 7, 'min_child_weight': 2, 'eta': 0.5011444535755644, 'gamma': 0.006488144947659953, 'grow_policy': 'depthwise', 'sample_type': 'weighted', 'normalize_type': 'tree', 'rate_drop': 1.8650559297965424e-06, 'skip_drop': 0.009264631932822938}. Best is trial 153 with value: 0.8584905660377359.\n",
      "[I 2023-12-11 15:33:47,716] Trial 438 finished with value: 0.7000000000000001 and parameters: {'booster': 'dart', 'lambda': 5.299149894000072e-07, 'alpha': 0.004701050580899479, 'subsample': 0.5533608138132095, 'colsample_bytree': 0.4202262663157829, 'max_depth': 7, 'min_child_weight': 2, 'eta': 0.30887102295375224, 'gamma': 0.004008095402384, 'grow_policy': 'lossguide', 'sample_type': 'weighted', 'normalize_type': 'forest', 'rate_drop': 2.847334641975204e-07, 'skip_drop': 0.03617517614005529}. Best is trial 153 with value: 0.8584905660377359.\n",
      "[I 2023-12-11 15:33:47,942] Trial 439 finished with value: 0.0645619013834693 and parameters: {'booster': 'dart', 'lambda': 0.5257947354231901, 'alpha': 0.001516711195271262, 'subsample': 0.6749504536781828, 'colsample_bytree': 0.23160320652334312, 'max_depth': 7, 'min_child_weight': 2, 'eta': 0.00019459989927391374, 'gamma': 0.03848029404262069, 'grow_policy': 'lossguide', 'sample_type': 'weighted', 'normalize_type': 'forest', 'rate_drop': 6.717296408109262e-07, 'skip_drop': 0.02359418051199095}. Best is trial 153 with value: 0.8584905660377359.\n",
      "[I 2023-12-11 15:33:48,162] Trial 440 finished with value: 0.8348623853211008 and parameters: {'booster': 'dart', 'lambda': 4.396254573870842e-08, 'alpha': 0.26540237182142323, 'subsample': 0.9821939458444822, 'colsample_bytree': 0.24515112781877846, 'max_depth': 7, 'min_child_weight': 2, 'eta': 0.991795508949907, 'gamma': 0.00893193068243617, 'grow_policy': 'lossguide', 'sample_type': 'weighted', 'normalize_type': 'forest', 'rate_drop': 9.623714552562669e-06, 'skip_drop': 0.0016039068144572137}. Best is trial 153 with value: 0.8584905660377359.\n",
      "[I 2023-12-11 15:33:48,372] Trial 441 finished with value: 0.8625592417061612 and parameters: {'booster': 'dart', 'lambda': 4.417999250476684e-08, 'alpha': 0.33023980019859517, 'subsample': 0.9858351632430862, 'colsample_bytree': 0.2455559665156103, 'max_depth': 7, 'min_child_weight': 2, 'eta': 0.9974709552114978, 'gamma': 0.00720894368593397, 'grow_policy': 'lossguide', 'sample_type': 'weighted', 'normalize_type': 'forest', 'rate_drop': 8.652672215095307e-06, 'skip_drop': 0.0009734187624589334}. Best is trial 441 with value: 0.8625592417061612.\n",
      "[I 2023-12-11 15:33:48,599] Trial 442 finished with value: 0.801762114537445 and parameters: {'booster': 'dart', 'lambda': 2.5333392290540793e-08, 'alpha': 0.3310808205143304, 'subsample': 0.9819008421360418, 'colsample_bytree': 0.20022928453158492, 'max_depth': 7, 'min_child_weight': 2, 'eta': 0.9542515159439416, 'gamma': 0.006497654400958133, 'grow_policy': 'lossguide', 'sample_type': 'weighted', 'normalize_type': 'forest', 'rate_drop': 1.0217733903185759e-05, 'skip_drop': 0.0008056951074388501}. Best is trial 441 with value: 0.8625592417061612.\n",
      "[I 2023-12-11 15:33:48,832] Trial 443 finished with value: 0.5290697674418605 and parameters: {'booster': 'dart', 'lambda': 3.9409571467495806e-08, 'alpha': 0.24125663373978964, 'subsample': 0.9847261851564287, 'colsample_bytree': 0.4662925408093208, 'max_depth': 7, 'min_child_weight': 2, 'eta': 0.03179517867578619, 'gamma': 0.007953442931454672, 'grow_policy': 'lossguide', 'sample_type': 'weighted', 'normalize_type': 'forest', 'rate_drop': 1.6395070788579603e-05, 'skip_drop': 0.0025844217018468514}. Best is trial 441 with value: 0.8625592417061612.\n",
      "[I 2023-12-11 15:33:49,050] Trial 444 finished with value: 0.728 and parameters: {'booster': 'dart', 'lambda': 3.209089474795247e-08, 'alpha': 0.7594822373883713, 'subsample': 0.996944147843952, 'colsample_bytree': 0.2543376566956226, 'max_depth': 7, 'min_child_weight': 8, 'eta': 0.7287922895671055, 'gamma': 0.0025119148809154327, 'grow_policy': 'lossguide', 'sample_type': 'weighted', 'normalize_type': 'forest', 'rate_drop': 7.057365784394521e-06, 'skip_drop': 0.001938579678799813}. Best is trial 441 with value: 0.8625592417061612.\n",
      "[I 2023-12-11 15:33:49,273] Trial 445 finished with value: 0.8088888888888888 and parameters: {'booster': 'dart', 'lambda': 4.9415944670793825e-08, 'alpha': 0.9784673925764636, 'subsample': 0.9756338235208591, 'colsample_bytree': 0.27871479849606823, 'max_depth': 7, 'min_child_weight': 2, 'eta': 0.9722696862210358, 'gamma': 0.004578133075106856, 'grow_policy': 'lossguide', 'sample_type': 'weighted', 'normalize_type': 'forest', 'rate_drop': 4.1811677541362906e-06, 'skip_drop': 0.00039528419743627385}. Best is trial 441 with value: 0.8625592417061612.\n",
      "[I 2023-12-11 15:33:49,508] Trial 446 finished with value: 0.0645619013834693 and parameters: {'booster': 'dart', 'lambda': 4.9092709010004887e-08, 'alpha': 0.039294675142488335, 'subsample': 0.9627113755580928, 'colsample_bytree': 0.24153838883045423, 'max_depth': 7, 'min_child_weight': 2, 'eta': 5.9522224705392045e-08, 'gamma': 0.0006924460511624334, 'grow_policy': 'lossguide', 'sample_type': 'weighted', 'normalize_type': 'forest', 'rate_drop': 1.2896062005216205e-05, 'skip_drop': 0.0009546548175798264}. Best is trial 441 with value: 0.8625592417061612.\n",
      "[I 2023-12-11 15:33:49,737] Trial 447 finished with value: 0.6169491525423729 and parameters: {'booster': 'dart', 'lambda': 1.678675833819736e-08, 'alpha': 0.06736729034889696, 'subsample': 0.9686271563542127, 'colsample_bytree': 0.2652031526189915, 'max_depth': 7, 'min_child_weight': 2, 'eta': 0.04969046210974779, 'gamma': 0.010084869690667408, 'grow_policy': 'lossguide', 'sample_type': 'weighted', 'normalize_type': 'forest', 'rate_drop': 4.038616607116546e-05, 'skip_drop': 0.006051399475294749}. Best is trial 441 with value: 0.8625592417061612.\n",
      "[I 2023-12-11 15:33:49,985] Trial 448 finished with value: 0.791304347826087 and parameters: {'booster': 'dart', 'lambda': 1.8966222807640348e-07, 'alpha': 0.20619911090624735, 'subsample': 0.9885650792624019, 'colsample_bytree': 0.21611719814720706, 'max_depth': 7, 'min_child_weight': 2, 'eta': 0.4757847813901831, 'gamma': 0.0058194465207440805, 'grow_policy': 'lossguide', 'sample_type': 'uniform', 'normalize_type': 'forest', 'rate_drop': 8.77645332054999e-06, 'skip_drop': 0.0031623383831735994}. Best is trial 441 with value: 0.8625592417061612.\n",
      "[I 2023-12-11 15:33:50,231] Trial 449 finished with value: 0.8310502283105022 and parameters: {'booster': 'dart', 'lambda': 0.00416726321587445, 'alpha': 0.33606082478776655, 'subsample': 0.9517268998852376, 'colsample_bytree': 0.22831733603005122, 'max_depth': 7, 'min_child_weight': 2, 'eta': 0.9984301190455463, 'gamma': 0.010199847406601476, 'grow_policy': 'lossguide', 'sample_type': 'weighted', 'normalize_type': 'forest', 'rate_drop': 1.7817790281204063e-05, 'skip_drop': 0.0011813244958935648}. Best is trial 441 with value: 0.8625592417061612.\n",
      "[I 2023-12-11 15:33:50,465] Trial 450 finished with value: 0.6570397111913358 and parameters: {'booster': 'dart', 'lambda': 2.5064166022676768e-08, 'alpha': 0.4047102715926519, 'subsample': 0.9991413664842653, 'colsample_bytree': 0.3833705086083912, 'max_depth': 7, 'min_child_weight': 3, 'eta': 0.17263476261073163, 'gamma': 9.074014150497808e-05, 'grow_policy': 'lossguide', 'sample_type': 'weighted', 'normalize_type': 'forest', 'rate_drop': 5.8455506864442345e-06, 'skip_drop': 0.001540916982342538}. Best is trial 441 with value: 0.8625592417061612.\n",
      "[I 2023-12-11 15:33:50,725] Trial 451 finished with value: 0.6765799256505577 and parameters: {'booster': 'dart', 'lambda': 1.1172539233281412e-07, 'alpha': 0.13148235492199453, 'subsample': 0.3041166869622704, 'colsample_bytree': 0.5873261363612001, 'max_depth': 9, 'min_child_weight': 2, 'eta': 0.5674210536108351, 'gamma': 0.015162182197911031, 'grow_policy': 'lossguide', 'sample_type': 'weighted', 'normalize_type': 'forest', 'rate_drop': 3.0064571351954863e-06, 'skip_drop': 0.0045166491839881895}. Best is trial 441 with value: 0.8625592417061612.\n",
      "[I 2023-12-11 15:33:50,990] Trial 452 finished with value: 0.7368421052631579 and parameters: {'booster': 'dart', 'lambda': 1.045203439801997e-08, 'alpha': 0.11245017607465303, 'subsample': 0.9408484058990194, 'colsample_bytree': 0.5437761670522783, 'max_depth': 7, 'min_child_weight': 2, 'eta': 0.3502325928457629, 'gamma': 0.007407283760080769, 'grow_policy': 'lossguide', 'sample_type': 'weighted', 'normalize_type': 'forest', 'rate_drop': 2.0743940314929012e-06, 'skip_drop': 0.011611836555371314}. Best is trial 441 with value: 0.8625592417061612.\n",
      "[I 2023-12-11 15:33:51,255] Trial 453 finished with value: 0.8235294117647058 and parameters: {'booster': 'dart', 'lambda': 3.7988971587428014e-08, 'alpha': 0.17488476335325834, 'subsample': 0.9207431127242262, 'colsample_bytree': 0.24959031340672946, 'max_depth': 7, 'min_child_weight': 2, 'eta': 0.7028691387155258, 'gamma': 0.0003158052137626763, 'grow_policy': 'lossguide', 'sample_type': 'weighted', 'normalize_type': 'tree', 'rate_drop': 1.1650616948727923e-05, 'skip_drop': 0.0027753529291394113}. Best is trial 441 with value: 0.8625592417061612.\n",
      "[I 2023-12-11 15:33:51,526] Trial 454 finished with value: 0.6169491525423729 and parameters: {'booster': 'dart', 'lambda': 1.6316255045571786e-06, 'alpha': 0.47634196475596413, 'subsample': 0.9618195036034743, 'colsample_bytree': 0.2721270301289151, 'max_depth': 7, 'min_child_weight': 2, 'eta': 0.02455786692766123, 'gamma': 0.0027946267048994805, 'grow_policy': 'lossguide', 'sample_type': 'weighted', 'normalize_type': 'forest', 'rate_drop': 1.3209709834428526e-06, 'skip_drop': 0.0001015937142914918}. Best is trial 441 with value: 0.8625592417061612.\n",
      "[I 2023-12-11 15:33:51,766] Trial 455 finished with value: 0.0645619013834693 and parameters: {'booster': 'dart', 'lambda': 0.007388705348904197, 'alpha': 0.2682672663739742, 'subsample': 0.9764008874801672, 'colsample_bytree': 0.2967240307459061, 'max_depth': 7, 'min_child_weight': 2, 'eta': 0.000432376988494512, 'gamma': 0.011882853856361127, 'grow_policy': 'lossguide', 'sample_type': 'weighted', 'normalize_type': 'forest', 'rate_drop': 5.374537840683457e-06, 'skip_drop': 0.017066575279754487}. Best is trial 441 with value: 0.8625592417061612.\n",
      "[I 2023-12-11 15:33:51,853] Trial 456 finished with value: 0.26595744680851063 and parameters: {'booster': 'gblinear', 'lambda': 6.465022115906329e-08, 'alpha': 0.4392712739347765, 'subsample': 0.9492094150632947, 'colsample_bytree': 0.40209208194670126}. Best is trial 441 with value: 0.8625592417061612.\n",
      "[I 2023-12-11 15:33:52,147] Trial 457 finished with value: 0.708171206225681 and parameters: {'booster': 'dart', 'lambda': 0.0019777510553514333, 'alpha': 0.16459403905473585, 'subsample': 0.9998744005941221, 'colsample_bytree': 0.9926100530790937, 'max_depth': 7, 'min_child_weight': 2, 'eta': 0.46444115951574616, 'gamma': 0.003978617229364888, 'grow_policy': 'lossguide', 'sample_type': 'weighted', 'normalize_type': 'forest', 'rate_drop': 2.093578945581051e-05, 'skip_drop': 0.007054298080676348}. Best is trial 441 with value: 0.8625592417061612.\n",
      "[I 2023-12-11 15:33:52,516] Trial 458 finished with value: 0.0645619013834693 and parameters: {'booster': 'dart', 'lambda': 1.928754819350836e-08, 'alpha': 0.0030907694807145447, 'subsample': 0.7602376756097249, 'colsample_bytree': 0.36711877989433717, 'max_depth': 7, 'min_child_weight': 4, 'eta': 0.00033904422374196136, 'gamma': 0.008500633181783566, 'grow_policy': 'lossguide', 'sample_type': 'weighted', 'normalize_type': 'forest', 'rate_drop': 3.521447789378077e-06, 'skip_drop': 0.001606490300216993}. Best is trial 441 with value: 0.8625592417061612.\n",
      "[I 2023-12-11 15:33:52,826] Trial 459 finished with value: 0.7000000000000001 and parameters: {'booster': 'dart', 'lambda': 0.0013489888627186953, 'alpha': 0.002008677664699493, 'subsample': 0.9645124138355246, 'colsample_bytree': 0.5300408160981877, 'max_depth': 7, 'min_child_weight': 2, 'eta': 0.2618936502423767, 'gamma': 0.0009486190714165913, 'grow_policy': 'lossguide', 'sample_type': 'weighted', 'normalize_type': 'forest', 'rate_drop': 2.9092404356667803e-08, 'skip_drop': 0.011604295132626109}. Best is trial 441 with value: 0.8625592417061612.\n",
      "[I 2023-12-11 15:33:53,081] Trial 460 finished with value: 0.787878787878788 and parameters: {'booster': 'dart', 'lambda': 4.3807661962905855e-08, 'alpha': 0.033596895953552336, 'subsample': 0.9832237614619027, 'colsample_bytree': 0.2807824044404347, 'max_depth': 7, 'min_child_weight': 2, 'eta': 0.7059715516900512, 'gamma': 0.01518147396464082, 'grow_policy': 'lossguide', 'sample_type': 'uniform', 'normalize_type': 'forest', 'rate_drop': 5.546811030627227e-05, 'skip_drop': 0.0007066957310027291}. Best is trial 441 with value: 0.8625592417061612.\n",
      "[I 2023-12-11 15:33:53,323] Trial 461 finished with value: 0.8161434977578476 and parameters: {'booster': 'dart', 'lambda': 1.5295475472969124e-08, 'alpha': 0.39401422735447145, 'subsample': 0.7489283973083716, 'colsample_bytree': 0.21621676657056707, 'max_depth': 7, 'min_child_weight': 3, 'eta': 0.5694944165697517, 'gamma': 0.02359707229188731, 'grow_policy': 'lossguide', 'sample_type': 'weighted', 'normalize_type': 'forest', 'rate_drop': 8.336003838161046e-06, 'skip_drop': 0.0005427086414579767}. Best is trial 441 with value: 0.8625592417061612.\n",
      "[I 2023-12-11 15:33:53,668] Trial 462 finished with value: 0.6765799256505577 and parameters: {'booster': 'dart', 'lambda': 0.0009512907520445046, 'alpha': 0.03753814492032401, 'subsample': 0.941944202178208, 'colsample_bytree': 0.2576942438977936, 'max_depth': 7, 'min_child_weight': 2, 'eta': 0.10834744441090843, 'gamma': 3.1100275070644184e-05, 'grow_policy': 'lossguide', 'sample_type': 'weighted', 'normalize_type': 'forest', 'rate_drop': 3.0214696941918523e-05, 'skip_drop': 0.04483224503947478}. Best is trial 441 with value: 0.8625592417061612.\n",
      "[I 2023-12-11 15:33:53,899] Trial 463 finished with value: 0.8088888888888888 and parameters: {'booster': 'dart', 'lambda': 0.02255120166147473, 'alpha': 0.1371882983705806, 'subsample': 0.9686313952147985, 'colsample_bytree': 0.23778176628548728, 'max_depth': 7, 'min_child_weight': 2, 'eta': 0.39801163702280984, 'gamma': 0.0061906065683547075, 'grow_policy': 'lossguide', 'sample_type': 'weighted', 'normalize_type': 'forest', 'rate_drop': 2.710173867949191e-06, 'skip_drop': 0.018789633669653874}. Best is trial 441 with value: 0.8625592417061612.\n",
      "[I 2023-12-11 15:33:54,144] Trial 464 finished with value: 0.7982456140350876 and parameters: {'booster': 'dart', 'lambda': 2.89305608321909e-08, 'alpha': 0.7332608750853834, 'subsample': 0.7038202401976974, 'colsample_bytree': 0.3086549186958006, 'max_depth': 7, 'min_child_weight': 2, 'eta': 0.7401064809400014, 'gamma': 2.7023450394132694e-06, 'grow_policy': 'lossguide', 'sample_type': 'weighted', 'normalize_type': 'forest', 'rate_drop': 1.7541922522874827e-05, 'skip_drop': 0.00457712554263591}. Best is trial 441 with value: 0.8625592417061612.\n",
      "[I 2023-12-11 15:33:54,373] Trial 465 finished with value: 0.7647058823529412 and parameters: {'booster': 'dart', 'lambda': 3.039590289066407e-07, 'alpha': 0.2778712978601537, 'subsample': 0.6489424591188104, 'colsample_bytree': 0.5685126814460899, 'max_depth': 7, 'min_child_weight': 2, 'eta': 0.952978172115418, 'gamma': 2.86965088505138e-07, 'grow_policy': 'lossguide', 'sample_type': 'weighted', 'normalize_type': 'tree', 'rate_drop': 9.362965872107462e-07, 'skip_drop': 0.007902575272623032}. Best is trial 441 with value: 0.8625592417061612.\n",
      "[I 2023-12-11 15:33:54,606] Trial 466 finished with value: 0.0645619013834693 and parameters: {'booster': 'dart', 'lambda': 2.8484536628067747e-05, 'alpha': 0.7195960636206379, 'subsample': 0.8278538492957683, 'colsample_bytree': 0.49435360946602674, 'max_depth': 7, 'min_child_weight': 2, 'eta': 1.4864752803461687e-05, 'gamma': 1.4122406103903563e-05, 'grow_policy': 'lossguide', 'sample_type': 'weighted', 'normalize_type': 'forest', 'rate_drop': 0.00023724622436268724, 'skip_drop': 0.07106512683166333}. Best is trial 441 with value: 0.8625592417061612.\n",
      "[I 2023-12-11 15:33:54,862] Trial 467 finished with value: 0.0645619013834693 and parameters: {'booster': 'dart', 'lambda': 6.395548343321287e-07, 'alpha': 0.13903922272096597, 'subsample': 0.9225393545590759, 'colsample_bytree': 0.610012149074156, 'max_depth': 7, 'min_child_weight': 2, 'eta': 0.0001704875872149526, 'gamma': 0.014027731825517033, 'grow_policy': 'lossguide', 'sample_type': 'weighted', 'normalize_type': 'forest', 'rate_drop': 4.597039206348157e-07, 'skip_drop': 0.035768897264478884}. Best is trial 441 with value: 0.8625592417061612.\n",
      "[I 2023-12-11 15:33:55,069] Trial 468 finished with value: 0.527859237536657 and parameters: {'booster': 'dart', 'lambda': 1.3421666969397084e-08, 'alpha': 0.0185581587520478, 'subsample': 0.32240754632125757, 'colsample_bytree': 0.2621870566968762, 'max_depth': 7, 'min_child_weight': 2, 'eta': 0.033236760597844535, 'gamma': 0.4657895255981219, 'grow_policy': 'lossguide', 'sample_type': 'weighted', 'normalize_type': 'forest', 'rate_drop': 1.4963836253852469e-06, 'skip_drop': 0.10888377160544915}. Best is trial 441 with value: 0.8625592417061612.\n",
      "[I 2023-12-11 15:33:55,326] Trial 469 finished with value: 0.0645619013834693 and parameters: {'booster': 'dart', 'lambda': 1.273831675427322e-07, 'alpha': 0.23469409886535395, 'subsample': 0.8009099594795028, 'colsample_bytree': 0.28655517584344997, 'max_depth': 7, 'min_child_weight': 2, 'eta': 2.2490790360985904e-06, 'gamma': 0.0010189583670015387, 'grow_policy': 'lossguide', 'sample_type': 'weighted', 'normalize_type': 'forest', 'rate_drop': 5.296157596051253e-06, 'skip_drop': 0.002220208424524916}. Best is trial 441 with value: 0.8625592417061612.\n",
      "[I 2023-12-11 15:33:55,539] Trial 470 finished with value: 0.47028423772609823 and parameters: {'booster': 'dart', 'lambda': 9.876846114509482e-05, 'alpha': 0.001206550062605744, 'subsample': 0.20946213572113304, 'colsample_bytree': 0.43964280427204716, 'max_depth': 7, 'min_child_weight': 9, 'eta': 0.5168104227314625, 'gamma': 0.0015726198000356722, 'grow_policy': 'lossguide', 'sample_type': 'weighted', 'normalize_type': 'forest', 'rate_drop': 2.22887255290139e-06, 'skip_drop': 0.025814863632599064}. Best is trial 441 with value: 0.8625592417061612.\n",
      "[I 2023-12-11 15:33:55,764] Trial 471 finished with value: 0.0645619013834693 and parameters: {'booster': 'gbtree', 'lambda': 4.9222764549443114e-05, 'alpha': 0.0670949199249328, 'subsample': 0.408893760358119, 'colsample_bytree': 0.9682547947688229, 'max_depth': 7, 'min_child_weight': 2, 'eta': 3.6907204908071925e-07, 'gamma': 0.009848514037903423, 'grow_policy': 'lossguide'}. Best is trial 441 with value: 0.8625592417061612.\n",
      "[I 2023-12-11 15:33:56,027] Trial 472 finished with value: 0.8088888888888888 and parameters: {'booster': 'dart', 'lambda': 0.04074161464838594, 'alpha': 0.0039836822129006005, 'subsample': 0.9838881595820028, 'colsample_bytree': 0.3901489837813351, 'max_depth': 7, 'min_child_weight': 2, 'eta': 0.6858951525800462, 'gamma': 6.148069171121877e-05, 'grow_policy': 'lossguide', 'sample_type': 'uniform', 'normalize_type': 'forest', 'rate_drop': 5.3549025817154307e-08, 'skip_drop': 0.013051807816947383}. Best is trial 441 with value: 0.8625592417061612.\n",
      "[I 2023-12-11 15:33:56,236] Trial 473 finished with value: 0.8125000000000001 and parameters: {'booster': 'gbtree', 'lambda': 2.0945653166535822e-08, 'alpha': 0.02643315625237092, 'subsample': 0.7264003622207333, 'colsample_bytree': 0.22720108458915772, 'max_depth': 7, 'min_child_weight': 2, 'eta': 0.9790085007742466, 'gamma': 0.02742830755525065, 'grow_policy': 'depthwise'}. Best is trial 441 with value: 0.8625592417061612.\n",
      "[I 2023-12-11 15:33:56,474] Trial 474 finished with value: 0.7647058823529412 and parameters: {'booster': 'dart', 'lambda': 5.817496937304701e-06, 'alpha': 0.5029899967715791, 'subsample': 0.7859937081605034, 'colsample_bytree': 0.2454687134788901, 'max_depth': 7, 'min_child_weight': 2, 'eta': 0.3020933616180081, 'gamma': 0.001838352219139097, 'grow_policy': 'lossguide', 'sample_type': 'weighted', 'normalize_type': 'forest', 'rate_drop': 7.758844444358408e-08, 'skip_drop': 0.1698872940491633}. Best is trial 441 with value: 0.8625592417061612.\n",
      "[I 2023-12-11 15:33:56,575] Trial 475 finished with value: 0.2971428571428572 and parameters: {'booster': 'gblinear', 'lambda': 0.0022886403609759668, 'alpha': 0.002410431051703897, 'subsample': 0.9610438932898907, 'colsample_bytree': 0.3582281809573928}. Best is trial 441 with value: 0.8625592417061612.\n",
      "[I 2023-12-11 15:33:56,802] Trial 476 finished with value: 0.0645619013834693 and parameters: {'booster': 'gbtree', 'lambda': 1.0239694975300248e-08, 'alpha': 0.6366487527099801, 'subsample': 0.9832421603300996, 'colsample_bytree': 0.41558104080054886, 'max_depth': 7, 'min_child_weight': 2, 'eta': 4.958622200405712e-06, 'gamma': 3.6838565736251196e-05, 'grow_policy': 'lossguide'}. Best is trial 441 with value: 0.8625592417061612.\n",
      "[I 2023-12-11 15:33:57,022] Trial 477 finished with value: 0.7428571428571429 and parameters: {'booster': 'dart', 'lambda': 0.0009556060074772372, 'alpha': 0.10551319888975721, 'subsample': 0.5844787745866694, 'colsample_bytree': 0.47712505223242746, 'max_depth': 7, 'min_child_weight': 5, 'eta': 0.99283787787718, 'gamma': 0.05738246119753682, 'grow_policy': 'lossguide', 'sample_type': 'weighted', 'normalize_type': 'forest', 'rate_drop': 1.1027496574975538e-05, 'skip_drop': 0.05426100850918611}. Best is trial 441 with value: 0.8625592417061612.\n",
      "[I 2023-12-11 15:33:57,265] Trial 478 finished with value: 0.0645619013834693 and parameters: {'booster': 'gbtree', 'lambda': 0.012224487536489293, 'alpha': 0.6006624013690042, 'subsample': 0.6625892259906863, 'colsample_bytree': 0.6705338505983787, 'max_depth': 7, 'min_child_weight': 2, 'eta': 4.8776155345919175e-05, 'gamma': 0.00039208149160136407, 'grow_policy': 'depthwise'}. Best is trial 441 with value: 0.8625592417061612.\n",
      "[I 2023-12-11 15:33:57,464] Trial 479 finished with value: 0.5814696485623003 and parameters: {'booster': 'dart', 'lambda': 6.465239158941352e-08, 'alpha': 0.09465511250827136, 'subsample': 0.24144543556060916, 'colsample_bytree': 0.33409421750340634, 'max_depth': 7, 'min_child_weight': 2, 'eta': 0.4035405959603037, 'gamma': 0.004173267530094714, 'grow_policy': 'lossguide', 'sample_type': 'weighted', 'normalize_type': 'forest', 'rate_drop': 2.4068392432531628e-05, 'skip_drop': 0.00338496885701982}. Best is trial 441 with value: 0.8625592417061612.\n",
      "[I 2023-12-11 15:33:57,724] Trial 480 finished with value: 0.774468085106383 and parameters: {'booster': 'gbtree', 'lambda': 1.1243816811204772e-06, 'alpha': 0.2740913156203208, 'subsample': 0.9068972580496454, 'colsample_bytree': 0.5205532936035847, 'max_depth': 7, 'min_child_weight': 2, 'eta': 0.5709521733165756, 'gamma': 0.014829329992495482, 'grow_policy': 'lossguide'}. Best is trial 441 with value: 0.8625592417061612.\n",
      "[I 2023-12-11 15:33:57,963] Trial 481 finished with value: 0.728 and parameters: {'booster': 'dart', 'lambda': 0.0012636169362999002, 'alpha': 0.06817913441724602, 'subsample': 0.7068589913185541, 'colsample_bytree': 0.21256400120357172, 'max_depth': 7, 'min_child_weight': 3, 'eta': 0.2010357869203274, 'gamma': 0.021184128180280835, 'grow_policy': 'depthwise', 'sample_type': 'weighted', 'normalize_type': 'tree', 'rate_drop': 1.3997572425922518e-07, 'skip_drop': 0.0012666858191962235}. Best is trial 441 with value: 0.8625592417061612.\n",
      "[I 2023-12-11 15:33:58,185] Trial 482 finished with value: 0.5844155844155844 and parameters: {'booster': 'gbtree', 'lambda': 0.00046823248400639563, 'alpha': 0.0014878589808877615, 'subsample': 0.9290947403046372, 'colsample_bytree': 0.299753378724493, 'max_depth': 7, 'min_child_weight': 2, 'eta': 0.008420896982429307, 'gamma': 0.006270994314141346, 'grow_policy': 'lossguide'}. Best is trial 441 with value: 0.8625592417061612.\n",
      "[I 2023-12-11 15:33:58,435] Trial 483 finished with value: 0.0645619013834693 and parameters: {'booster': 'dart', 'lambda': 3.6617583423081046e-08, 'alpha': 0.002840312655589363, 'subsample': 0.7424306674079675, 'colsample_bytree': 0.2766702452680393, 'max_depth': 7, 'min_child_weight': 2, 'eta': 1.201354846491726e-06, 'gamma': 0.9620916887244302, 'grow_policy': 'lossguide', 'sample_type': 'weighted', 'normalize_type': 'forest', 'rate_drop': 4.186080065775436e-06, 'skip_drop': 0.006806508075237142}. Best is trial 441 with value: 0.8625592417061612.\n",
      "[I 2023-12-11 15:33:58,653] Trial 484 finished with value: 0.43269230769230776 and parameters: {'booster': 'gbtree', 'lambda': 2.507018130304999e-08, 'alpha': 0.0009965792979808928, 'subsample': 0.38737362673995535, 'colsample_bytree': 0.5950852101151658, 'max_depth': 7, 'min_child_weight': 2, 'eta': 0.004070349183556551, 'gamma': 0.03304857156431517, 'grow_policy': 'lossguide'}. Best is trial 441 with value: 0.8625592417061612.\n",
      "[I 2023-12-11 15:33:58,899] Trial 485 finished with value: 0.8465116279069768 and parameters: {'booster': 'dart', 'lambda': 3.831896388178846e-07, 'alpha': 2.6219604063981514e-05, 'subsample': 0.948447648457634, 'colsample_bytree': 0.259384631941979, 'max_depth': 7, 'min_child_weight': 2, 'eta': 0.7066265924674697, 'gamma': 0.011584268820188417, 'grow_policy': 'depthwise', 'sample_type': 'weighted', 'normalize_type': 'forest', 'rate_drop': 2.100234591092951e-07, 'skip_drop': 0.021440970798132546}. Best is trial 441 with value: 0.8625592417061612.\n",
      "[I 2023-12-11 15:33:59,121] Trial 486 finished with value: 0.0645619013834693 and parameters: {'booster': 'gbtree', 'lambda': 2.3247115936221335e-07, 'alpha': 2.1075306233674622e-05, 'subsample': 0.9564726885940562, 'colsample_bytree': 0.24293271345246548, 'max_depth': 7, 'min_child_weight': 2, 'eta': 2.1662655556991193e-07, 'gamma': 0.007465515075869937, 'grow_policy': 'lossguide'}. Best is trial 441 with value: 0.8625592417061612.\n",
      "[I 2023-12-11 15:33:59,366] Trial 487 finished with value: 0.1017897091722595 and parameters: {'booster': 'dart', 'lambda': 7.050933474595514e-07, 'alpha': 1.3949354130405411e-05, 'subsample': 0.9347827490889192, 'colsample_bytree': 0.37671963147102755, 'max_depth': 7, 'min_child_weight': 2, 'eta': 0.0006057490156652143, 'gamma': 0.0107155969847911, 'grow_policy': 'lossguide', 'sample_type': 'weighted', 'normalize_type': 'forest', 'rate_drop': 1.985962414372154e-07, 'skip_drop': 0.010201937987769008}. Best is trial 441 with value: 0.8625592417061612.\n",
      "[I 2023-12-11 15:33:59,457] Trial 488 finished with value: 0.2638888888888889 and parameters: {'booster': 'gblinear', 'lambda': 3.0901531844872524e-07, 'alpha': 0.05991793156839728, 'subsample': 0.7684923353335701, 'colsample_bytree': 0.8309590695476585}. Best is trial 441 with value: 0.8625592417061612.\n",
      "[I 2023-12-11 15:33:59,685] Trial 489 finished with value: 0.0645619013834693 and parameters: {'booster': 'gbtree', 'lambda': 5.334394245536617e-07, 'alpha': 3.210849590838057e-05, 'subsample': 0.6921764179785775, 'colsample_bytree': 0.7048728182467886, 'max_depth': 7, 'min_child_weight': 2, 'eta': 0.00023703121239397032, 'gamma': 0.004544463491947077, 'grow_policy': 'depthwise'}. Best is trial 441 with value: 0.8625592417061612.\n",
      "[I 2023-12-11 15:33:59,916] Trial 490 finished with value: 0.0645619013834693 and parameters: {'booster': 'dart', 'lambda': 3.7692774076858984e-07, 'alpha': 3.3580505500927406e-05, 'subsample': 0.950426291001328, 'colsample_bytree': 0.20118307917063624, 'max_depth': 7, 'min_child_weight': 2, 'eta': 8.165604397716255e-05, 'gamma': 0.06322374978302345, 'grow_policy': 'lossguide', 'sample_type': 'weighted', 'normalize_type': 'forest', 'rate_drop': 3.423730550866506e-07, 'skip_drop': 0.016538145505031746}. Best is trial 441 with value: 0.8625592417061612.\n",
      "[I 2023-12-11 15:34:00,129] Trial 491 finished with value: 0.42325581395348844 and parameters: {'booster': 'gbtree', 'lambda': 1.8180070165302865e-06, 'alpha': 0.9262863038825647, 'subsample': 0.91032194875965, 'colsample_bytree': 0.3139716952076164, 'max_depth': 7, 'min_child_weight': 2, 'eta': 0.00227406889636133, 'gamma': 0.0024797647474952647, 'grow_policy': 'lossguide'}. Best is trial 441 with value: 0.8625592417061612.\n",
      "[I 2023-12-11 15:34:00,424] Trial 492 finished with value: 0.0645619013834693 and parameters: {'booster': 'dart', 'lambda': 0.6830540190810005, 'alpha': 0.1790606252049352, 'subsample': 0.7143254895865115, 'colsample_bytree': 0.34424079569998095, 'max_depth': 7, 'min_child_weight': 2, 'eta': 1.597358539223233e-05, 'gamma': 0.0004951410961425368, 'grow_policy': 'lossguide', 'sample_type': 'weighted', 'normalize_type': 'forest', 'rate_drop': 1.891739363962644e-07, 'skip_drop': 0.024205134862221787}. Best is trial 441 with value: 0.8625592417061612.\n",
      "[I 2023-12-11 15:34:00,636] Trial 493 finished with value: 0.7982456140350876 and parameters: {'booster': 'gbtree', 'lambda': 1.9526220062238695e-07, 'alpha': 0.08340521542618118, 'subsample': 0.6449651164215264, 'colsample_bytree': 0.258505235620648, 'max_depth': 7, 'min_child_weight': 3, 'eta': 0.40662537846962993, 'gamma': 0.04156879258170878, 'grow_policy': 'depthwise'}. Best is trial 441 with value: 0.8625592417061612.\n",
      "[I 2023-12-11 15:34:00,877] Trial 494 finished with value: 0.8504672897196263 and parameters: {'booster': 'dart', 'lambda': 7.858179030640096e-08, 'alpha': 0.013592569339477093, 'subsample': 0.940633538593095, 'colsample_bytree': 0.2346523976921849, 'max_depth': 7, 'min_child_weight': 2, 'eta': 0.5774502481731588, 'gamma': 0.010457176644427127, 'grow_policy': 'lossguide', 'sample_type': 'weighted', 'normalize_type': 'forest', 'rate_drop': 3.351315965103271e-08, 'skip_drop': 0.0002902631446089325}. Best is trial 441 with value: 0.8625592417061612.\n",
      "[I 2023-12-11 15:34:01,079] Trial 495 finished with value: 0.7428571428571429 and parameters: {'booster': 'gbtree', 'lambda': 1.0911242013839344e-07, 'alpha': 0.04312192922932517, 'subsample': 0.9365443403170995, 'colsample_bytree': 0.22663721129774234, 'max_depth': 7, 'min_child_weight': 2, 'eta': 0.14912032872191877, 'gamma': 0.0002744271668764662, 'grow_policy': 'lossguide'}. Best is trial 441 with value: 0.8625592417061612.\n",
      "[I 2023-12-11 15:34:01,309] Trial 496 finished with value: 0.6791044776119404 and parameters: {'booster': 'dart', 'lambda': 7.901951691977863e-08, 'alpha': 4.285893377412277e-06, 'subsample': 0.9125858996677536, 'colsample_bytree': 0.23059081667927805, 'max_depth': 7, 'min_child_weight': 2, 'eta': 0.017109099559589863, 'gamma': 5.206696347444065e-08, 'grow_policy': 'lossguide', 'sample_type': 'weighted', 'normalize_type': 'forest', 'rate_drop': 4.110083350375665e-08, 'skip_drop': 0.00031948712225145687}. Best is trial 441 with value: 0.8625592417061612.\n",
      "[I 2023-12-11 15:34:01,495] Trial 497 finished with value: 0.0645619013834693 and parameters: {'booster': 'gbtree', 'lambda': 8.012705953791594e-08, 'alpha': 0.02269882141708916, 'subsample': 0.8814677507861506, 'colsample_bytree': 0.22034967145700746, 'max_depth': 7, 'min_child_weight': 2, 'eta': 4.655175790664956e-05, 'gamma': 0.009580807578066654, 'grow_policy': 'depthwise'}. Best is trial 441 with value: 0.8625592417061612.\n",
      "[I 2023-12-11 15:34:01,731] Trial 498 finished with value: 0.7222222222222222 and parameters: {'booster': 'dart', 'lambda': 1.4219665974047995e-07, 'alpha': 0.05093532427373852, 'subsample': 0.9263508312817024, 'colsample_bytree': 0.24542363696841737, 'max_depth': 7, 'min_child_weight': 2, 'eta': 0.27067066329755146, 'gamma': 0.003329567176248301, 'grow_policy': 'lossguide', 'sample_type': 'uniform', 'normalize_type': 'forest', 'rate_drop': 2.8798804996030125e-08, 'skip_drop': 0.0005262077989992637}. Best is trial 441 with value: 0.8625592417061612.\n",
      "[I 2023-12-11 15:34:01,939] Trial 499 finished with value: 0.2930756843800322 and parameters: {'booster': 'gbtree', 'lambda': 5.225537146990625e-08, 'alpha': 2.2925959399829358e-05, 'subsample': 0.7336044647339418, 'colsample_bytree': 0.20024214467949625, 'max_depth': 7, 'min_child_weight': 2, 'eta': 0.0017939912424108156, 'gamma': 0.6214506176698894, 'grow_policy': 'lossguide'}. Best is trial 441 with value: 0.8625592417061612.\n"
     ]
    },
    {
     "name": "stdout",
     "output_type": "stream",
     "text": [
      "Number of finished trials: 500\n",
      "Best trial:\n",
      "  Value: 0.8625592417061612\n",
      "  Params: \n",
      "    booster: dart\n",
      "    lambda: 4.417999250476684e-08\n",
      "    alpha: 0.33023980019859517\n",
      "    subsample: 0.9858351632430862\n",
      "    colsample_bytree: 0.2455559665156103\n",
      "    max_depth: 7\n",
      "    min_child_weight: 2\n",
      "    eta: 0.9974709552114978\n",
      "    gamma: 0.00720894368593397\n",
      "    grow_policy: lossguide\n",
      "    sample_type: weighted\n",
      "    normalize_type: forest\n",
      "    rate_drop: 8.652672215095307e-06\n",
      "    skip_drop: 0.0009734187624589334\n"
     ]
    }
   ],
   "source": [
    "import xgboost as xgb\n",
    "\n",
    "\n",
    "def objective(trial):\n",
    "    dtrain = xgb.DMatrix(train_data_prep_ros, label=train_target_ros)\n",
    "    dtest = xgb.DMatrix(test_data_u_ros, label=test_target_u_ros)\n",
    "\n",
    "    # param = {\n",
    "    #     \"objective\": \"reg:squarederror\",\n",
    "    #     \"n_estimators\": 1000,\n",
    "    #     \"verbosity\": 0,\n",
    "    #     \"learning_rate\": trial.suggest_float(\"learning_rate\", 1e-3, 0.1, log=True),\n",
    "    #     \"max_depth\": trial.suggest_int(\"max_depth\", 1, 10),\n",
    "    #     \"subsample\": trial.suggest_float(\"subsample\", 0.05, 1.0),\n",
    "    #     \"colsample_bytree\": trial.suggest_float(\"colsample_bytree\", 0.05, 1.0),\n",
    "    #     \"min_child_weight\": trial.suggest_int(\"min_child_weight\", 1, 20),\n",
    "    # }\n",
    "\n",
    "    param = {\n",
    "        \"verbosity\": 0,\n",
    "        \"objective\": \"binary:logistic\",\n",
    "        # use exact for small dataset.\n",
    "        \"tree_method\": \"exact\",\n",
    "        # defines booster, gblinear for linear functions.\n",
    "        \"booster\": trial.suggest_categorical(\"booster\", [\"gbtree\", \"gblinear\", \"dart\"]),\n",
    "        # L2 regularization weight.\n",
    "        \"lambda\": trial.suggest_float(\"lambda\", 1e-8, 1.0, log=True),\n",
    "        # L1 regularization weight.\n",
    "        \"alpha\": trial.suggest_float(\"alpha\", 1e-8, 1.0, log=True),\n",
    "        # sampling ratio for training data.\n",
    "        \"subsample\": trial.suggest_float(\"subsample\", 0.2, 1.0),\n",
    "        # sampling according to each tree.\n",
    "        \"colsample_bytree\": trial.suggest_float(\"colsample_bytree\", 0.2, 1.0),\n",
    "    }\n",
    "\n",
    "    if param[\"booster\"] in [\"gbtree\", \"dart\"]:\n",
    "        # maximum depth of the tree, signifies complexity of the tree.\n",
    "        param[\"max_depth\"] = trial.suggest_int(\"max_depth\", 3, 9, step=2)\n",
    "        # minimum child weight, larger the term more conservative the tree.\n",
    "        param[\"min_child_weight\"] = trial.suggest_int(\"min_child_weight\", 2, 10)\n",
    "        param[\"eta\"] = trial.suggest_float(\"eta\", 1e-8, 1.0, log=True)\n",
    "        # defines how selective algorithm is.\n",
    "        param[\"gamma\"] = trial.suggest_float(\"gamma\", 1e-8, 1.0, log=True)\n",
    "        param[\"grow_policy\"] = trial.suggest_categorical(\n",
    "            \"grow_policy\", [\"depthwise\", \"lossguide\"]\n",
    "        )\n",
    "\n",
    "    if param[\"booster\"] == \"dart\":\n",
    "        param[\"sample_type\"] = trial.suggest_categorical(\n",
    "            \"sample_type\", [\"uniform\", \"weighted\"]\n",
    "        )\n",
    "        param[\"normalize_type\"] = trial.suggest_categorical(\n",
    "            \"normalize_type\", [\"tree\", \"forest\"]\n",
    "        )\n",
    "        param[\"rate_drop\"] = trial.suggest_float(\"rate_drop\", 1e-8, 1.0, log=True)\n",
    "        param[\"skip_drop\"] = trial.suggest_float(\"skip_drop\", 1e-8, 1.0, log=True)\n",
    "\n",
    "    xgb_trial = xgb.train(param, dtrain)\n",
    "    preds = xgb_trial.predict(dtest)\n",
    "    pred_labels = np.rint(preds)\n",
    "    f1 = f1_score(test_target_u_ros, pred_labels)\n",
    "    return f1\n",
    "    # accuracy = accuracy_score(test_target_u_ros, pred_labels)\n",
    "    # return accuracy\n",
    "\n",
    "\n",
    "if __name__ == \"__main__\":\n",
    "    study = optuna.create_study(direction=\"maximize\")\n",
    "    study.optimize(objective, n_trials=500)\n",
    "\n",
    "    print(\"Number of finished trials: {}\".format(len(study.trials)))\n",
    "\n",
    "    print(\"Best trial:\")\n",
    "    trial = study.best_trial\n",
    "\n",
    "    print(\"  Value: {}\".format(trial.value))\n",
    "\n",
    "    print(\"  Params: \")\n",
    "    for key, value in trial.params.items():\n",
    "        print(\"    {}: {}\".format(key, value))"
   ]
  },
  {
   "cell_type": "code",
   "execution_count": 53,
   "metadata": {},
   "outputs": [
    {
     "name": "stdout",
     "output_type": "stream",
     "text": [
      "Model Stats: f1 = 0.80, accuracy 98.35 %\n"
     ]
    }
   ],
   "source": [
    "params = {\n",
    "    \"verbosity\": 0, \n",
    "    \"objective\": \"binary:logistic\",\n",
    "    \"tree_method\": \"exact\",\n",
    "    'booster': 'dart',\n",
    "    'lambda': 9.694862932464782e-08,\n",
    "    'alpha': 0.0001919883114288561,\n",
    "    'subsample': 0.45450211317485895,\n",
    "    'colsample_bytree': 0.9425643136675205,\n",
    "    'max_depth': 9,\n",
    "    'min_child_weight': 2,\n",
    "    'eta': 0.9997815353445304,\n",
    "    'gamma': 5.752245289272137e-07,\n",
    "    'grow_policy': 'depthwise',\n",
    "    'sample_type': 'uniform',\n",
    "    'normalize_type': 'forest',\n",
    "    'rate_drop': 0.000401963488976033,\n",
    "    'skip_drop': 3.0150000495334705e-08,\n",
    "}\n",
    "\n",
    "dtrain = xgb.DMatrix(train_data_prep_ros, label=train_target_ros)\n",
    "dtest = xgb.DMatrix(test_data_u_ros, label=test_target_u_ros)\n",
    "\n",
    "xgb_ros = xgb.train(params, dtrain)\n",
    "preds = xgb_ros.predict(dtest)\n",
    "pred_labels = np.rint(preds)\n",
    "acc = 100 * accuracy_score(test_target_u_ros, pred_labels)\n",
    "f1 = f1_score(test_target_u_ros, pred_labels)\n",
    "\n",
    "# xgb_ros = xgb.train(trial.params, dtrain)\n",
    "# prediction = xgb_ros.predict(dtest)\n",
    "# pred_labels = np.rint(prediction)\n",
    "# acc = 100 * accuracy_score(test_target_u_ros, pred_labels)\n",
    "# f1 = f1_score(test_target_u_ros, pred_labels)\n",
    "print(\"Model Stats: f1 = %.2f, accuracy %.2f %%\" % (f1, acc))"
   ]
  },
  {
   "cell_type": "markdown",
   "metadata": {},
   "source": [
    "#### 4.2.7 CatBoost"
   ]
  },
  {
   "cell_type": "code",
   "execution_count": 50,
   "metadata": {},
   "outputs": [
    {
     "name": "stdout",
     "output_type": "stream",
     "text": [
      "Model Stats: f1 = 0.99, accuracy 98.64 %\n"
     ]
    }
   ],
   "source": [
    "catboost_ros = CatBoostClassifier(silent=True)\n",
    "catboost_ros.fit(train_data_prep_ros, train_target_ros)\n",
    "prediction = catboost_ros.predict(test_data_prep_ros)\n",
    "acc = 100 * accuracy_score(test_target_ros, prediction)\n",
    "f1 = f1_score(test_target_ros, prediction)\n",
    "print(\"Model Stats: f1 = %.2f, accuracy %.2f %%\" % (f1, acc))"
   ]
  },
  {
   "cell_type": "markdown",
   "metadata": {},
   "source": [
    "## 5. Model Evaluation"
   ]
  },
  {
   "cell_type": "markdown",
   "metadata": {},
   "source": [
    "In Model Evaluation, the models would be evaluated by two sets of test data and target. The set from Oversampling, and one from the original data.\n",
    "\n",
    "This is done to clearly see the actual accuracy of the model and showcase the overfitting model. Oversampling, though useful for this project may cause some models to overfit.\n",
    "\n",
    "Therefore we would test the model that is fitted with oversampling data with both oversampling test data and original test data which undergone the same preprocessing except Oversampling."
   ]
  },
  {
   "cell_type": "code",
   "execution_count": 35,
   "metadata": {},
   "outputs": [],
   "source": [
    "def model_evaluation(model, test_data, test_target):\n",
    "    prediction = model.predict(test_data)\n",
    "    acc = 100 * accuracy_score(test_target, prediction)\n",
    "\n",
    "    print(\"Accuracy of the Model: %g %%\" %acc)\n",
    "    f1 = f1_score(test_target, prediction)\n",
    "    print(\"F1 Score of the Model:\", f1)\n",
    "    print(classification_report(test_target, prediction))\n",
    "    ConfusionMatrixDisplay.from_predictions(test_target, prediction)"
   ]
  },
  {
   "cell_type": "markdown",
   "metadata": {},
   "source": [
    "### 5.1 SMOTE Data"
   ]
  },
  {
   "cell_type": "markdown",
   "metadata": {},
   "source": [
    "#### 5.1.1 ANN"
   ]
  },
  {
   "cell_type": "markdown",
   "metadata": {},
   "source": [
    "OverSampling Test"
   ]
  },
  {
   "cell_type": "code",
   "execution_count": 37,
   "metadata": {},
   "outputs": [
    {
     "name": "stdout",
     "output_type": "stream",
     "text": [
      "Accuracy of the Model: 98.2197 %\n",
      "F1 Score of the Model: 0.9823639774859289\n",
      "              precision    recall  f1-score   support\n",
      "\n",
      "           0       1.00      0.97      0.98      2661\n",
      "           1       0.97      1.00      0.98      2619\n",
      "\n",
      "    accuracy                           0.98      5280\n",
      "   macro avg       0.98      0.98      0.98      5280\n",
      "weighted avg       0.98      0.98      0.98      5280\n",
      "\n"
     ]
    },
    {
     "data": {
      "image/png": "[encoded data removed]",
      "text/plain": [
       "<Figure size 432x288 with 2 Axes>"
      ]
     },
     "metadata": {
      "needs_background": "light"
     },
     "output_type": "display_data"
    }
   ],
   "source": [
    "model_evaluation(ann, test_data_prep, test_target)"
   ]
  },
  {
   "cell_type": "markdown",
   "metadata": {},
   "source": [
    "Normal Sampling Test"
   ]
  },
  {
   "cell_type": "code",
   "execution_count": 36,
   "metadata": {},
   "outputs": [
    {
     "name": "stdout",
     "output_type": "stream",
     "text": [
      "Accuracy of the Model: 98.3138 %\n",
      "F1 Score of the Model: 0.7982456140350876\n",
      "              precision    recall  f1-score   support\n",
      "\n",
      "           0       1.00      0.98      0.99      2637\n",
      "           1       0.66      1.00      0.80        91\n",
      "\n",
      "    accuracy                           0.98      2728\n",
      "   macro avg       0.83      0.99      0.89      2728\n",
      "weighted avg       0.99      0.98      0.98      2728\n",
      "\n"
     ]
    },
    {
     "data": {
      "image/png": "[encoded data removed]",
      "text/plain": [
       "<Figure size 432x288 with 2 Axes>"
      ]
     },
     "metadata": {
      "needs_background": "light"
     },
     "output_type": "display_data"
    }
   ],
   "source": [
    "model_evaluation(ann, test_data_u, test_target_u)"
   ]
  },
  {
   "cell_type": "markdown",
   "metadata": {},
   "source": [
    "#### 5.1.2 Logistic Regression"
   ]
  },
  {
   "cell_type": "markdown",
   "metadata": {},
   "source": [
    "OverSampling Test"
   ]
  },
  {
   "cell_type": "code",
   "execution_count": 54,
   "metadata": {},
   "outputs": [
    {
     "name": "stdout",
     "output_type": "stream",
     "text": [
      "Accuracy of the Model: 89.8864 %\n",
      "F1 Score of the Model: 0.9000748502994012\n",
      "              precision    recall  f1-score   support\n",
      "\n",
      "           0       0.92      0.88      0.90      2661\n",
      "           1       0.88      0.92      0.90      2619\n",
      "\n",
      "    accuracy                           0.90      5280\n",
      "   macro avg       0.90      0.90      0.90      5280\n",
      "weighted avg       0.90      0.90      0.90      5280\n",
      "\n"
     ]
    },
    {
     "data": {
      "image/png": "[encoded data removed]",
      "text/plain": [
       "<Figure size 432x288 with 2 Axes>"
      ]
     },
     "metadata": {
      "needs_background": "light"
     },
     "output_type": "display_data"
    }
   ],
   "source": [
    "model_evaluation(logreg, test_data_prep, test_target)"
   ]
  },
  {
   "cell_type": "markdown",
   "metadata": {},
   "source": [
    "Normal Sampling Test"
   ]
  },
  {
   "cell_type": "code",
   "execution_count": 55,
   "metadata": {},
   "outputs": [
    {
     "name": "stdout",
     "output_type": "stream",
     "text": [
      "Accuracy of the Model: 88.3065 %\n",
      "F1 Score of the Model: 0.3255813953488371\n",
      "              precision    recall  f1-score   support\n",
      "\n",
      "           0       0.99      0.88      0.94      2637\n",
      "           1       0.20      0.85      0.33        91\n",
      "\n",
      "    accuracy                           0.88      2728\n",
      "   macro avg       0.60      0.87      0.63      2728\n",
      "weighted avg       0.97      0.88      0.92      2728\n",
      "\n"
     ]
    },
    {
     "data": {
      "image/png": "[encoded data removed]",
      "text/plain": [
       "<Figure size 432x288 with 2 Axes>"
      ]
     },
     "metadata": {
      "needs_background": "light"
     },
     "output_type": "display_data"
    }
   ],
   "source": [
    "model_evaluation(logreg, test_data_u, test_target_u)"
   ]
  },
  {
   "cell_type": "markdown",
   "metadata": {},
   "source": [
    "#### 5.1.3 Gaussian Naive Bayes"
   ]
  },
  {
   "cell_type": "markdown",
   "metadata": {},
   "source": [
    "OverSampling Test"
   ]
  },
  {
   "cell_type": "code",
   "execution_count": 56,
   "metadata": {},
   "outputs": [
    {
     "name": "stdout",
     "output_type": "stream",
     "text": [
      "Accuracy of the Model: 52.9356 %\n",
      "F1 Score of the Model: 0.6548131684956244\n",
      "              precision    recall  f1-score   support\n",
      "\n",
      "           0       0.63      0.16      0.26      2661\n",
      "           1       0.51      0.90      0.65      2619\n",
      "\n",
      "    accuracy                           0.53      5280\n",
      "   macro avg       0.57      0.53      0.46      5280\n",
      "weighted avg       0.57      0.53      0.46      5280\n",
      "\n"
     ]
    },
    {
     "data": {
      "image/png": "[encoded data removed]",
      "text/plain": [
       "<Figure size 432x288 with 2 Axes>"
      ]
     },
     "metadata": {
      "needs_background": "light"
     },
     "output_type": "display_data"
    }
   ],
   "source": [
    "model_evaluation(gnb, test_data_prep, test_target)"
   ]
  },
  {
   "cell_type": "markdown",
   "metadata": {},
   "source": [
    "Normal Sampling Test"
   ]
  },
  {
   "cell_type": "code",
   "execution_count": 57,
   "metadata": {},
   "outputs": [
    {
     "name": "stdout",
     "output_type": "stream",
     "text": [
      "Accuracy of the Model: 19.9413 %\n",
      "F1 Score of the Model: 0.06825938566552901\n",
      "              precision    recall  f1-score   support\n",
      "\n",
      "           0       0.98      0.18      0.30      2637\n",
      "           1       0.04      0.88      0.07        91\n",
      "\n",
      "    accuracy                           0.20      2728\n",
      "   macro avg       0.51      0.53      0.18      2728\n",
      "weighted avg       0.95      0.20      0.29      2728\n",
      "\n"
     ]
    },
    {
     "data": {
      "image/png": "[encoded data removed]",
      "text/plain": [
       "<Figure size 432x288 with 2 Axes>"
      ]
     },
     "metadata": {
      "needs_background": "light"
     },
     "output_type": "display_data"
    }
   ],
   "source": [
    "model_evaluation(gnb, test_data_u, test_target_u)"
   ]
  },
  {
   "cell_type": "markdown",
   "metadata": {},
   "source": [
    "#### 5.1.4 KNN"
   ]
  },
  {
   "cell_type": "markdown",
   "metadata": {},
   "source": [
    "OverSampling Test"
   ]
  },
  {
   "cell_type": "code",
   "execution_count": 58,
   "metadata": {},
   "outputs": [
    {
     "name": "stdout",
     "output_type": "stream",
     "text": [
      "Accuracy of the Model: 96.3447 %\n",
      "F1 Score of the Model: 0.9643845727994096\n",
      "              precision    recall  f1-score   support\n",
      "\n",
      "           0       1.00      0.93      0.96      2661\n",
      "           1       0.93      1.00      0.96      2619\n",
      "\n",
      "    accuracy                           0.96      5280\n",
      "   macro avg       0.97      0.96      0.96      5280\n",
      "weighted avg       0.97      0.96      0.96      5280\n",
      "\n"
     ]
    },
    {
     "data": {
      "image/png": "[encoded data removed]",
      "text/plain": [
       "<Figure size 432x288 with 2 Axes>"
      ]
     },
     "metadata": {
      "needs_background": "light"
     },
     "output_type": "display_data"
    }
   ],
   "source": [
    "model_evaluation(knn, test_data_prep, test_target)"
   ]
  },
  {
   "cell_type": "markdown",
   "metadata": {},
   "source": [
    "Normal Sampling Test"
   ]
  },
  {
   "cell_type": "code",
   "execution_count": 59,
   "metadata": {},
   "outputs": [
    {
     "name": "stdout",
     "output_type": "stream",
     "text": [
      "Accuracy of the Model: 96.6642 %\n",
      "F1 Score of the Model: 0.6666666666666666\n",
      "              precision    recall  f1-score   support\n",
      "\n",
      "           0       1.00      0.97      0.98      2637\n",
      "           1       0.50      1.00      0.67        91\n",
      "\n",
      "    accuracy                           0.97      2728\n",
      "   macro avg       0.75      0.98      0.82      2728\n",
      "weighted avg       0.98      0.97      0.97      2728\n",
      "\n"
     ]
    },
    {
     "data": {
      "image/png": "[encoded data removed]",
      "text/plain": [
       "<Figure size 432x288 with 2 Axes>"
      ]
     },
     "metadata": {
      "needs_background": "light"
     },
     "output_type": "display_data"
    }
   ],
   "source": [
    "model_evaluation(knn, test_data_u, test_target_u)"
   ]
  },
  {
   "cell_type": "markdown",
   "metadata": {},
   "source": [
    "#### 5.1.5 Light GBM (LGBM)"
   ]
  },
  {
   "cell_type": "markdown",
   "metadata": {},
   "source": [
    "OverSampling Test"
   ]
  },
  {
   "cell_type": "code",
   "execution_count": 60,
   "metadata": {},
   "outputs": [
    {
     "name": "stdout",
     "output_type": "stream",
     "text": [
      "Accuracy of the Model: 97.6515 %\n",
      "F1 Score of the Model: 0.9768483943241224\n",
      "              precision    recall  f1-score   support\n",
      "\n",
      "           0       1.00      0.95      0.98      2661\n",
      "           1       0.96      1.00      0.98      2619\n",
      "\n",
      "    accuracy                           0.98      5280\n",
      "   macro avg       0.98      0.98      0.98      5280\n",
      "weighted avg       0.98      0.98      0.98      5280\n",
      "\n"
     ]
    },
    {
     "data": {
      "image/png": "[encoded data removed]",
      "text/plain": [
       "<Figure size 432x288 with 2 Axes>"
      ]
     },
     "metadata": {
      "needs_background": "light"
     },
     "output_type": "display_data"
    }
   ],
   "source": [
    "model_evaluation(lgbm, test_data_prep, test_target)"
   ]
  },
  {
   "cell_type": "markdown",
   "metadata": {},
   "source": [
    "Normal Sampling Test"
   ]
  },
  {
   "cell_type": "code",
   "execution_count": 61,
   "metadata": {},
   "outputs": [
    {
     "name": "stdout",
     "output_type": "stream",
     "text": [
      "Accuracy of the Model: 97.8006 %\n",
      "F1 Score of the Model: 0.7520661157024793\n",
      "              precision    recall  f1-score   support\n",
      "\n",
      "           0       1.00      0.98      0.99      2637\n",
      "           1       0.60      1.00      0.75        91\n",
      "\n",
      "    accuracy                           0.98      2728\n",
      "   macro avg       0.80      0.99      0.87      2728\n",
      "weighted avg       0.99      0.98      0.98      2728\n",
      "\n"
     ]
    },
    {
     "data": {
      "image/png": "[encoded data removed]",
      "text/plain": [
       "<Figure size 432x288 with 2 Axes>"
      ]
     },
     "metadata": {
      "needs_background": "light"
     },
     "output_type": "display_data"
    }
   ],
   "source": [
    "model_evaluation(lgbm, test_data_u, test_target_u)"
   ]
  },
  {
   "cell_type": "markdown",
   "metadata": {},
   "source": [
    "#### 5.1.6 XGB"
   ]
  },
  {
   "cell_type": "markdown",
   "metadata": {},
   "source": [
    "OverSampling Test"
   ]
  },
  {
   "cell_type": "code",
   "execution_count": 62,
   "metadata": {},
   "outputs": [
    {
     "name": "stdout",
     "output_type": "stream",
     "text": [
      "Accuracy of the Model: 97.8409 %\n",
      "F1 Score of the Model: 0.9786836200448765\n",
      "              precision    recall  f1-score   support\n",
      "\n",
      "           0       1.00      0.96      0.98      2661\n",
      "           1       0.96      1.00      0.98      2619\n",
      "\n",
      "    accuracy                           0.98      5280\n",
      "   macro avg       0.98      0.98      0.98      5280\n",
      "weighted avg       0.98      0.98      0.98      5280\n",
      "\n"
     ]
    },
    {
     "data": {
      "image/png": "[encoded data removed]",
      "text/plain": [
       "<Figure size 432x288 with 2 Axes>"
      ]
     },
     "metadata": {
      "needs_background": "light"
     },
     "output_type": "display_data"
    }
   ],
   "source": [
    "model_evaluation(xgb, test_data_prep, test_target)"
   ]
  },
  {
   "cell_type": "markdown",
   "metadata": {},
   "source": [
    "Normal Sampling Test"
   ]
  },
  {
   "cell_type": "code",
   "execution_count": 63,
   "metadata": {},
   "outputs": [
    {
     "name": "stdout",
     "output_type": "stream",
     "text": [
      "Accuracy of the Model: 98.0572 %\n",
      "F1 Score of the Model: 0.774468085106383\n",
      "              precision    recall  f1-score   support\n",
      "\n",
      "           0       1.00      0.98      0.99      2637\n",
      "           1       0.63      1.00      0.77        91\n",
      "\n",
      "    accuracy                           0.98      2728\n",
      "   macro avg       0.82      0.99      0.88      2728\n",
      "weighted avg       0.99      0.98      0.98      2728\n",
      "\n"
     ]
    },
    {
     "data": {
      "image/png": "[encoded data removed]",
      "text/plain": [
       "<Figure size 432x288 with 2 Axes>"
      ]
     },
     "metadata": {
      "needs_background": "light"
     },
     "output_type": "display_data"
    }
   ],
   "source": [
    "model_evaluation(xgb, test_data_u, test_target_u)"
   ]
  },
  {
   "cell_type": "markdown",
   "metadata": {},
   "source": [
    "#### 5.1.7 CatBoost"
   ]
  },
  {
   "cell_type": "markdown",
   "metadata": {},
   "source": [
    "OverSampling Test"
   ]
  },
  {
   "cell_type": "code",
   "execution_count": 64,
   "metadata": {},
   "outputs": [
    {
     "name": "stdout",
     "output_type": "stream",
     "text": [
      "Accuracy of the Model: 97.6136 %\n",
      "F1 Score of the Model: 0.9764925373134328\n",
      "              precision    recall  f1-score   support\n",
      "\n",
      "           0       1.00      0.95      0.98      2661\n",
      "           1       0.95      1.00      0.98      2619\n",
      "\n",
      "    accuracy                           0.98      5280\n",
      "   macro avg       0.98      0.98      0.98      5280\n",
      "weighted avg       0.98      0.98      0.98      5280\n",
      "\n"
     ]
    },
    {
     "data": {
      "image/png": "[encoded data removed]",
      "text/plain": [
       "<Figure size 432x288 with 2 Axes>"
      ]
     },
     "metadata": {
      "needs_background": "light"
     },
     "output_type": "display_data"
    }
   ],
   "source": [
    "model_evaluation(catboost, test_data_prep, test_target)"
   ]
  },
  {
   "cell_type": "markdown",
   "metadata": {},
   "source": [
    "Normal Sampling Test"
   ]
  },
  {
   "cell_type": "code",
   "execution_count": 65,
   "metadata": {},
   "outputs": [
    {
     "name": "stdout",
     "output_type": "stream",
     "text": [
      "Accuracy of the Model: 97.8006 %\n",
      "F1 Score of the Model: 0.7520661157024793\n",
      "              precision    recall  f1-score   support\n",
      "\n",
      "           0       1.00      0.98      0.99      2637\n",
      "           1       0.60      1.00      0.75        91\n",
      "\n",
      "    accuracy                           0.98      2728\n",
      "   macro avg       0.80      0.99      0.87      2728\n",
      "weighted avg       0.99      0.98      0.98      2728\n",
      "\n"
     ]
    },
    {
     "data": {
      "image/png": "[encoded data removed]",
      "text/plain": [
       "<Figure size 432x288 with 2 Axes>"
      ]
     },
     "metadata": {
      "needs_background": "light"
     },
     "output_type": "display_data"
    }
   ],
   "source": [
    "model_evaluation(catboost, test_data_u, test_target_u)"
   ]
  },
  {
   "cell_type": "markdown",
   "metadata": {},
   "source": [
    "### 5.2 Random OverSampling Data"
   ]
  },
  {
   "cell_type": "markdown",
   "metadata": {},
   "source": [
    "#### 5.2.1 ANN"
   ]
  },
  {
   "cell_type": "markdown",
   "metadata": {},
   "source": [
    "OverSampling Test"
   ]
  },
  {
   "cell_type": "code",
   "execution_count": 66,
   "metadata": {},
   "outputs": [
    {
     "name": "stdout",
     "output_type": "stream",
     "text": [
      "Accuracy of the Model: 98.4659 %\n",
      "F1 Score of the Model: 0.9847715736040609\n",
      "              precision    recall  f1-score   support\n",
      "\n",
      "           0       1.00      0.97      0.98      2661\n",
      "           1       0.97      1.00      0.98      2619\n",
      "\n",
      "    accuracy                           0.98      5280\n",
      "   macro avg       0.98      0.98      0.98      5280\n",
      "weighted avg       0.99      0.98      0.98      5280\n",
      "\n"
     ]
    },
    {
     "data": {
      "image/png": "[encoded data removed]",
      "text/plain": [
       "<Figure size 432x288 with 2 Axes>"
      ]
     },
     "metadata": {
      "needs_background": "light"
     },
     "output_type": "display_data"
    }
   ],
   "source": [
    "model_evaluation(ann_ros, test_data_prep_ros, test_target_ros)"
   ]
  },
  {
   "cell_type": "markdown",
   "metadata": {},
   "source": [
    "Normal Sampling Test"
   ]
  },
  {
   "cell_type": "code",
   "execution_count": 40,
   "metadata": {},
   "outputs": [
    {
     "name": "stdout",
     "output_type": "stream",
     "text": [
      "Accuracy of the Model: 99.1202 %\n",
      "F1 Score of the Model: 0.883495145631068\n",
      "              precision    recall  f1-score   support\n",
      "\n",
      "           0       1.00      0.99      1.00      2637\n",
      "           1       0.79      1.00      0.88        91\n",
      "\n",
      "    accuracy                           0.99      2728\n",
      "   macro avg       0.90      1.00      0.94      2728\n",
      "weighted avg       0.99      0.99      0.99      2728\n",
      "\n"
     ]
    },
    {
     "data": {
      "image/png": "[encoded data removed]",
      "text/plain": [
       "<Figure size 432x288 with 2 Axes>"
      ]
     },
     "metadata": {
      "needs_background": "light"
     },
     "output_type": "display_data"
    }
   ],
   "source": [
    "model_evaluation(ann_ros, test_data_u_ros, test_target_u_ros)"
   ]
  },
  {
   "cell_type": "markdown",
   "metadata": {},
   "source": [
    "#### 5.2.2 Logistic Regression"
   ]
  },
  {
   "cell_type": "markdown",
   "metadata": {},
   "source": [
    "OverSampling Test"
   ]
  },
  {
   "cell_type": "code",
   "execution_count": 68,
   "metadata": {},
   "outputs": [
    {
     "name": "stdout",
     "output_type": "stream",
     "text": [
      "Accuracy of the Model: 88.8636 %\n",
      "F1 Score of the Model: 0.8903803131991052\n",
      "              precision    recall  f1-score   support\n",
      "\n",
      "           0       0.91      0.87      0.89      2661\n",
      "           1       0.87      0.91      0.89      2619\n",
      "\n",
      "    accuracy                           0.89      5280\n",
      "   macro avg       0.89      0.89      0.89      5280\n",
      "weighted avg       0.89      0.89      0.89      5280\n",
      "\n"
     ]
    },
    {
     "data": {
      "image/png": "[encoded data removed]",
      "text/plain": [
       "<Figure size 432x288 with 2 Axes>"
      ]
     },
     "metadata": {
      "needs_background": "light"
     },
     "output_type": "display_data"
    }
   ],
   "source": [
    "model_evaluation(logreg_ros, test_data_prep_ros, test_target_ros)"
   ]
  },
  {
   "cell_type": "markdown",
   "metadata": {},
   "source": [
    "Normal Sampling Test"
   ]
  },
  {
   "cell_type": "code",
   "execution_count": 69,
   "metadata": {},
   "outputs": [
    {
     "name": "stdout",
     "output_type": "stream",
     "text": [
      "Accuracy of the Model: 87.39 %\n",
      "F1 Score of the Model: 0.31474103585657365\n",
      "              precision    recall  f1-score   support\n",
      "\n",
      "           0       0.99      0.87      0.93      2637\n",
      "           1       0.19      0.87      0.31        91\n",
      "\n",
      "    accuracy                           0.87      2728\n",
      "   macro avg       0.59      0.87      0.62      2728\n",
      "weighted avg       0.97      0.87      0.91      2728\n",
      "\n"
     ]
    },
    {
     "data": {
      "image/png": "[encoded data removed]",
      "text/plain": [
       "<Figure size 432x288 with 2 Axes>"
      ]
     },
     "metadata": {
      "needs_background": "light"
     },
     "output_type": "display_data"
    }
   ],
   "source": [
    "model_evaluation(logreg_ros, test_data_u_ros, test_target_u_ros)"
   ]
  },
  {
   "cell_type": "markdown",
   "metadata": {},
   "source": [
    "#### 5.2.3 Gaussian Naive Bayes"
   ]
  },
  {
   "cell_type": "markdown",
   "metadata": {},
   "source": [
    "OverSampling Test"
   ]
  },
  {
   "cell_type": "code",
   "execution_count": 70,
   "metadata": {},
   "outputs": [
    {
     "name": "stdout",
     "output_type": "stream",
     "text": [
      "Accuracy of the Model: 52.0265 %\n",
      "F1 Score of the Model: 0.6500897914076529\n",
      "              precision    recall  f1-score   support\n",
      "\n",
      "           0       0.60      0.15      0.24      2661\n",
      "           1       0.51      0.90      0.65      2619\n",
      "\n",
      "    accuracy                           0.52      5280\n",
      "   macro avg       0.55      0.52      0.44      5280\n",
      "weighted avg       0.55      0.52      0.44      5280\n",
      "\n"
     ]
    },
    {
     "data": {
      "image/png": "[encoded data removed]",
      "text/plain": [
       "<Figure size 432x288 with 2 Axes>"
      ]
     },
     "metadata": {
      "needs_background": "light"
     },
     "output_type": "display_data"
    }
   ],
   "source": [
    "model_evaluation(gnb_ros, test_data_prep_ros, test_target_ros)"
   ]
  },
  {
   "cell_type": "markdown",
   "metadata": {},
   "source": [
    "Normal Sampling Test"
   ]
  },
  {
   "cell_type": "code",
   "execution_count": 71,
   "metadata": {},
   "outputs": [
    {
     "name": "stdout",
     "output_type": "stream",
     "text": [
      "Accuracy of the Model: 18.6584 %\n",
      "F1 Score of the Model: 0.0688208140998741\n",
      "              precision    recall  f1-score   support\n",
      "\n",
      "           0       0.98      0.16      0.28      2637\n",
      "           1       0.04      0.90      0.07        91\n",
      "\n",
      "    accuracy                           0.19      2728\n",
      "   macro avg       0.51      0.53      0.17      2728\n",
      "weighted avg       0.95      0.19      0.27      2728\n",
      "\n"
     ]
    },
    {
     "data": {
      "image/png": "[encoded data removed]",
      "text/plain": [
       "<Figure size 432x288 with 2 Axes>"
      ]
     },
     "metadata": {
      "needs_background": "light"
     },
     "output_type": "display_data"
    }
   ],
   "source": [
    "model_evaluation(gnb_ros, test_data_u_ros, test_target_u_ros)"
   ]
  },
  {
   "cell_type": "markdown",
   "metadata": {},
   "source": [
    "#### 5.2.4 KNN"
   ]
  },
  {
   "cell_type": "markdown",
   "metadata": {},
   "source": [
    "OverSampling Test"
   ]
  },
  {
   "cell_type": "code",
   "execution_count": 72,
   "metadata": {},
   "outputs": [
    {
     "name": "stdout",
     "output_type": "stream",
     "text": [
      "Accuracy of the Model: 98.0492 %\n",
      "F1 Score of the Model: 0.980715221868564\n",
      "              precision    recall  f1-score   support\n",
      "\n",
      "           0       1.00      0.96      0.98      2661\n",
      "           1       0.96      1.00      0.98      2619\n",
      "\n",
      "    accuracy                           0.98      5280\n",
      "   macro avg       0.98      0.98      0.98      5280\n",
      "weighted avg       0.98      0.98      0.98      5280\n",
      "\n"
     ]
    },
    {
     "data": {
      "image/png": "[encoded data removed]",
      "text/plain": [
       "<Figure size 432x288 with 2 Axes>"
      ]
     },
     "metadata": {
      "needs_background": "light"
     },
     "output_type": "display_data"
    }
   ],
   "source": [
    "model_evaluation(knn_ros, test_data_prep_ros, test_target_ros)"
   ]
  },
  {
   "cell_type": "markdown",
   "metadata": {},
   "source": [
    "Normal Sampling Test"
   ]
  },
  {
   "cell_type": "code",
   "execution_count": 73,
   "metadata": {},
   "outputs": [
    {
     "name": "stdout",
     "output_type": "stream",
     "text": [
      "Accuracy of the Model: 97.8372 %\n",
      "F1 Score of the Model: 0.7551867219917012\n",
      "              precision    recall  f1-score   support\n",
      "\n",
      "           0       1.00      0.98      0.99      2637\n",
      "           1       0.61      1.00      0.76        91\n",
      "\n",
      "    accuracy                           0.98      2728\n",
      "   macro avg       0.80      0.99      0.87      2728\n",
      "weighted avg       0.99      0.98      0.98      2728\n",
      "\n"
     ]
    },
    {
     "data": {
      "image/png": "[encoded data removed]",
      "text/plain": [
       "<Figure size 432x288 with 2 Axes>"
      ]
     },
     "metadata": {
      "needs_background": "light"
     },
     "output_type": "display_data"
    }
   ],
   "source": [
    "model_evaluation(knn_ros, test_data_u_ros, test_target_u_ros)"
   ]
  },
  {
   "cell_type": "markdown",
   "metadata": {},
   "source": [
    "#### 5.2.5 Light GBM (LGBM)"
   ]
  },
  {
   "cell_type": "markdown",
   "metadata": {},
   "source": [
    "OverSampling Test"
   ]
  },
  {
   "cell_type": "code",
   "execution_count": 39,
   "metadata": {},
   "outputs": [
    {
     "ename": "NameError",
     "evalue": "name 'model_evaluation' is not defined",
     "output_type": "error",
     "traceback": [
      "\u001b[1;31m---------------------------------------------------------------------------\u001b[0m",
      "\u001b[1;31mNameError\u001b[0m                                 Traceback (most recent call last)",
      "\u001b[1;32m<ipython-input-39-e50dd345507d>\u001b[0m in \u001b[0;36m<module>\u001b[1;34m\u001b[0m\n\u001b[1;32m----> 1\u001b[1;33m \u001b[0mmodel_evaluation\u001b[0m\u001b[1;33m(\u001b[0m\u001b[0mlgbm_ros\u001b[0m\u001b[1;33m,\u001b[0m \u001b[0mtest_data_prep_ros\u001b[0m\u001b[1;33m,\u001b[0m \u001b[0mtest_target_ros\u001b[0m\u001b[1;33m)\u001b[0m\u001b[1;33m\u001b[0m\u001b[1;33m\u001b[0m\u001b[0m\n\u001b[0m",
      "\u001b[1;31mNameError\u001b[0m: name 'model_evaluation' is not defined"
     ]
    }
   ],
   "source": [
    "model_evaluation(lgbm_ros, test_data_prep_ros, test_target_ros)"
   ]
  },
  {
   "cell_type": "markdown",
   "metadata": {},
   "source": [
    "Normal Sampling Test"
   ]
  },
  {
   "cell_type": "code",
   "execution_count": 75,
   "metadata": {},
   "outputs": [
    {
     "name": "stdout",
     "output_type": "stream",
     "text": [
      "Accuracy of the Model: 99.0103 %\n",
      "F1 Score of the Model: 0.8708133971291866\n",
      "              precision    recall  f1-score   support\n",
      "\n",
      "           0       1.00      0.99      0.99      2637\n",
      "           1       0.77      1.00      0.87        91\n",
      "\n",
      "    accuracy                           0.99      2728\n",
      "   macro avg       0.89      0.99      0.93      2728\n",
      "weighted avg       0.99      0.99      0.99      2728\n",
      "\n"
     ]
    },
    {
     "data": {
      "image/png": "[encoded data removed]",
      "text/plain": [
       "<Figure size 432x288 with 2 Axes>"
      ]
     },
     "metadata": {
      "needs_background": "light"
     },
     "output_type": "display_data"
    }
   ],
   "source": [
    "model_evaluation(lgbm_ros, test_data_u_ros, test_target_u_ros)"
   ]
  },
  {
   "cell_type": "markdown",
   "metadata": {},
   "source": [
    "#### 5.2.6 XGB"
   ]
  },
  {
   "cell_type": "markdown",
   "metadata": {},
   "source": [
    "OverSampling Test"
   ]
  },
  {
   "cell_type": "code",
   "execution_count": 76,
   "metadata": {},
   "outputs": [
    {
     "name": "stdout",
     "output_type": "stream",
     "text": [
      "Accuracy of the Model: 98.9205 %\n",
      "F1 Score of the Model: 0.9892351274787535\n",
      "              precision    recall  f1-score   support\n",
      "\n",
      "           0       1.00      0.98      0.99      2661\n",
      "           1       0.98      1.00      0.99      2619\n",
      "\n",
      "    accuracy                           0.99      5280\n",
      "   macro avg       0.99      0.99      0.99      5280\n",
      "weighted avg       0.99      0.99      0.99      5280\n",
      "\n"
     ]
    },
    {
     "data": {
      "image/png": "[encoded data removed]",
      "text/plain": [
       "<Figure size 432x288 with 2 Axes>"
      ]
     },
     "metadata": {
      "needs_background": "light"
     },
     "output_type": "display_data"
    }
   ],
   "source": [
    "model_evaluation(xgb_ros, test_data_prep_ros, test_target_ros)"
   ]
  },
  {
   "cell_type": "markdown",
   "metadata": {},
   "source": [
    "Normal Sampling Test"
   ]
  },
  {
   "cell_type": "code",
   "execution_count": 77,
   "metadata": {},
   "outputs": [
    {
     "name": "stdout",
     "output_type": "stream",
     "text": [
      "Accuracy of the Model: 99.2669 %\n",
      "F1 Score of the Model: 0.9009900990099009\n",
      "              precision    recall  f1-score   support\n",
      "\n",
      "           0       1.00      0.99      1.00      2637\n",
      "           1       0.82      1.00      0.90        91\n",
      "\n",
      "    accuracy                           0.99      2728\n",
      "   macro avg       0.91      1.00      0.95      2728\n",
      "weighted avg       0.99      0.99      0.99      2728\n",
      "\n"
     ]
    },
    {
     "data": {
      "image/png": "[encoded data removed]",
      "text/plain": [
       "<Figure size 432x288 with 2 Axes>"
      ]
     },
     "metadata": {
      "needs_background": "light"
     },
     "output_type": "display_data"
    }
   ],
   "source": [
    "model_evaluation(xgb_ros, test_data_u_ros, test_target_u_ros)"
   ]
  },
  {
   "cell_type": "markdown",
   "metadata": {},
   "source": [
    "#### 5.2.7 CatBoost"
   ]
  },
  {
   "cell_type": "markdown",
   "metadata": {},
   "source": [
    "OverSampling Test"
   ]
  },
  {
   "cell_type": "code",
   "execution_count": 78,
   "metadata": {},
   "outputs": [
    {
     "name": "stdout",
     "output_type": "stream",
     "text": [
      "Accuracy of the Model: 98.6364 %\n",
      "F1 Score of the Model: 0.9864406779661017\n",
      "              precision    recall  f1-score   support\n",
      "\n",
      "           0       1.00      0.97      0.99      2661\n",
      "           1       0.97      1.00      0.99      2619\n",
      "\n",
      "    accuracy                           0.99      5280\n",
      "   macro avg       0.99      0.99      0.99      5280\n",
      "weighted avg       0.99      0.99      0.99      5280\n",
      "\n"
     ]
    },
    {
     "data": {
      "image/png": "[encoded data removed]",
      "text/plain": [
       "<Figure size 432x288 with 2 Axes>"
      ]
     },
     "metadata": {
      "needs_background": "light"
     },
     "output_type": "display_data"
    }
   ],
   "source": [
    "model_evaluation(catboost_ros, test_data_prep_ros, test_target_ros)"
   ]
  },
  {
   "cell_type": "markdown",
   "metadata": {},
   "source": [
    "Normal Sampling Test"
   ]
  },
  {
   "cell_type": "code",
   "execution_count": 79,
   "metadata": {},
   "outputs": [
    {
     "name": "stdout",
     "output_type": "stream",
     "text": [
      "Accuracy of the Model: 98.8636 %\n",
      "F1 Score of the Model: 0.8544600938967136\n",
      "              precision    recall  f1-score   support\n",
      "\n",
      "           0       1.00      0.99      0.99      2637\n",
      "           1       0.75      1.00      0.85        91\n",
      "\n",
      "    accuracy                           0.99      2728\n",
      "   macro avg       0.87      0.99      0.92      2728\n",
      "weighted avg       0.99      0.99      0.99      2728\n",
      "\n"
     ]
    },
    {
     "data": {
      "image/png": "[encoded data removed]",
      "text/plain": [
       "<Figure size 432x288 with 2 Axes>"
      ]
     },
     "metadata": {
      "needs_background": "light"
     },
     "output_type": "display_data"
    }
   ],
   "source": [
    "model_evaluation(catboost_ros, test_data_u_ros, test_target_u_ros)"
   ]
  },
  {
   "cell_type": "markdown",
   "metadata": {},
   "source": [
    "## 6. Conclusion"
   ]
  },
  {
   "cell_type": "markdown",
   "metadata": {},
   "source": [
    "It can be concluded that the model has an acceptable performance (measured by F1 Score) for both oversampling methods with above Standardization and PCA preprocessing.\n",
    "\n",
    "It is observed that the model fitted with RandomOverSampling sample group is significantly higher performance for gradient-boosting classification methods `LGBM`, `XGB`, and `CatBoost`. However it only returns a slightly higher performance for `MLPClassifier (ANN)`.\n",
    "\n",
    "It is also observed that the classification method `ANN` has the highest performance among non gradient-boosting models and the classification method `XGB` has the highest performance among all classification methods.\n",
    "\n",
    "It is also noted that the gradient-boosting classification methods `LGBM`, `XGB`, and `CatBoost` has a significantly higher performance on the model fitted with RandomOverSampling sample group, compared to other methods with."
   ]
  }
 ],
 "metadata": {
  "kernelspec": {
   "display_name": "base",
   "language": "python",
   "name": "python3"
  },
  "language_info": {
   "codemirror_mode": {
    "name": "ipython",
    "version": 3
   },
   "file_extension": ".py",
   "mimetype": "text/x-python",
   "name": "python",
   "nbconvert_exporter": "python",
   "pygments_lexer": "ipython3",
   "version": "3.8.8"
  }
 },
 "nbformat": 4,
 "nbformat_minor": 5
}
